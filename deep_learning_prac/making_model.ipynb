{
 "cells": [
  {
   "cell_type": "markdown",
   "metadata": {},
   "source": [
    "## 딥러닝 모델 설계하기"
   ]
  },
  {
   "cell_type": "code",
   "execution_count": 1,
   "metadata": {},
   "outputs": [],
   "source": [
    "#텐서플로 라이브러리 안에 있는 케라스 API에서 필요한 함수들을 불러옵니다.\n",
    "from tensorflow.keras.models import Sequential\n",
    "from tensorflow.keras.layers import Dense\n",
    "# 데이터를 다루는 데 필요한 라이브러리를 불러옵니다.\n",
    "import numpy as np"
   ]
  },
  {
   "cell_type": "code",
   "execution_count": 2,
   "metadata": {},
   "outputs": [],
   "source": [
    "# 준비된 수술 환자 데이터를 불러옵니다.\n",
    "Data_set = np.loadtxt(\"./data_set/ThoraricSurgery3.csv\", delimiter=\",\")\n",
    "X = Data_set[:,0:16]    # 환자의 진찰 기록을 X로 지정합니다.\n",
    "y = Data_set[:,16]      # 수술 1년 후 사망/생존 여부를 y로 지정합니다."
   ]
  },
  {
   "cell_type": "code",
   "execution_count": 3,
   "metadata": {},
   "outputs": [],
   "source": [
    "# 딥러닝 모델의 구조를 결정 - sequentail로 생성, add(Dense로 추가)\n",
    "# Dense(노드, input_dim, active_function)\n",
    "model = Sequential()\n",
    "model.add(Dense(30, input_dim=16, activation='relu'))\n",
    "model.add(Dense(1, activation='sigmoid'))"
   ]
  },
  {
   "cell_type": "code",
   "execution_count": 4,
   "metadata": {},
   "outputs": [
    {
     "name": "stdout",
     "output_type": "stream",
     "text": [
      "Epoch 1/30\n",
      "30/30 [==============================] - 1s 1ms/step - loss: 0.7482 - accuracy: 0.8511\n",
      "Epoch 2/30\n",
      "30/30 [==============================] - 0s 952us/step - loss: 0.4701 - accuracy: 0.8511\n",
      "Epoch 3/30\n",
      "30/30 [==============================] - 0s 933us/step - loss: 0.4582 - accuracy: 0.8511\n",
      "Epoch 4/30\n",
      "30/30 [==============================] - 0s 986us/step - loss: 0.4647 - accuracy: 0.8511\n",
      "Epoch 5/30\n",
      "30/30 [==============================] - 0s 950us/step - loss: 0.4518 - accuracy: 0.8511\n",
      "Epoch 6/30\n",
      "30/30 [==============================] - 0s 916us/step - loss: 0.4578 - accuracy: 0.8511\n",
      "Epoch 7/30\n",
      "30/30 [==============================] - 0s 950us/step - loss: 0.4454 - accuracy: 0.8511\n",
      "Epoch 8/30\n",
      "30/30 [==============================] - 0s 950us/step - loss: 0.4423 - accuracy: 0.8511\n",
      "Epoch 9/30\n",
      "30/30 [==============================] - 0s 984us/step - loss: 0.4465 - accuracy: 0.8511\n",
      "Epoch 10/30\n",
      "30/30 [==============================] - 0s 932us/step - loss: 0.4399 - accuracy: 0.8511\n",
      "Epoch 11/30\n",
      "30/30 [==============================] - 0s 898us/step - loss: 0.4380 - accuracy: 0.8511\n",
      "Epoch 12/30\n",
      "30/30 [==============================] - 0s 932us/step - loss: 0.4423 - accuracy: 0.8511\n",
      "Epoch 13/30\n",
      "30/30 [==============================] - 0s 950us/step - loss: 0.4373 - accuracy: 0.8511\n",
      "Epoch 14/30\n",
      "30/30 [==============================] - 0s 932us/step - loss: 0.4289 - accuracy: 0.8511\n",
      "Epoch 15/30\n",
      "30/30 [==============================] - 0s 898us/step - loss: 0.4264 - accuracy: 0.8511\n",
      "Epoch 16/30\n",
      "30/30 [==============================] - 0s 967us/step - loss: 0.4279 - accuracy: 0.8511\n",
      "Epoch 17/30\n",
      "30/30 [==============================] - 0s 957us/step - loss: 0.4280 - accuracy: 0.8511\n",
      "Epoch 18/30\n",
      "30/30 [==============================] - 0s 934us/step - loss: 0.4257 - accuracy: 0.8511\n",
      "Epoch 19/30\n",
      "30/30 [==============================] - 0s 933us/step - loss: 0.4166 - accuracy: 0.8511\n",
      "Epoch 20/30\n",
      "30/30 [==============================] - 0s 950us/step - loss: 0.4174 - accuracy: 0.8511\n",
      "Epoch 21/30\n",
      "30/30 [==============================] - 0s 950us/step - loss: 0.4183 - accuracy: 0.8511\n",
      "Epoch 22/30\n",
      "30/30 [==============================] - 0s 915us/step - loss: 0.4172 - accuracy: 0.8511\n",
      "Epoch 23/30\n",
      "30/30 [==============================] - 0s 933us/step - loss: 0.4067 - accuracy: 0.8511\n",
      "Epoch 24/30\n",
      "30/30 [==============================] - 0s 916us/step - loss: 0.4124 - accuracy: 0.8511\n",
      "Epoch 25/30\n",
      "30/30 [==============================] - 0s 915us/step - loss: 0.4108 - accuracy: 0.8511\n",
      "Epoch 26/30\n",
      "30/30 [==============================] - 0s 933us/step - loss: 0.4114 - accuracy: 0.8511\n",
      "Epoch 27/30\n",
      "30/30 [==============================] - 0s 915us/step - loss: 0.4079 - accuracy: 0.8511\n",
      "Epoch 28/30\n",
      "30/30 [==============================] - 0s 952us/step - loss: 0.4024 - accuracy: 0.8511\n",
      "Epoch 29/30\n",
      "30/30 [==============================] - 0s 968us/step - loss: 0.4017 - accuracy: 0.8511\n",
      "Epoch 30/30\n",
      "30/30 [==============================] - 0s 915us/step - loss: 0.4035 - accuracy: 0.8511\n"
     ]
    }
   ],
   "source": [
    "# 딥러닝 모델을 실행합니다.\n",
    "model.compile(loss='binary_crossentropy', optimizer='adam', metrics=['accuracy'])\n",
    "history=model.fit(X, y, epochs=30, batch_size=16)"
   ]
  },
  {
   "cell_type": "code",
   "execution_count": 5,
   "metadata": {},
   "outputs": [
    {
     "name": "stdout",
     "output_type": "stream",
     "text": [
      "15/15 [==============================] - 0s 859us/step - loss: 0.4007 - accuracy: 0.8511\n",
      "\n",
      " Accuracy: 0.8511\n"
     ]
    }
   ],
   "source": [
    "print(\"\\n Accuracy: %.4f\" % (model.evaluate(X, y)[1]))"
   ]
  },
  {
   "cell_type": "code",
   "execution_count": 6,
   "metadata": {},
   "outputs": [
    {
     "name": "stdout",
     "output_type": "stream",
     "text": [
      "15/15 [==============================] - 0s 823us/step - loss: 0.4007 - accuracy: 0.8511\n",
      "\n",
      " loss: 0.4007\n"
     ]
    }
   ],
   "source": [
    "print(\"\\n loss: %.4f\" % (model.evaluate(X, y)[0]))"
   ]
  }
 ],
 "metadata": {
  "kernelspec": {
   "display_name": "machine_env",
   "language": "python",
   "name": "python3"
  },
  "language_info": {
   "codemirror_mode": {
    "name": "ipython",
    "version": 3
   },
   "file_extension": ".py",
   "mimetype": "text/x-python",
   "name": "python",
   "nbconvert_exporter": "python",
   "pygments_lexer": "ipython3",
   "version": "3.10.13"
  }
 },
 "nbformat": 4,
 "nbformat_minor": 2
}
