{
 "cells": [
  {
   "cell_type": "code",
   "execution_count": 1,
   "metadata": {},
   "outputs": [],
   "source": [
    "from tensorflow.keras.datasets import mnist\n",
    "from tensorflow.keras.utils import to_categorical\n",
    "\n",
    "import matplotlib.pyplot as plt\n",
    "import sys\n",
    "\n",
    "(X_train, y_train), (X_test, y_test) = mnist.load_data()"
   ]
  },
  {
   "cell_type": "code",
   "execution_count": 2,
   "metadata": {},
   "outputs": [
    {
     "name": "stdout",
     "output_type": "stream",
     "text": [
      "학습셋 이미지 수 : 60000 개\n",
      "테스트셋 이미지 수 : 10000 개\n"
     ]
    }
   ],
   "source": [
    "# 학습셋과 테스트셋이 각각 몇 개의 이미지로 되어 있는지 확인\n",
    "print(\"학습셋 이미지 수 : %d 개\" % (X_train.shape[0]))\n",
    "print(\"테스트셋 이미지 수 : %d 개\" % (X_test.shape[0]))"
   ]
  },
  {
   "cell_type": "code",
   "execution_count": 3,
   "metadata": {},
   "outputs": [
    {
     "data": {
      "image/png": "[encoded data removed]",
      "text/plain": [
       "<Figure size 640x480 with 1 Axes>"
      ]
     },
     "metadata": {},
     "output_type": "display_data"
    }
   ],
   "source": [
    "plt.imshow(X_train[0], cmap='grey_r')\n",
    "plt.show()"
   ]
  },
  {
   "cell_type": "code",
   "execution_count": 4,
   "metadata": {},
   "outputs": [
    {
     "name": "stdout",
     "output_type": "stream",
     "text": [
      "0  0  0  0  0  0  0  0  0  0  0  0  0  0  0  0  0  0  0  0  0  0  0  0  0  0  0  0  \n",
      "0  0  0  0  0  0  0  0  0  0  0  0  0  0  0  0  0  0  0  0  0  0  0  0  0  0  0  0  \n",
      "0  0  0  0  0  0  0  0  0  0  0  0  0  0  0  0  0  0  0  0  0  0  0  0  0  0  0  0  \n",
      "0  0  0  0  0  0  0  0  0  0  0  0  0  0  0  0  0  0  0  0  0  0  0  0  0  0  0  0  \n",
      "0  0  0  0  0  0  0  0  0  0  0  0  0  0  0  0  0  0  0  0  0  0  0  0  0  0  0  0  \n",
      "0  0  0  0  0  0  0  0  0  0  0  0  3  18 18 18 12613617526 1662552471270  0  0  0  \n",
      "0  0  0  0  0  0  0  0  30 36 94 15417025325325325325322517225324219564 0  0  0  0  \n",
      "0  0  0  0  0  0  0  49 23825325325325325325325325325193 82 82 56 39 0  0  0  0  0  \n",
      "0  0  0  0  0  0  0  18 2192532532532532531981822472410  0  0  0  0  0  0  0  0  0  \n",
      "0  0  0  0  0  0  0  0  80 15610725325320511 0  43 1540  0  0  0  0  0  0  0  0  0  \n",
      "0  0  0  0  0  0  0  0  0  14 1  15425390 0  0  0  0  0  0  0  0  0  0  0  0  0  0  \n",
      "0  0  0  0  0  0  0  0  0  0  0  1392531902  0  0  0  0  0  0  0  0  0  0  0  0  0  \n",
      "0  0  0  0  0  0  0  0  0  0  0  11 19025370 0  0  0  0  0  0  0  0  0  0  0  0  0  \n",
      "0  0  0  0  0  0  0  0  0  0  0  0  35 2412251601081  0  0  0  0  0  0  0  0  0  0  \n",
      "0  0  0  0  0  0  0  0  0  0  0  0  0  81 24025325311925 0  0  0  0  0  0  0  0  0  \n",
      "0  0  0  0  0  0  0  0  0  0  0  0  0  0  45 18625325315027 0  0  0  0  0  0  0  0  \n",
      "0  0  0  0  0  0  0  0  0  0  0  0  0  0  0  16 93 2522531870  0  0  0  0  0  0  0  \n",
      "0  0  0  0  0  0  0  0  0  0  0  0  0  0  0  0  0  24925324964 0  0  0  0  0  0  0  \n",
      "0  0  0  0  0  0  0  0  0  0  0  0  0  0  46 1301832532532072  0  0  0  0  0  0  0  \n",
      "0  0  0  0  0  0  0  0  0  0  0  0  39 1482292532532532501820  0  0  0  0  0  0  0  \n",
      "0  0  0  0  0  0  0  0  0  0  24 11422125325325325320178 0  0  0  0  0  0  0  0  0  \n",
      "0  0  0  0  0  0  0  0  23 66 21325325325325319881 2  0  0  0  0  0  0  0  0  0  0  \n",
      "0  0  0  0  0  0  18 17121925325325325319580 9  0  0  0  0  0  0  0  0  0  0  0  0  \n",
      "0  0  0  0  55 17222625325325325324413311 0  0  0  0  0  0  0  0  0  0  0  0  0  0  \n",
      "0  0  0  0  13625325325321213513216 0  0  0  0  0  0  0  0  0  0  0  0  0  0  0  0  \n",
      "0  0  0  0  0  0  0  0  0  0  0  0  0  0  0  0  0  0  0  0  0  0  0  0  0  0  0  0  \n",
      "0  0  0  0  0  0  0  0  0  0  0  0  0  0  0  0  0  0  0  0  0  0  0  0  0  0  0  0  \n",
      "0  0  0  0  0  0  0  0  0  0  0  0  0  0  0  0  0  0  0  0  0  0  0  0  0  0  0  0  \n"
     ]
    }
   ],
   "source": [
    "for x in X_train[0]:\n",
    "  for i in x:\n",
    "    sys.stdout.write('%-3s' % i)\n",
    "  sys.stdout.write('\\n')"
   ]
  },
  {
   "cell_type": "code",
   "execution_count": 5,
   "metadata": {},
   "outputs": [
    {
     "name": "stdout",
     "output_type": "stream",
     "text": [
      "(28, 28)\n",
      "784\n"
     ]
    }
   ],
   "source": [
    "print(X_train[0].shape)\n",
    "print(len(X_train[0].reshape(-1,)))\n"
   ]
  },
  {
   "cell_type": "code",
   "execution_count": 6,
   "metadata": {},
   "outputs": [],
   "source": [
    "#차원 변환 과정\n",
    "#Dense는 인자로 샘플수, 피처수 를 받는데, 피처수를 1차원 벡터형태로 받는다.\n",
    "#따라서 샘플수는 -1로 알아서 계산되도록 두고, 2차원인 피처를 1차원 벡터형태로 변환해야한다.\n",
    "X_train = X_train.reshape(-1, 784)\n",
    "X_train = X_train.astype('float64')\n",
    "X_train = X_train/255\n",
    "\n",
    "X_test = X_test.reshape(-1, 784).astype('float64')/255"
   ]
  },
  {
   "cell_type": "code",
   "execution_count": 7,
   "metadata": {},
   "outputs": [
    {
     "name": "stdout",
     "output_type": "stream",
     "text": [
      "class : 5\n"
     ]
    }
   ],
   "source": [
    "print('class : %d' % (y_train[0]))"
   ]
  },
  {
   "cell_type": "code",
   "execution_count": 8,
   "metadata": {},
   "outputs": [
    {
     "name": "stdout",
     "output_type": "stream",
     "text": [
      "[0. 0. 0. 0. 0. 1. 0. 0. 0. 0.]\n"
     ]
    }
   ],
   "source": [
    "#바이너리 과정\n",
    "#to_categorical => 원핫 인코딩 해주는 함수\n",
    "#첫번째 인자는 변환할 데이터, 두번쨰는 클래수 수\n",
    "y_train = to_categorical(y_train,10)\n",
    "y_test = to_categorical(y_test, 10)\n",
    "\n",
    "print(y_train[0])"
   ]
  },
  {
   "cell_type": "markdown",
   "metadata": {},
   "source": [
    "### 딥러닝 기본 프레임 만들기"
   ]
  },
  {
   "cell_type": "code",
   "execution_count": 9,
   "metadata": {},
   "outputs": [
    {
     "name": "stdout",
     "output_type": "stream",
     "text": [
      "Model: \"sequential\"\n",
      "_________________________________________________________________\n",
      " Layer (type)                Output Shape              Param #   \n",
      "=================================================================\n",
      " dense (Dense)               (None, 512)               401920    \n",
      "                                                                 \n",
      " dense_1 (Dense)             (None, 10)                5130      \n",
      "                                                                 \n",
      "=================================================================\n",
      "Total params: 407,050\n",
      "Trainable params: 407,050\n",
      "Non-trainable params: 0\n",
      "_________________________________________________________________\n"
     ]
    }
   ],
   "source": [
    "from tensorflow.keras.models import Sequential\n",
    "from tensorflow.keras.layers import Dense\n",
    "from tensorflow.keras.callbacks import ModelCheckpoint, EarlyStopping\n",
    "from tensorflow.keras.datasets import mnist\n",
    "from tensorflow.keras.utils import to_categorical\n",
    "\n",
    "import matplotlib.pyplot as plt\n",
    "import numpy as np\n",
    "import os\n",
    "\n",
    "(X_train, y_train),(X_test,y_test) = mnist.load_data()\n",
    "\n",
    "#차원변환 및 정규화\n",
    "X_train = X_train.reshape(-1, 784).astype('float64')/255\n",
    "X_test = X_test.reshape(-1, 784).astype('float64')/255\n",
    "\n",
    "#원핫 인코딩 to_categorical\n",
    "y_train = to_categorical(y_train, 10)\n",
    "y_test = to_categorical(y_test, 10)\n",
    "\n",
    "#모델 구조 설정\n",
    "model = Sequential()\n",
    "#input_dim은 학습시키려는 피처의 개수 입력\n",
    "model.add(Dense(512, input_dim = 784, activation='relu'))\n",
    "model.add(Dense(10, activation='softmax'))\n",
    "model.summary()"
   ]
  },
  {
   "cell_type": "markdown",
   "metadata": {},
   "source": [
    "### 트러블 슈팅\n",
    "모델 학습 중 쥬피터 노트북 커널 충돌로 커널 종료 현상 발생\n",
    "```\n",
    "To enable them in other operations, rebuild TensorFlow with the appropriate compiler flags.\n",
    "OMP: Error #15: Initializing libiomp5, but found libiomp5md.dll already initialized.\n",
    "OMP: Hint This means that multiple copies of the OpenMP runtime have been linked into the program. That is dangerous, since it can degrade performance or cause incorrect results. The best thing to do is to ensure that only a single OpenMP runtime is linked into the process, e.g. by avoiding static linking of the OpenMP runtime in any library. As an unsafe, unsupported, undocumented workaround you can set the environment variable KMP_DUPLICATE_LIB_OK=TRUE to allow the program to continue to execute, but that may cause crashes or silently produce incorrect results. For more information, please see http://openmp.llvm.org/\n",
    "```\n",
    "\n",
    "### 발생원인\n",
    "##### intelMKL(고속 연산에 특화)라이브러리가 OpenMP라는 병렬  처리 라이브러리를 사용하려고 초기화 할때 Tensorflow또한 해당 라이브러를 초기화 해서 충돌이 발생한다.\n",
    "\n",
    "### 문제 해결 방안\n",
    "\n",
    "1. `import os`\n",
    "    `os.environ['KMP_DUPLICATE_LIB_OK'] = 'True'`\n",
    "2. `conda install nomkl`\n",
    "\n",
    "1번은 매번 import 해줘야해서, nomkl설치 후 정상작동 된다.\n",
    "\n",
    "\n",
    "### 라이브러리 비활성화 해도 괜찮아?\n",
    "Tensorflow 또는 Pytorch에는 자체 GPU연산 라이브러리를 사용하기 때문에 딥러닝 모델 학습속도에 크게 영향을 주지않는다."
   ]
  },
  {
   "cell_type": "code",
   "execution_count": null,
   "metadata": {},
   "outputs": [
    {
     "name": "stdout",
     "output_type": "stream",
     "text": [
      "\n",
      "Epoch 1: val_loss improved from inf to 0.18949, saving model to ./model\\MNIST_MLP.keras\n",
      "\n",
      "Epoch 2: val_loss improved from 0.18949 to 0.13515, saving model to ./model\\MNIST_MLP.keras\n",
      "\n",
      "Epoch 3: val_loss improved from 0.13515 to 0.11209, saving model to ./model\\MNIST_MLP.keras\n",
      "\n",
      "Epoch 4: val_loss improved from 0.11209 to 0.09859, saving model to ./model\\MNIST_MLP.keras\n",
      "\n",
      "Epoch 5: val_loss improved from 0.09859 to 0.09457, saving model to ./model\\MNIST_MLP.keras\n",
      "\n",
      "Epoch 6: val_loss improved from 0.09457 to 0.08383, saving model to ./model\\MNIST_MLP.keras\n",
      "\n",
      "Epoch 7: val_loss improved from 0.08383 to 0.08274, saving model to ./model\\MNIST_MLP.keras\n",
      "\n",
      "Epoch 8: val_loss did not improve from 0.08274\n",
      "\n",
      "Epoch 9: val_loss did not improve from 0.08274\n",
      "\n",
      "Epoch 10: val_loss did not improve from 0.08274\n",
      "\n",
      "Epoch 11: val_loss improved from 0.08274 to 0.07706, saving model to ./model\\MNIST_MLP.keras\n",
      "\n",
      "Epoch 12: val_loss did not improve from 0.07706\n",
      "\n",
      "Epoch 13: val_loss did not improve from 0.07706\n",
      "\n",
      "Epoch 14: val_loss did not improve from 0.07706\n",
      "\n",
      "Epoch 15: val_loss did not improve from 0.07706\n",
      "\n",
      "Epoch 16: val_loss did not improve from 0.07706\n",
      "\n",
      "Epoch 17: val_loss did not improve from 0.07706\n",
      "\n",
      "Epoch 18: val_loss did not improve from 0.07706\n",
      "\n",
      "Epoch 19: val_loss did not improve from 0.07706\n",
      "\n",
      "Epoch 20: val_loss did not improve from 0.07706\n",
      "\n",
      "Epoch 21: val_loss did not improve from 0.07706\n",
      "313/313 [==============================] - 3s 7ms/step - loss: 0.0778 - accuracy: 0.9798\n",
      "\n",
      " Test Accuracy: 0.9798\n"
     ]
    }
   ],
   "source": [
    "#모델 실행 환경 설정\n",
    "model.compile(loss='categorical_crossentropy', optimizer='adam', metrics=['accuracy'])\n",
    "\n",
    "#모델 저장 경로 설정\n",
    "model_path = './models/MNIST_MLP.keras'\n",
    "dir_path = os.path.dirname(model_path)\n",
    "\n",
    "if not os.path.exists(dir_path):\n",
    "  os.makedirs(dir_path)\n",
    "\n",
    "#모델 최적화\n",
    "checkpointer = ModelCheckpoint(filepath=model_path, monitor='val_loss', verbose=2,save_best_only=True)\n",
    "early_stopping_callback = EarlyStopping(monitor='val_loss', patience=10)\n",
    "\n",
    "#모델 실행\n",
    "history = model.fit(X_train, y_train, validation_split=0.25,  epochs=30, batch_size=200, verbose=0,\n",
    "                    callbacks=[early_stopping_callback,checkpointer])\n",
    "\n",
    "#테스트 정확도 출력\n",
    "print(\"\\n Test Accuracy: %.4f\" % (model.evaluate(X_test, y_test)[1]))"
   ]
  },
  {
   "cell_type": "code",
   "execution_count": 11,
   "metadata": {},
   "outputs": [
    {
     "data": {
      "image/png": "[encoded data removed]",
      "text/plain": [
       "<Figure size 640x480 with 1 Axes>"
      ]
     },
     "metadata": {},
     "output_type": "display_data"
    }
   ],
   "source": [
    "# 검증셋과 학습셋의 오차를 저장\n",
    "y_vloss = history.history['val_loss']\n",
    "y_loss = history.history['loss']\n",
    "\n",
    "# 그래프로 표현\n",
    "x_len = np.arange(len(y_loss))\n",
    "plt.plot(x_len, y_vloss, marker='.', c=\"red\", label='Testset_loss')\n",
    "plt.plot(x_len, y_loss, marker='.', c=\"blue\", label='Trainset_loss')\n",
    "\n",
    "# 그래프에 그리드를 주고 레이블을 표시\n",
    "plt.legend(loc='upper right')\n",
    "plt.grid()\n",
    "plt.xlabel('epoch')\n",
    "plt.ylabel('loss')\n",
    "plt.show()"
   ]
  }
 ],
 "metadata": {
  "kernelspec": {
   "display_name": "conda_env",
   "language": "python",
   "name": "python3"
  },
  "language_info": {
   "codemirror_mode": {
    "name": "ipython",
    "version": 3
   },
   "file_extension": ".py",
   "mimetype": "text/x-python",
   "name": "python",
   "nbconvert_exporter": "python",
   "pygments_lexer": "ipython3",
   "version": "3.10.13"
  }
 },
 "nbformat": 4,
 "nbformat_minor": 2
}
