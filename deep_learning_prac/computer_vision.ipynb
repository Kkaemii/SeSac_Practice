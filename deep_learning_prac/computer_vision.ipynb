{
 "cells": [
  {
   "cell_type": "code",
   "execution_count": 2,
   "metadata": {},
   "outputs": [],
   "source": [
    "import cv2 as cv\n",
    "import sys"
   ]
  },
  {
   "cell_type": "code",
   "execution_count": 3,
   "metadata": {},
   "outputs": [],
   "source": [
    "img=cv.imread('./asset/soccer.jpg')\n",
    "if img is None:\n",
    "  sys.exit('파일을 찾을 수 없습니다.')\n",
    "\n",
    "cv.imshow('Image Display', img)\n",
    "cv.waitKey()\n",
    "# waitKey 기본값 100 / 0.1초\n",
    "# 키 입력받으면 해당 키 반환\n",
    "cv.destroyAllWindows()"
   ]
  },
  {
   "cell_type": "code",
   "execution_count": 4,
   "metadata": {},
   "outputs": [],
   "source": [
    "import os\n",
    "\n",
    "img = cv.imread('./asset/soccer.jpg')\n",
    "\n",
    "if img is None :\n",
    "  sys.exit('파일을 찾을 수 없습니다.')\n",
    "\n",
    "gray = cv.cvtColor(img, cv.COLOR_BGR2GRAY)\n",
    "gray_small = cv.resize(gray, dsize=(0,0), fx=0.5, fy=0.5)\n",
    "\n",
    "#저장 경로 설정\n",
    "file_path = './asset/preprocessed_img/'\n",
    "dir_path = os.path.dirname(file_path)\n",
    "\n",
    "if not os.path.exists(dir_path):\n",
    "  os.makedirs(dir_path)\n",
    "\n",
    "\n",
    "cv.imwrite(file_path+'Soccer_gray.jpg', gray)\n",
    "cv.imwrite(file_path+'Soccer_gray_small.jpg', gray_small)\n",
    "\n",
    "#이미지 출력\n",
    "cv.imshow('Color Image', img)\n",
    "cv.imshow('Gray Image', gray)\n",
    "cv.imshow('Gray_small Image', gray_small)\n",
    "\n",
    "cv.waitKey()\n",
    "cv.destroyAllWindows()"
   ]
  },
  {
   "cell_type": "markdown",
   "metadata": {},
   "source": [
    "### 카메라 연결"
   ]
  },
  {
   "cell_type": "code",
   "execution_count": 8,
   "metadata": {},
   "outputs": [],
   "source": [
    "import cv2 as cv\n",
    "import sys"
   ]
  },
  {
   "cell_type": "code",
   "execution_count": 9,
   "metadata": {},
   "outputs": [],
   "source": [
    "#카메라와 연결\n",
    "cap=cv.VideoCapture(0, cv.CAP_DSHOW)"
   ]
  },
  {
   "cell_type": "code",
   "execution_count": 10,
   "metadata": {},
   "outputs": [],
   "source": [
    "if not cap.isOpened():\n",
    "  sys.exit('카메라 연결 실패')"
   ]
  },
  {
   "cell_type": "code",
   "execution_count": 11,
   "metadata": {},
   "outputs": [],
   "source": [
    "while True:\n",
    "  ret, frame=cap.read()\n",
    "  if not ret:\n",
    "    print('프레임 획득에 실패하여 루프를 나갑니다')\n",
    "    break\n",
    "\n",
    "  cv.imshow('Video Display', frame)\n",
    "\n",
    "  key=cv.waitKey(1)\n",
    "  if key==ord('q'): # q키를 입력받으면 루프를 빠져나감\n",
    "    break\n",
    "\n",
    "cap.release()"
   ]
  },
  {
   "cell_type": "code",
   "execution_count": 12,
   "metadata": {},
   "outputs": [],
   "source": [
    "cv.destroyAllWindows()"
   ]
  },
  {
   "cell_type": "markdown",
   "metadata": {},
   "source": [
    "### 비디오를 구성하는 프레임 획득"
   ]
  },
  {
   "cell_type": "code",
   "execution_count": 13,
   "metadata": {},
   "outputs": [],
   "source": [
    "import cv2 as cv\n",
    "import numpy as np\n",
    "import sys\n"
   ]
  },
  {
   "cell_type": "code",
   "execution_count": 14,
   "metadata": {},
   "outputs": [],
   "source": [
    "cap=cv.VideoCapture(0, cv.CAP_DSHOW)#카메라와 연결시도\n",
    "\n",
    "if not cap.isOpened():\n",
    "  sys.exit('카메라 연결 실패')\n",
    "\n",
    "frames=[]\n",
    "while True:\n",
    "  ret, frame = cap.read() #비디오를 구성하는 프레임 획득\n",
    "\n",
    "  if not ret:\n",
    "    print('프레임 획득에 실패하여 루프를 나갑니다.')\n",
    "    break\n",
    "\n",
    "  cv.imshow('Video Display', frame)\n",
    "\n",
    "  key=cv.waitKey(1)\n",
    "  if key==ord('c'):\n",
    "    frames.append(frame)\n",
    "  elif key==ord('q'):\n",
    "    break\n",
    "\n",
    "#카메라와 연결 종료\n",
    "cap.release()\n",
    "cv.destroyAllWindows()"
   ]
  },
  {
   "cell_type": "code",
   "execution_count": 15,
   "metadata": {},
   "outputs": [],
   "source": [
    "if len(frames) > 0:\n",
    "  imgs = frames[0]\n",
    "  for i in range(1, min(3, len(frames))):\n",
    "    imgs=np.hstack((imgs,frames[i]))\n",
    "\n",
    "  cv.imshow('Collected Frames', imgs)\n",
    "\n",
    "  cv.waitKey()\n",
    "  cv.destroyAllWindows()"
   ]
  },
  {
   "cell_type": "markdown",
   "metadata": {},
   "source": [
    "### 직사각형 그리기"
   ]
  },
  {
   "cell_type": "code",
   "execution_count": 16,
   "metadata": {},
   "outputs": [
    {
     "data": {
      "text/plain": [
       "array([[[171, 169, 169],\n",
       "        [167, 165, 165],\n",
       "        [169, 167, 166],\n",
       "        ...,\n",
       "        [106, 113, 130],\n",
       "        [107, 114, 131],\n",
       "        [107, 114, 131]],\n",
       "\n",
       "       [[171, 169, 169],\n",
       "        [170, 168, 168],\n",
       "        [173, 171, 170],\n",
       "        ...,\n",
       "        [109, 116, 133],\n",
       "        [111, 118, 135],\n",
       "        [113, 120, 137]],\n",
       "\n",
       "       [[168, 164, 163],\n",
       "        [174, 170, 169],\n",
       "        [179, 175, 174],\n",
       "        ...,\n",
       "        [113, 120, 139],\n",
       "        [116, 123, 142],\n",
       "        [120, 127, 146]],\n",
       "\n",
       "       ...,\n",
       "\n",
       "       [[168, 161, 158],\n",
       "        [159, 152, 149],\n",
       "        [184, 177, 174],\n",
       "        ...,\n",
       "        [180, 183, 187],\n",
       "        [181, 184, 189],\n",
       "        [189, 192, 196]],\n",
       "\n",
       "       [[157, 150, 147],\n",
       "        [140, 133, 130],\n",
       "        [178, 171, 168],\n",
       "        ...,\n",
       "        [183, 187, 188],\n",
       "        [182, 185, 189],\n",
       "        [182, 186, 187]],\n",
       "\n",
       "       [[175, 168, 165],\n",
       "        [189, 182, 179],\n",
       "        [177, 170, 167],\n",
       "        ...,\n",
       "        [222, 226, 227],\n",
       "        [205, 209, 210],\n",
       "        [193, 197, 198]]], dtype=uint8)"
      ]
     },
     "execution_count": 16,
     "metadata": {},
     "output_type": "execute_result"
    }
   ],
   "source": [
    "import cv2 as cv\n",
    "import sys\n",
    "\n",
    "img=cv.imread('./asset/girl_laughing.jpg')\n",
    "\n",
    "if img is None:\n",
    "  sys.exit('파일을 찾을 수 없습니다.')\n",
    "\n",
    "cv.rectangle(img, (830,30), (1000,200), (0,0,225),2) #직사각형 그리기\n",
    "cv.putText(img, 'laugh', (830,24), cv.FONT_HERSHEY_SCRIPT_SIMPLEX, 1, (255,0,0),2)"
   ]
  },
  {
   "cell_type": "code",
   "execution_count": 17,
   "metadata": {},
   "outputs": [],
   "source": [
    "cv.imshow('Drawing', img)\n",
    "cv.waitKey()\n",
    "cv.destroyAllWindows()"
   ]
  },
  {
   "cell_type": "markdown",
   "metadata": {},
   "source": [
    "### 마우스로 클릭하기"
   ]
  },
  {
   "cell_type": "code",
   "execution_count": 20,
   "metadata": {},
   "outputs": [],
   "source": [
    "import sys\n",
    "\n",
    "img=cv.imread('./asset/girl_laughing.jpg')\n",
    "\n",
    "if img is None:\n",
    "  sys.exit('파일을 찾을 수 없습니다.')\n",
    "\n",
    "def draw(event, x, y, flags, pram):\n",
    "  if event == cv.EVENT_LBUTTONDOWN:\n",
    "    cv.rectangle(img, (x,y), (x+200, y+200), (0,0,255),2)\n",
    "  elif event == cv.EVENT_RBUTTONDOWN:\n",
    "    cv.rectangle(img,(x,y), (x+100, y+100), (255,0,0),2)\n",
    "  \n",
    "  cv.imshow('Drawing', img)\n",
    "\n",
    "\n",
    "cv.namedWindow('Drawing')\n",
    "cv.imshow('Drawing', img)\n",
    "cv.setMouseCallback('Drawing', draw) #Drawing 윈도우에 draw콜백 함수 지정\n",
    "\n",
    "while True:\n",
    "  if cv.waitKey(1)==ord('q'):\n",
    "    cv.destroyAllWindows()\n",
    "    break"
   ]
  },
  {
   "cell_type": "markdown",
   "metadata": {},
   "source": [
    "### 마우스 클릭에 따라 색깔 변경"
   ]
  },
  {
   "cell_type": "code",
   "execution_count": null,
   "metadata": {},
   "outputs": [],
   "source": [
    "import cv2 as cv\n",
    "import sys\n",
    "\n",
    "img=cv.imread('./asset/soccer.jpg')\n",
    "\n",
    "if img is None:\n",
    "  sys.exit('파일을 찾을 수 없습니다.')\n",
    "\n",
    "Brush_size = 5\n",
    "LColor, RColor = (255,0,0), (0,0,255)\n",
    "\n",
    "def painting(event, x,y,flags, param):\n",
    "  if event == cv.EVENT_LBUTTONDOWN:\n",
    "    cv.circle(img,(x,y), Brush_size, LColor, -1)# 마우스 왼쪽 버튼 클릭하면 파란색\n",
    "  elif event== cv.EVENT_RBUTTONDOWN:\n",
    "    cv.circle(img,(x,y), Brush_size, RColor, -1)# 마우스 오른쪽 버튼 클릭하면 빨간색\n",
    "  elif event== cv.EVENT_MOUSEMOVE and flags==cv.EVENT_FLAG_LBUTTON: # 왼쪽 버튼 클릭하고 이동하면 파란색\n",
    "    cv.circle(img,(x,y),Brush_size,LColor,-1)\n",
    "  elif event == cv.EVENT_MOUSEMOVE and flags==cv.EVENT_FLAG_RBUTTON: # 오른쪽 버튼 클릭하고 이동하면 빨간색\n",
    "    cv.circle(img,(x,y), Brush_size, RColor, -1)8\n",
    "\n",
    "  cv.imshow('Painting', img)\n",
    "\n",
    "\n",
    "cv.namedWindow('Painting')\n",
    "cv.imshow('Painting', img)\n",
    "\n",
    "cv.setMouseCallback('Painting',painting)\n",
    "\n",
    "while True:\n",
    "  if cv.waitKey(1)==ord('q'):\n",
    "    cv.destroyAllWindows()\n",
    "    break"
   ]
  }
 ],
 "metadata": {
  "kernelspec": {
   "display_name": "conda_env",
   "language": "python",
   "name": "python3"
  },
  "language_info": {
   "codemirror_mode": {
    "name": "ipython",
    "version": 3
   },
   "file_extension": ".py",
   "mimetype": "text/x-python",
   "name": "python",
   "nbconvert_exporter": "python",
   "pygments_lexer": "ipython3",
   "version": "3.10.13"
  }
 },
 "nbformat": 4,
 "nbformat_minor": 2
}
