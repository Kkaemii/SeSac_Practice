{
 "cells": [
  {
   "cell_type": "code",
   "execution_count": 2,
   "metadata": {},
   "outputs": [],
   "source": [
    "import pandas as pd\n",
    "import matplotlib.pyplot as plt\n",
    "import seaborn  as sns\n",
    "\n",
    "df = pd.read_csv('./data_set/pima-indians-diabetes3.csv')"
   ]
  },
  {
   "cell_type": "code",
   "execution_count": 3,
   "metadata": {},
   "outputs": [
    {
     "data": {
      "application/vnd.microsoft.datawrangler.viewer.v0+json": {
       "columns": [
        {
         "name": "index",
         "rawType": "int64",
         "type": "integer"
        },
        {
         "name": "pregnant",
         "rawType": "int64",
         "type": "integer"
        },
        {
         "name": "plasma",
         "rawType": "int64",
         "type": "integer"
        },
        {
         "name": "pressure",
         "rawType": "int64",
         "type": "integer"
        },
        {
         "name": "thickness",
         "rawType": "int64",
         "type": "integer"
        },
        {
         "name": "insulin",
         "rawType": "int64",
         "type": "integer"
        },
        {
         "name": "bmi",
         "rawType": "float64",
         "type": "float"
        },
        {
         "name": "pedigree",
         "rawType": "float64",
         "type": "float"
        },
        {
         "name": "age",
         "rawType": "int64",
         "type": "integer"
        },
        {
         "name": "diabetes",
         "rawType": "int64",
         "type": "integer"
        }
       ],
       "conversionMethod": "pd.DataFrame",
       "ref": "32118a23-53cb-4ee5-a7da-2246d3e51d34",
       "rows": [
        [
         "0",
         "6",
         "148",
         "72",
         "35",
         "0",
         "33.6",
         "0.627",
         "50",
         "1"
        ],
        [
         "1",
         "1",
         "85",
         "66",
         "29",
         "0",
         "26.6",
         "0.351",
         "31",
         "0"
        ],
        [
         "2",
         "8",
         "183",
         "64",
         "0",
         "0",
         "23.3",
         "0.672",
         "32",
         "1"
        ],
        [
         "3",
         "1",
         "89",
         "66",
         "23",
         "94",
         "28.1",
         "0.167",
         "21",
         "0"
        ],
        [
         "4",
         "0",
         "137",
         "40",
         "35",
         "168",
         "43.1",
         "2.288",
         "33",
         "1"
        ]
       ],
       "shape": {
        "columns": 9,
        "rows": 5
       }
      },
      "text/html": [
       "<div>\n",
       "<style scoped>\n",
       "    .dataframe tbody tr th:only-of-type {\n",
       "        vertical-align: middle;\n",
       "    }\n",
       "\n",
       "    .dataframe tbody tr th {\n",
       "        vertical-align: top;\n",
       "    }\n",
       "\n",
       "    .dataframe thead th {\n",
       "        text-align: right;\n",
       "    }\n",
       "</style>\n",
       "<table border=\"1\" class=\"dataframe\">\n",
       "  <thead>\n",
       "    <tr style=\"text-align: right;\">\n",
       "      <th></th>\n",
       "      <th>pregnant</th>\n",
       "      <th>plasma</th>\n",
       "      <th>pressure</th>\n",
       "      <th>thickness</th>\n",
       "      <th>insulin</th>\n",
       "      <th>bmi</th>\n",
       "      <th>pedigree</th>\n",
       "      <th>age</th>\n",
       "      <th>diabetes</th>\n",
       "    </tr>\n",
       "  </thead>\n",
       "  <tbody>\n",
       "    <tr>\n",
       "      <th>0</th>\n",
       "      <td>6</td>\n",
       "      <td>148</td>\n",
       "      <td>72</td>\n",
       "      <td>35</td>\n",
       "      <td>0</td>\n",
       "      <td>33.6</td>\n",
       "      <td>0.627</td>\n",
       "      <td>50</td>\n",
       "      <td>1</td>\n",
       "    </tr>\n",
       "    <tr>\n",
       "      <th>1</th>\n",
       "      <td>1</td>\n",
       "      <td>85</td>\n",
       "      <td>66</td>\n",
       "      <td>29</td>\n",
       "      <td>0</td>\n",
       "      <td>26.6</td>\n",
       "      <td>0.351</td>\n",
       "      <td>31</td>\n",
       "      <td>0</td>\n",
       "    </tr>\n",
       "    <tr>\n",
       "      <th>2</th>\n",
       "      <td>8</td>\n",
       "      <td>183</td>\n",
       "      <td>64</td>\n",
       "      <td>0</td>\n",
       "      <td>0</td>\n",
       "      <td>23.3</td>\n",
       "      <td>0.672</td>\n",
       "      <td>32</td>\n",
       "      <td>1</td>\n",
       "    </tr>\n",
       "    <tr>\n",
       "      <th>3</th>\n",
       "      <td>1</td>\n",
       "      <td>89</td>\n",
       "      <td>66</td>\n",
       "      <td>23</td>\n",
       "      <td>94</td>\n",
       "      <td>28.1</td>\n",
       "      <td>0.167</td>\n",
       "      <td>21</td>\n",
       "      <td>0</td>\n",
       "    </tr>\n",
       "    <tr>\n",
       "      <th>4</th>\n",
       "      <td>0</td>\n",
       "      <td>137</td>\n",
       "      <td>40</td>\n",
       "      <td>35</td>\n",
       "      <td>168</td>\n",
       "      <td>43.1</td>\n",
       "      <td>2.288</td>\n",
       "      <td>33</td>\n",
       "      <td>1</td>\n",
       "    </tr>\n",
       "  </tbody>\n",
       "</table>\n",
       "</div>"
      ],
      "text/plain": [
       "   pregnant  plasma  pressure  thickness  insulin   bmi  pedigree  age  \\\n",
       "0         6     148        72         35        0  33.6     0.627   50   \n",
       "1         1      85        66         29        0  26.6     0.351   31   \n",
       "2         8     183        64          0        0  23.3     0.672   32   \n",
       "3         1      89        66         23       94  28.1     0.167   21   \n",
       "4         0     137        40         35      168  43.1     2.288   33   \n",
       "\n",
       "   diabetes  \n",
       "0         1  \n",
       "1         0  \n",
       "2         1  \n",
       "3         0  \n",
       "4         1  "
      ]
     },
     "execution_count": 3,
     "metadata": {},
     "output_type": "execute_result"
    }
   ],
   "source": [
    "df.head(5)"
   ]
  },
  {
   "cell_type": "code",
   "execution_count": 4,
   "metadata": {},
   "outputs": [
    {
     "data": {
      "text/plain": [
       "diabetes\n",
       "0    500\n",
       "1    268\n",
       "Name: count, dtype: int64"
      ]
     },
     "execution_count": 4,
     "metadata": {},
     "output_type": "execute_result"
    }
   ],
   "source": [
    "df['diabetes'].value_counts()"
   ]
  },
  {
   "cell_type": "code",
   "execution_count": 5,
   "metadata": {},
   "outputs": [
    {
     "data": {
      "application/vnd.microsoft.datawrangler.viewer.v0+json": {
       "columns": [
        {
         "name": "index",
         "rawType": "object",
         "type": "string"
        },
        {
         "name": "pregnant",
         "rawType": "float64",
         "type": "float"
        },
        {
         "name": "plasma",
         "rawType": "float64",
         "type": "float"
        },
        {
         "name": "pressure",
         "rawType": "float64",
         "type": "float"
        },
        {
         "name": "thickness",
         "rawType": "float64",
         "type": "float"
        },
        {
         "name": "insulin",
         "rawType": "float64",
         "type": "float"
        },
        {
         "name": "bmi",
         "rawType": "float64",
         "type": "float"
        },
        {
         "name": "pedigree",
         "rawType": "float64",
         "type": "float"
        },
        {
         "name": "age",
         "rawType": "float64",
         "type": "float"
        },
        {
         "name": "diabetes",
         "rawType": "float64",
         "type": "float"
        }
       ],
       "conversionMethod": "pd.DataFrame",
       "ref": "29ae3e8c-da84-4589-8096-b8d366663d4d",
       "rows": [
        [
         "count",
         "768.0",
         "768.0",
         "768.0",
         "768.0",
         "768.0",
         "768.0",
         "768.0",
         "768.0",
         "768.0"
        ],
        [
         "mean",
         "3.8450520833333335",
         "120.89453125",
         "69.10546875",
         "20.536458333333332",
         "79.79947916666667",
         "31.992578124999998",
         "0.47187630208333325",
         "33.240885416666664",
         "0.3489583333333333"
        ],
        [
         "std",
         "3.3695780626988623",
         "31.97261819513622",
         "19.355807170644777",
         "15.952217567727677",
         "115.24400235133837",
         "7.8841603203754405",
         "0.33132859501277484",
         "11.76023154067868",
         "0.4769513772427971"
        ],
        [
         "min",
         "0.0",
         "0.0",
         "0.0",
         "0.0",
         "0.0",
         "0.0",
         "0.078",
         "21.0",
         "0.0"
        ],
        [
         "25%",
         "1.0",
         "99.0",
         "62.0",
         "0.0",
         "0.0",
         "27.3",
         "0.24375",
         "24.0",
         "0.0"
        ],
        [
         "50%",
         "3.0",
         "117.0",
         "72.0",
         "23.0",
         "30.5",
         "32.0",
         "0.3725",
         "29.0",
         "0.0"
        ],
        [
         "75%",
         "6.0",
         "140.25",
         "80.0",
         "32.0",
         "127.25",
         "36.6",
         "0.62625",
         "41.0",
         "1.0"
        ],
        [
         "max",
         "17.0",
         "199.0",
         "122.0",
         "99.0",
         "846.0",
         "67.1",
         "2.42",
         "81.0",
         "1.0"
        ]
       ],
       "shape": {
        "columns": 9,
        "rows": 8
       }
      },
      "text/html": [
       "<div>\n",
       "<style scoped>\n",
       "    .dataframe tbody tr th:only-of-type {\n",
       "        vertical-align: middle;\n",
       "    }\n",
       "\n",
       "    .dataframe tbody tr th {\n",
       "        vertical-align: top;\n",
       "    }\n",
       "\n",
       "    .dataframe thead th {\n",
       "        text-align: right;\n",
       "    }\n",
       "</style>\n",
       "<table border=\"1\" class=\"dataframe\">\n",
       "  <thead>\n",
       "    <tr style=\"text-align: right;\">\n",
       "      <th></th>\n",
       "      <th>pregnant</th>\n",
       "      <th>plasma</th>\n",
       "      <th>pressure</th>\n",
       "      <th>thickness</th>\n",
       "      <th>insulin</th>\n",
       "      <th>bmi</th>\n",
       "      <th>pedigree</th>\n",
       "      <th>age</th>\n",
       "      <th>diabetes</th>\n",
       "    </tr>\n",
       "  </thead>\n",
       "  <tbody>\n",
       "    <tr>\n",
       "      <th>count</th>\n",
       "      <td>768.000000</td>\n",
       "      <td>768.000000</td>\n",
       "      <td>768.000000</td>\n",
       "      <td>768.000000</td>\n",
       "      <td>768.000000</td>\n",
       "      <td>768.000000</td>\n",
       "      <td>768.000000</td>\n",
       "      <td>768.000000</td>\n",
       "      <td>768.000000</td>\n",
       "    </tr>\n",
       "    <tr>\n",
       "      <th>mean</th>\n",
       "      <td>3.845052</td>\n",
       "      <td>120.894531</td>\n",
       "      <td>69.105469</td>\n",
       "      <td>20.536458</td>\n",
       "      <td>79.799479</td>\n",
       "      <td>31.992578</td>\n",
       "      <td>0.471876</td>\n",
       "      <td>33.240885</td>\n",
       "      <td>0.348958</td>\n",
       "    </tr>\n",
       "    <tr>\n",
       "      <th>std</th>\n",
       "      <td>3.369578</td>\n",
       "      <td>31.972618</td>\n",
       "      <td>19.355807</td>\n",
       "      <td>15.952218</td>\n",
       "      <td>115.244002</td>\n",
       "      <td>7.884160</td>\n",
       "      <td>0.331329</td>\n",
       "      <td>11.760232</td>\n",
       "      <td>0.476951</td>\n",
       "    </tr>\n",
       "    <tr>\n",
       "      <th>min</th>\n",
       "      <td>0.000000</td>\n",
       "      <td>0.000000</td>\n",
       "      <td>0.000000</td>\n",
       "      <td>0.000000</td>\n",
       "      <td>0.000000</td>\n",
       "      <td>0.000000</td>\n",
       "      <td>0.078000</td>\n",
       "      <td>21.000000</td>\n",
       "      <td>0.000000</td>\n",
       "    </tr>\n",
       "    <tr>\n",
       "      <th>25%</th>\n",
       "      <td>1.000000</td>\n",
       "      <td>99.000000</td>\n",
       "      <td>62.000000</td>\n",
       "      <td>0.000000</td>\n",
       "      <td>0.000000</td>\n",
       "      <td>27.300000</td>\n",
       "      <td>0.243750</td>\n",
       "      <td>24.000000</td>\n",
       "      <td>0.000000</td>\n",
       "    </tr>\n",
       "    <tr>\n",
       "      <th>50%</th>\n",
       "      <td>3.000000</td>\n",
       "      <td>117.000000</td>\n",
       "      <td>72.000000</td>\n",
       "      <td>23.000000</td>\n",
       "      <td>30.500000</td>\n",
       "      <td>32.000000</td>\n",
       "      <td>0.372500</td>\n",
       "      <td>29.000000</td>\n",
       "      <td>0.000000</td>\n",
       "    </tr>\n",
       "    <tr>\n",
       "      <th>75%</th>\n",
       "      <td>6.000000</td>\n",
       "      <td>140.250000</td>\n",
       "      <td>80.000000</td>\n",
       "      <td>32.000000</td>\n",
       "      <td>127.250000</td>\n",
       "      <td>36.600000</td>\n",
       "      <td>0.626250</td>\n",
       "      <td>41.000000</td>\n",
       "      <td>1.000000</td>\n",
       "    </tr>\n",
       "    <tr>\n",
       "      <th>max</th>\n",
       "      <td>17.000000</td>\n",
       "      <td>199.000000</td>\n",
       "      <td>122.000000</td>\n",
       "      <td>99.000000</td>\n",
       "      <td>846.000000</td>\n",
       "      <td>67.100000</td>\n",
       "      <td>2.420000</td>\n",
       "      <td>81.000000</td>\n",
       "      <td>1.000000</td>\n",
       "    </tr>\n",
       "  </tbody>\n",
       "</table>\n",
       "</div>"
      ],
      "text/plain": [
       "         pregnant      plasma    pressure   thickness     insulin         bmi  \\\n",
       "count  768.000000  768.000000  768.000000  768.000000  768.000000  768.000000   \n",
       "mean     3.845052  120.894531   69.105469   20.536458   79.799479   31.992578   \n",
       "std      3.369578   31.972618   19.355807   15.952218  115.244002    7.884160   \n",
       "min      0.000000    0.000000    0.000000    0.000000    0.000000    0.000000   \n",
       "25%      1.000000   99.000000   62.000000    0.000000    0.000000   27.300000   \n",
       "50%      3.000000  117.000000   72.000000   23.000000   30.500000   32.000000   \n",
       "75%      6.000000  140.250000   80.000000   32.000000  127.250000   36.600000   \n",
       "max     17.000000  199.000000  122.000000   99.000000  846.000000   67.100000   \n",
       "\n",
       "         pedigree         age    diabetes  \n",
       "count  768.000000  768.000000  768.000000  \n",
       "mean     0.471876   33.240885    0.348958  \n",
       "std      0.331329   11.760232    0.476951  \n",
       "min      0.078000   21.000000    0.000000  \n",
       "25%      0.243750   24.000000    0.000000  \n",
       "50%      0.372500   29.000000    0.000000  \n",
       "75%      0.626250   41.000000    1.000000  \n",
       "max      2.420000   81.000000    1.000000  "
      ]
     },
     "execution_count": 5,
     "metadata": {},
     "output_type": "execute_result"
    }
   ],
   "source": [
    "df.describe()"
   ]
  },
  {
   "cell_type": "code",
   "execution_count": null,
   "metadata": {},
   "outputs": [
    {
     "data": {
      "application/vnd.microsoft.datawrangler.viewer.v0+json": {
       "columns": [
        {
         "name": "index",
         "rawType": "object",
         "type": "string"
        },
        {
         "name": "pregnant",
         "rawType": "float64",
         "type": "float"
        },
        {
         "name": "plasma",
         "rawType": "float64",
         "type": "float"
        },
        {
         "name": "pressure",
         "rawType": "float64",
         "type": "float"
        },
        {
         "name": "thickness",
         "rawType": "float64",
         "type": "float"
        },
        {
         "name": "insulin",
         "rawType": "float64",
         "type": "float"
        },
        {
         "name": "bmi",
         "rawType": "float64",
         "type": "float"
        },
        {
         "name": "pedigree",
         "rawType": "float64",
         "type": "float"
        },
        {
         "name": "age",
         "rawType": "float64",
         "type": "float"
        },
        {
         "name": "diabetes",
         "rawType": "float64",
         "type": "float"
        }
       ],
       "conversionMethod": "pd.DataFrame",
       "ref": "7a4eb66a-3824-47be-97c2-8f05f087343e",
       "rows": [
        [
         "pregnant",
         "1.0",
         "0.12945867149927248",
         "0.14128197740713966",
         "-0.08167177444900726",
         "-0.07353461435162822",
         "0.017683090727830565",
         "-0.03352267296261304",
         "0.5443412284023392",
         "0.22189815303398636"
        ],
        [
         "plasma",
         "0.12945867149927248",
         "1.0",
         "0.1525895865686646",
         "0.05732789073817692",
         "0.3313571099202092",
         "0.2210710694589828",
         "0.13733729982837092",
         "0.26351431982433343",
         "0.46658139830687373"
        ],
        [
         "pressure",
         "0.14128197740713966",
         "0.1525895865686646",
         "1.0",
         "0.2073705384030709",
         "0.08893337837319314",
         "0.2818052888499109",
         "0.04126494793009856",
         "0.23952794642136344",
         "0.06506835955033277"
        ],
        [
         "thickness",
         "-0.08167177444900726",
         "0.05732789073817692",
         "0.2073705384030709",
         "1.0",
         "0.43678257012001326",
         "0.39257320415903835",
         "0.1839275729541631",
         "-0.11397026236774152",
         "0.07475223191831946"
        ],
        [
         "insulin",
         "-0.07353461435162822",
         "0.3313571099202092",
         "0.08893337837319314",
         "0.43678257012001326",
         "1.0",
         "0.19785905649310145",
         "0.1850709291680993",
         "-0.04216295473537695",
         "0.13054795488404794"
        ],
        [
         "bmi",
         "0.017683090727830565",
         "0.2210710694589828",
         "0.2818052888499109",
         "0.39257320415903835",
         "0.19785905649310145",
         "1.0",
         "0.14064695254510523",
         "0.03624187009229395",
         "0.2926946626444454"
        ],
        [
         "pedigree",
         "-0.03352267296261304",
         "0.13733729982837092",
         "0.04126494793009856",
         "0.1839275729541631",
         "0.1850709291680993",
         "0.14064695254510523",
         "1.0",
         "0.03356131243480539",
         "0.17384406565296004"
        ],
        [
         "age",
         "0.5443412284023392",
         "0.26351431982433343",
         "0.23952794642136344",
         "-0.11397026236774152",
         "-0.04216295473537695",
         "0.03624187009229395",
         "0.03356131243480539",
         "1.0",
         "0.23835598302719757"
        ],
        [
         "diabetes",
         "0.22189815303398636",
         "0.46658139830687373",
         "0.06506835955033277",
         "0.07475223191831946",
         "0.13054795488404794",
         "0.2926946626444454",
         "0.17384406565296004",
         "0.23835598302719757",
         "1.0"
        ]
       ],
       "shape": {
        "columns": 9,
        "rows": 9
       }
      },
      "text/html": [
       "<div>\n",
       "<style scoped>\n",
       "    .dataframe tbody tr th:only-of-type {\n",
       "        vertical-align: middle;\n",
       "    }\n",
       "\n",
       "    .dataframe tbody tr th {\n",
       "        vertical-align: top;\n",
       "    }\n",
       "\n",
       "    .dataframe thead th {\n",
       "        text-align: right;\n",
       "    }\n",
       "</style>\n",
       "<table border=\"1\" class=\"dataframe\">\n",
       "  <thead>\n",
       "    <tr style=\"text-align: right;\">\n",
       "      <th></th>\n",
       "      <th>pregnant</th>\n",
       "      <th>plasma</th>\n",
       "      <th>pressure</th>\n",
       "      <th>thickness</th>\n",
       "      <th>insulin</th>\n",
       "      <th>bmi</th>\n",
       "      <th>pedigree</th>\n",
       "      <th>age</th>\n",
       "      <th>diabetes</th>\n",
       "    </tr>\n",
       "  </thead>\n",
       "  <tbody>\n",
       "    <tr>\n",
       "      <th>pregnant</th>\n",
       "      <td>1.000000</td>\n",
       "      <td>0.129459</td>\n",
       "      <td>0.141282</td>\n",
       "      <td>-0.081672</td>\n",
       "      <td>-0.073535</td>\n",
       "      <td>0.017683</td>\n",
       "      <td>-0.033523</td>\n",
       "      <td>0.544341</td>\n",
       "      <td>0.221898</td>\n",
       "    </tr>\n",
       "    <tr>\n",
       "      <th>plasma</th>\n",
       "      <td>0.129459</td>\n",
       "      <td>1.000000</td>\n",
       "      <td>0.152590</td>\n",
       "      <td>0.057328</td>\n",
       "      <td>0.331357</td>\n",
       "      <td>0.221071</td>\n",
       "      <td>0.137337</td>\n",
       "      <td>0.263514</td>\n",
       "      <td>0.466581</td>\n",
       "    </tr>\n",
       "    <tr>\n",
       "      <th>pressure</th>\n",
       "      <td>0.141282</td>\n",
       "      <td>0.152590</td>\n",
       "      <td>1.000000</td>\n",
       "      <td>0.207371</td>\n",
       "      <td>0.088933</td>\n",
       "      <td>0.281805</td>\n",
       "      <td>0.041265</td>\n",
       "      <td>0.239528</td>\n",
       "      <td>0.065068</td>\n",
       "    </tr>\n",
       "    <tr>\n",
       "      <th>thickness</th>\n",
       "      <td>-0.081672</td>\n",
       "      <td>0.057328</td>\n",
       "      <td>0.207371</td>\n",
       "      <td>1.000000</td>\n",
       "      <td>0.436783</td>\n",
       "      <td>0.392573</td>\n",
       "      <td>0.183928</td>\n",
       "      <td>-0.113970</td>\n",
       "      <td>0.074752</td>\n",
       "    </tr>\n",
       "    <tr>\n",
       "      <th>insulin</th>\n",
       "      <td>-0.073535</td>\n",
       "      <td>0.331357</td>\n",
       "      <td>0.088933</td>\n",
       "      <td>0.436783</td>\n",
       "      <td>1.000000</td>\n",
       "      <td>0.197859</td>\n",
       "      <td>0.185071</td>\n",
       "      <td>-0.042163</td>\n",
       "      <td>0.130548</td>\n",
       "    </tr>\n",
       "    <tr>\n",
       "      <th>bmi</th>\n",
       "      <td>0.017683</td>\n",
       "      <td>0.221071</td>\n",
       "      <td>0.281805</td>\n",
       "      <td>0.392573</td>\n",
       "      <td>0.197859</td>\n",
       "      <td>1.000000</td>\n",
       "      <td>0.140647</td>\n",
       "      <td>0.036242</td>\n",
       "      <td>0.292695</td>\n",
       "    </tr>\n",
       "    <tr>\n",
       "      <th>pedigree</th>\n",
       "      <td>-0.033523</td>\n",
       "      <td>0.137337</td>\n",
       "      <td>0.041265</td>\n",
       "      <td>0.183928</td>\n",
       "      <td>0.185071</td>\n",
       "      <td>0.140647</td>\n",
       "      <td>1.000000</td>\n",
       "      <td>0.033561</td>\n",
       "      <td>0.173844</td>\n",
       "    </tr>\n",
       "    <tr>\n",
       "      <th>age</th>\n",
       "      <td>0.544341</td>\n",
       "      <td>0.263514</td>\n",
       "      <td>0.239528</td>\n",
       "      <td>-0.113970</td>\n",
       "      <td>-0.042163</td>\n",
       "      <td>0.036242</td>\n",
       "      <td>0.033561</td>\n",
       "      <td>1.000000</td>\n",
       "      <td>0.238356</td>\n",
       "    </tr>\n",
       "    <tr>\n",
       "      <th>diabetes</th>\n",
       "      <td>0.221898</td>\n",
       "      <td>0.466581</td>\n",
       "      <td>0.065068</td>\n",
       "      <td>0.074752</td>\n",
       "      <td>0.130548</td>\n",
       "      <td>0.292695</td>\n",
       "      <td>0.173844</td>\n",
       "      <td>0.238356</td>\n",
       "      <td>1.000000</td>\n",
       "    </tr>\n",
       "  </tbody>\n",
       "</table>\n",
       "</div>"
      ],
      "text/plain": [
       "           pregnant    plasma  pressure  thickness   insulin       bmi  \\\n",
       "pregnant   1.000000  0.129459  0.141282  -0.081672 -0.073535  0.017683   \n",
       "plasma     0.129459  1.000000  0.152590   0.057328  0.331357  0.221071   \n",
       "pressure   0.141282  0.152590  1.000000   0.207371  0.088933  0.281805   \n",
       "thickness -0.081672  0.057328  0.207371   1.000000  0.436783  0.392573   \n",
       "insulin   -0.073535  0.331357  0.088933   0.436783  1.000000  0.197859   \n",
       "bmi        0.017683  0.221071  0.281805   0.392573  0.197859  1.000000   \n",
       "pedigree  -0.033523  0.137337  0.041265   0.183928  0.185071  0.140647   \n",
       "age        0.544341  0.263514  0.239528  -0.113970 -0.042163  0.036242   \n",
       "diabetes   0.221898  0.466581  0.065068   0.074752  0.130548  0.292695   \n",
       "\n",
       "           pedigree       age  diabetes  \n",
       "pregnant  -0.033523  0.544341  0.221898  \n",
       "plasma     0.137337  0.263514  0.466581  \n",
       "pressure   0.041265  0.239528  0.065068  \n",
       "thickness  0.183928 -0.113970  0.074752  \n",
       "insulin    0.185071 -0.042163  0.130548  \n",
       "bmi        0.140647  0.036242  0.292695  \n",
       "pedigree   1.000000  0.033561  0.173844  \n",
       "age        0.033561  1.000000  0.238356  \n",
       "diabetes   0.173844  0.238356  1.000000  "
      ]
     },
     "execution_count": 6,
     "metadata": {},
     "output_type": "execute_result"
    }
   ],
   "source": [
    "#상관관계 분석\n",
    "df.corr()"
   ]
  },
  {
   "cell_type": "code",
   "execution_count": 7,
   "metadata": {},
   "outputs": [
    {
     "data": {
      "image/png": "[encoded data removed]",
      "text/plain": [
       "<Figure size 1200x1200 with 2 Axes>"
      ]
     },
     "metadata": {},
     "output_type": "display_data"
    }
   ],
   "source": [
    "#상관관계를 더 보기쉽게 히트맵으로\n",
    "color_map = plt.cm.gist_heat\n",
    "plt.figure(figsize=(12,12))\n",
    "\n",
    "sns.heatmap(df.corr(), linewidths=0.1, vmax=0.5, cmap=color_map, linecolor='white', annot=True)\n",
    "plt.show()"
   ]
  },
  {
   "cell_type": "markdown",
   "metadata": {},
   "source": [
    "### 데이터 추출하기"
   ]
  },
  {
   "cell_type": "code",
   "execution_count": 12,
   "metadata": {},
   "outputs": [
    {
     "data": {
      "text/plain": [
       "<matplotlib.legend.Legend at 0x29f7ef5d8d0>"
      ]
     },
     "execution_count": 12,
     "metadata": {},
     "output_type": "execute_result"
    },
    {
     "data": {
      "image/png": "[encoded data removed]",
      "text/plain": [
       "<Figure size 640x480 with 1 Axes>"
      ]
     },
     "metadata": {},
     "output_type": "display_data"
    }
   ],
   "source": [
    "#plasma를 기준으로 정상과 당뇨의 분포비율 확인\n",
    "plt.hist(x=[df.plasma[df.diabetes == 0], df.plasma[df.diabetes==1]], bins=30, histtype='barstacked', label=['normal','diabetes'])\n",
    "plt.title('Based on plasma')\n",
    "plt.legend()"
   ]
  },
  {
   "cell_type": "code",
   "execution_count": 11,
   "metadata": {},
   "outputs": [
    {
     "data": {
      "text/plain": [
       "<matplotlib.legend.Legend at 0x29f7ee47bb0>"
      ]
     },
     "execution_count": 11,
     "metadata": {},
     "output_type": "execute_result"
    },
    {
     "data": {
      "image/png": "[encoded data removed]",
      "text/plain": [
       "<Figure size 640x480 with 1 Axes>"
      ]
     },
     "metadata": {},
     "output_type": "display_data"
    }
   ],
   "source": [
    "# BMI를 기준으로 정상과 당뇨의 분포 비율 확인\n",
    "plt.hist(x=[df.bmi[df.diabetes==0], df.bmi[df.diabetes==1]], bins=30, histtype='barstacked', label=['normal','diabetes'])\n",
    "plt.title('Based on BMI')\n",
    "plt.legend()"
   ]
  },
  {
   "cell_type": "markdown",
   "metadata": {},
   "source": [
    "### 당뇨병 예측 실행"
   ]
  },
  {
   "cell_type": "code",
   "execution_count": null,
   "metadata": {},
   "outputs": [],
   "source": [
    "from tensorflow.keras.models import Sequential\n",
    "from tensorflow.keras.layers import Dense\n",
    "\n",
    "#데이터셋 불러오기(나중에 예측만 할때는 주석 해제 후 사용)\n",
    "#import pandas as pd\n",
    "#df = pd.read_csv('./data_set/pima-indians-diabetes3.csv')\n",
    "\n",
    "#타겟하는 diabetes가 가장 마지막 열이기떄문에, X는 마지막 열 제외, y는 마지막 열만 할당\n",
    "X = df.iloc[:, : -1]\n",
    "y = df.iloc[:, -1]"
   ]
  },
  {
   "cell_type": "code",
   "execution_count": 19,
   "metadata": {},
   "outputs": [
    {
     "data": {
      "application/vnd.microsoft.datawrangler.viewer.v0+json": {
       "columns": [
        {
         "name": "index",
         "rawType": "int64",
         "type": "integer"
        },
        {
         "name": "pregnant",
         "rawType": "int64",
         "type": "integer"
        },
        {
         "name": "plasma",
         "rawType": "int64",
         "type": "integer"
        },
        {
         "name": "pressure",
         "rawType": "int64",
         "type": "integer"
        },
        {
         "name": "thickness",
         "rawType": "int64",
         "type": "integer"
        },
        {
         "name": "insulin",
         "rawType": "int64",
         "type": "integer"
        },
        {
         "name": "bmi",
         "rawType": "float64",
         "type": "float"
        },
        {
         "name": "pedigree",
         "rawType": "float64",
         "type": "float"
        },
        {
         "name": "age",
         "rawType": "int64",
         "type": "integer"
        }
       ],
       "conversionMethod": "pd.DataFrame",
       "ref": "44014177-198e-427e-9459-90c30dec1d7f",
       "rows": [
        [
         "0",
         "6",
         "148",
         "72",
         "35",
         "0",
         "33.6",
         "0.627",
         "50"
        ],
        [
         "1",
         "1",
         "85",
         "66",
         "29",
         "0",
         "26.6",
         "0.351",
         "31"
        ],
        [
         "2",
         "8",
         "183",
         "64",
         "0",
         "0",
         "23.3",
         "0.672",
         "32"
        ],
        [
         "3",
         "1",
         "89",
         "66",
         "23",
         "94",
         "28.1",
         "0.167",
         "21"
        ],
        [
         "4",
         "0",
         "137",
         "40",
         "35",
         "168",
         "43.1",
         "2.288",
         "33"
        ],
        [
         "5",
         "5",
         "116",
         "74",
         "0",
         "0",
         "25.6",
         "0.201",
         "30"
        ],
        [
         "6",
         "3",
         "78",
         "50",
         "32",
         "88",
         "31.0",
         "0.248",
         "26"
        ],
        [
         "7",
         "10",
         "115",
         "0",
         "0",
         "0",
         "35.3",
         "0.134",
         "29"
        ],
        [
         "8",
         "2",
         "197",
         "70",
         "45",
         "543",
         "30.5",
         "0.158",
         "53"
        ],
        [
         "9",
         "8",
         "125",
         "96",
         "0",
         "0",
         "0.0",
         "0.232",
         "54"
        ],
        [
         "10",
         "4",
         "110",
         "92",
         "0",
         "0",
         "37.6",
         "0.191",
         "30"
        ],
        [
         "11",
         "10",
         "168",
         "74",
         "0",
         "0",
         "38.0",
         "0.537",
         "34"
        ],
        [
         "12",
         "10",
         "139",
         "80",
         "0",
         "0",
         "27.1",
         "1.441",
         "57"
        ],
        [
         "13",
         "1",
         "189",
         "60",
         "23",
         "846",
         "30.1",
         "0.398",
         "59"
        ],
        [
         "14",
         "5",
         "166",
         "72",
         "19",
         "175",
         "25.8",
         "0.587",
         "51"
        ],
        [
         "15",
         "7",
         "100",
         "0",
         "0",
         "0",
         "30.0",
         "0.484",
         "32"
        ],
        [
         "16",
         "0",
         "118",
         "84",
         "47",
         "230",
         "45.8",
         "0.551",
         "31"
        ],
        [
         "17",
         "7",
         "107",
         "74",
         "0",
         "0",
         "29.6",
         "0.254",
         "31"
        ],
        [
         "18",
         "1",
         "103",
         "30",
         "38",
         "83",
         "43.3",
         "0.183",
         "33"
        ],
        [
         "19",
         "1",
         "115",
         "70",
         "30",
         "96",
         "34.6",
         "0.529",
         "32"
        ],
        [
         "20",
         "3",
         "126",
         "88",
         "41",
         "235",
         "39.3",
         "0.704",
         "27"
        ],
        [
         "21",
         "8",
         "99",
         "84",
         "0",
         "0",
         "35.4",
         "0.388",
         "50"
        ],
        [
         "22",
         "7",
         "196",
         "90",
         "0",
         "0",
         "39.8",
         "0.451",
         "41"
        ],
        [
         "23",
         "9",
         "119",
         "80",
         "35",
         "0",
         "29.0",
         "0.263",
         "29"
        ],
        [
         "24",
         "11",
         "143",
         "94",
         "33",
         "146",
         "36.6",
         "0.254",
         "51"
        ],
        [
         "25",
         "10",
         "125",
         "70",
         "26",
         "115",
         "31.1",
         "0.205",
         "41"
        ],
        [
         "26",
         "7",
         "147",
         "76",
         "0",
         "0",
         "39.4",
         "0.257",
         "43"
        ],
        [
         "27",
         "1",
         "97",
         "66",
         "15",
         "140",
         "23.2",
         "0.487",
         "22"
        ],
        [
         "28",
         "13",
         "145",
         "82",
         "19",
         "110",
         "22.2",
         "0.245",
         "57"
        ],
        [
         "29",
         "5",
         "117",
         "92",
         "0",
         "0",
         "34.1",
         "0.337",
         "38"
        ],
        [
         "30",
         "5",
         "109",
         "75",
         "26",
         "0",
         "36.0",
         "0.546",
         "60"
        ],
        [
         "31",
         "3",
         "158",
         "76",
         "36",
         "245",
         "31.6",
         "0.851",
         "28"
        ],
        [
         "32",
         "3",
         "88",
         "58",
         "11",
         "54",
         "24.8",
         "0.267",
         "22"
        ],
        [
         "33",
         "6",
         "92",
         "92",
         "0",
         "0",
         "19.9",
         "0.188",
         "28"
        ],
        [
         "34",
         "10",
         "122",
         "78",
         "31",
         "0",
         "27.6",
         "0.512",
         "45"
        ],
        [
         "35",
         "4",
         "103",
         "60",
         "33",
         "192",
         "24.0",
         "0.966",
         "33"
        ],
        [
         "36",
         "11",
         "138",
         "76",
         "0",
         "0",
         "33.2",
         "0.42",
         "35"
        ],
        [
         "37",
         "9",
         "102",
         "76",
         "37",
         "0",
         "32.9",
         "0.665",
         "46"
        ],
        [
         "38",
         "2",
         "90",
         "68",
         "42",
         "0",
         "38.2",
         "0.503",
         "27"
        ],
        [
         "39",
         "4",
         "111",
         "72",
         "47",
         "207",
         "37.1",
         "1.39",
         "56"
        ],
        [
         "40",
         "3",
         "180",
         "64",
         "25",
         "70",
         "34.0",
         "0.271",
         "26"
        ],
        [
         "41",
         "7",
         "133",
         "84",
         "0",
         "0",
         "40.2",
         "0.696",
         "37"
        ],
        [
         "42",
         "7",
         "106",
         "92",
         "18",
         "0",
         "22.7",
         "0.235",
         "48"
        ],
        [
         "43",
         "9",
         "171",
         "110",
         "24",
         "240",
         "45.4",
         "0.721",
         "54"
        ],
        [
         "44",
         "7",
         "159",
         "64",
         "0",
         "0",
         "27.4",
         "0.294",
         "40"
        ],
        [
         "45",
         "0",
         "180",
         "66",
         "39",
         "0",
         "42.0",
         "1.893",
         "25"
        ],
        [
         "46",
         "1",
         "146",
         "56",
         "0",
         "0",
         "29.7",
         "0.564",
         "29"
        ],
        [
         "47",
         "2",
         "71",
         "70",
         "27",
         "0",
         "28.0",
         "0.586",
         "22"
        ],
        [
         "48",
         "7",
         "103",
         "66",
         "32",
         "0",
         "39.1",
         "0.344",
         "31"
        ],
        [
         "49",
         "7",
         "105",
         "0",
         "0",
         "0",
         "0.0",
         "0.305",
         "24"
        ]
       ],
       "shape": {
        "columns": 8,
        "rows": 768
       }
      },
      "text/html": [
       "<div>\n",
       "<style scoped>\n",
       "    .dataframe tbody tr th:only-of-type {\n",
       "        vertical-align: middle;\n",
       "    }\n",
       "\n",
       "    .dataframe tbody tr th {\n",
       "        vertical-align: top;\n",
       "    }\n",
       "\n",
       "    .dataframe thead th {\n",
       "        text-align: right;\n",
       "    }\n",
       "</style>\n",
       "<table border=\"1\" class=\"dataframe\">\n",
       "  <thead>\n",
       "    <tr style=\"text-align: right;\">\n",
       "      <th></th>\n",
       "      <th>pregnant</th>\n",
       "      <th>plasma</th>\n",
       "      <th>pressure</th>\n",
       "      <th>thickness</th>\n",
       "      <th>insulin</th>\n",
       "      <th>bmi</th>\n",
       "      <th>pedigree</th>\n",
       "      <th>age</th>\n",
       "    </tr>\n",
       "  </thead>\n",
       "  <tbody>\n",
       "    <tr>\n",
       "      <th>0</th>\n",
       "      <td>6</td>\n",
       "      <td>148</td>\n",
       "      <td>72</td>\n",
       "      <td>35</td>\n",
       "      <td>0</td>\n",
       "      <td>33.6</td>\n",
       "      <td>0.627</td>\n",
       "      <td>50</td>\n",
       "    </tr>\n",
       "    <tr>\n",
       "      <th>1</th>\n",
       "      <td>1</td>\n",
       "      <td>85</td>\n",
       "      <td>66</td>\n",
       "      <td>29</td>\n",
       "      <td>0</td>\n",
       "      <td>26.6</td>\n",
       "      <td>0.351</td>\n",
       "      <td>31</td>\n",
       "    </tr>\n",
       "    <tr>\n",
       "      <th>2</th>\n",
       "      <td>8</td>\n",
       "      <td>183</td>\n",
       "      <td>64</td>\n",
       "      <td>0</td>\n",
       "      <td>0</td>\n",
       "      <td>23.3</td>\n",
       "      <td>0.672</td>\n",
       "      <td>32</td>\n",
       "    </tr>\n",
       "    <tr>\n",
       "      <th>3</th>\n",
       "      <td>1</td>\n",
       "      <td>89</td>\n",
       "      <td>66</td>\n",
       "      <td>23</td>\n",
       "      <td>94</td>\n",
       "      <td>28.1</td>\n",
       "      <td>0.167</td>\n",
       "      <td>21</td>\n",
       "    </tr>\n",
       "    <tr>\n",
       "      <th>4</th>\n",
       "      <td>0</td>\n",
       "      <td>137</td>\n",
       "      <td>40</td>\n",
       "      <td>35</td>\n",
       "      <td>168</td>\n",
       "      <td>43.1</td>\n",
       "      <td>2.288</td>\n",
       "      <td>33</td>\n",
       "    </tr>\n",
       "    <tr>\n",
       "      <th>...</th>\n",
       "      <td>...</td>\n",
       "      <td>...</td>\n",
       "      <td>...</td>\n",
       "      <td>...</td>\n",
       "      <td>...</td>\n",
       "      <td>...</td>\n",
       "      <td>...</td>\n",
       "      <td>...</td>\n",
       "    </tr>\n",
       "    <tr>\n",
       "      <th>763</th>\n",
       "      <td>10</td>\n",
       "      <td>101</td>\n",
       "      <td>76</td>\n",
       "      <td>48</td>\n",
       "      <td>180</td>\n",
       "      <td>32.9</td>\n",
       "      <td>0.171</td>\n",
       "      <td>63</td>\n",
       "    </tr>\n",
       "    <tr>\n",
       "      <th>764</th>\n",
       "      <td>2</td>\n",
       "      <td>122</td>\n",
       "      <td>70</td>\n",
       "      <td>27</td>\n",
       "      <td>0</td>\n",
       "      <td>36.8</td>\n",
       "      <td>0.340</td>\n",
       "      <td>27</td>\n",
       "    </tr>\n",
       "    <tr>\n",
       "      <th>765</th>\n",
       "      <td>5</td>\n",
       "      <td>121</td>\n",
       "      <td>72</td>\n",
       "      <td>23</td>\n",
       "      <td>112</td>\n",
       "      <td>26.2</td>\n",
       "      <td>0.245</td>\n",
       "      <td>30</td>\n",
       "    </tr>\n",
       "    <tr>\n",
       "      <th>766</th>\n",
       "      <td>1</td>\n",
       "      <td>126</td>\n",
       "      <td>60</td>\n",
       "      <td>0</td>\n",
       "      <td>0</td>\n",
       "      <td>30.1</td>\n",
       "      <td>0.349</td>\n",
       "      <td>47</td>\n",
       "    </tr>\n",
       "    <tr>\n",
       "      <th>767</th>\n",
       "      <td>1</td>\n",
       "      <td>93</td>\n",
       "      <td>70</td>\n",
       "      <td>31</td>\n",
       "      <td>0</td>\n",
       "      <td>30.4</td>\n",
       "      <td>0.315</td>\n",
       "      <td>23</td>\n",
       "    </tr>\n",
       "  </tbody>\n",
       "</table>\n",
       "<p>768 rows × 8 columns</p>\n",
       "</div>"
      ],
      "text/plain": [
       "     pregnant  plasma  pressure  thickness  insulin   bmi  pedigree  age\n",
       "0           6     148        72         35        0  33.6     0.627   50\n",
       "1           1      85        66         29        0  26.6     0.351   31\n",
       "2           8     183        64          0        0  23.3     0.672   32\n",
       "3           1      89        66         23       94  28.1     0.167   21\n",
       "4           0     137        40         35      168  43.1     2.288   33\n",
       "..        ...     ...       ...        ...      ...   ...       ...  ...\n",
       "763        10     101        76         48      180  32.9     0.171   63\n",
       "764         2     122        70         27        0  36.8     0.340   27\n",
       "765         5     121        72         23      112  26.2     0.245   30\n",
       "766         1     126        60          0        0  30.1     0.349   47\n",
       "767         1      93        70         31        0  30.4     0.315   23\n",
       "\n",
       "[768 rows x 8 columns]"
      ]
     },
     "execution_count": 19,
     "metadata": {},
     "output_type": "execute_result"
    }
   ],
   "source": [
    "X"
   ]
  },
  {
   "cell_type": "code",
   "execution_count": 20,
   "metadata": {},
   "outputs": [
    {
     "data": {
      "text/plain": [
       "0      1\n",
       "1      0\n",
       "2      1\n",
       "3      0\n",
       "4      1\n",
       "      ..\n",
       "763    0\n",
       "764    0\n",
       "765    0\n",
       "766    1\n",
       "767    0\n",
       "Name: diabetes, Length: 768, dtype: int64"
      ]
     },
     "execution_count": 20,
     "metadata": {},
     "output_type": "execute_result"
    }
   ],
   "source": [
    "y"
   ]
  },
  {
   "cell_type": "code",
   "execution_count": null,
   "metadata": {},
   "outputs": [
    {
     "data": {
      "text/plain": [
       "8"
      ]
     },
     "execution_count": 23,
     "metadata": {},
     "output_type": "execute_result"
    }
   ],
   "source": [
    "#input_dim을 알기위해 길이계산\n",
    "#피처의 개수를 input_dim에 넣어줘야한다.\n",
    "len(X.columns)\n"
   ]
  },
  {
   "cell_type": "code",
   "execution_count": 24,
   "metadata": {},
   "outputs": [
    {
     "name": "stdout",
     "output_type": "stream",
     "text": [
      "Model: \"sequential\"\n",
      "_________________________________________________________________\n",
      " Layer (type)                Output Shape              Param #   \n",
      "=================================================================\n",
      " Dense1 (Dense)              (None, 12)                108       \n",
      "                                                                 \n",
      " Dense2 (Dense)              (None, 8)                 104       \n",
      "                                                                 \n",
      " Dense3 (Dense)              (None, 1)                 9         \n",
      "                                                                 \n",
      "=================================================================\n",
      "Total params: 221\n",
      "Trainable params: 221\n",
      "Non-trainable params: 0\n",
      "_________________________________________________________________\n"
     ]
    }
   ],
   "source": [
    "model = Sequential()\n",
    "model.add(Dense(12, input_dim=8, activation='relu', name='Dense1'))\n",
    "#첫번째만 input_dim으로 입력해주면, 나머지 층들은 알아서 내부적으로 계산\n",
    "model.add(Dense(8, activation='relu', name='Dense2'))\n",
    "model.add(Dense(1, activation='sigmoid', name='Dense3'))\n",
    "model.summary()"
   ]
  },
  {
   "cell_type": "code",
   "execution_count": 25,
   "metadata": {},
   "outputs": [
    {
     "name": "stdout",
     "output_type": "stream",
     "text": [
      "Epoch 1/100\n",
      "154/154 [==============================] - 3s 4ms/step - loss: 2.5130 - accuracy: 0.6380\n",
      "Epoch 2/100\n",
      "154/154 [==============================] - 1s 5ms/step - loss: 1.5371 - accuracy: 0.6367\n",
      "Epoch 3/100\n",
      "154/154 [==============================] - 1s 4ms/step - loss: 1.1222 - accuracy: 0.6393\n",
      "Epoch 4/100\n",
      "154/154 [==============================] - 1s 5ms/step - loss: 0.9253 - accuracy: 0.6185\n",
      "Epoch 5/100\n",
      "154/154 [==============================] - 1s 5ms/step - loss: 0.8211 - accuracy: 0.6211\n",
      "Epoch 6/100\n",
      "154/154 [==============================] - 1s 5ms/step - loss: 0.7252 - accuracy: 0.6628\n",
      "Epoch 7/100\n",
      "154/154 [==============================] - 1s 4ms/step - loss: 0.7624 - accuracy: 0.6445\n",
      "Epoch 8/100\n",
      "154/154 [==============================] - 1s 5ms/step - loss: 0.7223 - accuracy: 0.6354\n",
      "Epoch 9/100\n",
      "154/154 [==============================] - 1s 4ms/step - loss: 0.7111 - accuracy: 0.6510\n",
      "Epoch 10/100\n",
      "154/154 [==============================] - 1s 4ms/step - loss: 0.6825 - accuracy: 0.6589\n",
      "Epoch 11/100\n",
      "154/154 [==============================] - 1s 4ms/step - loss: 0.6991 - accuracy: 0.6419\n",
      "Epoch 12/100\n",
      "154/154 [==============================] - 1s 5ms/step - loss: 0.6770 - accuracy: 0.6549\n",
      "Epoch 13/100\n",
      "154/154 [==============================] - 1s 4ms/step - loss: 0.6458 - accuracy: 0.6810\n",
      "Epoch 14/100\n",
      "154/154 [==============================] - 1s 4ms/step - loss: 0.6581 - accuracy: 0.6745\n",
      "Epoch 15/100\n",
      "154/154 [==============================] - 1s 5ms/step - loss: 0.6812 - accuracy: 0.6602\n",
      "Epoch 16/100\n",
      "154/154 [==============================] - 1s 5ms/step - loss: 0.6379 - accuracy: 0.6732\n",
      "Epoch 17/100\n",
      "154/154 [==============================] - 1s 4ms/step - loss: 0.6262 - accuracy: 0.6732\n",
      "Epoch 18/100\n",
      "154/154 [==============================] - 1s 5ms/step - loss: 0.6260 - accuracy: 0.6862\n",
      "Epoch 19/100\n",
      "154/154 [==============================] - 1s 4ms/step - loss: 0.6389 - accuracy: 0.6797\n",
      "Epoch 20/100\n",
      "154/154 [==============================] - 1s 4ms/step - loss: 0.6012 - accuracy: 0.6875\n",
      "Epoch 21/100\n",
      "154/154 [==============================] - 1s 4ms/step - loss: 0.6166 - accuracy: 0.6784\n",
      "Epoch 22/100\n",
      "154/154 [==============================] - 1s 4ms/step - loss: 0.6250 - accuracy: 0.6992\n",
      "Epoch 23/100\n",
      "154/154 [==============================] - 1s 5ms/step - loss: 0.6348 - accuracy: 0.6784\n",
      "Epoch 24/100\n",
      "154/154 [==============================] - 1s 4ms/step - loss: 0.6177 - accuracy: 0.6940\n",
      "Epoch 25/100\n",
      "154/154 [==============================] - 1s 4ms/step - loss: 0.5952 - accuracy: 0.7161\n",
      "Epoch 26/100\n",
      "154/154 [==============================] - 1s 4ms/step - loss: 0.6451 - accuracy: 0.6914\n",
      "Epoch 27/100\n",
      "154/154 [==============================] - 1s 5ms/step - loss: 0.5936 - accuracy: 0.7135\n",
      "Epoch 28/100\n",
      "154/154 [==============================] - 1s 4ms/step - loss: 0.6327 - accuracy: 0.6992\n",
      "Epoch 29/100\n",
      "154/154 [==============================] - 1s 4ms/step - loss: 0.5882 - accuracy: 0.7031\n",
      "Epoch 30/100\n",
      "154/154 [==============================] - 0s 3ms/step - loss: 0.5884 - accuracy: 0.6784\n",
      "Epoch 31/100\n",
      "154/154 [==============================] - 1s 3ms/step - loss: 0.5818 - accuracy: 0.7188\n",
      "Epoch 32/100\n",
      "154/154 [==============================] - 0s 2ms/step - loss: 0.5939 - accuracy: 0.7005\n",
      "Epoch 33/100\n",
      "154/154 [==============================] - 0s 2ms/step - loss: 0.5917 - accuracy: 0.6888\n",
      "Epoch 34/100\n",
      "154/154 [==============================] - 0s 2ms/step - loss: 0.6157 - accuracy: 0.6927\n",
      "Epoch 35/100\n",
      "154/154 [==============================] - 0s 2ms/step - loss: 0.6109 - accuracy: 0.7109\n",
      "Epoch 36/100\n",
      "154/154 [==============================] - 0s 3ms/step - loss: 0.6205 - accuracy: 0.6914\n",
      "Epoch 37/100\n",
      "154/154 [==============================] - 0s 3ms/step - loss: 0.5906 - accuracy: 0.7044\n",
      "Epoch 38/100\n",
      "154/154 [==============================] - 1s 3ms/step - loss: 0.5634 - accuracy: 0.7018\n",
      "Epoch 39/100\n",
      "154/154 [==============================] - 1s 4ms/step - loss: 0.5851 - accuracy: 0.6940\n",
      "Epoch 40/100\n",
      "154/154 [==============================] - 1s 4ms/step - loss: 0.5771 - accuracy: 0.7096\n",
      "Epoch 41/100\n",
      "154/154 [==============================] - 1s 4ms/step - loss: 0.5870 - accuracy: 0.7070\n",
      "Epoch 42/100\n",
      "154/154 [==============================] - 0s 3ms/step - loss: 0.5724 - accuracy: 0.7201\n",
      "Epoch 43/100\n",
      "154/154 [==============================] - 1s 4ms/step - loss: 0.5912 - accuracy: 0.7096\n",
      "Epoch 44/100\n",
      "154/154 [==============================] - 1s 5ms/step - loss: 0.6275 - accuracy: 0.6992\n",
      "Epoch 45/100\n",
      "154/154 [==============================] - 1s 4ms/step - loss: 0.5770 - accuracy: 0.7096\n",
      "Epoch 46/100\n",
      "154/154 [==============================] - 1s 4ms/step - loss: 0.5925 - accuracy: 0.7057\n",
      "Epoch 47/100\n",
      "154/154 [==============================] - 1s 5ms/step - loss: 0.5680 - accuracy: 0.7174\n",
      "Epoch 48/100\n",
      "154/154 [==============================] - 1s 5ms/step - loss: 0.5616 - accuracy: 0.7279\n",
      "Epoch 49/100\n",
      "154/154 [==============================] - 1s 4ms/step - loss: 0.5645 - accuracy: 0.7396\n",
      "Epoch 50/100\n",
      "154/154 [==============================] - 1s 5ms/step - loss: 0.5534 - accuracy: 0.7448\n",
      "Epoch 51/100\n",
      "154/154 [==============================] - 1s 4ms/step - loss: 0.5661 - accuracy: 0.7201\n",
      "Epoch 52/100\n",
      "154/154 [==============================] - 1s 4ms/step - loss: 0.5535 - accuracy: 0.7266\n",
      "Epoch 53/100\n",
      "154/154 [==============================] - 1s 5ms/step - loss: 0.5817 - accuracy: 0.7174\n",
      "Epoch 54/100\n",
      "154/154 [==============================] - 1s 4ms/step - loss: 0.5667 - accuracy: 0.7161\n",
      "Epoch 55/100\n",
      "154/154 [==============================] - 1s 5ms/step - loss: 0.5633 - accuracy: 0.7240\n",
      "Epoch 56/100\n",
      "154/154 [==============================] - 1s 4ms/step - loss: 0.5600 - accuracy: 0.7214\n",
      "Epoch 57/100\n",
      "154/154 [==============================] - 1s 5ms/step - loss: 0.5555 - accuracy: 0.7227\n",
      "Epoch 58/100\n",
      "154/154 [==============================] - 1s 5ms/step - loss: 0.5426 - accuracy: 0.7370\n",
      "Epoch 59/100\n",
      "154/154 [==============================] - 1s 4ms/step - loss: 0.5568 - accuracy: 0.7383\n",
      "Epoch 60/100\n",
      "154/154 [==============================] - 1s 5ms/step - loss: 0.5485 - accuracy: 0.7487\n",
      "Epoch 61/100\n",
      "154/154 [==============================] - 1s 5ms/step - loss: 0.5532 - accuracy: 0.7292\n",
      "Epoch 62/100\n",
      "154/154 [==============================] - 1s 4ms/step - loss: 0.5596 - accuracy: 0.7188\n",
      "Epoch 63/100\n",
      "154/154 [==============================] - 1s 4ms/step - loss: 0.5454 - accuracy: 0.7292\n",
      "Epoch 64/100\n",
      "154/154 [==============================] - 1s 4ms/step - loss: 0.5781 - accuracy: 0.7083\n",
      "Epoch 65/100\n",
      "154/154 [==============================] - 1s 5ms/step - loss: 0.5408 - accuracy: 0.7448\n",
      "Epoch 66/100\n",
      "154/154 [==============================] - 1s 4ms/step - loss: 0.5341 - accuracy: 0.7305\n",
      "Epoch 67/100\n",
      "154/154 [==============================] - 1s 4ms/step - loss: 0.5628 - accuracy: 0.7331\n",
      "Epoch 68/100\n",
      "154/154 [==============================] - 1s 4ms/step - loss: 0.5336 - accuracy: 0.7487\n",
      "Epoch 69/100\n",
      "154/154 [==============================] - 1s 4ms/step - loss: 0.5740 - accuracy: 0.7161\n",
      "Epoch 70/100\n",
      "154/154 [==============================] - 1s 4ms/step - loss: 0.5258 - accuracy: 0.7435\n",
      "Epoch 71/100\n",
      "154/154 [==============================] - 1s 4ms/step - loss: 0.5454 - accuracy: 0.7370\n",
      "Epoch 72/100\n",
      "154/154 [==============================] - 1s 4ms/step - loss: 0.5508 - accuracy: 0.7292\n",
      "Epoch 73/100\n",
      "154/154 [==============================] - 1s 3ms/step - loss: 0.5378 - accuracy: 0.7240\n",
      "Epoch 74/100\n",
      "154/154 [==============================] - 1s 5ms/step - loss: 0.5479 - accuracy: 0.7357\n",
      "Epoch 75/100\n",
      "154/154 [==============================] - 1s 4ms/step - loss: 0.5740 - accuracy: 0.7174\n",
      "Epoch 76/100\n",
      "154/154 [==============================] - 1s 4ms/step - loss: 0.5565 - accuracy: 0.7161\n",
      "Epoch 77/100\n",
      "154/154 [==============================] - 1s 4ms/step - loss: 0.5726 - accuracy: 0.7305\n",
      "Epoch 78/100\n",
      "154/154 [==============================] - 1s 4ms/step - loss: 0.5380 - accuracy: 0.7383\n",
      "Epoch 79/100\n",
      "154/154 [==============================] - 1s 5ms/step - loss: 0.5535 - accuracy: 0.7188\n",
      "Epoch 80/100\n",
      "154/154 [==============================] - 1s 4ms/step - loss: 0.5485 - accuracy: 0.7474\n",
      "Epoch 81/100\n",
      "154/154 [==============================] - 1s 4ms/step - loss: 0.5295 - accuracy: 0.7539\n",
      "Epoch 82/100\n",
      "154/154 [==============================] - 1s 4ms/step - loss: 0.5308 - accuracy: 0.7474\n",
      "Epoch 83/100\n",
      "154/154 [==============================] - 1s 4ms/step - loss: 0.5610 - accuracy: 0.7214\n",
      "Epoch 84/100\n",
      "154/154 [==============================] - 1s 4ms/step - loss: 0.5258 - accuracy: 0.7487\n",
      "Epoch 85/100\n",
      "154/154 [==============================] - 1s 4ms/step - loss: 0.5409 - accuracy: 0.7409\n",
      "Epoch 86/100\n",
      "154/154 [==============================] - 1s 4ms/step - loss: 0.5029 - accuracy: 0.7604\n",
      "Epoch 87/100\n",
      "154/154 [==============================] - 1s 4ms/step - loss: 0.5232 - accuracy: 0.7474\n",
      "Epoch 88/100\n",
      "154/154 [==============================] - 1s 5ms/step - loss: 0.5439 - accuracy: 0.7292\n",
      "Epoch 89/100\n",
      "154/154 [==============================] - 1s 4ms/step - loss: 0.5368 - accuracy: 0.7422\n",
      "Epoch 90/100\n",
      "154/154 [==============================] - 1s 4ms/step - loss: 0.5108 - accuracy: 0.7539\n",
      "Epoch 91/100\n",
      "154/154 [==============================] - 1s 4ms/step - loss: 0.5231 - accuracy: 0.7526\n",
      "Epoch 92/100\n",
      "154/154 [==============================] - 1s 6ms/step - loss: 0.5406 - accuracy: 0.7565\n",
      "Epoch 93/100\n",
      "154/154 [==============================] - 1s 4ms/step - loss: 0.5175 - accuracy: 0.7513\n",
      "Epoch 94/100\n",
      "154/154 [==============================] - 1s 4ms/step - loss: 0.5361 - accuracy: 0.7357\n",
      "Epoch 95/100\n",
      "154/154 [==============================] - 1s 4ms/step - loss: 0.5154 - accuracy: 0.7617\n",
      "Epoch 96/100\n",
      "154/154 [==============================] - 1s 5ms/step - loss: 0.5200 - accuracy: 0.7695\n",
      "Epoch 97/100\n",
      "154/154 [==============================] - 1s 4ms/step - loss: 0.5295 - accuracy: 0.7604\n",
      "Epoch 98/100\n",
      "154/154 [==============================] - 1s 4ms/step - loss: 0.5172 - accuracy: 0.7409\n",
      "Epoch 99/100\n",
      "154/154 [==============================] - 1s 4ms/step - loss: 0.5296 - accuracy: 0.7409\n",
      "Epoch 100/100\n",
      "154/154 [==============================] - 1s 5ms/step - loss: 0.5194 - accuracy: 0.7448\n"
     ]
    }
   ],
   "source": [
    "#모델 컴파일\n",
    "model.compile(loss='binary_crossentropy', optimizer='adam', metrics=['accuracy'])\n",
    "\n",
    "#모델 실행\n",
    "history = model.fit(X, y, epochs=100, batch_size=5)"
   ]
  },
  {
   "cell_type": "code",
   "execution_count": null,
   "metadata": {},
   "outputs": [
    {
     "data": {
      "text/plain": [
       "<matplotlib.legend.Legend at 0x29f0d4daef0>"
      ]
     },
     "execution_count": 29,
     "metadata": {},
     "output_type": "execute_result"
    },
    {
     "data": {
      "image/png": "[encoded data removed]",
      "text/plain": [
       "<Figure size 640x480 with 1 Axes>"
      ]
     },
     "metadata": {},
     "output_type": "display_data"
    }
   ],
   "source": [
    "plt.plot(history.history['loss'])  # 손실 그래프 그리기\n",
    "plt.plot(history.history['accuracy'])  # 정확도 그래프 그리기\n",
    "plt.legend(['accuracy','loss'])"
   ]
  },
  {
   "cell_type": "code",
   "execution_count": 32,
   "metadata": {},
   "outputs": [
    {
     "name": "stdout",
     "output_type": "stream",
     "text": [
      "24/24 [==============================] - 1s 3ms/step - loss: 0.4847 - accuracy: 0.7734\n",
      "\n",
      " loss: 0.4847\n"
     ]
    }
   ],
   "source": [
    "print(\"\\n loss: %.4f\" % (model.evaluate(X, y)[0]))"
   ]
  },
  {
   "cell_type": "code",
   "execution_count": null,
   "metadata": {},
   "outputs": [
    {
     "name": "stdout",
     "output_type": "stream",
     "text": [
      "24/24 [==============================] - 0s 10ms/step - loss: 0.4847 - accuracy: 0.7734\n",
      "\n",
      " Accuracy: 0.7734\n"
     ]
    }
   ],
   "source": [
    "print(\"\\n Accuracy: %.4f\" % (model.evaluate(X, y)[1]))"
   ]
  }
 ],
 "metadata": {
  "kernelspec": {
   "display_name": "conda_env",
   "language": "python",
   "name": "python3"
  },
  "language_info": {
   "codemirror_mode": {
    "name": "ipython",
    "version": 3
   },
   "file_extension": ".py",
   "mimetype": "text/x-python",
   "name": "python",
   "nbconvert_exporter": "python",
   "pygments_lexer": "ipython3",
   "version": "3.10.13"
  }
 },
 "nbformat": 4,
 "nbformat_minor": 2
}
