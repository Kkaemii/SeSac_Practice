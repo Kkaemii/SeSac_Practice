{
 "cells": [
  {
   "cell_type": "code",
   "execution_count": null,
   "metadata": {},
   "outputs": [
    {
     "name": "stdout",
     "output_type": "stream",
     "text": [
      "Defaulting to user installation because normal site-packages is not writeable\n",
      "Collecting pymysql\n",
      "  Downloading PyMySQL-1.1.1-py3-none-any.whl.metadata (4.4 kB)\n",
      "Downloading PyMySQL-1.1.1-py3-none-any.whl (44 kB)\n",
      "Installing collected packages: pymysql\n",
      "Successfully installed pymysql-1.1.1\n"
     ]
    }
   ],
   "source": [
    "#pymysql설치\n",
    "%pip install pymysql"
   ]
  },
  {
   "cell_type": "code",
   "execution_count": null,
   "metadata": {},
   "outputs": [],
   "source": [
    "#모듈 임포트\n",
    "import pymysql\n",
    "\n",
    "#db 연결\n",
    "'''\n",
    "주요 파라미터\n",
    "host : 접속할 mysql server 주소\n",
    "port : 접속할 mysql server 의 포트 번호\n",
    "user : mysql ID\n",
    "passwd : mysql ID의 암호\n",
    "db : 접속할 데이터베이스\n",
    "charset='utf8' : mysql에서 select하여 데이타를 가져올 때 한글이 깨질 수 있으므로 연결 설정에 넣어줌\n",
    "'''\n",
    "db = pymysql.connect(host='localhost', port=3306,user='root',passwd='1234', charset='utf8')"
   ]
  },
  {
   "cell_type": "code",
   "execution_count": null,
   "metadata": {},
   "outputs": [
    {
     "data": {
      "text/plain": [
       "<pymysql.connections.Connection at 0x26b3f2f9040>"
      ]
     },
     "execution_count": 4,
     "metadata": {},
     "output_type": "execute_result"
    }
   ],
   "source": [
    "#접속 완료\n",
    "db\n",
    "#<pymysql.connections.Connection at 0x26b3f2f9040>"
   ]
  },
  {
   "cell_type": "code",
   "execution_count": null,
   "metadata": {},
   "outputs": [],
   "source": [
    "'''\n",
    "MySQL 접속이 성공하면, Connection 객체로부터 cursor() 메서드를 호출하여 Cursor 객체를 가져옴\n",
    "Cursor 객체의 execute() 메서드를 사용하여 SQL 문장을 DB 서버에 전송\n",
    "\n",
    "DB 생성\n",
    "Cursor Object 가져오기: cursor = db.cursor()\n",
    "SQL 실행하기: cursor.execute(SQL)\n",
    "실행 mysql 서버에 확정 반영하기: db.commit()\n",
    "'''"
   ]
  },
  {
   "cell_type": "code",
   "execution_count": null,
   "metadata": {},
   "outputs": [],
   "source": [
    "#커서 가지고 오기\n",
    "cursor = db.cursor()"
   ]
  },
  {
   "cell_type": "code",
   "execution_count": null,
   "metadata": {},
   "outputs": [
    {
     "data": {
      "text/plain": [
       "1"
      ]
     },
     "execution_count": 6,
     "metadata": {},
     "output_type": "execute_result"
    }
   ],
   "source": [
    "sql = 'create database IF NOT EXISTS ecommerce'\n",
    "cursor.execute(sql)\n",
    "#반환값 1은 명령이 수행됐다는것만을 의미, 실제로 새로 생성됐는지에 대한 결과는 알 수 없다.\n",
    "#반환값 0은 예외를 나타내거나, SELECT의 경우 조건에 맞는행이 없어 반환값이 0 이거나, INSERT,UPDATE등의 명령에서\n",
    "#실제로 변경된 값이 없으면 0을 반환하기도 한다."
   ]
  },
  {
   "cell_type": "code",
   "execution_count": null,
   "metadata": {},
   "outputs": [
    {
     "data": {
      "text/plain": [
       "(('ecommerce',),\n",
       " ('employees',),\n",
       " ('information_schema',),\n",
       " ('mysql',),\n",
       " ('performance_schema',),\n",
       " ('sakila',),\n",
       " ('sqldb',),\n",
       " ('sys',),\n",
       " ('world',))"
      ]
     },
     "execution_count": 7,
     "metadata": {},
     "output_type": "execute_result"
    }
   ],
   "source": [
    "sql ='show databases'\n",
    "cursor.execute(sql)\n",
    "result = cursor.fetchall() #결과 행의 수를 확인하는 fetchall메서드\n",
    "result"
   ]
  },
  {
   "cell_type": "code",
   "execution_count": null,
   "metadata": {},
   "outputs": [
    {
     "data": {
      "text/plain": [
       "0"
      ]
     },
     "execution_count": 8,
     "metadata": {},
     "output_type": "execute_result"
    }
   ],
   "source": [
    "sql = 'use ecommerce' #현재 ecommerce데이터베이스를 쓰고있어서 변경이 없기떄문에 0반환\n",
    "cursor.execute(sql)"
   ]
  },
  {
   "cell_type": "code",
   "execution_count": 9,
   "metadata": {},
   "outputs": [
    {
     "data": {
      "text/plain": [
       "(('ecommerce',),)"
      ]
     },
     "execution_count": 9,
     "metadata": {},
     "output_type": "execute_result"
    }
   ],
   "source": [
    "sql = 'select database()'\n",
    "cursor.execute(sql)\n",
    "result = cursor.fetchall()\n",
    "result\n"
   ]
  },
  {
   "cell_type": "code",
   "execution_count": 11,
   "metadata": {},
   "outputs": [
    {
     "data": {
      "text/plain": [
       "0"
      ]
     },
     "execution_count": 11,
     "metadata": {},
     "output_type": "execute_result"
    }
   ],
   "source": [
    "#cursor 는 control structure of database 임 (연결된 객체)\n",
    "sql = \"\"\"\n",
    "\t\tCREATE TABLE IF NOT EXISTS product (\n",
    "\t\tPRODUCT_CODE VARCHAR(20) NOT NULL,\n",
    "\t\tTITLE VARCHAR(200) NOT NULL,\n",
    "\t\tORI_PRICE INT,\n",
    "\t\tDISCOUNT_PRICE INT,\n",
    "\t\tDISCOUNT_PERCENT INT,\n",
    "\t\tDELIVERY VARCHAR(2),\n",
    "\t\tPRIMARY KEY(PRODUCT_CODE)\n",
    "\t\t);\n",
    "\"\"\"\n",
    "\n",
    "cursor.execute(sql)"
   ]
  },
  {
   "cell_type": "code",
   "execution_count": 14,
   "metadata": {},
   "outputs": [
    {
     "data": {
      "text/plain": [
       "(('product',),)"
      ]
     },
     "execution_count": 14,
     "metadata": {},
     "output_type": "execute_result"
    }
   ],
   "source": [
    "sql = 'show tables'\n",
    "cursor.execute(sql)\n",
    "result = cursor.fetchall()\n",
    "result"
   ]
  },
  {
   "cell_type": "code",
   "execution_count": 15,
   "metadata": {},
   "outputs": [],
   "source": [
    "#삽입, 갱신, 삭제 등이 모두 끝났으면 Connection 객체의 commit() 메서드를 사용하여 데이타를 Commi\n",
    "db.close()"
   ]
  },
  {
   "cell_type": "code",
   "execution_count": 16,
   "metadata": {},
   "outputs": [],
   "source": [
    "import pymysql\n",
    "db = pymysql.connect(host='localhost', port=3306,user='root',passwd='1234', charset='utf8')"
   ]
  },
  {
   "cell_type": "code",
   "execution_count": null,
   "metadata": {},
   "outputs": [],
   "source": [
    "#데이터베이스 커서 가지고 오기\n",
    "cursor= db.cursor()"
   ]
  },
  {
   "cell_type": "code",
   "execution_count": null,
   "metadata": {},
   "outputs": [
    {
     "data": {
      "text/plain": [
       "0"
      ]
     },
     "execution_count": 18,
     "metadata": {},
     "output_type": "execute_result"
    }
   ],
   "source": [
    "#데이터베이스 사용 알려주기\n",
    "sql = 'use ecommerce'\n",
    "cursor.execute(sql)\n",
    "\n",
    "\n",
    "#새로운 테이블 만들기\n",
    "sql = '''\n",
    "    CREATE TABLE IF NOT EXISTS product2 (\n",
    "        PRODUCT_CODE VARCHAR(20) NOT NULL,\n",
    "        TITLE VARCHAR(200) NOT NULL,\n",
    "        ORI_PRICE INT,\n",
    "        DISCOUNT_PRICE INT,\n",
    "        DISCOUNT_PERCENT INT,\n",
    "        DELIVERY VARCHAR(2),\n",
    "        PRIMARY KEY(PRODUCT_CODE)\n",
    "    );\n",
    "'''\n",
    "\n",
    "cursor.execute(sql)"
   ]
  },
  {
   "cell_type": "code",
   "execution_count": null,
   "metadata": {},
   "outputs": [],
   "source": [
    "#테이블을 만드는 DDL언어의 경우 거의 autocommit이 적용되어있다.\n",
    "db.commit()\n",
    "\n",
    "#연결 닫기\n",
    "db.close()"
   ]
  },
  {
   "cell_type": "markdown",
   "metadata": {},
   "source": [
    "## 데이터 삽입\n",
    "- Cursor Object 가져오기: cursor = db.cursor()\n",
    "- SQL 실행하기: cursor.execute(SQL)\n",
    "- 실행 mysql 서버에 확정 반영하기: db.commit()"
   ]
  },
  {
   "cell_type": "code",
   "execution_count": null,
   "metadata": {},
   "outputs": [],
   "source": [
    "import pymysql\n",
    "#db 연결하기\n",
    "db = pymysql.connect(host='localhost', port=3306,user='root',passwd='1234', charset='utf8')\n",
    "#커서 가지고오기\n",
    "cursor = db.cursor()"
   ]
  },
  {
   "cell_type": "code",
   "execution_count": null,
   "metadata": {},
   "outputs": [],
   "source": [
    "sql = 'use ecommerce'\n",
    "cursor.execute(sql)\n",
    "\n",
    "for index in range(10):\n",
    "\tproduct_code = 216573150 + index + 1\n",
    "\tsql = \"\"\"INSERT INTO product2 VALUES(\n",
    "\t'\"\"\" + str(product_code)+  \"\"\"', '스위트바니 여름신상5900원~롱원피스티셔츠/긴팔/반팔', 23000, 6900, 70, 'F'); \"\"\"\n",
    "\tprint(sql)\n",
    "\tcursor.execute(sql)"
   ]
  },
  {
   "cell_type": "code",
   "execution_count": null,
   "metadata": {},
   "outputs": [],
   "source": [
    "db.commit()\n",
    "\n",
    "db.close()"
   ]
  },
  {
   "cell_type": "markdown",
   "metadata": {},
   "source": [
    "## 데이터 조회(SELECT)\n",
    " - Cursor Object 가져오기: cursor = db.cursor()\n",
    " - SQL 실행하기: cursor.execute(SQL)\n",
    " - mysql 서버로부터 데이터 가져오기: fetch 메서드 사용\n",
    "\t- fetchall(): Fetch all the rows\n",
    " \t- fetchmany(size=None): Fetch several rows\n",
    " \t- fetchone(): Fetch the next row\n"
   ]
  },
  {
   "cell_type": "code",
   "execution_count": 31,
   "metadata": {},
   "outputs": [],
   "source": [
    "import pymysql\n",
    "#db 연결하기\n",
    "db = pymysql.connect(host='localhost', port=3306,user='root',passwd='1234', charset='utf8')\n",
    "#커서 가지고오기\n",
    "cursor = db.cursor()"
   ]
  },
  {
   "cell_type": "code",
   "execution_count": 37,
   "metadata": {},
   "outputs": [
    {
     "data": {
      "text/plain": [
       "10"
      ]
     },
     "execution_count": 37,
     "metadata": {},
     "output_type": "execute_result"
    }
   ],
   "source": [
    "#db 사용\n",
    "sql = 'use ecommerce'\n",
    "cursor.execute(sql)\n",
    "\n",
    "#prodcut2 테이블 조회\n",
    "sql = 'select * from product2'\n",
    "cursor.execute(sql)\n",
    "#10개 반환"
   ]
  },
  {
   "cell_type": "code",
   "execution_count": 38,
   "metadata": {},
   "outputs": [
    {
     "data": {
      "text/plain": [
       "('216573151', '스위트바니 여름신상5900원~롱원피스티셔츠/긴팔/반팔', 23000, 6900, 70, 'F')"
      ]
     },
     "execution_count": 38,
     "metadata": {},
     "output_type": "execute_result"
    }
   ],
   "source": [
    "result = cursor.fetchone()\n",
    "result"
   ]
  },
  {
   "cell_type": "code",
   "execution_count": 39,
   "metadata": {},
   "outputs": [
    {
     "data": {
      "text/plain": [
       "(('216573152', '스위트바니 여름신상5900원~롱원피스티셔츠/긴팔/반팔', 23000, 6900, 70, 'F'),\n",
       " ('216573153', '스위트바니 여름신상5900원~롱원피스티셔츠/긴팔/반팔', 23000, 6900, 70, 'F'),\n",
       " ('216573154', '스위트바니 여름신상5900원~롱원피스티셔츠/긴팔/반팔', 23000, 6900, 70, 'F'),\n",
       " ('216573155', '스위트바니 여름신상5900원~롱원피스티셔츠/긴팔/반팔', 23000, 6900, 70, 'F'),\n",
       " ('216573156', '스위트바니 여름신상5900원~롱원피스티셔츠/긴팔/반팔', 23000, 6900, 70, 'F'),\n",
       " ('216573157', '스위트바니 여름신상5900원~롱원피스티셔츠/긴팔/반팔', 23000, 6900, 70, 'F'),\n",
       " ('216573158', '스위트바니 여름신상5900원~롱원피스티셔츠/긴팔/반팔', 23000, 6900, 70, 'F'),\n",
       " ('216573159', '스위트바니 여름신상5900원~롱원피스티셔츠/긴팔/반팔', 23000, 6900, 70, 'F'),\n",
       " ('216573160', '스위트바니 여름신상5900원~롱원피스티셔츠/긴팔/반팔', 23000, 6900, 70, 'F'))"
      ]
     },
     "execution_count": 39,
     "metadata": {},
     "output_type": "execute_result"
    }
   ],
   "source": [
    "result = cursor.fetchall()\n",
    "result"
   ]
  },
  {
   "cell_type": "code",
   "execution_count": 40,
   "metadata": {},
   "outputs": [],
   "source": [
    "db.close()"
   ]
  },
  {
   "cell_type": "markdown",
   "metadata": {},
   "source": [
    "## 데이터 수정(UPDATE)\n",
    " - Cursor Object 가져오기: cursor = db.cursor()\n",
    " - SQL 실행하기: cursor.execute(SQL)\n",
    " - 실행 mysql 서버에 확정 반영하기: db.commit()"
   ]
  },
  {
   "cell_type": "code",
   "execution_count": 41,
   "metadata": {},
   "outputs": [],
   "source": [
    "import pymysql\n",
    "#db 연결하기\n",
    "db = pymysql.connect(host='localhost', port=3306,user='root',passwd='1234', charset='utf8')\n",
    "#커서 가지고오기\n",
    "cursor = db.cursor()"
   ]
  },
  {
   "cell_type": "code",
   "execution_count": 42,
   "metadata": {},
   "outputs": [
    {
     "data": {
      "text/plain": [
       "0"
      ]
     },
     "execution_count": 42,
     "metadata": {},
     "output_type": "execute_result"
    }
   ],
   "source": [
    "#사용할 데이터베이스 선택\n",
    "sql = 'use ecommerce'\n",
    "cursor.execute(sql)"
   ]
  },
  {
   "cell_type": "code",
   "execution_count": null,
   "metadata": {},
   "outputs": [],
   "source": [
    "#sql 구문 만들기\n",
    "\n",
    "sql = \"\"\"\n",
    "\t\t\tUPDATE product2 SET \n",
    "\t\t\tTITLE='하늘하늘 원피스 썸머 스페셜 가디건', \n",
    "\t\t\tORI_PRICE=33000, \n",
    "\t\t\tDISCOUNT_PRICE=9900, \n",
    "\t\t\tDISCOUNT_PERCENT=70 \n",
    "\t\t\tWHERE PRODUCT_CODE='216573151';\n",
    "\t\t\t\"\"\"\n",
    "\n",
    "#sql 구문 실행\n",
    "cursor.execute(sql)\n",
    "#커밋하기\n",
    "db.commit()"
   ]
  },
  {
   "cell_type": "code",
   "execution_count": null,
   "metadata": {},
   "outputs": [
    {
     "data": {
      "text/plain": [
       "(('216573151', '하늘하늘 원피스 썸머 스페셜 가디건', 33000, 9900, 70, 'F'),)"
      ]
     },
     "execution_count": 46,
     "metadata": {},
     "output_type": "execute_result"
    }
   ],
   "source": [
    "#업데이트 된거 확인하기\n",
    "#select로 선택, fetchall()로 결과 가지고 오기\n",
    "sql = \"select * from product2 where PRODUCT_CODE = '216573151'\"\n",
    "\n",
    "cursor.execute(sql)\n",
    "result = cursor.fetchall()\n",
    "result"
   ]
  },
  {
   "cell_type": "code",
   "execution_count": null,
   "metadata": {},
   "outputs": [],
   "source": [
    "#작업 완료, 데이터베이스 닫기\n",
    "db.close()"
   ]
  },
  {
   "cell_type": "markdown",
   "metadata": {},
   "source": [
    "## 데이터 삭제(DELETE)\n",
    "- Cursor Object 가져오기: cursor = db.cursor()\n",
    "- SQL 실행하기: cursor.execute(SQL)\n",
    "- 실행 mysql 서버에 확정 반영하기: db.commit()"
   ]
  },
  {
   "cell_type": "code",
   "execution_count": 48,
   "metadata": {},
   "outputs": [],
   "source": [
    "import pymysql\n",
    "#db 연결하기\n",
    "db = pymysql.connect(host='localhost', port=3306,user='root',passwd='1234', charset='utf8')\n",
    "#커서 가지고오기\n",
    "cursor = db.cursor()"
   ]
  },
  {
   "cell_type": "code",
   "execution_count": 51,
   "metadata": {},
   "outputs": [],
   "source": [
    "#데이터 베이스 선택\n",
    "sql = 'use ecommerce'\n",
    "cursor.execute(sql)\n",
    "\n",
    "#삭제 쿼리문 작성\n",
    "sel = \"DELETE FROM product2 where product_code='216573151'\"\n",
    "cursor.execute(sql)\n",
    "\n",
    "db.commit()\n",
    "\n",
    "#삭제 잘 됐는지 select로 결과 값 확인\n",
    "sel = \"select * from product2 wehre product_code='216573151'\"\n",
    "cursor.execute(sql)\n",
    "result = cursor.fetchall()\n",
    "result # [] 삭제되서 빈 리스트 반환\n",
    "\n",
    "db.commit()\n",
    "db.close()\n"
   ]
  }
 ],
 "metadata": {
  "kernelspec": {
   "display_name": "base",
   "language": "python",
   "name": "python3"
  },
  "language_info": {
   "codemirror_mode": {
    "name": "ipython",
    "version": 3
   },
   "file_extension": ".py",
   "mimetype": "text/x-python",
   "name": "python",
   "nbconvert_exporter": "python",
   "pygments_lexer": "ipython3",
   "version": "3.12.7"
  }
 },
 "nbformat": 4,
 "nbformat_minor": 2
}
