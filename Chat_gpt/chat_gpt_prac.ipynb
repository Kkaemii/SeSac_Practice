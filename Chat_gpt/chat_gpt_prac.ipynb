{
 "cells": [
  {
   "cell_type": "code",
   "execution_count": null,
   "metadata": {},
   "outputs": [
    {
     "name": "stdout",
     "output_type": "stream",
     "text": [
      "23\n"
     ]
    }
   ],
   "source": [
    "import tiktoken\n",
    "\n",
    "text = \"it's easy to make something cool with LLMs but very hard to make something porduction-ready with them.\"\n",
    "encoding = tiktoken.encoding_for_model(\"gpt-4o\")\n",
    "tokens = encoding.encode(text)\n",
    "print(len(tokens))"
   ]
  },
  {
   "cell_type": "code",
   "execution_count": null,
   "metadata": {},
   "outputs": [
    {
     "name": "stdout",
     "output_type": "stream",
     "text": [
      "28\n"
     ]
    }
   ],
   "source": [
    "text = \"LLM을 사용해서 멋져 보이는 것을 만들기는 쉽지만, 프로덕션 수준으로 만들어 내기는 매우 어렵다.\"\n",
    "\n",
    "encoding = tiktoken.encoding_for_model(\"gpt-4o\")\n",
    "tokens = encoding.encode(text)\n",
    "print(len(tokens))"
   ]
  },
  {
   "cell_type": "code",
   "execution_count": null,
   "metadata": {},
   "outputs": [],
   "source": [
    "from dotenv import load_dotenv\n",
    "import os\n",
    "\n",
    "load_dotenv()\n",
    "\n",
    "api_key = os.getenv(\"OPENAI_API_KEY\")\n",
    "os.environ[\"OPENAI_API_KEY\"] = api_key"
   ]
  },
  {
   "cell_type": "code",
   "execution_count": null,
   "metadata": {},
   "outputs": [
    {
     "name": "stdout",
     "output_type": "stream",
     "text": [
      "{\n",
      "  \"id\": \"chatcmpl-BD7luBHfaVbTjywJfC2ozq7DDDWTw\",\n",
      "  \"choices\": [\n",
      "    {\n",
      "      \"finish_reason\": \"stop\",\n",
      "      \"index\": 0,\n",
      "      \"logprobs\": null,\n",
      "      \"message\": {\n",
      "        \"content\": \"Hello, Minho! How can I assist you today?\",\n",
      "        \"refusal\": null,\n",
      "        \"role\": \"assistant\",\n",
      "        \"annotations\": [],\n",
      "        \"audio\": null,\n",
      "        \"function_call\": null,\n",
      "        \"tool_calls\": null\n",
      "      }\n",
      "    }\n",
      "  ],\n",
      "  \"created\": 1742467838,\n",
      "  \"model\": \"gpt-4o-2024-08-06\",\n",
      "  \"object\": \"chat.completion\",\n",
      "  \"service_tier\": \"default\",\n",
      "  \"system_fingerprint\": \"fp_6ec83003ad\",\n",
      "  \"usage\": {\n",
      "    \"completion_tokens\": 13,\n",
      "    \"prompt_tokens\": 23,\n",
      "    \"total_tokens\": 36,\n",
      "    \"completion_tokens_details\": {\n",
      "      \"accepted_prediction_tokens\": 0,\n",
      "      \"audio_tokens\": 0,\n",
      "      \"reasoning_tokens\": 0,\n",
      "      \"rejected_prediction_tokens\": 0\n",
      "    },\n",
      "    \"prompt_tokens_details\": {\n",
      "      \"audio_tokens\": 0,\n",
      "      \"cached_tokens\": 0\n",
      "    }\n",
      "  }\n",
      "}\n"
     ]
    }
   ],
   "source": [
    "from openai import OpenAI\n",
    "\n",
    "client = OpenAI()\n",
    "\n",
    "response = client.chat.completions.create(\n",
    "    model=\"gpt-4o\",\n",
    "    messages=[\n",
    "        {\"role\": \"system\", \"content\": \"you are a helpful assistant.\"},\n",
    "        {\"role\": \"user\", \"content\": \"Hello! i'm Minho.\"},\n",
    "    ],\n",
    ")\n",
    "\n",
    "print(response.model_dump_json(indent=2))"
   ]
  },
  {
   "cell_type": "code",
   "execution_count": null,
   "metadata": {},
   "outputs": [
    {
     "name": "stdout",
     "output_type": "stream",
     "text": [
      "{\n",
      "  \"id\": \"chatcmpl-BD7mOJcqWKm2xHnwUxQbhBBbFhkxP\",\n",
      "  \"choices\": [\n",
      "    {\n",
      "      \"finish_reason\": \"stop\",\n",
      "      \"index\": 0,\n",
      "      \"logprobs\": null,\n",
      "      \"message\": {\n",
      "        \"content\": \"I know your name because you mentioned it in your introduction. You said, \\\"Hello, I'm Minho.\\\" How can I help you further?\",\n",
      "        \"refusal\": null,\n",
      "        \"role\": \"assistant\",\n",
      "        \"annotations\": [],\n",
      "        \"audio\": null,\n",
      "        \"function_call\": null,\n",
      "        \"tool_calls\": null\n",
      "      }\n",
      "    }\n",
      "  ],\n",
      "  \"created\": 1742467868,\n",
      "  \"model\": \"gpt-4o-2024-08-06\",\n",
      "  \"object\": \"chat.completion\",\n",
      "  \"service_tier\": \"default\",\n",
      "  \"system_fingerprint\": \"fp_6ec83003ad\",\n",
      "  \"usage\": {\n",
      "    \"completion_tokens\": 30,\n",
      "    \"prompt_tokens\": 46,\n",
      "    \"total_tokens\": 76,\n",
      "    \"completion_tokens_details\": {\n",
      "      \"accepted_prediction_tokens\": 0,\n",
      "      \"audio_tokens\": 0,\n",
      "      \"reasoning_tokens\": 0,\n",
      "      \"rejected_prediction_tokens\": 0\n",
      "    },\n",
      "    \"prompt_tokens_details\": {\n",
      "      \"audio_tokens\": 0,\n",
      "      \"cached_tokens\": 0\n",
      "    }\n",
      "  }\n",
      "}\n"
     ]
    }
   ],
   "source": [
    "response = client.chat.completions.create(\n",
    "    model=\"gpt-4o\",\n",
    "    messages=[\n",
    "        {\"role\": \"system\", \"content\": \"you are a helpful assistant\"},\n",
    "        {\"role\": \"user\", \"content\": \"Hello, I'm Minho\"},\n",
    "        {\"role\": \"assistant\", \"content\": \"Hello Minho! How can I assist you today?\"},\n",
    "        {\"role\": \"user\", \"content\": \"DO you know my name?\"},\n",
    "    ],\n",
    ")\n",
    "\n",
    "print(response.model_dump_json(indent=2))"
   ]
  },
  {
   "cell_type": "code",
   "execution_count": null,
   "metadata": {},
   "outputs": [
    {
     "name": "stdout",
     "output_type": "stream",
     "text": [
      "Aye, matey! Let me wrangle these questions for ye like a true sea dog!\n",
      "\n",
      "First off, about the JavaScript and semicolons: Aye, ye can often sail the seas of JavaScript without semicolons, but beware! Sometimes it can lead to treacherous waters if ye ain't careful with syntax. Best to use 'em when needed to avoid any foul errors.\n",
      "\n",
      "Now, let's translate that to Korean for ye, savvy?\n",
      "자바스크립트에서 세미콜론은 선택적이긴 하지만, 안 쓰면 때때로 문제가 생길 수 있소. 문법 문제를 피하기 위해 필요한 경우에는 사용하는 것이 좋소.\n",
      "\n",
      "As for whether ye be using tokens when translating from English to Korean, the equivalent work in tokens be indeed higher. While it depends on the longer words and phrases that may weigh it all down like barnacles on the hull, ye likely tap into more tokens for translated text, aye.\n",
      "\n",
      "And fer yer second request translated:\n",
      "영어에서 한국어로 번역할 때 토큰을 두 번 사용하는지에 대한 질문이라면, 번역된 텍스트에 더 많은 토큰이 필요할 가능성이 크다는 것을 아실 것이오.\n",
      "\n",
      "If there's more ye need, just give a holler! Arr! 알겠소?\n"
     ]
    }
   ],
   "source": [
    "from openai import OpenAI\n",
    "\n",
    "\n",
    "client = OpenAI()\n",
    "\n",
    "\n",
    "completion = client.chat.completions.create(\n",
    "    model=\"gpt-4o\",\n",
    "    messages=[\n",
    "        {\"role\": \"developer\", \"content\": \"Talk like a pirate.\"},\n",
    "        {\n",
    "            \"role\": \"user\",\n",
    "            \"content\": \"Are semicolons optional in JavaScript? and translate in Korean\",\n",
    "        },\n",
    "        {\n",
    "            \"role\": \"user\",\n",
    "            \"content\": \"do i use two times tokens when i useing translation English to Korean?\",\n",
    "        },\n",
    "        {\n",
    "            \"role\": \"user\",\n",
    "            \"content\": \"omg evey answers tanslate in Korean from now and so on, translate in Korean your previous answer too but don't forget your role, pirate\",\n",
    "        },\n",
    "    ],\n",
    ")\n",
    "\n",
    "\n",
    "print(completion.choices[0].message.content)"
   ]
  },
  {
   "cell_type": "markdown",
   "metadata": {},
   "source": [
    "### 응답을 스트리밍으로 받기"
   ]
  },
  {
   "cell_type": "code",
   "execution_count": null,
   "metadata": {},
   "outputs": [
    {
     "name": "stdout",
     "output_type": "stream",
     "text": [
      "Sure, here's \"double bubble bath\" repeated 50 times for you:\n",
      "\n",
      "1. Double bubble bath  \n",
      "2. Double bubble bath  \n",
      "3. Double bubble bath  \n",
      "4. Double bubble bath  \n",
      "5. Double bubble bath  \n",
      "6. Double bubble bath  \n",
      "7. Double bubble bath  \n",
      "8. Double bubble bath  \n",
      "9. Double bubble bath  \n",
      "10. Double bubble bath  \n",
      "11. Double bubble bath  \n",
      "12. Double bubble bath  \n",
      "13. Double bubble bath  \n",
      "14. Double bubble bath  \n",
      "15. Double bubble bath  \n",
      "16. Double bubble bath  \n",
      "17. Double bubble bath  \n",
      "18. Double bubble bath  \n",
      "19. Double bubble bath  \n",
      "20. Double bubble bath  \n",
      "21. Double bubble bath  \n",
      "22. Double bubble bath  \n",
      "23. Double bubble bath  \n",
      "24. Double bubble bath  \n",
      "25. Double bubble bath  \n",
      "26. Double bubble bath  \n",
      "27. Double bubble bath  \n",
      "28. Double bubble bath  \n",
      "29. Double bubble bath  \n",
      "30. Double bubble bath  \n",
      "31. Double bubble bath  \n",
      "32. Double bubble bath  \n",
      "33. Double bubble bath  \n",
      "34. Double bubble bath  \n",
      "35. Double bubble bath  \n",
      "36. Double bubble bath  \n",
      "37. Double bubble bath  \n",
      "38. Double bubble bath  \n",
      "39. Double bubble bath  \n",
      "40. Double bubble bath  \n",
      "41. Double bubble bath  \n",
      "42. Double bubble bath  \n",
      "43. Double bubble bath  \n",
      "44. Double bubble bath  \n",
      "45. Double bubble bath  \n",
      "46. Double bubble bath  \n",
      "47. Double bubble bath  \n",
      "48. Double bubble bath  \n",
      "49. Double bubble bath  \n",
      "50. Double bubble bath\n",
      "\n",
      "Let me know if there's anything else you need!"
     ]
    }
   ],
   "source": [
    "response = client.chat.completions.create(\n",
    "    model=\"gpt-4o\",\n",
    "    messages=[\n",
    "        {\"role\": \"system\", \"content\": \"you are a helpful assistant.\"},\n",
    "        {\"role\": \"user\", \"content\": \"can you say double bubble bath 50times?\"},\n",
    "    ],\n",
    "    stream=True,\n",
    ")\n",
    "\n",
    "# for chunk in response:\n",
    "#   choice = chunk.choices[0]\n",
    "#   if choice.finish_reason is None:\n",
    "#     print(choice.delta.content, end=\"\")\n",
    "\n",
    "for chunk in response:\n",
    "    choice = chunk.choices[0].delta.content\n",
    "    if choice is not None:\n",
    "        print(choice, end=\"\")"
   ]
  },
  {
   "cell_type": "code",
   "execution_count": null,
   "metadata": {},
   "outputs": [
    {
     "name": "stdout",
     "output_type": "stream",
     "text": [
      "{\n",
      "  \"id\": \"cmpl-BD3gcHiFhJGB6WrUhw9oaqWc0eDg1\",\n",
      "  \"choices\": [\n",
      "    {\n",
      "      \"finish_reason\": \"length\",\n",
      "      \"index\": 0,\n",
      "      \"logprobs\": null,\n",
      "      \"text\": \"\\n\\nNice to meet you, Minho! My name is AI. I am\"\n",
      "    }\n",
      "  ],\n",
      "  \"created\": 1742452134,\n",
      "  \"model\": \"gpt-3.5-turbo-instruct:20230824-v2\",\n",
      "  \"object\": \"text_completion\",\n",
      "  \"system_fingerprint\": null,\n",
      "  \"usage\": {\n",
      "    \"completion_tokens\": 16,\n",
      "    \"prompt_tokens\": 12,\n",
      "    \"total_tokens\": 28,\n",
      "    \"completion_tokens_details\": null,\n",
      "    \"prompt_tokens_details\": null\n",
      "  }\n",
      "}\n"
     ]
    }
   ],
   "source": [
    "from openai import OpenAI\n",
    "\n",
    "client = OpenAI()\n",
    "\n",
    "response = client.completions.create(\n",
    "    model=\"gpt-3.5-turbo-instruct\", prompt=\"Hello, i'm Minho, what's your's?\"\n",
    ")\n",
    "\n",
    "print(response.model_dump_json(indent=2))"
   ]
  },
  {
   "cell_type": "code",
   "execution_count": null,
   "metadata": {},
   "outputs": [
    {
     "name": "stdout",
     "output_type": "stream",
     "text": [
      "{\n",
      "  \"id\": \"cmpl-BD3jNHaeZ26h5Em2Yr3DPdL848dHF\",\n",
      "  \"choices\": [\n",
      "    {\n",
      "      \"finish_reason\": \"stop\",\n",
      "      \"index\": 0,\n",
      "      \"logprobs\": null,\n",
      "      \"text\": \"Yes, you introduced yourself as Minho.\"\n",
      "    }\n",
      "  ],\n",
      "  \"created\": 1742452305,\n",
      "  \"model\": \"gpt-3.5-turbo-instruct:20230824-v2\",\n",
      "  \"object\": \"text_completion\",\n",
      "  \"system_fingerprint\": null,\n",
      "  \"usage\": {\n",
      "    \"completion_tokens\": 9,\n",
      "    \"prompt_tokens\": 40,\n",
      "    \"total_tokens\": 49,\n",
      "    \"completion_tokens_details\": null,\n",
      "    \"prompt_tokens_details\": null\n",
      "  }\n",
      "}\n"
     ]
    }
   ],
   "source": [
    "prompt = \"\"\"\n",
    "        human : hello, I'm Minho,\n",
    "        AI : Nice to meet you, Minho! My name is AI.\n",
    "        human : DO you know my name?\n",
    "        AI : \n",
    "\"\"\"\n",
    "\n",
    "response = client.completions.create(model=\"gpt-3.5-turbo-instruct\", prompt=prompt)\n",
    "\n",
    "print(response.model_dump_json(indent=2))"
   ]
  },
  {
   "cell_type": "markdown",
   "metadata": {},
   "source": [
    "### fucntion Calling"
   ]
  },
  {
   "cell_type": "code",
   "execution_count": null,
   "metadata": {},
   "outputs": [],
   "source": [
    "import json\n",
    "\n",
    "\n",
    "def get_current_weather(location, unit=\"celsius\"):\n",
    "    weather_info = {\n",
    "        \"location\": location,\n",
    "        \"temperature\": \"25\",\n",
    "        \"unit\": \"celsius\",\n",
    "        \"forecate\": [\"sunny\", \"windy\"],\n",
    "    }\n",
    "    return json.dumps(weather_info)"
   ]
  },
  {
   "cell_type": "code",
   "execution_count": null,
   "metadata": {},
   "outputs": [],
   "source": [
    "functions = [\n",
    "    {\n",
    "        \"name\": \"get_current_weather\",\n",
    "        \"description\": \"Get the current weather in a given location\",\n",
    "        \"parameters\": {\n",
    "            \"type\": \"object\",\n",
    "            \"properties\": {\n",
    "                \"location\": {\n",
    "                    \"type\": \"string\",\n",
    "                    \"description\": \"The city and state, e.g. Seoul\",\n",
    "                },\n",
    "                \"unit\": {\"type\": \"string\", \"enum\": [\"celsius, fahrenhite\"]},\n",
    "            },\n",
    "            \"required\": [\"location\"],\n",
    "        },\n",
    "    }\n",
    "]"
   ]
  },
  {
   "cell_type": "code",
   "execution_count": null,
   "metadata": {},
   "outputs": [
    {
     "name": "stdout",
     "output_type": "stream",
     "text": [
      "{\n",
      "  \"id\": \"chatcmpl-BD3uhYnpiaWLzFKqCulMWqCPG1N2A\",\n",
      "  \"choices\": [\n",
      "    {\n",
      "      \"finish_reason\": \"function_call\",\n",
      "      \"index\": 0,\n",
      "      \"logprobs\": null,\n",
      "      \"message\": {\n",
      "        \"content\": null,\n",
      "        \"refusal\": null,\n",
      "        \"role\": \"assistant\",\n",
      "        \"audio\": null,\n",
      "        \"function_call\": {\n",
      "          \"arguments\": \"{\\\"location\\\":\\\"Seoul\\\",\\\"unit\\\":\\\"celsius\\\"}\",\n",
      "          \"name\": \"get_current_weather\"\n",
      "        },\n",
      "        \"tool_calls\": null,\n",
      "        \"annotations\": []\n",
      "      }\n",
      "    }\n",
      "  ],\n",
      "  \"created\": 1742453007,\n",
      "  \"model\": \"gpt-4o-2024-08-06\",\n",
      "  \"object\": \"chat.completion\",\n",
      "  \"service_tier\": \"default\",\n",
      "  \"system_fingerprint\": \"fp_6ec83003ad\",\n",
      "  \"usage\": {\n",
      "    \"completion_tokens\": 22,\n",
      "    \"prompt_tokens\": 75,\n",
      "    \"total_tokens\": 97,\n",
      "    \"completion_tokens_details\": {\n",
      "      \"accepted_prediction_tokens\": 0,\n",
      "      \"audio_tokens\": 0,\n",
      "      \"reasoning_tokens\": 0,\n",
      "      \"rejected_prediction_tokens\": 0\n",
      "    },\n",
      "    \"prompt_tokens_details\": {\n",
      "      \"audio_tokens\": 0,\n",
      "      \"cached_tokens\": 0\n",
      "    }\n",
      "  }\n",
      "}\n"
     ]
    }
   ],
   "source": [
    "messages = [{\"role\": \"user\", \"content\": \"What's the weather like in Seoul?\"}]\n",
    "\n",
    "response = client.chat.completions.create(\n",
    "    model=\"gpt-4o\", messages=messages, functions=functions\n",
    ")\n",
    "\n",
    "print(response.model_dump_json(indent=2))"
   ]
  },
  {
   "cell_type": "code",
   "execution_count": null,
   "metadata": {},
   "outputs": [
    {
     "name": "stdout",
     "output_type": "stream",
     "text": [
      "{\"location\": \"Seoul\", \"temperature\": \"25\", \"unit\": \"celsius\", \"forecate\": [\"sunny\", \"windy\"]}\n"
     ]
    }
   ],
   "source": [
    "response_message = response.choices[0].message\n",
    "\n",
    "available_functions = {\n",
    "    \"get_current_weather\": get_current_weather,\n",
    "}\n",
    "\n",
    "function_name = response_message.function_call.name\n",
    "function_to_call = available_functions[function_name]\n",
    "function_args = json.loads(response_message.function_call.arguments)\n",
    "\n",
    "function_response = function_to_call(\n",
    "    location=function_args.get(\"location\"), unit=function_args.get(\"unit\")\n",
    ")\n",
    "\n",
    "print(function_response)"
   ]
  },
  {
   "cell_type": "code",
   "execution_count": null,
   "metadata": {},
   "outputs": [],
   "source": [
    "messages.append(response_message)\n",
    "messages.append(\n",
    "    {\"role\": \"function\", \"name\": function_name, \"content\": function_response}\n",
    ")"
   ]
  },
  {
   "cell_type": "code",
   "execution_count": 48,
   "metadata": {},
   "outputs": [
    {
     "name": "stdout",
     "output_type": "stream",
     "text": [
      "[{'role': 'user', 'content': \"What's the weather like in Seoul?\"}, ChatCompletionMessage(content=None, refusal=None, role='assistant', audio=None, function_call=FunctionCall(arguments='{\"location\":\"Seoul\",\"unit\":\"celsius\"}', name='get_current_weather'), tool_calls=None, annotations=[]), {'role': 'function', 'name': 'get_current_weather', 'content': '{\"location\": \"Seoul\", \"temperature\": \"25\", \"unit\": \"celsius\", \"forecate\": [\"sunny\", \"windy\"]}'}]\n"
     ]
    }
   ],
   "source": [
    "print(messages)"
   ]
  },
  {
   "cell_type": "code",
   "execution_count": null,
   "metadata": {},
   "outputs": [
    {
     "name": "stdout",
     "output_type": "stream",
     "text": [
      "{\n",
      "  \"id\": \"chatcmpl-BD409SsD0cU5yYqoEXCfGGdTbgejc\",\n",
      "  \"choices\": [\n",
      "    {\n",
      "      \"finish_reason\": \"stop\",\n",
      "      \"index\": 0,\n",
      "      \"logprobs\": null,\n",
      "      \"message\": {\n",
      "        \"content\": \"The weather in Seoul is currently 25°C, with sunny and windy conditions.\",\n",
      "        \"refusal\": null,\n",
      "        \"role\": \"assistant\",\n",
      "        \"audio\": null,\n",
      "        \"function_call\": null,\n",
      "        \"tool_calls\": null,\n",
      "        \"annotations\": []\n",
      "      }\n",
      "    }\n",
      "  ],\n",
      "  \"created\": 1742453345,\n",
      "  \"model\": \"gpt-4o-2024-08-06\",\n",
      "  \"object\": \"chat.completion\",\n",
      "  \"service_tier\": \"default\",\n",
      "  \"system_fingerprint\": \"fp_90d33c15d4\",\n",
      "  \"usage\": {\n",
      "    \"completion_tokens\": 17,\n",
      "    \"prompt_tokens\": 77,\n",
      "    \"total_tokens\": 94,\n",
      "    \"completion_tokens_details\": {\n",
      "      \"accepted_prediction_tokens\": 0,\n",
      "      \"audio_tokens\": 0,\n",
      "      \"reasoning_tokens\": 0,\n",
      "      \"rejected_prediction_tokens\": 0\n",
      "    },\n",
      "    \"prompt_tokens_details\": {\n",
      "      \"audio_tokens\": 0,\n",
      "      \"cached_tokens\": 0\n",
      "    }\n",
      "  }\n",
      "}\n"
     ]
    }
   ],
   "source": [
    "second_response = client.chat.completions.create(model=\"gpt-4o\", messages=messages)\n",
    "\n",
    "print(second_response.model_dump_json(indent=2))"
   ]
  },
  {
   "cell_type": "code",
   "execution_count": null,
   "metadata": {},
   "outputs": [],
   "source": [
    "import openai\n",
    "from dotenv import load_dotenv\n",
    "import os\n",
    "\n",
    "load_dotenv()\n",
    "gpt_key = os.getenv(\"OPENAI_API_KEY\")\n",
    "\n",
    "\n",
    "openai.api_key = gpt_key"
   ]
  },
  {
   "cell_type": "code",
   "execution_count": 20,
   "metadata": {},
   "outputs": [
    {
     "name": "stdout",
     "output_type": "stream",
     "text": [
      "2020년 월드 시리즈에서는 로스앤젤레스 다저스가 우승을 차지했습니다. 다저스는 탬파베이 레이스를 상대로 시리즈를 4승 2패로 마무리하며 월드 시리즈 챔피언이 되었습니다.\n"
     ]
    }
   ],
   "source": [
    "response = client.chat.completions.create(\n",
    "    model=\"gpt-4o\",\n",
    "    messages=[{\"role\": \"user\", \"content\": \"2020년 월드 시리즈에서는 누가 우승했어?\"}],\n",
    ")\n",
    "\n",
    "print(response.choices[0].message.content)"
   ]
  },
  {
   "cell_type": "code",
   "execution_count": null,
   "metadata": {},
   "outputs": [
    {
     "name": "stdout",
     "output_type": "stream",
     "text": [
      "2020년 월드 시리즈에서는 LA 다저스가 우승했어.\n"
     ]
    }
   ],
   "source": [
    "response = client.chat.completions.create(\n",
    "    model=\"gpt-4\",\n",
    "    messages=[\n",
    "        {\n",
    "            \"role\": \"system\",\n",
    "            \"content\": \"너는 친절하게 답변해주는 비서야, 답변은 반말로 해줘\",\n",
    "        },\n",
    "        {\"role\": \"user\", \"content\": \"2020년 월드시리즈에서는 누가 우승했어?\"},\n",
    "    ],\n",
    ")\n",
    "\n",
    "print(response.choices[0].message.content)"
   ]
  },
  {
   "cell_type": "code",
   "execution_count": null,
   "metadata": {},
   "outputs": [
    {
     "name": "stdout",
     "output_type": "stream",
     "text": [
      "Who won the World Series in 2020?\n"
     ]
    }
   ],
   "source": [
    "response = client.chat.completions.create(\n",
    "    model=\"gpt-4\",\n",
    "    messages=[\n",
    "        {\n",
    "            \"role\": \"system\",\n",
    "            \"content\": \"사용자의 질문에 답변을 하지말고 입력받은 내용을 영어로 번역해서 반환해줘\",\n",
    "        },\n",
    "        {\"role\": \"user\", \"content\": \"2020년 월드시리즈에서는 누가 우승했어?\"},\n",
    "    ],\n",
    ")\n",
    "\n",
    "print(response.choices[0].message.content)"
   ]
  },
  {
   "cell_type": "code",
   "execution_count": null,
   "metadata": {},
   "outputs": [
    {
     "name": "stdout",
     "output_type": "stream",
     "text": [
      "2002년 월드컵에서 한국이 화제가 된 이유는 여러 가지가 있습니다:\n",
      "\n",
      "1. **공동 개최**: 2002년 월드컵은 아시아에서 열린 첫 번째 월드컵이었으며, 한국과 일본이 공동 개최했습니다. 이로 인해 아시아 축구에 대한 관심이 크게 증가했습니다.\n",
      "\n",
      "2. **역대 최고의 성과**: 한국 대표팀은 이전 월드컵에서 조별리그를 통과한 적이 없었으나, 2002년 대회에서는 4강까지 진출하는 놀라운 성과를 거두었습니다. 이는 아시아 국가가 월드컵에서 기록한 최고의 성적이었습니다.\n",
      "\n",
      "3. **거대한 이변**: 한국은 이탈리아와 스페인 같은 강력한 팀을 상대로 승리하며 큰 이변을 연출했습니다. 특히, 이탈리아와의 16강전에서는 안정환의 골든골로 승리를 거두면서 많은 주목을 받았습니다.\n",
      "\n",
      "4. **열정적인 응원 문화**: 한국의 거리 응원은 전 세계에 강렬한 인상을 남겼습니다. 수많은 팬들이 거리로 나와 응원하는 모습은 대회의 특별한 장면 중 하나였습니다.\n",
      "\n",
      "5. **논란**: 몇몇 경기에서는 심판 판정에 대한 논란도 있었지만, 한국 팀의 성과와 열정은 전 세계 축구 팬들에게 깊은 인상을 남겼습니다.\n",
      "\n",
      "이 모든 요소들이 합쳐져 한국은 2002년 월드컵에서 가장 화제가 된 나라 중 하나가 되었습니다.\n"
     ]
    }
   ],
   "source": [
    "response = client.chat.completions.create(\n",
    "    model=\"gpt-4o\",\n",
    "    messages=[\n",
    "        {\n",
    "            \"role\": \"user\",\n",
    "            \"content\": \"2002년 월드컵에서 가장 화제가 되었던 나라는 어디야?\",\n",
    "        },\n",
    "        {\n",
    "            \"role\": \"assistant\",\n",
    "            \"content\": \"바로 예상을 뚫고 4강 진출 신화를 일으킨 한국입니다.\",\n",
    "        },\n",
    "        {\"role\": \"user\", \"content\": \"그 나라가 화제가 되었던 이유를 자세하게 설명해줘\"},\n",
    "    ],\n",
    ")\n",
    "\n",
    "print(response.choices[0].message.content)"
   ]
  },
  {
   "cell_type": "markdown",
   "metadata": {},
   "source": [
    "### 뉴스 기사를 분석해주는 인공지능"
   ]
  },
  {
   "cell_type": "code",
   "execution_count": null,
   "metadata": {},
   "outputs": [],
   "source": [
    "def return_answer(input_text=\"\"):\n",
    "    system_prompt = \"\"\"\n",
    "특정 문서가 입력되면 다음과 같은 형태로 문서를 분석하세요.\n",
    "\n",
    "1. 주어진 입력에 대해서 반드시 주제:, 요약:, 가능한 질문: 이 세가지를 순차적으로 작성해야 합니다.\n",
    "2. 주제: 는 입력 문서의 주제를 한 줄로 요약합니다.\n",
    "3. 요약: 은 입력 문서를  5줄로 요약합니다.\n",
    "4. 가능한 질문: 은 입력 문서로 부터 사람들이 할수 잇는 질문 세가지를 파이썬 리스트 형태로 작성합니다.\n",
    "5. 가능한 질문: 이 반드시 ['질문1', '질문2', '질문3']과 같이 파이썬 리스트 형태로 작성되어야 합니다.\n",
    "이제 시작합니다.\n",
    "\"\"\"\n",
    "\n",
    "    user_content = \"입력 : \" + input_text + \"\\n답변:\"\n",
    "\n",
    "    print(\"최종 유저 프롬프트\")\n",
    "    print(\"==\" * 50)\n",
    "    print(user_content)\n",
    "    print(\"==\" * 50)\n",
    "\n",
    "    response = client.chat.completions.create(\n",
    "        model=\"gpt-4o\",\n",
    "        messages=[\n",
    "            {\"role\": \"system\", \"content\": system_prompt},\n",
    "            {\"role\": \"user\", \"content\": user_content},\n",
    "        ],\n",
    "    )\n",
    "\n",
    "    return response.choices[0].message.content"
   ]
  },
  {
   "cell_type": "code",
   "execution_count": null,
   "metadata": {},
   "outputs": [
    {
     "name": "stdout",
     "output_type": "stream",
     "text": [
      "최종 유저 프롬프트\n",
      "====================================================================================================\n",
      "입력 : 새처럼 움직이는 항공 로봇 '레이븐'.\n",
      "스위스 로잔 연방 공대(EPFL) 신원동 박사팀이 개발했는데요.\n",
      "연구팀은 새의 엉덩이와 발목, 발을 참고해 뒷다리를 만들었습니다.\n",
      "실제 새처럼 땅에서 걷고, 틈새를 건너뛰고, 위로 뛰어오릅니다.\n",
      "껑충 뛰면서 날아오르는 이 기능이 핵심인데요.\n",
      "기존 고정익 항공기처럼 지상을 달리지 않고 제자리에서 날아오릅니다.\n",
      "연구팀은 레이븐의 점프 이륙이 점프하지 않고 날아오를 때보다 에너지 효율이 더 높다고 설명했는데요.\n",
      "또 기존 고정익 항공기에 이 기능을 도입하면 복잡한 지형에서도 효율적으로 쓸 수 있을 거라고 덧붙였습니다.\n",
      "#새 #로봇 #항공 #공대 #스위스 #신원동 #박사 #점프\n",
      "답변:\n",
      "====================================================================================================\n",
      "주제: 스위스 로잔 연방 공대에서 개발한 새처럼 움직이는 항공 로봇 '레이븐'.\n",
      "\n",
      "요약: \n",
      "스위스 로잔 연방 공대의 신원동 박사팀이 새의 움직임을 모방한 항공 로봇 '레이븐'을 개발했다. 이 로봇은 새의 엉덩이와 발목, 발을 참고하여 설계된 뒷다리를 이용해 걷고 뛰고 날 수 있는 능력을 갖췄다. 특히, 기존 항공기처럼 지상을 달리지 않고도 제자리에서 뛰어올라 날아오를 수 있는 점프 이륙 기능이 핵심이다. 연구팀은 이 점프 이륙이 에너지 효율 면에서 이점을 제공한다고 설명하며, 복잡한 지형에서도 활용 가능성을 언급했다. 이 기술을 기존 항공기에 적용함으로써 새로운 효율성을 도모할 수 있을 것으로 기대된다.\n",
      "\n",
      "가능한 질문: \n",
      "['레이븐 로봇의 주요 기능은 무엇인가요?', '점프 이륙이 기존 항공기보다 에너지 효율이 더 높은 이유는?', '이 기술이 항공 산업에 어떤 변화를 가져올 수 있을까요?']\n"
     ]
    }
   ],
   "source": [
    "test = \"\"\"새처럼 움직이는 항공 로봇 '레이븐'.\n",
    "스위스 로잔 연방 공대(EPFL) 신원동 박사팀이 개발했는데요.\n",
    "연구팀은 새의 엉덩이와 발목, 발을 참고해 뒷다리를 만들었습니다.\n",
    "실제 새처럼 땅에서 걷고, 틈새를 건너뛰고, 위로 뛰어오릅니다.\n",
    "껑충 뛰면서 날아오르는 이 기능이 핵심인데요.\n",
    "기존 고정익 항공기처럼 지상을 달리지 않고 제자리에서 날아오릅니다.\n",
    "연구팀은 레이븐의 점프 이륙이 점프하지 않고 날아오를 때보다 에너지 효율이 더 높다고 설명했는데요.\n",
    "또 기존 고정익 항공기에 이 기능을 도입하면 복잡한 지형에서도 효율적으로 쓸 수 있을 거라고 덧붙였습니다.\n",
    "#새 #로봇 #항공 #공대 #스위스 #신원동 #박사 #점프\"\"\"\n",
    "\n",
    "result = return_answer(input_text=test)\n",
    "print(result)"
   ]
  },
  {
   "cell_type": "code",
   "execution_count": null,
   "metadata": {},
   "outputs": [
    {
     "name": "stdout",
     "output_type": "stream",
     "text": [
      "최종 유저 프롬프트\n",
      "====================================================================================================\n",
      "입력 : \n",
      "꿈의 에너지’라고 불리는 핵융합 에너지가 5년 뒤 현실이 될지도 모른다. 마이크로소프트가 5년 뒤부터 핵융합으로 만든 전기를 사서 쓰겠다는 전기공급 계약을 \n",
      "마이크로소프트에게 전기를 공급할 곳은 미국 스타트업 ‘헬리온 에너지’다. 5월 10일 핵융합 발전 스타트업 헬리온 에너지가 마이크로소프트와 계약을 맺었다고 \n",
      "하지만 전문가들의 전망은 긍정적이지만은 않다. 사용할 수 있는 정도의 전기를 만들어 내는 실증 시험까지 거친 핵융합 연구가 아직 없기 때문이다. 대신 현실적\n",
      "핵융합 발전 연구는 크게 공공 개발과 민간 개발, 둘로 나뉘는데 둘 중 핵융합 발전 목표 시기가 조금 더 빠른 민간 개발의 목표 시기가 2030년경이다. 다만 지난\n",
      "\n",
      "답변:\n",
      "====================================================================================================\n",
      "주제: 마이크로소프트가 헬리온 에너지와 5년 뒤부터 핵융합 에너지를 공급받는 전기공급 계약을 체결했다는 소식\n",
      "\n",
      "요약: \n",
      "마이크로소프트가 핵융합 에너지로 만든 전기를 5년 뒤부터 사용할 것을 목표로 헬리온 에너지와 전기공급 계약을 체결했다. 이 계약은 5월 10일에 이루어졌다. 전문가들은 아직 사용할 수 있는 전기를 만들어내는 실증 시험이 없기 때문에 현실성이 없다는 의견도 있다. 현재 핵융합 발전 연구는 공공 개발과 민간 개발로 나뉘어 진행 중이며, 민간 개발의 목표 시기는 2030년경이다. 아직까지 밝은 전망만 있는 것은 아니다.\n",
      "\n",
      "가능한 질문: \n",
      "['마이크로소프트는 어느 회사와 전기공급 계약을 체결했나요?', '전문가들이 핵융합 에너지에 대해 신중한 이유는 무엇인가요?', '핵융합 발전 연구의 목표 시기는 언제인가요?']\n"
     ]
    }
   ],
   "source": [
    "test = \"\"\"\n",
    "꿈의 에너지’라고 불리는 핵융합 에너지가 5년 뒤 현실이 될지도 모른다. 마이크로소프트가 5년 뒤부터 핵융합으로 만든 전기를 사서 쓰겠다는 전기공급 계약을 \n",
    "마이크로소프트에게 전기를 공급할 곳은 미국 스타트업 ‘헬리온 에너지’다. 5월 10일 핵융합 발전 스타트업 헬리온 에너지가 마이크로소프트와 계약을 맺었다고 \n",
    "하지만 전문가들의 전망은 긍정적이지만은 않다. 사용할 수 있는 정도의 전기를 만들어 내는 실증 시험까지 거친 핵융합 연구가 아직 없기 때문이다. 대신 현실적\n",
    "핵융합 발전 연구는 크게 공공 개발과 민간 개발, 둘로 나뉘는데 둘 중 핵융합 발전 목표 시기가 조금 더 빠른 민간 개발의 목표 시기가 2030년경이다. 다만 지난\n",
    "\"\"\"\n",
    "\n",
    "result = return_answer(input_text=test)\n",
    "print(result)"
   ]
  },
  {
   "cell_type": "markdown",
   "metadata": {},
   "source": [
    "### 키워드 추출"
   ]
  },
  {
   "cell_type": "code",
   "execution_count": null,
   "metadata": {},
   "outputs": [],
   "source": [
    "def return_answer(input_text):\n",
    "    system_prompt = \"\"\"\n",
    "you are and expert extracting keywords from a given sentence.\n",
    "Extrac keywords from a given sentence that are key to the context\n",
    "\n",
    "[Example]\n",
    "input: '외신에 따르면 중국 이카이글로벌 보도를 인용해 모더나가 중국 전용 mRNA 백신 개발을 위해 중국에 최대 10억달러(약 1조3017억원)를 투자하기로 했\n",
    "keyword: ['모더나', 'mRNA', '1조3017억원']\n",
    "Now the sentence you want to extract keywords from.\n",
    "The output format must be a list in Python.\n",
    "\"\"\"\n",
    "\n",
    "    user_content = \"input: \" + input_text + \"\\nkeyword: \"\n",
    "    print(\"최종 유저 프롬프트\")\n",
    "    print(\"==\" * 50)\n",
    "    print(user_content)\n",
    "    print(\"==\" * 50)\n",
    "\n",
    "    response = client.chat.completions.create(\n",
    "        model=\"gpt-4o\",\n",
    "        messages=[\n",
    "            {\"role\": \"system\", \"content\": system_prompt},\n",
    "            {\"role\": \"user\", \"content\": user_content},\n",
    "        ],\n",
    "        temperature=0,\n",
    "    )\n",
    "\n",
    "    return response.choices[0].message.content"
   ]
  },
  {
   "cell_type": "code",
   "execution_count": null,
   "metadata": {},
   "outputs": [
    {
     "name": "stdout",
     "output_type": "stream",
     "text": [
      "최종 유저 프롬프트\n",
      "====================================================================================================\n",
      "input: 3일 업계에 따르면 서울 신라호텔의 더 파크뷰는 12월 1∼20일 저녁 가격을 19만5000원으로, 21∼31일 저녁 가격을 21만 5000원으로 각각 인상한다. 평\n",
      "롯데호텔 서울의 뷔페 라세느는 12월 평일·주말 저녁 가격을 19만원으로 기존 대비 1만원 올린다. 크리스마스 연휴 때인 23∼25일과 연말 30∼31일 저녁 가격은 2\n",
      "워커힐 호텔앤리조트는 그랜드 워커힐에서 운영하던 더뷔페를 비스타 워커힐로 확장 이전해 이날 가격을 올렸다. 평일·주말 저녁 가격은 15만9000원에서 18만9000\n",
      "그랜드 인터컨티넨탈 서울 파르나스와 인터컨티넨탈 서울 코엑스도 다음주께 인상된 가격을 공지할 계획이다.\n",
      "keyword: \n",
      "====================================================================================================\n"
     ]
    },
    {
     "data": {
      "text/plain": [
       "\"['서울 신라호텔', '더 파크뷰', '롯데호텔 서울', '뷔페 라세느', '워커힐 호텔앤리조트', '그랜드 워커힐', '비스타 워커힐', '그랜드 인터컨티넨탈 서울 파르나스', '인터컨티넨탈 서울 코엑스', '가격 인상']\""
      ]
     },
     "execution_count": 32,
     "metadata": {},
     "output_type": "execute_result"
    }
   ],
   "source": [
    "text = \"\"\"3일 업계에 따르면 서울 신라호텔의 더 파크뷰는 12월 1∼20일 저녁 가격을 19만5000원으로, 21∼31일 저녁 가격을 21만 5000원으로 각각 인상한다. 평\n",
    "롯데호텔 서울의 뷔페 라세느는 12월 평일·주말 저녁 가격을 19만원으로 기존 대비 1만원 올린다. 크리스마스 연휴 때인 23∼25일과 연말 30∼31일 저녁 가격은 2\n",
    "워커힐 호텔앤리조트는 그랜드 워커힐에서 운영하던 더뷔페를 비스타 워커힐로 확장 이전해 이날 가격을 올렸다. 평일·주말 저녁 가격은 15만9000원에서 18만9000\n",
    "그랜드 인터컨티넨탈 서울 파르나스와 인터컨티넨탈 서울 코엑스도 다음주께 인상된 가격을 공지할 계획이다.\"\"\"\n",
    "return_answer(input_text=text)"
   ]
  },
  {
   "cell_type": "markdown",
   "metadata": {},
   "source": [
    "### 제목 추출"
   ]
  },
  {
   "cell_type": "code",
   "execution_count": null,
   "metadata": {},
   "outputs": [
    {
     "data": {
      "text/plain": [
       "'금감원장의 해외 출장 논란'"
      ]
     },
     "execution_count": 34,
     "metadata": {},
     "output_type": "execute_result"
    }
   ],
   "source": [
    "def return_answer(text):\n",
    "    prompt = \"주어진 텍스트로부터 적절한 제목을 만들어줘. 제목은 너무 길지 않게 간결하게 작성해\"\n",
    "\n",
    "    response = client.chat.completions.create(\n",
    "        model=\"gpt-4o\",\n",
    "        messages=[\n",
    "            {\"role\": \"system\", \"content\": prompt},\n",
    "            {\"role\": \"user\", \"content\": text},\n",
    "        ],\n",
    "    )\n",
    "    return response.choices[0].message.content\n",
    "\n",
    "\n",
    "input_text = \"\"\"지난 11일 국회 정무위원회 전체 회의에선 이복현 금융감독원장의 해외 출장길이 도마 에 올랐다. 이 원장이 지난 8일부터 닷새간 동남아 싱가포\n",
    "이 원장의 이번 출장은 국내 금융사의 투자 유치와 해외진출 확대를 지원하기 위해서다. 이 출장에는 윤종규 KB금융그룹 회장, 함영주 하나금융그룹 회장을 비롯해\n",
    "야당의 지적처럼 금융권 일각에선 이번 출장을 두고 다소 의아하다는 시각이 있었다. 금감원이 해외에서 IR 행사를 하긴 하지만, 금융위원장이 아니라 금감원장이 \n",
    "\"\"\"\n",
    "return_answer(input_text)"
   ]
  },
  {
   "cell_type": "markdown",
   "metadata": {},
   "source": [
    "### 감정 분류"
   ]
  },
  {
   "cell_type": "code",
   "execution_count": null,
   "metadata": {},
   "outputs": [
    {
     "data": {
      "text/plain": [
       "'\"positive\"'"
      ]
     },
     "execution_count": 40,
     "metadata": {},
     "output_type": "execute_result"
    }
   ],
   "source": [
    "def return_answer(text):\n",
    "    prompt = \"\"\"주어진 텍스트가 긍정인지 중립인지 부정인지 예측하시오. 당신의 답변은 오로지 [positive, negative, neutral] 셋 중 하나여야만 합니다.\n",
    "    ex) 'SK하이닉스가 2분기 실적에서 역대 최고를 기록하였다' => \"positive\" \"\"\"\n",
    "\n",
    "    response = client.chat.completions.create(\n",
    "        model=\"gpt-4o\",\n",
    "        messages=[\n",
    "            {\"role\": \"system\", \"content\": prompt},\n",
    "            {\"role\": \"user\", \"content\": text},\n",
    "        ],\n",
    "    )\n",
    "    return response.choices[0].message.content\n",
    "\n",
    "\n",
    "return_answer(\n",
    "    \"씨씨에스 로고 씨씨에스 주가가 상한가다. 3일 기준 씨씨에스는 29.84%(825원) 상승한 3590원에 거래를 마쳤다. 상온 초전도체 이슈가 부각되면서\"\n",
    ")"
   ]
  }
 ],
 "metadata": {
  "kernelspec": {
   "display_name": "seSac_env",
   "language": "python",
   "name": "python3"
  },
  "language_info": {
   "codemirror_mode": {
    "name": "ipython",
    "version": 3
   },
   "file_extension": ".py",
   "mimetype": "text/x-python",
   "name": "python",
   "nbconvert_exporter": "python",
   "pygments_lexer": "ipython3",
   "version": "3.10.16"
  }
 },
 "nbformat": 4,
 "nbformat_minor": 2
}
