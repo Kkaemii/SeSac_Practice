{
 "cells": [
  {
   "cell_type": "code",
   "execution_count": null,
   "metadata": {},
   "outputs": [
    {
     "name": "stdout",
     "output_type": "stream",
     "text": [
      "            title subtitle                          authors  \\\n",
      "0          Gilead      NaN               Marilynne Robinson   \n",
      "1    Spider's Web  A Novel  Charles Osborne;Agatha Christie   \n",
      "2    The One Tree      NaN             Stephen R. Donaldson   \n",
      "3  Rage of angels      NaN                   Sidney Sheldon   \n",
      "4  The Four Loves      NaN              Clive Staples Lewis   \n",
      "\n",
      "                      categories  \\\n",
      "0                        Fiction   \n",
      "1  Detective and mystery stories   \n",
      "2               American fiction   \n",
      "3                        Fiction   \n",
      "4                 Christian life   \n",
      "\n",
      "                                           thumbnail  \\\n",
      "0  http://books.google.com/books/content?id=KQZCP...   \n",
      "1  http://books.google.com/books/content?id=gA5GP...   \n",
      "2  http://books.google.com/books/content?id=OmQaw...   \n",
      "3  http://books.google.com/books/content?id=FKo2T...   \n",
      "4  http://books.google.com/books/content?id=XhQ5X...   \n",
      "\n",
      "                                         description  published_year  \\\n",
      "0  A NOVEL THAT READERS and critics have been eag...            2004   \n",
      "1  A new 'Christie for Christmas' -- a full-lengt...            2000   \n",
      "2  Volume Two of Stephen Donaldson's acclaimed se...            1982   \n",
      "3  A memorable, mesmerizing heroine Jennifer -- b...            1993   \n",
      "4  Lewis' work on the nature of love divides love...            2002   \n",
      "\n",
      "   average_rating  num_pages  ratings_count  \n",
      "0            3.85        247            361  \n",
      "1            3.83        241           5164  \n",
      "2            3.97        479            172  \n",
      "3            3.93        512          29532  \n",
      "4            4.15        170          33684  \n"
     ]
    }
   ],
   "source": [
    "import pandas as pd\n",
    "\n",
    "df = pd.read_csv(\"./booksv_02.csv\")\n",
    "print(df.head())"
   ]
  },
  {
   "cell_type": "code",
   "execution_count": 2,
   "metadata": {},
   "outputs": [],
   "source": [
    "from langchain_experimental.agents.agent_toolkits import create_pandas_dataframe_agent\n",
    "from langchain_openai.chat_models import ChatOpenAI\n",
    "from langchain.agents.agent_types import AgentType\n",
    "import os\n",
    "from dotenv import load_dotenv\n",
    "\n",
    "load_dotenv()\n",
    "api_key = os.getenv(\"OPENAI_API_KEY\")\n",
    "\n",
    "# 에이전트 생성\n",
    "agent = create_pandas_dataframe_agent(\n",
    "    ChatOpenAI(temperature=0, model=\"gpt-4o\"),\n",
    "    df,\n",
    "    verbose=False,\n",
    "    agent_type=AgentType.OPENAI_FUNCTIONS,\n",
    "    allow_dangerous_code=True,\n",
    ")"
   ]
  },
  {
   "cell_type": "code",
   "execution_count": null,
   "metadata": {},
   "outputs": [
    {
     "data": {
      "text/plain": [
       "'`One Hundred Years of Solitude`라는 책이 가장 높은 ratings_count를 가지고 있으며, 그 수치는 547,207입니다.'"
      ]
     },
     "execution_count": 5,
     "metadata": {},
     "output_type": "execute_result"
    }
   ],
   "source": [
    "agent.run(\"어떤 제품의 ratings_count가 제일 높아? 그리고 몇점이야?\")"
   ]
  },
  {
   "cell_type": "code",
   "execution_count": null,
   "metadata": {},
   "outputs": [
    {
     "data": {
      "text/plain": [
       "'가장 최근에 출간된 책의 제목은 \"The Yiddish Policemen\\'s Union\"입니다. 이 책에 대한 정보는 다음과 같습니다:\\n\\n- **부제**: A Novel\\n- **저자**: Michael Chabon\\n- **카테고리**: Fiction\\n- **썸네일**: ![썸네일](http://books.google.com/books/content?id=-reD1gAACAAJ&printsec=frontcover&img=1&zoom=1&source=gbs_api)\\n- **설명**: For sixty years, Jewish refugees and their descendants have prospered in the Federal District of Sitka, a \"temporary\" safe haven created in the wake of the Holocaust and the shocking 1948 collapse of the fledgling state of Israel. But now the District is set to revert to Alaskan control, and their dream is coming to an end. Homicide detective Meyer Landsman of the District Police has enough problems without worrying about the upcoming Reversion. He\\'s floundering in the wreckage of his marriage, he\\'s been sleeping in the same cheap hotel room for too long, and he\\'s got a bad case of the yids. But when he discovers the corpse of a heroin-addled chess prodigy in the room next door, he starts to wonder if there isn\\'t a bigger game afoot. With his half-Tlingit partner and his fearsome ex-wife, Bina, as his boss, Landsman embarks on a quest to solve the murder that will reveal the truth about the victim, himself, and the very nature of his homeland.\\n- **출판 연도**: 2007\\n- **평균 평점**: 3.7\\n- **페이지 수**: 414\\n- **평가 수**: 51,219\\n\\n이 책은 Michael Chabon이 쓴 소설로, 가상의 유대인 자치구를 배경으로 한 미스터리 소설입니다.'"
      ]
     },
     "execution_count": 6,
     "metadata": {},
     "output_type": "execute_result"
    }
   ],
   "source": [
    "agent.run(\"가장 최근에 출간된 책은의 제목은 어떤거고 정보도 알려줘\")"
   ]
  }
 ],
 "metadata": {
  "kernelspec": {
   "display_name": "seSac_env",
   "language": "python",
   "name": "python3"
  },
  "language_info": {
   "codemirror_mode": {
    "name": "ipython",
    "version": 3
   },
   "file_extension": ".py",
   "mimetype": "text/x-python",
   "name": "python",
   "nbconvert_exporter": "python",
   "pygments_lexer": "ipython3",
   "version": "3.10.16"
  }
 },
 "nbformat": 4,
 "nbformat_minor": 2
}
