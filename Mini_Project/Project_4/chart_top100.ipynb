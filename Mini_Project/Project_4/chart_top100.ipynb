{
 "cells": [
  {
   "cell_type": "code",
   "execution_count": null,
   "metadata": {},
   "outputs": [],
   "source": [
    "from bs4 import BeautifulSoup\n",
    "import requests"
   ]
  },
  {
   "cell_type": "code",
   "execution_count": null,
   "metadata": {},
   "outputs": [],
   "source": [
    "#벅스 뮤직\n",
    "header = {'User-Agent': 'Mozilla/5.0 (Windows NT 6.3; Trident/7.0; rv:11.0) like Gecko'}\n",
    "req = requests.get('https://music.bugs.co.kr/chart', headers = header)\n",
    "html = req.text\n",
    "bugs = BeautifulSoup(html, 'lxml')"
   ]
  },
  {
   "cell_type": "code",
   "execution_count": null,
   "metadata": {},
   "outputs": [],
   "source": [
    "b_rank = bugs.find_all(class_='ranking')\n",
    "b_title = bugs.find_all('p', {'class':'title'})\n",
    "b_artist = bugs.find_all('p', {'class':'artist'})\n",
    "\n",
    "#rank 인덱스 1번부터 시작해야함. 0번은 순위나옴\n",
    "print(b_rank[2].find('strong').get_text())\n",
    "print(b_title[1].get_text().replace('\\n',''))\n",
    "print(b_artist[1].get_text().replace('\\n',''))"
   ]
  },
  {
   "cell_type": "code",
   "execution_count": null,
   "metadata": {},
   "outputs": [],
   "source": [
    "#멜론\n",
    "header = {'User-Agent': 'Mozilla/5.0 (Windows NT 6.3; Trident/7.0; rv:11.0) like Gecko'}\n",
    "req = requests.get('https://www.melon.com/chart/index.htm', headers = header)\n",
    "html = req.text\n",
    "melon = BeautifulSoup(html, 'lxml')"
   ]
  },
  {
   "cell_type": "code",
   "execution_count": null,
   "metadata": {},
   "outputs": [],
   "source": [
    "m_rank = melon.find_all('span',{'class':'rank'})\n",
    "m_title = melon.find_all('div',{'class':'ellipsis rank01'})\n",
    "m_artist = melon.find_all('span',{'class' : 'checkEllipsis'},'a')\n",
    "\n",
    "#인덱스 넘버 바꿔서 진행하면 됨\n",
    "#0번 인덱스가 순위라서 1번인덱스 부터해야 1위로 출력됨\n",
    "print(m_rank[1].get_text()) \n",
    "print(m_title[0].get_text().replace('\\n',''))\n",
    "print(m_artist[0].get_text())"
   ]
  },
  {
   "cell_type": "code",
   "execution_count": null,
   "metadata": {},
   "outputs": [],
   "source": [
    "#지니뮤직\n",
    "header = {'User-Agent': 'Mozilla/5.0 (Windows NT 6.3; Trident/7.0; rv:11.0) like Gecko'}\n",
    "req = requests.get('https://www.genie.co.kr/chart/top200', headers = header)\n",
    "#지니뷰직은 페이지 2개로 해야 100개 받을 수있음\n",
    "# 두번째 페이지 url https://www.genie.co.kr/chart/top200&pg=2\n",
    "html = req.text\n",
    "genie = BeautifulSoup(html, 'lxml')"
   ]
  },
  {
   "cell_type": "code",
   "execution_count": null,
   "metadata": {},
   "outputs": [],
   "source": [
    "g_rank = genie.find_all('td',{'class':'number'})\n",
    "g_title = genie.find_all('a',{'class':'title ellipsis'})\n",
    "g_artist = genie.find_all('a',{'class' : 'artist ellipsis'})\n",
    "\n",
    "#인덱스 넘버만 바꾸면 출력됨\n",
    "print(g_rank[1].get_text().replace('\\n','')[:3].strip())\n",
    "print(g_title[1].get_text().replace('\\n','').strip())\n",
    "print(g_artist[1].get_text())"
   ]
  }
 ],
 "metadata": {
  "kernelspec": {
   "display_name": "base",
   "language": "python",
   "name": "python3"
  },
  "language_info": {
   "name": "python",
   "version": "3.11.5"
  }
 },
 "nbformat": 4,
 "nbformat_minor": 2
}
