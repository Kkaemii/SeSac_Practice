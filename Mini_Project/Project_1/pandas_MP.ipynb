{
 "cells": [
  {
   "cell_type": "code",
   "execution_count": 1,
   "metadata": {},
   "outputs": [],
   "source": [
    "import numpy as np\n",
    "import pandas as pd"
   ]
  },
  {
   "cell_type": "code",
   "execution_count": 2,
   "metadata": {},
   "outputs": [],
   "source": [
    "#주피터에서 실행결과 여러줄 보여주고싶을때\n",
    "from IPython.core.interactiveshell import InteractiveShell\n",
    "InteractiveShell.ast_node_interactivity = \"all\""
   ]
  },
  {
   "cell_type": "code",
   "execution_count": 3,
   "metadata": {},
   "outputs": [
    {
     "data": {
      "text/html": [
       "<div>\n",
       "<style scoped>\n",
       "    .dataframe tbody tr th:only-of-type {\n",
       "        vertical-align: middle;\n",
       "    }\n",
       "\n",
       "    .dataframe tbody tr th {\n",
       "        vertical-align: top;\n",
       "    }\n",
       "\n",
       "    .dataframe thead th {\n",
       "        text-align: right;\n",
       "    }\n",
       "</style>\n",
       "<table border=\"1\" class=\"dataframe\">\n",
       "  <thead>\n",
       "    <tr style=\"text-align: right;\">\n",
       "      <th></th>\n",
       "      <th>기간</th>\n",
       "      <th>대분류</th>\n",
       "      <th>분류</th>\n",
       "      <th>운동을 할 충분한 시간이 없어서</th>\n",
       "      <th>함께 운동을 할 사람이 없어서</th>\n",
       "      <th>운동을 할 만한 장소가 없어서</th>\n",
       "      <th>운동을 싫어해서</th>\n",
       "      <th>기타</th>\n",
       "    </tr>\n",
       "  </thead>\n",
       "  <tbody>\n",
       "    <tr>\n",
       "      <th>0</th>\n",
       "      <td>2017</td>\n",
       "      <td>서울시</td>\n",
       "      <td>서울시</td>\n",
       "      <td>49.7</td>\n",
       "      <td>8.1</td>\n",
       "      <td>5.8</td>\n",
       "      <td>34.7</td>\n",
       "      <td>1.7</td>\n",
       "    </tr>\n",
       "    <tr>\n",
       "      <th>1</th>\n",
       "      <td>2017</td>\n",
       "      <td>성별</td>\n",
       "      <td>남자</td>\n",
       "      <td>55.2</td>\n",
       "      <td>7.9</td>\n",
       "      <td>5.5</td>\n",
       "      <td>29.8</td>\n",
       "      <td>1.6</td>\n",
       "    </tr>\n",
       "    <tr>\n",
       "      <th>2</th>\n",
       "      <td>2017</td>\n",
       "      <td>성별</td>\n",
       "      <td>여자</td>\n",
       "      <td>45.0</td>\n",
       "      <td>8.3</td>\n",
       "      <td>6.0</td>\n",
       "      <td>38.8</td>\n",
       "      <td>1.8</td>\n",
       "    </tr>\n",
       "    <tr>\n",
       "      <th>3</th>\n",
       "      <td>2017</td>\n",
       "      <td>연령별</td>\n",
       "      <td>10대</td>\n",
       "      <td>55.7</td>\n",
       "      <td>6.1</td>\n",
       "      <td>5.6</td>\n",
       "      <td>32.2</td>\n",
       "      <td>0.3</td>\n",
       "    </tr>\n",
       "    <tr>\n",
       "      <th>4</th>\n",
       "      <td>2017</td>\n",
       "      <td>연령별</td>\n",
       "      <td>20대</td>\n",
       "      <td>54.8</td>\n",
       "      <td>6.9</td>\n",
       "      <td>5.2</td>\n",
       "      <td>32.9</td>\n",
       "      <td>0.1</td>\n",
       "    </tr>\n",
       "    <tr>\n",
       "      <th>5</th>\n",
       "      <td>2017</td>\n",
       "      <td>연령별</td>\n",
       "      <td>30대</td>\n",
       "      <td>58.1</td>\n",
       "      <td>5.5</td>\n",
       "      <td>4.6</td>\n",
       "      <td>31.6</td>\n",
       "      <td>0.2</td>\n",
       "    </tr>\n",
       "    <tr>\n",
       "      <th>6</th>\n",
       "      <td>2017</td>\n",
       "      <td>연령별</td>\n",
       "      <td>40대</td>\n",
       "      <td>57.7</td>\n",
       "      <td>6.8</td>\n",
       "      <td>5.2</td>\n",
       "      <td>29.4</td>\n",
       "      <td>1</td>\n",
       "    </tr>\n",
       "    <tr>\n",
       "      <th>7</th>\n",
       "      <td>2017</td>\n",
       "      <td>연령별</td>\n",
       "      <td>50대</td>\n",
       "      <td>50.1</td>\n",
       "      <td>9.2</td>\n",
       "      <td>7.2</td>\n",
       "      <td>32.2</td>\n",
       "      <td>1.4</td>\n",
       "    </tr>\n",
       "    <tr>\n",
       "      <th>8</th>\n",
       "      <td>2017</td>\n",
       "      <td>연령별</td>\n",
       "      <td>60대 이상</td>\n",
       "      <td>27.5</td>\n",
       "      <td>12.8</td>\n",
       "      <td>6.9</td>\n",
       "      <td>46.8</td>\n",
       "      <td>6</td>\n",
       "    </tr>\n",
       "    <tr>\n",
       "      <th>9</th>\n",
       "      <td>2017</td>\n",
       "      <td>학력별</td>\n",
       "      <td>중졸 이하</td>\n",
       "      <td>26.1</td>\n",
       "      <td>13.7</td>\n",
       "      <td>6.6</td>\n",
       "      <td>46.2</td>\n",
       "      <td>7.4</td>\n",
       "    </tr>\n",
       "    <tr>\n",
       "      <th>10</th>\n",
       "      <td>2017</td>\n",
       "      <td>학력별</td>\n",
       "      <td>고졸 이하</td>\n",
       "      <td>46.3</td>\n",
       "      <td>8.5</td>\n",
       "      <td>6.9</td>\n",
       "      <td>36.5</td>\n",
       "      <td>1.7</td>\n",
       "    </tr>\n",
       "    <tr>\n",
       "      <th>11</th>\n",
       "      <td>2017</td>\n",
       "      <td>학력별</td>\n",
       "      <td>대졸 이하</td>\n",
       "      <td>57.4</td>\n",
       "      <td>6.6</td>\n",
       "      <td>4.9</td>\n",
       "      <td>30.7</td>\n",
       "      <td>0.4</td>\n",
       "    </tr>\n",
       "    <tr>\n",
       "      <th>12</th>\n",
       "      <td>2017</td>\n",
       "      <td>학력별</td>\n",
       "      <td>대학원 이상</td>\n",
       "      <td>65.3</td>\n",
       "      <td>3.8</td>\n",
       "      <td>0.6</td>\n",
       "      <td>29.6</td>\n",
       "      <td>0.6</td>\n",
       "    </tr>\n",
       "    <tr>\n",
       "      <th>13</th>\n",
       "      <td>2017</td>\n",
       "      <td>소득별</td>\n",
       "      <td>100만원 미만</td>\n",
       "      <td>22.7</td>\n",
       "      <td>10.3</td>\n",
       "      <td>3.6</td>\n",
       "      <td>50.7</td>\n",
       "      <td>12.7</td>\n",
       "    </tr>\n",
       "    <tr>\n",
       "      <th>14</th>\n",
       "      <td>2017</td>\n",
       "      <td>소득별</td>\n",
       "      <td>100-200만원 미만</td>\n",
       "      <td>34.3</td>\n",
       "      <td>11.5</td>\n",
       "      <td>7.1</td>\n",
       "      <td>41.5</td>\n",
       "      <td>5.6</td>\n",
       "    </tr>\n",
       "    <tr>\n",
       "      <th>15</th>\n",
       "      <td>2017</td>\n",
       "      <td>소득별</td>\n",
       "      <td>200-300만원 미만</td>\n",
       "      <td>48.8</td>\n",
       "      <td>12.3</td>\n",
       "      <td>6.8</td>\n",
       "      <td>30.7</td>\n",
       "      <td>1.4</td>\n",
       "    </tr>\n",
       "    <tr>\n",
       "      <th>16</th>\n",
       "      <td>2017</td>\n",
       "      <td>소득별</td>\n",
       "      <td>300-400만원 미만</td>\n",
       "      <td>54.9</td>\n",
       "      <td>7.1</td>\n",
       "      <td>6.5</td>\n",
       "      <td>31.2</td>\n",
       "      <td>0.3</td>\n",
       "    </tr>\n",
       "    <tr>\n",
       "      <th>17</th>\n",
       "      <td>2017</td>\n",
       "      <td>소득별</td>\n",
       "      <td>400-500만원 미만</td>\n",
       "      <td>56.1</td>\n",
       "      <td>5</td>\n",
       "      <td>5.3</td>\n",
       "      <td>33.0</td>\n",
       "      <td>0.6</td>\n",
       "    </tr>\n",
       "    <tr>\n",
       "      <th>18</th>\n",
       "      <td>2017</td>\n",
       "      <td>소득별</td>\n",
       "      <td>500만원 이상</td>\n",
       "      <td>52.3</td>\n",
       "      <td>7.1</td>\n",
       "      <td>5.1</td>\n",
       "      <td>34.9</td>\n",
       "      <td>0.6</td>\n",
       "    </tr>\n",
       "    <tr>\n",
       "      <th>19</th>\n",
       "      <td>2017</td>\n",
       "      <td>혼인상태별</td>\n",
       "      <td>기혼</td>\n",
       "      <td>50.7</td>\n",
       "      <td>7.8</td>\n",
       "      <td>5.4</td>\n",
       "      <td>34.9</td>\n",
       "      <td>1.2</td>\n",
       "    </tr>\n",
       "  </tbody>\n",
       "</table>\n",
       "</div>"
      ],
      "text/plain": [
       "      기간    대분류            분류  운동을 할 충분한 시간이 없어서 함께 운동을 할 사람이 없어서  \\\n",
       "0   2017    서울시           서울시               49.7              8.1   \n",
       "1   2017     성별            남자               55.2              7.9   \n",
       "2   2017     성별            여자               45.0              8.3   \n",
       "3   2017    연령별           10대               55.7              6.1   \n",
       "4   2017    연령별           20대               54.8              6.9   \n",
       "5   2017    연령별           30대               58.1              5.5   \n",
       "6   2017    연령별           40대               57.7              6.8   \n",
       "7   2017    연령별           50대               50.1              9.2   \n",
       "8   2017    연령별        60대 이상               27.5             12.8   \n",
       "9   2017    학력별         중졸 이하               26.1             13.7   \n",
       "10  2017    학력별         고졸 이하               46.3              8.5   \n",
       "11  2017    학력별         대졸 이하               57.4              6.6   \n",
       "12  2017    학력별        대학원 이상               65.3              3.8   \n",
       "13  2017    소득별      100만원 미만               22.7             10.3   \n",
       "14  2017    소득별  100-200만원 미만               34.3             11.5   \n",
       "15  2017    소득별  200-300만원 미만               48.8             12.3   \n",
       "16  2017    소득별  300-400만원 미만               54.9              7.1   \n",
       "17  2017    소득별  400-500만원 미만               56.1                5   \n",
       "18  2017    소득별      500만원 이상               52.3              7.1   \n",
       "19  2017  혼인상태별            기혼               50.7              7.8   \n",
       "\n",
       "    운동을 할 만한 장소가 없어서  운동을 싫어해서    기타  \n",
       "0                5.8      34.7   1.7  \n",
       "1                5.5      29.8   1.6  \n",
       "2                6.0      38.8   1.8  \n",
       "3                5.6      32.2   0.3  \n",
       "4                5.2      32.9   0.1  \n",
       "5                4.6      31.6   0.2  \n",
       "6                5.2      29.4     1  \n",
       "7                7.2      32.2   1.4  \n",
       "8                6.9      46.8     6  \n",
       "9                6.6      46.2   7.4  \n",
       "10               6.9      36.5   1.7  \n",
       "11               4.9      30.7   0.4  \n",
       "12               0.6      29.6   0.6  \n",
       "13               3.6      50.7  12.7  \n",
       "14               7.1      41.5   5.6  \n",
       "15               6.8      30.7   1.4  \n",
       "16               6.5      31.2   0.3  \n",
       "17               5.3      33.0   0.6  \n",
       "18               5.1      34.9   0.6  \n",
       "19               5.4      34.9   1.2  "
      ]
     },
     "execution_count": 3,
     "metadata": {},
     "output_type": "execute_result"
    }
   ],
   "source": [
    "#파일 읽어오기\n",
    "df = pd.read_excel('./notExercise.xls')\n",
    "df = pd.DataFrame(df)\n",
    "df.head(20)"
   ]
  },
  {
   "cell_type": "code",
   "execution_count": 4,
   "metadata": {},
   "outputs": [
    {
     "name": "stdout",
     "output_type": "stream",
     "text": [
      "['STIXGeneral', 'DejaVu Sans', 'DejaVu Sans Mono', 'DejaVu Sans', 'DejaVu Serif Display', 'STIXSizeTwoSym', 'DejaVu Sans Mono', 'STIXSizeThreeSym', 'STIXNonUnicode', 'DejaVu Sans Mono', 'DejaVu Serif', 'cmss10', 'cmex10', 'DejaVu Serif', 'STIXSizeTwoSym', 'STIXSizeFiveSym', 'STIXSizeFourSym', 'STIXSizeOneSym', 'STIXNonUnicode', 'DejaVu Sans', 'STIXGeneral', 'DejaVu Serif', 'STIXSizeOneSym', 'STIXSizeThreeSym', 'STIXNonUnicode', 'DejaVu Serif', 'cmr10', 'DejaVu Sans', 'DejaVu Sans Mono', 'cmmi10', 'cmb10', 'STIXGeneral', 'cmtt10', 'DejaVu Sans Display', 'STIXSizeFourSym', 'STIXGeneral', 'cmsy10', 'STIXNonUnicode', 'Tw Cen MT', 'Haan Cooljazz M', 'Modern No. 20', 'Informal Roman', 'Bell MT', 'Arial', 'HYgsrB', 'Yj BONMOKGAK Medium ', 'Georgia', 'HCR Dotum', 'Pyunji R', 'Franklin Gothic Book', 'NanumSquare', 'HYkanB', 'HYwulB', 'Bodoni MT', 'Californian FB', 'Verdana', 'Segoe MDL2 Assets', 'ahn2006-M', 'GoudyOlSt BT', '??????', 'GoudyOlSt BT', 'Eras Medium ITC', 'MJemokGothic', 'HyhwpEQ', 'Yet R', 'MGungHeulim', 'DomCasual BT', 'Gill Sans MT Ext Condensed Bold', 'Lucida Bright', 'Colonna MT', 'Times New Roman', 'Arial Rounded MT Bold', 'Microsoft JhengHei', 'NanumSquareOTF', 'Calibri', 'MBatang', 'Lucida Sans Unicode', 'HYPost-Light', 'MS Gothic', 'MT Extra', 'Constantia', 'Blackadder ITC', 'Candara', 'Yu Gothic', 'Hobo BT', 'Haansoft Batang', 'Magic R', 'Microsoft Himalaya', 'Book Antiqua', 'Engravers MT', 'Bradley Hand ITC', 'Bodoni MT', 'Brush Script MT', 'Century Schoolbook', 'Haan YGodic 230', 'Segoe Print', 'HYsnrL', 'Sitka Small', 'Elephant', 'Microsoft YaHei', 'Microsoft Tai Le', 'Bookman Old Style', 'Bodoni MT', 'Bookman Old Style', 'MJemokBatang', 'Yj SHANALL Medium ', 'Tahoma', 'Kunstler Script', 'Yj BLOCK Medium', 'Chiller', 'Script MT Bold', 'Segoe UI', 'NanumSquareOTF', 'Lucida Bright', 'Microsoft Uighur', 'Calibri', 'YJ BELLA Medium', 'Bodoni MT', 'Magneto', 'Algerian', 'Garamond', 'HYSinMyeongJo-Medium', 'Lucida Sans', 'NanumSquareOTF_ac', 'Wide Latin', 'MurrayHill Bd BT', 'MingLiU-ExtB', 'Yj SOSEL SemiBold', 'Perpetua', 'Lucida Sans', 'Bookman Old Style', 'Bodoni Bk BT', 'HCR Batang', 'Lucida Calligraphy', 'Lucida Sans Typewriter', 'NanumSquare', 'Gulim', 'AmeriGarmnd BT', 'Leelawadee', 'Cambria', 'Calisto MT', '??????', 'NanumGothic', 'Wingdings 2', 'Sitka Small', 'Mongolian Baiti', 'Arial', 'Goudy Old Style', 'YJ INJANG Medium', 'Franklin Gothic Heavy', 'Lucida Fax', 'Myanmar Text', 'Yu Gothic', 'HYtbrB', 'Playbill', 'Matura MT Script Capitals', 'Snap ITC', 'NanumSquareOTF_ac', '????', 'Rockwell', 'Gadugi', 'HCR Dotum Ext', 'Arial Unicode MS', 'Courier New', 'Microsoft YaHei', 'Meiryo', 'Bernard MT Condensed', 'Yj DOOLGI Medium', 'Microsoft New Tai Lue', 'Mistral', 'Baskerville Old Face', 'Consolas', '????', 'HYMyeongJo-Extra', 'Ami R', 'Stencil', 'Segoe Script', 'NanumSquare_ac', 'Palatino Linotype', 'MGungJeong', 'Impact', 'OCR-A BT', 'Perpetua Titling MT', 'Forte', 'Segoe UI', 'HYPost-Medium', 'Comic Sans MS', 'Symbol', 'Centaur', 'Lucida Fax', 'Courier10 BT', 'Bookman Old Style', 'Perpetua Titling MT', 'Nirmala UI', 'Arial', 'Gill Sans Ultra Bold Condensed', 'Microsoft JhengHei', 'HYgtrE', 'Bell MT', 'ParkAvenue BT', 'Nirmala UI', 'Swis721 BT', 'Book Antiqua', 'Candara', 'Vivaldi', 'Dubai', 'Poor Richard', 'Courier New', 'MSugiHeulim', 'MSugiJeong', 'Rage Italic', 'Bodoni MT', 'Malgun Gothic', 'Perpetua', 'SimSun-ExtB', 'MDEasop', 'HYnamM', 'Segoe UI', 'HYmprL', 'Stencil BT', 'HoloLens MDL2 Assets', 'Segoe UI Symbol', 'Constantia', 'Arial', 'Segoe UI', 'Consolas', 'CentSchbook BT', 'NanumSquare_ac', 'Copperplate Gothic Bold', 'Bodoni MT', 'Yj GOTGAE Medium', 'Gill Sans MT Condensed', 'Californian FB', 'NanumSquareOTF_ac', 'Javanese Text', 'Lucida Console', 'Orbit-B BT', 'NanumSquare', 'HYbdaM', 'Californian FB', 'Papyrus', 'Monotype Corsiva', 'Webdings', 'Segoe UI Emoji', 'Segoe Script', 'HYsupM', 'Microsoft New Tai Lue', 'Old English Text MT', 'Consolas', 'Agency FB', 'Britannic Bold', 'Tw Cen MT', 'Segoe Print', 'AmeriGarmnd BT', 'Segoe UI', 'HYnamB', 'Candara', 'Harrington', 'HYcysM', 'Haan YGodic 240', 'Comic Sans MS', 'Franklin Gothic Demi', 'Calibri', 'Haan Sale M', 'Franklin Gothic Medium', 'HYPMokGak-Bold', 'Gill Sans MT', 'Book Antiqua', 'Tw Cen MT', 'Rockwell Condensed', 'Microsoft PhagsPa', 'Times New Roman', 'Franklin Gothic Medium', 'BroadwayEngraved BT', 'CentSchbook BT', 'Copperplate Gothic Light', '????', 'Trebuchet MS', 'Batang', 'FuturaBlack BT', 'Tw Cen MT Condensed', 'Pristina', 'Comic Sans MS', 'MHunmin', 'Haan Sollip B', 'MoeumT R', 'Kristen ITC', 'Lucida Fax', 'Malgun Gothic', 'Orator10 BT', 'HYkanM', 'Freestyle Script', 'Century Schoolbook', 'Haan Baekje M', 'NanumSquare_ac', 'HYnamL', 'Microsoft Sans Serif', 'Baskerville BT', 'HYGothic-Extra', 'Calisto MT', 'Edwardian Script ITC', 'Book Antiqua', 'GoudyOlSt BT', 'Century Gothic', 'AmeriGarmnd BT', 'Palatino Linotype', 'Haan YHead M', 'Bauhaus 93', 'Rockwell', 'Segoe UI', 'Calibri', 'Berlin Sans FB', 'HCR Batang', 'Rockwell', 'Lucida Sans Typewriter', 'Cooper Black', 'HYbsrB', 'Century Schoolbook', 'Cooper Blk BT', 'Parchment', 'Corbel', 'NanumSquareOTF', 'Gill Sans MT', 'Gadugi', 'Showcard Gothic', 'Haan Somang B', 'Yj BUTGOT Light ', 'CentSchbook BT', '??????', 'Liberty BT', 'Onyx', 'Swis721 BT', 'Yj INITIALPOSITIVE Medium', 'Dubai', 'Lucida Sans Typewriter', 'Trebuchet MS', 'Goudy Old Style', 'Elephant', 'Cambria', 'CommercialScript BT', 'Trebuchet MS', 'CentSchbook BT', 'Berlin Sans FB', 'Vladimir Script', 'Candara', 'FZSong_Superfont', 'HYShortSamul-Medium', 'MDAlong', 'Bodoni MT', 'Franklin Gothic Book', 'Agency FB', 'HYgprM', 'Georgia', 'Gigi', 'Segoe UI', 'Eras Bold ITC', 'Calisto MT', 'Gill Sans MT', 'Bodoni Bd BT', 'Bodoni Bd BT', 'Bodoni MT', 'Lucida Bright', 'HYHeadLine-Medium', 'Castellar', 'HYhaeseo', 'Cambria', 'Leelawadee', '??????', 'Bodoni Bk BT', 'Ravie', 'Calisto MT', 'Trebuchet MS', 'Gill Sans MT', 'MDArt', 'Yj NANCHO Medium', 'Corbel', 'HYsupB', 'Palace Script MT', 'NanumSquareOTF', 'Leelawadee UI', 'Microsoft PhagsPa', 'Niagara Engraved', 'Century Gothic', 'Courier New', 'Sitka Small', 'OCR-B-10 BT', 'Haan Sale B', 'Garamond', 'Wingdings 3', 'Leelawadee UI', 'Malgun Gothic', 'Haansoft Dotum', 'Segoe UI', 'Perpetua', 'Rockwell', 'Yu Gothic', 'Curlz MT', 'HYwulM', 'Cambria', 'Arial', 'Comic Sans MS', 'MV Boli', 'Yu Gothic', 'Gill Sans Ultra Bold', 'Berlin Sans FB Demi', 'Century Gothic', 'Haan Baekje B', 'Yj WADAG Medium', 'Franklin Gothic Demi', 'Ebrima', 'Franklin Gothic Heavy', 'Haan YGodic 250', 'Juice ITC', 'SimSun', 'Haan Cooljazz L', 'NanumSquare_ac', 'Headline R', 'HYporM', 'Sitka Small', 'French Script MT', 'Haettenschweiler', 'Dubai', 'HCR Batang Ext', 'ahn2006-B', 'HYsanB', 'Tempus Sans ITC', 'Century', 'Viner Hand ITC', 'Haan Cooljazz B', 'Georgia', 'Yj DWMMOOGJO', 'Meiryo', 'Ink Free', 'Century Gothic', 'Tw Cen MT Condensed Extra Bold', 'V3Detect', '??????', 'MDGaesung', 'HYmjrE', 'Rockwell Extra Bold', 'Verdana', 'Candara', 'Segoe UI Historic', 'Bodoni MT', 'HYbdaL', 'Tahoma', 'Haan YHead L', 'Bodoni MT', '??????', 'Segoe UI', 'HCR Dotum', 'High Tower Text', 'Segoe UI', 'Bahnschrift', 'Constantia', 'Corbel', 'Newtext Bk BT', 'Corbel', 'Sylfaen', 'HYGraphic-Medium', 'HYGothic-Medium', 'Haan Sollip M', 'Constantia', 'Yj GABI', 'Lucida Sans', 'Yj BACDOO Bold ', 'Arial', 'Microsoft Uighur', 'Calibri', 'Cooper Blk BT', 'BernhardFashion BT', 'Microsoft Tai Le', 'Eras Demi ITC', 'Verdana', 'Wingdings', 'AmeriGarmnd BT', 'Harlow Solid Italic', 'Microsoft Yi Baiti', 'Gabriola', 'MDSol', 'HYdnkM', 'Freehand591 BT', 'Felix Titling', 'Maiandra GD', '??????', 'Garamond', 'Footlight MT Light', 'Segoe UI', 'Lucida Handwriting', 'Perpetua', 'Courier10 BT', 'Palatino Linotype', 'Yj CHMSOOT Bold', 'Courier New', 'Broadway', 'Eras Light ITC', '??????', 'Goudy Old Style', 'Leelawadee UI', 'Georgia', 'High Tower Text', 'GoudyOlSt BT', 'Microsoft YaHei', 'Arial', 'Segoe UI', 'MDotum', 'Franklin Gothic Medium Cond', 'Corbel', '??????', 'Nirmala UI', 'Verdana', 'OCR A Extended', 'NanumSquareOTF_ac', 'Bell MT', 'HYGungSo-Bold', 'Franklin Gothic Demi Cond', 'Haan Somang M', 'ahn2006-L', 'Times New Roman', 'Microsoft JhengHei', 'Dubai', 'Ebrima', 'Arial', 'BrushScript BT', 'Blippo Blk BT', 'Calibri', 'NanumSquare', 'Lucida Bright', 'HYdnkB', 'Haan YHead B', 'Palatino Linotype', 'Tw Cen MT', 'Yj MAEHWA  SemiBold', 'New Gulim', 'Corbel', 'Bodoni MT', 'Imprint MT Shadow', 'Candara', 'Tw Cen MT Condensed', 'Lucida Fax', 'Goudy Stout', 'Arial', 'Myanmar Text', 'Gloucester MT Extra Condensed', 'Lucida Sans Typewriter', 'Niagara Solid', 'Century Schoolbook', 'Rockwell Condensed', 'Jokerman', 'Consolas', 'Lucida Sans', 'Times New Roman', 'Yj TEUNTEUN Bold'] \n",
      "\n"
     ]
    }
   ],
   "source": [
    "import matplotlib.font_manager as fm\n",
    "fontlist = fm.findSystemFonts(fontpaths=None, fontext='ttf')\n",
    "\n",
    "f = [f.name for f in fm.fontManager.ttflist]\n",
    "print(f'{f} \\n')"
   ]
  },
  {
   "cell_type": "code",
   "execution_count": 5,
   "metadata": {},
   "outputs": [],
   "source": [
    "import matplotlib.pyplot as plt\n",
    "import matplotlib.font_manager as fm\n",
    "\n",
    "# 한글 폰트 경로 설정 (예: 맑은 고딕)\n",
    "font_path = r'C:\\Windows\\Fonts\\malgun.ttf'  # Windows 기준\n",
    "font_prop = fm.FontProperties(fname=font_path)\n",
    "\n",
    "# 폰트 설정 적용\n",
    "plt.rcParams['font.family'] = font_prop.get_name()"
   ]
  },
  {
   "cell_type": "code",
   "execution_count": 6,
   "metadata": {},
   "outputs": [
    {
     "data": {
      "text/html": [
       "<div>\n",
       "<style scoped>\n",
       "    .dataframe tbody tr th:only-of-type {\n",
       "        vertical-align: middle;\n",
       "    }\n",
       "\n",
       "    .dataframe tbody tr th {\n",
       "        vertical-align: top;\n",
       "    }\n",
       "\n",
       "    .dataframe thead th {\n",
       "        text-align: right;\n",
       "    }\n",
       "</style>\n",
       "<table border=\"1\" class=\"dataframe\">\n",
       "  <thead>\n",
       "    <tr style=\"text-align: right;\">\n",
       "      <th></th>\n",
       "      <th>기간</th>\n",
       "      <th>대분류</th>\n",
       "      <th>분류</th>\n",
       "      <th>운동을 할 충분한 시간이 없어서</th>\n",
       "      <th>함께 운동을 할 사람이 없어서</th>\n",
       "      <th>운동을 할 만한 장소가 없어서</th>\n",
       "      <th>운동을 싫어해서</th>\n",
       "      <th>기타</th>\n",
       "    </tr>\n",
       "  </thead>\n",
       "  <tbody>\n",
       "    <tr>\n",
       "      <th>0</th>\n",
       "      <td>2017</td>\n",
       "      <td>서울시</td>\n",
       "      <td>서울시</td>\n",
       "      <td>49.7</td>\n",
       "      <td>8.1</td>\n",
       "      <td>5.8</td>\n",
       "      <td>34.7</td>\n",
       "      <td>1.7</td>\n",
       "    </tr>\n",
       "    <tr>\n",
       "      <th>1</th>\n",
       "      <td>2017</td>\n",
       "      <td>성별</td>\n",
       "      <td>남자</td>\n",
       "      <td>55.2</td>\n",
       "      <td>7.9</td>\n",
       "      <td>5.5</td>\n",
       "      <td>29.8</td>\n",
       "      <td>1.6</td>\n",
       "    </tr>\n",
       "    <tr>\n",
       "      <th>2</th>\n",
       "      <td>2017</td>\n",
       "      <td>성별</td>\n",
       "      <td>여자</td>\n",
       "      <td>45.0</td>\n",
       "      <td>8.3</td>\n",
       "      <td>6.0</td>\n",
       "      <td>38.8</td>\n",
       "      <td>1.8</td>\n",
       "    </tr>\n",
       "    <tr>\n",
       "      <th>3</th>\n",
       "      <td>2017</td>\n",
       "      <td>연령별</td>\n",
       "      <td>10대</td>\n",
       "      <td>55.7</td>\n",
       "      <td>6.1</td>\n",
       "      <td>5.6</td>\n",
       "      <td>32.2</td>\n",
       "      <td>0.3</td>\n",
       "    </tr>\n",
       "    <tr>\n",
       "      <th>4</th>\n",
       "      <td>2017</td>\n",
       "      <td>연령별</td>\n",
       "      <td>20대</td>\n",
       "      <td>54.8</td>\n",
       "      <td>6.9</td>\n",
       "      <td>5.2</td>\n",
       "      <td>32.9</td>\n",
       "      <td>0.1</td>\n",
       "    </tr>\n",
       "  </tbody>\n",
       "</table>\n",
       "</div>"
      ],
      "text/plain": [
       "     기간  대분류   분류  운동을 할 충분한 시간이 없어서 함께 운동을 할 사람이 없어서  운동을 할 만한 장소가 없어서  \\\n",
       "0  2017  서울시  서울시               49.7              8.1               5.8   \n",
       "1  2017   성별   남자               55.2              7.9               5.5   \n",
       "2  2017   성별   여자               45.0              8.3               6.0   \n",
       "3  2017  연령별  10대               55.7              6.1               5.6   \n",
       "4  2017  연령별  20대               54.8              6.9               5.2   \n",
       "\n",
       "   운동을 싫어해서   기타  \n",
       "0      34.7  1.7  \n",
       "1      29.8  1.6  \n",
       "2      38.8  1.8  \n",
       "3      32.2  0.3  \n",
       "4      32.9  0.1  "
      ]
     },
     "execution_count": 6,
     "metadata": {},
     "output_type": "execute_result"
    }
   ],
   "source": [
    "df1 = pd.DataFrame(df)\n",
    "df1.head()"
   ]
  },
  {
   "cell_type": "code",
   "execution_count": 7,
   "metadata": {},
   "outputs": [
    {
     "data": {
      "text/plain": [
       "<Figure size 800x800 with 0 Axes>"
      ]
     },
     "execution_count": 7,
     "metadata": {},
     "output_type": "execute_result"
    },
    {
     "data": {
      "text/plain": [
       "<Axes: >"
      ]
     },
     "execution_count": 7,
     "metadata": {},
     "output_type": "execute_result"
    },
    {
     "ename": "ValueError",
     "evalue": "could not convert string to float: '성별'",
     "output_type": "error",
     "traceback": [
      "\u001b[1;31m---------------------------------------------------------------------------\u001b[0m",
      "\u001b[1;31mValueError\u001b[0m                                Traceback (most recent call last)",
      "Cell \u001b[1;32mIn[7], line 26\u001b[0m\n\u001b[0;32m     24\u001b[0m   \u001b[38;5;66;03m#pie그래프 그리기\u001b[39;00m\n\u001b[0;32m     25\u001b[0m   plt\u001b[38;5;241m.\u001b[39msubplot(\u001b[38;5;241m2\u001b[39m,\u001b[38;5;241m2\u001b[39m,i\u001b[38;5;241m+\u001b[39m\u001b[38;5;241m1\u001b[39m)\n\u001b[1;32m---> 26\u001b[0m   plt\u001b[38;5;241m.\u001b[39mpie([m_data,f_data], labels\u001b[38;5;241m=\u001b[39mlabel, autopct\u001b[38;5;241m=\u001b[39m\u001b[38;5;124m'\u001b[39m\u001b[38;5;132;01m%.1f\u001b[39;00m\u001b[38;5;132;01m%%\u001b[39;00m\u001b[38;5;124m'\u001b[39m, explode\u001b[38;5;241m=\u001b[39mexplode)\n\u001b[0;32m     27\u001b[0m   plt\u001b[38;5;241m.\u001b[39mtitle(col)\n\u001b[0;32m     29\u001b[0m plt\u001b[38;5;241m.\u001b[39mtight_layout(pad\u001b[38;5;241m=\u001b[39m\u001b[38;5;241m3.0\u001b[39m)\n",
      "File \u001b[1;32mc:\\Users\\hhhmh\\anaconda3\\Lib\\site-packages\\matplotlib\\pyplot.py:3558\u001b[0m, in \u001b[0;36mpie\u001b[1;34m(x, explode, labels, colors, autopct, pctdistance, shadow, labeldistance, startangle, radius, counterclock, wedgeprops, textprops, center, frame, rotatelabels, normalize, hatch, data)\u001b[0m\n\u001b[0;32m   3535\u001b[0m \u001b[38;5;129m@_copy_docstring_and_deprecators\u001b[39m(Axes\u001b[38;5;241m.\u001b[39mpie)\n\u001b[0;32m   3536\u001b[0m \u001b[38;5;28;01mdef\u001b[39;00m \u001b[38;5;21mpie\u001b[39m(\n\u001b[0;32m   3537\u001b[0m     x: ArrayLike,\n\u001b[1;32m   (...)\u001b[0m\n\u001b[0;32m   3556\u001b[0m     data\u001b[38;5;241m=\u001b[39m\u001b[38;5;28;01mNone\u001b[39;00m,\n\u001b[0;32m   3557\u001b[0m ) \u001b[38;5;241m-\u001b[39m\u001b[38;5;241m>\u001b[39m \u001b[38;5;28mtuple\u001b[39m[\u001b[38;5;28mlist\u001b[39m[Wedge], \u001b[38;5;28mlist\u001b[39m[Text]] \u001b[38;5;241m|\u001b[39m \u001b[38;5;28mtuple\u001b[39m[\u001b[38;5;28mlist\u001b[39m[Wedge], \u001b[38;5;28mlist\u001b[39m[Text], \u001b[38;5;28mlist\u001b[39m[Text]]:\n\u001b[1;32m-> 3558\u001b[0m     \u001b[38;5;28;01mreturn\u001b[39;00m gca()\u001b[38;5;241m.\u001b[39mpie(\n\u001b[0;32m   3559\u001b[0m         x,\n\u001b[0;32m   3560\u001b[0m         explode\u001b[38;5;241m=\u001b[39mexplode,\n\u001b[0;32m   3561\u001b[0m         labels\u001b[38;5;241m=\u001b[39mlabels,\n\u001b[0;32m   3562\u001b[0m         colors\u001b[38;5;241m=\u001b[39mcolors,\n\u001b[0;32m   3563\u001b[0m         autopct\u001b[38;5;241m=\u001b[39mautopct,\n\u001b[0;32m   3564\u001b[0m         pctdistance\u001b[38;5;241m=\u001b[39mpctdistance,\n\u001b[0;32m   3565\u001b[0m         shadow\u001b[38;5;241m=\u001b[39mshadow,\n\u001b[0;32m   3566\u001b[0m         labeldistance\u001b[38;5;241m=\u001b[39mlabeldistance,\n\u001b[0;32m   3567\u001b[0m         startangle\u001b[38;5;241m=\u001b[39mstartangle,\n\u001b[0;32m   3568\u001b[0m         radius\u001b[38;5;241m=\u001b[39mradius,\n\u001b[0;32m   3569\u001b[0m         counterclock\u001b[38;5;241m=\u001b[39mcounterclock,\n\u001b[0;32m   3570\u001b[0m         wedgeprops\u001b[38;5;241m=\u001b[39mwedgeprops,\n\u001b[0;32m   3571\u001b[0m         textprops\u001b[38;5;241m=\u001b[39mtextprops,\n\u001b[0;32m   3572\u001b[0m         center\u001b[38;5;241m=\u001b[39mcenter,\n\u001b[0;32m   3573\u001b[0m         frame\u001b[38;5;241m=\u001b[39mframe,\n\u001b[0;32m   3574\u001b[0m         rotatelabels\u001b[38;5;241m=\u001b[39mrotatelabels,\n\u001b[0;32m   3575\u001b[0m         normalize\u001b[38;5;241m=\u001b[39mnormalize,\n\u001b[0;32m   3576\u001b[0m         hatch\u001b[38;5;241m=\u001b[39mhatch,\n\u001b[0;32m   3577\u001b[0m         \u001b[38;5;241m*\u001b[39m\u001b[38;5;241m*\u001b[39m({\u001b[38;5;124m\"\u001b[39m\u001b[38;5;124mdata\u001b[39m\u001b[38;5;124m\"\u001b[39m: data} \u001b[38;5;28;01mif\u001b[39;00m data \u001b[38;5;129;01mis\u001b[39;00m \u001b[38;5;129;01mnot\u001b[39;00m \u001b[38;5;28;01mNone\u001b[39;00m \u001b[38;5;28;01melse\u001b[39;00m {}),\n\u001b[0;32m   3578\u001b[0m     )\n",
      "File \u001b[1;32mc:\\Users\\hhhmh\\anaconda3\\Lib\\site-packages\\matplotlib\\__init__.py:1465\u001b[0m, in \u001b[0;36m_preprocess_data.<locals>.inner\u001b[1;34m(ax, data, *args, **kwargs)\u001b[0m\n\u001b[0;32m   1462\u001b[0m \u001b[38;5;129m@functools\u001b[39m\u001b[38;5;241m.\u001b[39mwraps(func)\n\u001b[0;32m   1463\u001b[0m \u001b[38;5;28;01mdef\u001b[39;00m \u001b[38;5;21minner\u001b[39m(ax, \u001b[38;5;241m*\u001b[39margs, data\u001b[38;5;241m=\u001b[39m\u001b[38;5;28;01mNone\u001b[39;00m, \u001b[38;5;241m*\u001b[39m\u001b[38;5;241m*\u001b[39mkwargs):\n\u001b[0;32m   1464\u001b[0m     \u001b[38;5;28;01mif\u001b[39;00m data \u001b[38;5;129;01mis\u001b[39;00m \u001b[38;5;28;01mNone\u001b[39;00m:\n\u001b[1;32m-> 1465\u001b[0m         \u001b[38;5;28;01mreturn\u001b[39;00m func(ax, \u001b[38;5;241m*\u001b[39m\u001b[38;5;28mmap\u001b[39m(sanitize_sequence, args), \u001b[38;5;241m*\u001b[39m\u001b[38;5;241m*\u001b[39mkwargs)\n\u001b[0;32m   1467\u001b[0m     bound \u001b[38;5;241m=\u001b[39m new_sig\u001b[38;5;241m.\u001b[39mbind(ax, \u001b[38;5;241m*\u001b[39margs, \u001b[38;5;241m*\u001b[39m\u001b[38;5;241m*\u001b[39mkwargs)\n\u001b[0;32m   1468\u001b[0m     auto_label \u001b[38;5;241m=\u001b[39m (bound\u001b[38;5;241m.\u001b[39marguments\u001b[38;5;241m.\u001b[39mget(label_namer)\n\u001b[0;32m   1469\u001b[0m                   \u001b[38;5;129;01mor\u001b[39;00m bound\u001b[38;5;241m.\u001b[39mkwargs\u001b[38;5;241m.\u001b[39mget(label_namer))\n",
      "File \u001b[1;32mc:\\Users\\hhhmh\\anaconda3\\Lib\\site-packages\\matplotlib\\axes\\_axes.py:3222\u001b[0m, in \u001b[0;36mAxes.pie\u001b[1;34m(self, x, explode, labels, colors, autopct, pctdistance, shadow, labeldistance, startangle, radius, counterclock, wedgeprops, textprops, center, frame, rotatelabels, normalize, hatch)\u001b[0m\n\u001b[0;32m   3219\u001b[0m \u001b[38;5;28mself\u001b[39m\u001b[38;5;241m.\u001b[39mset_aspect(\u001b[38;5;124m'\u001b[39m\u001b[38;5;124mequal\u001b[39m\u001b[38;5;124m'\u001b[39m)\n\u001b[0;32m   3220\u001b[0m \u001b[38;5;66;03m# The use of float32 is \"historical\", but can't be changed without\u001b[39;00m\n\u001b[0;32m   3221\u001b[0m \u001b[38;5;66;03m# regenerating the test baselines.\u001b[39;00m\n\u001b[1;32m-> 3222\u001b[0m x \u001b[38;5;241m=\u001b[39m np\u001b[38;5;241m.\u001b[39masarray(x, np\u001b[38;5;241m.\u001b[39mfloat32)\n\u001b[0;32m   3223\u001b[0m \u001b[38;5;28;01mif\u001b[39;00m x\u001b[38;5;241m.\u001b[39mndim \u001b[38;5;241m>\u001b[39m \u001b[38;5;241m1\u001b[39m:\n\u001b[0;32m   3224\u001b[0m     \u001b[38;5;28;01mraise\u001b[39;00m \u001b[38;5;167;01mValueError\u001b[39;00m(\u001b[38;5;124m\"\u001b[39m\u001b[38;5;124mx must be 1D\u001b[39m\u001b[38;5;124m\"\u001b[39m)\n",
      "\u001b[1;31mValueError\u001b[0m: could not convert string to float: '성별'"
     ]
    },
    {
     "data": {
      "image/png": "[encoded data removed]",
      "text/plain": [
       "<Figure size 800x800 with 1 Axes>"
      ]
     },
     "metadata": {},
     "output_type": "display_data"
    }
   ],
   "source": [
    "\n",
    "\n",
    "#성별로 분류\n",
    "male =df1[df1['분류']=='남자'].iloc[:,1:]\n",
    "female = df1[df1['분류']=='여자'].iloc[:,1:]\n",
    "\n",
    "#두개의 데이터셋 하나로 합쳐서 편하게 가지고 오기\n",
    "comp=pd.concat([male,female])\n",
    "\n",
    "#컬럼이름, 라벨 정하기기\n",
    "cols=comp.columns\n",
    "label = ['남자','여자']\n",
    "\n",
    "# 파이 차트 크기 설정\n",
    "plt.figure(figsize=(8,8))\n",
    "\n",
    "#explode설정하기 [파이그래프 간격 조정]\n",
    "explode = [0,0.03]\n",
    "\n",
    "for i in range(len(cols)):\n",
    "  #for문 돌릴 데이터 만들기\n",
    "  col = cols[i]\n",
    "  m_data = comp.iloc[:,i].values[0]\n",
    "  f_data = comp.iloc[:,i].values[1]\n",
    "\n",
    "  #pie그래프 그리기\n",
    "  plt.subplot(2,2,i+1)\n",
    "  plt.pie([m_data,f_data], labels=label, autopct='%.1f%%', explode=explode)\n",
    "  plt.title(col)\n",
    "  \n",
    "plt.tight_layout(pad=3.0)\n",
    "plt.show()"
   ]
  },
  {
   "cell_type": "code",
   "execution_count": 31,
   "metadata": {},
   "outputs": [
    {
     "data": {
      "text/plain": [
       "<Figure size 800x800 with 0 Axes>"
      ]
     },
     "execution_count": 31,
     "metadata": {},
     "output_type": "execute_result"
    },
    {
     "data": {
      "text/plain": [
       "<Axes: >"
      ]
     },
     "execution_count": 31,
     "metadata": {},
     "output_type": "execute_result"
    },
    {
     "data": {
      "text/plain": [
       "([<matplotlib.patches.Wedge at 0x1e716371050>,\n",
       "  <matplotlib.patches.Wedge at 0x1e7181260d0>],\n",
       " [Text(-0.1751431478658676, 1.085967254458271, '남자'),\n",
       "  Text(0.17991998806842344, -1.1155845095255932, '여자')],\n",
       " [Text(-0.09553262610865504, 0.5923457751590568, '55.1%'),\n",
       "  Text(0.10030937387885552, -0.6219630451337378, '44.9%')])"
      ]
     },
     "execution_count": 31,
     "metadata": {},
     "output_type": "execute_result"
    },
    {
     "data": {
      "text/plain": [
       "Text(0.5, 1.0, '운동을 할 충분한 시간이 없어서')"
      ]
     },
     "execution_count": 31,
     "metadata": {},
     "output_type": "execute_result"
    },
    {
     "data": {
      "text/plain": [
       "<Axes: >"
      ]
     },
     "execution_count": 31,
     "metadata": {},
     "output_type": "execute_result"
    },
    {
     "data": {
      "text/plain": [
       "([<matplotlib.patches.Wedge at 0x1e7153a7d10>,\n",
       "  <matplotlib.patches.Wedge at 0x1e718166ad0>],\n",
       " [Text(0.042652985884112794, 1.0991727447472348, '남자'),\n",
       "  Text(-0.04381635485416722, -1.129150179137963, '여자')],\n",
       " [Text(0.023265265027697886, 0.599548769862128, '48.8%'),\n",
       "  Text(-0.024428587219579953, -0.6295262060680679, '51.2%')])"
      ]
     },
     "execution_count": 31,
     "metadata": {},
     "output_type": "execute_result"
    },
    {
     "data": {
      "text/plain": [
       "Text(0.5, 1.0, '함께 운동을 할 사람이 없어서')"
      ]
     },
     "execution_count": 31,
     "metadata": {},
     "output_type": "execute_result"
    },
    {
     "data": {
      "text/plain": [
       "<Axes: >"
      ]
     },
     "execution_count": 31,
     "metadata": {},
     "output_type": "execute_result"
    },
    {
     "data": {
      "text/plain": [
       "([<matplotlib.patches.Wedge at 0x1e718170050>,\n",
       "  <matplotlib.patches.Wedge at 0x1e7181aaa10>],\n",
       " [Text(0.22508816117183084, 1.0767243471289596, '남자'),\n",
       "  Text(-0.23122703276336715, -1.1060895349470805, '여자')],\n",
       " [Text(0.12277536063918044, 0.5873041893430687, '43.4%'),\n",
       "  Text(-0.12891418640789493, -0.6166693867404077, '56.6%')])"
      ]
     },
     "execution_count": 31,
     "metadata": {},
     "output_type": "execute_result"
    },
    {
     "data": {
      "text/plain": [
       "Text(0.5, 1.0, '운동을 싫어해서')"
      ]
     },
     "execution_count": 31,
     "metadata": {},
     "output_type": "execute_result"
    },
    {
     "data": {
      "text/plain": [
       "<Axes: >"
      ]
     },
     "execution_count": 31,
     "metadata": {},
     "output_type": "execute_result"
    },
    {
     "data": {
      "text/plain": [
       "([<matplotlib.patches.Wedge at 0x1e7181ccb50>,\n",
       "  <matplotlib.patches.Wedge at 0x1e7181f3a10>],\n",
       " [Text(0.07506663683168746, 1.097435647331897, '남자'),\n",
       "  Text(-0.07711390874527908, -1.1273657104409487, '여자')],\n",
       " [Text(0.040945438271829525, 0.5986012621810346, '47.8%'),\n",
       "  Text(-0.04299271018542107, -0.6285313252900864, '52.2%')])"
      ]
     },
     "execution_count": 31,
     "metadata": {},
     "output_type": "execute_result"
    },
    {
     "data": {
      "text/plain": [
       "Text(0.5, 1.0, '운동을 할 만한 장소가 없어서')"
      ]
     },
     "execution_count": 31,
     "metadata": {},
     "output_type": "execute_result"
    },
    {
     "data": {
      "image/png": "[encoded data removed]",
      "text/plain": [
       "<Figure size 800x800 with 4 Axes>"
      ]
     },
     "metadata": {},
     "output_type": "display_data"
    }
   ],
   "source": [
    "#성별로 분류\n",
    "male =df[df['분류']=='남자'].iloc[:,1:]\n",
    "female = df[df['분류']=='여자'].iloc[:,1:]\n",
    "\n",
    "#두개의 데이터셋 하나로 합쳐서 처리하기 편하게하기기\n",
    "comp=pd.concat([male,female])\n",
    "\n",
    "#컬럼이름, 라벨 정하기기\n",
    "cols=comp.columns\n",
    "label = ['남자','여자']\n",
    "\n",
    "# 파이 차트 크기 설정\n",
    "plt.figure(figsize=(8,8))\n",
    "\n",
    "#explode설정하기 [파이그래프 간격 조정]\n",
    "explode = [0,0.03]\n",
    "\n",
    "#그림과 같이 4번째열이 3번째 오도록 변경, enumerate활용\n",
    "#인덱스와 값으로 동시에 반환하기때문에 활용범위가 넓다.\n",
    "\n",
    "for i, idx in enumerate([0,1,3,2]):\n",
    "  #for문 돌릴 데이터 만들기\n",
    "  col = cols[idx]\n",
    "  m_data = comp.iloc[0,idx]\n",
    "  f_data = comp.iloc[1,idx]\n",
    "\n",
    "  #pie그래프 그리기\n",
    "  plt.subplot(2,2,i+1)\n",
    "  plt.pie([m_data,f_data], labels=label, autopct='%.1f%%', explode=explode)\n",
    "  plt.title(col)\n",
    "  \n",
    "plt.tight_layout(pad=3.0)\n",
    "plt.show()"
   ]
  },
  {
   "cell_type": "code",
   "execution_count": 20,
   "metadata": {},
   "outputs": [
    {
     "data": {
      "text/html": [
       "<div>\n",
       "<style scoped>\n",
       "    .dataframe tbody tr th:only-of-type {\n",
       "        vertical-align: middle;\n",
       "    }\n",
       "\n",
       "    .dataframe tbody tr th {\n",
       "        vertical-align: top;\n",
       "    }\n",
       "\n",
       "    .dataframe thead th {\n",
       "        text-align: right;\n",
       "    }\n",
       "</style>\n",
       "<table border=\"1\" class=\"dataframe\">\n",
       "  <thead>\n",
       "    <tr style=\"text-align: right;\">\n",
       "      <th></th>\n",
       "      <th>기간</th>\n",
       "      <th>대분류</th>\n",
       "      <th>분류</th>\n",
       "      <th>운동을 할 충분한 시간이 없어서</th>\n",
       "      <th>함께 운동을 할 사람이 없어서</th>\n",
       "      <th>운동을 할 만한 장소가 없어서</th>\n",
       "      <th>운동을 싫어해서</th>\n",
       "      <th>기타</th>\n",
       "    </tr>\n",
       "  </thead>\n",
       "  <tbody>\n",
       "    <tr>\n",
       "      <th>9</th>\n",
       "      <td>2017</td>\n",
       "      <td>학력별</td>\n",
       "      <td>중졸 이하</td>\n",
       "      <td>26.1</td>\n",
       "      <td>13.7</td>\n",
       "      <td>6.6</td>\n",
       "      <td>46.2</td>\n",
       "      <td>7.4</td>\n",
       "    </tr>\n",
       "    <tr>\n",
       "      <th>10</th>\n",
       "      <td>2017</td>\n",
       "      <td>학력별</td>\n",
       "      <td>고졸 이하</td>\n",
       "      <td>46.3</td>\n",
       "      <td>8.5</td>\n",
       "      <td>6.9</td>\n",
       "      <td>36.5</td>\n",
       "      <td>1.7</td>\n",
       "    </tr>\n",
       "    <tr>\n",
       "      <th>11</th>\n",
       "      <td>2017</td>\n",
       "      <td>학력별</td>\n",
       "      <td>대졸 이하</td>\n",
       "      <td>57.4</td>\n",
       "      <td>6.6</td>\n",
       "      <td>4.9</td>\n",
       "      <td>30.7</td>\n",
       "      <td>0.4</td>\n",
       "    </tr>\n",
       "    <tr>\n",
       "      <th>12</th>\n",
       "      <td>2017</td>\n",
       "      <td>학력별</td>\n",
       "      <td>대학원 이상</td>\n",
       "      <td>65.3</td>\n",
       "      <td>3.8</td>\n",
       "      <td>0.6</td>\n",
       "      <td>29.6</td>\n",
       "      <td>0.6</td>\n",
       "    </tr>\n",
       "  </tbody>\n",
       "</table>\n",
       "</div>"
      ],
      "text/plain": [
       "      기간  대분류      분류  운동을 할 충분한 시간이 없어서 함께 운동을 할 사람이 없어서  운동을 할 만한 장소가 없어서  \\\n",
       "9   2017  학력별   중졸 이하               26.1             13.7               6.6   \n",
       "10  2017  학력별   고졸 이하               46.3              8.5               6.9   \n",
       "11  2017  학력별   대졸 이하               57.4              6.6               4.9   \n",
       "12  2017  학력별  대학원 이상               65.3              3.8               0.6   \n",
       "\n",
       "    운동을 싫어해서   기타  \n",
       "9       46.2  7.4  \n",
       "10      36.5  1.7  \n",
       "11      30.7  0.4  \n",
       "12      29.6  0.6  "
      ]
     },
     "execution_count": 20,
     "metadata": {},
     "output_type": "execute_result"
    }
   ],
   "source": [
    "df.iloc[9:13]"
   ]
  },
  {
   "cell_type": "code",
   "execution_count": 153,
   "metadata": {},
   "outputs": [
    {
     "data": {
      "text/plain": [
       "{10:      기간  대분류   분류  운동을 할 충분한 시간이 없어서 함께 운동을 할 사람이 없어서  운동을 할 만한 장소가 없어서  \\\n",
       " 3  2017  연령별  10대               55.7              6.1               5.6   \n",
       " \n",
       "    운동을 싫어해서   기타  \n",
       " 3      32.2  0.3  ,\n",
       " 20:      기간  대분류   분류  운동을 할 충분한 시간이 없어서 함께 운동을 할 사람이 없어서  운동을 할 만한 장소가 없어서  \\\n",
       " 4  2017  연령별  20대               54.8              6.9               5.2   \n",
       " \n",
       "    운동을 싫어해서   기타  \n",
       " 4      32.9  0.1  ,\n",
       " 30:      기간  대분류   분류  운동을 할 충분한 시간이 없어서 함께 운동을 할 사람이 없어서  운동을 할 만한 장소가 없어서  \\\n",
       " 5  2017  연령별  30대               58.1              5.5               4.6   \n",
       " \n",
       "    운동을 싫어해서   기타  \n",
       " 5      31.6  0.2  ,\n",
       " 40:      기간  대분류   분류  운동을 할 충분한 시간이 없어서 함께 운동을 할 사람이 없어서  운동을 할 만한 장소가 없어서  \\\n",
       " 6  2017  연령별  40대               57.7              6.8               5.2   \n",
       " \n",
       "    운동을 싫어해서 기타  \n",
       " 6      29.4  1  ,\n",
       " 50:      기간  대분류   분류  운동을 할 충분한 시간이 없어서 함께 운동을 할 사람이 없어서  운동을 할 만한 장소가 없어서  \\\n",
       " 7  2017  연령별  50대               50.1              9.2               7.2   \n",
       " \n",
       "    운동을 싫어해서   기타  \n",
       " 7      32.2  1.4  }"
      ]
     },
     "execution_count": 153,
     "metadata": {},
     "output_type": "execute_result"
    },
    {
     "data": {
      "text/plain": [
       "['운동을 할 충분한 시간이 없어서', '함께 운동을 할 사람이 없어서', '운동을 할 만한 장소가 없어서', '운동을 싫어해서']"
      ]
     },
     "execution_count": 153,
     "metadata": {},
     "output_type": "execute_result"
    }
   ],
   "source": [
    "#세대별 데이터 묶음\n",
    "data={}\n",
    "\n",
    "for i in range(1,6):\n",
    "  age_group = f'{i}0대'\n",
    "  data[i*10] = df[df['분류']==age_group]\n",
    "\n",
    "data\n",
    "for i in range (len(data)):\n",
    "  label = list(data.keys())\n",
    "  columns1 = list(data[10].keys())\n",
    "\n",
    "#필요한 컬럼만 잘라서가지고오기\n",
    "columns1 = columns1[3:-1]\n",
    "\n",
    "#세대별 데이터 정리\n",
    "valu =[]\n",
    "\n"
   ]
  },
  {
   "cell_type": "code",
   "execution_count": 265,
   "metadata": {},
   "outputs": [
    {
     "data": {
      "text/html": [
       "<div>\n",
       "<style scoped>\n",
       "    .dataframe tbody tr th:only-of-type {\n",
       "        vertical-align: middle;\n",
       "    }\n",
       "\n",
       "    .dataframe tbody tr th {\n",
       "        vertical-align: top;\n",
       "    }\n",
       "\n",
       "    .dataframe thead th {\n",
       "        text-align: right;\n",
       "    }\n",
       "</style>\n",
       "<table border=\"1\" class=\"dataframe\">\n",
       "  <thead>\n",
       "    <tr style=\"text-align: right;\">\n",
       "      <th></th>\n",
       "      <th>분류</th>\n",
       "      <th>운동을 할 충분한 시간이 없어서</th>\n",
       "      <th>함께 운동을 할 사람이 없어서</th>\n",
       "      <th>운동을 할 만한 장소가 없어서</th>\n",
       "      <th>운동을 싫어해서</th>\n",
       "    </tr>\n",
       "  </thead>\n",
       "  <tbody>\n",
       "    <tr>\n",
       "      <th>0</th>\n",
       "      <td>10대</td>\n",
       "      <td>55.7</td>\n",
       "      <td>6.1</td>\n",
       "      <td>5.6</td>\n",
       "      <td>32.2</td>\n",
       "    </tr>\n",
       "    <tr>\n",
       "      <th>1</th>\n",
       "      <td>20대</td>\n",
       "      <td>54.8</td>\n",
       "      <td>6.9</td>\n",
       "      <td>5.2</td>\n",
       "      <td>32.9</td>\n",
       "    </tr>\n",
       "    <tr>\n",
       "      <th>2</th>\n",
       "      <td>30대</td>\n",
       "      <td>58.1</td>\n",
       "      <td>5.5</td>\n",
       "      <td>4.6</td>\n",
       "      <td>31.6</td>\n",
       "    </tr>\n",
       "    <tr>\n",
       "      <th>3</th>\n",
       "      <td>40대</td>\n",
       "      <td>57.7</td>\n",
       "      <td>6.8</td>\n",
       "      <td>5.2</td>\n",
       "      <td>29.4</td>\n",
       "    </tr>\n",
       "    <tr>\n",
       "      <th>4</th>\n",
       "      <td>50대</td>\n",
       "      <td>50.1</td>\n",
       "      <td>9.2</td>\n",
       "      <td>7.2</td>\n",
       "      <td>32.2</td>\n",
       "    </tr>\n",
       "    <tr>\n",
       "      <th>5</th>\n",
       "      <td>60대 이상</td>\n",
       "      <td>27.5</td>\n",
       "      <td>12.8</td>\n",
       "      <td>6.9</td>\n",
       "      <td>46.8</td>\n",
       "    </tr>\n",
       "  </tbody>\n",
       "</table>\n",
       "</div>"
      ],
      "text/plain": [
       "       분류 운동을 할 충분한 시간이 없어서 함께 운동을 할 사람이 없어서 운동을 할 만한 장소가 없어서 운동을 싫어해서\n",
       "0     10대              55.7              6.1              5.6     32.2\n",
       "1     20대              54.8              6.9              5.2     32.9\n",
       "2     30대              58.1              5.5              4.6     31.6\n",
       "3     40대              57.7              6.8              5.2     29.4\n",
       "4     50대              50.1              9.2              7.2     32.2\n",
       "5  60대 이상              27.5             12.8              6.9     46.8"
      ]
     },
     "execution_count": 265,
     "metadata": {},
     "output_type": "execute_result"
    },
    {
     "data": {
      "text/plain": [
       "<Figure size 1000x1000 with 0 Axes>"
      ]
     },
     "execution_count": 265,
     "metadata": {},
     "output_type": "execute_result"
    },
    {
     "data": {
      "text/plain": [
       "<Axes: >"
      ]
     },
     "execution_count": 265,
     "metadata": {},
     "output_type": "execute_result"
    },
    {
     "data": {
      "text/plain": [
       "Text(0.5, 1.0, '운동을 할 충분한 시간이 없어서')"
      ]
     },
     "execution_count": 265,
     "metadata": {},
     "output_type": "execute_result"
    },
    {
     "data": {
      "text/plain": [
       "([<matplotlib.patches.Wedge at 0x1e72cf53450>,\n",
       "  <matplotlib.patches.Wedge at 0x1e72cf64110>,\n",
       "  <matplotlib.patches.Wedge at 0x1e72cf65510>,\n",
       "  <matplotlib.patches.Wedge at 0x1e72cf64d90>,\n",
       "  <matplotlib.patches.Wedge at 0x1e72cf74210>,\n",
       "  <matplotlib.patches.Wedge at 0x1e72cf75d50>],\n",
       " [Text(0.9394055945364395, 0.6098500872785367, '10대'),\n",
       "  Text(-0.16439186178035922, 1.107869719678441, '20대'),\n",
       "  Text(-1.0833942163344534, 0.28400171128543505, '30대'),\n",
       "  Text(-0.6599108287476028, -0.9049407152414197, '40대'),\n",
       "  Text(0.5214755086952508, -0.9911928640940821, '50대'),\n",
       "  Text(1.075046380383651, -0.3141262167091604, '60대 이상')],\n",
       " [Text(0.5200280969755289, 0.33759558402919, '18.3%'),\n",
       "  Text(-0.09100263777127027, 0.6132850233934227, '18.0%'),\n",
       "  Text(-0.5997360840422867, 0.1572152330330087, '19.1%'),\n",
       "  Text(-0.3653077801995658, -0.500949324508643, '19.0%'),\n",
       "  Text(0.28867394231344246, -0.5486960497663668, '16.5%'),\n",
       "  Text(0.5951149605695211, -0.17389129853542806, '9.0%')])"
      ]
     },
     "execution_count": 265,
     "metadata": {},
     "output_type": "execute_result"
    },
    {
     "data": {
      "text/plain": [
       "<Axes: >"
      ]
     },
     "execution_count": 265,
     "metadata": {},
     "output_type": "execute_result"
    },
    {
     "data": {
      "text/plain": [
       "Text(0.5, 1.0, '함께 운동을 할 사람이 없어서')"
      ]
     },
     "execution_count": 265,
     "metadata": {},
     "output_type": "execute_result"
    },
    {
     "data": {
      "text/plain": [
       "([<matplotlib.patches.Wedge at 0x1e72cfacd10>,\n",
       "  <matplotlib.patches.Wedge at 0x1e72cf82690>,\n",
       "  <matplotlib.patches.Wedge at 0x1e72cfba550>,\n",
       "  <matplotlib.patches.Wedge at 0x1e72cfb9e10>,\n",
       "  <matplotlib.patches.Wedge at 0x1e72cfc10d0>,\n",
       "  <matplotlib.patches.Wedge at 0x1e72cfc2cd0>],\n",
       " [Text(1.0293273462379107, 0.44145805495745644, '10대'),\n",
       "  Text(0.3333399537201416, 1.0692448153972287, '20대'),\n",
       "  Text(-0.5578512545732045, 0.9711858615996745, '30대'),\n",
       "  Text(-1.0898737741000692, 0.25802162027409903, '40대'),\n",
       "  Text(-0.7556701775162709, -0.8266574761124028, '50대'),\n",
       "  Text(0.7390497724141397, -0.8415494245108891, '60대 이상')],\n",
       " [Text(0.5698062095245576, 0.24437856613716338, '12.9%'),\n",
       "  Text(0.18452747438079264, 0.5919033799520373, '14.6%'),\n",
       "  Text(-0.30881051592445247, 0.5376207448141055, '11.6%'),\n",
       "  Text(-0.6033229820911098, 0.14283339693744765, '14.4%'),\n",
       "  Text(-0.4183174196965071, -0.45761395999079435, '19.5%'),\n",
       "  Text(0.40911683830068446, -0.46585771713995644, '27.1%')])"
      ]
     },
     "execution_count": 265,
     "metadata": {},
     "output_type": "execute_result"
    },
    {
     "data": {
      "text/plain": [
       "<Axes: >"
      ]
     },
     "execution_count": 265,
     "metadata": {},
     "output_type": "execute_result"
    },
    {
     "data": {
      "text/plain": [
       "Text(0.5, 1.0, '운동을 할 만한 장소가 없어서')"
      ]
     },
     "execution_count": 265,
     "metadata": {},
     "output_type": "execute_result"
    },
    {
     "data": {
      "text/plain": [
       "([<matplotlib.patches.Wedge at 0x1e72cfdb090>,\n",
       "  <matplotlib.patches.Wedge at 0x1e72ae75b50>,\n",
       "  <matplotlib.patches.Wedge at 0x1e72ae6d490>,\n",
       "  <matplotlib.patches.Wedge at 0x1e72ae6dc10>,\n",
       "  <matplotlib.patches.Wedge at 0x1e72ae6e650>,\n",
       "  <matplotlib.patches.Wedge at 0x1e72ae1ec50>],\n",
       " [Text(0.979109426050845, 0.5438241736245135, '10대'),\n",
       "  Text(0.09621141203830277, 1.115859921403039, '20대'),\n",
       "  Text(-0.8044072478470586, 0.779313146053062, '30대'),\n",
       "  Text(-1.1122515744534887, -0.13151591206289764, '40대'),\n",
       "  Text(-0.3634111824199267, -1.0594018654373565, '50대'),\n",
       "  Text(0.9084770200239379, -0.6550339717056098, '60대 이상')],\n",
       " [Text(0.5420070037067177, 0.3010455246849985, '16.1%'),\n",
       "  Text(0.05325988880691761, 0.6177081707766822, '15.0%'),\n",
       "  Text(-0.4452968693439074, 0.4314054915650878, '13.3%'),\n",
       "  Text(-0.6157106930010383, -0.07280345132053263, '15.0%'),\n",
       "  Text(-0.20117404741103082, -0.5864546040813937, '20.7%'),\n",
       "  Text(0.5029069217989656, -0.3626080914798911, '19.9%')])"
      ]
     },
     "execution_count": 265,
     "metadata": {},
     "output_type": "execute_result"
    },
    {
     "data": {
      "image/png": "[encoded data removed]",
      "text/plain": [
       "<Figure size 1000x1000 with 3 Axes>"
      ]
     },
     "metadata": {},
     "output_type": "display_data"
    }
   ],
   "source": [
    "age10 = df.iloc[3,2:-1]\n",
    "age20 = df.iloc[4,2:-1]\n",
    "age30 = df.iloc[5,2:-1]\n",
    "age40 = df.iloc[6,2:-1]\n",
    "age50 = df.iloc[7,2:-1]\n",
    "age60 = df.iloc[8,2:-1]\n",
    "\n",
    "data_f = pd.concat([age10,age20,age30,age40,age50,age60],axis=1)\n",
    "data_f=data_f.T.reset_index(drop=True) #원하는 데이터프레임 형태를 만들기 위해 전치치\n",
    "\n",
    "labels = data_f.iloc[:,0]\n",
    "columns2 = data_f.columns\n",
    "\n",
    "#그림그릴 캔버스 만들기\n",
    "plt.figure(figsize=(10,10))\n",
    "explode1 = [0.02]*6\n",
    "\n",
    "\n",
    "#분류\n",
    "no_t = data_f.iloc[:,1] #시간없어서\n",
    "no_f = data_f.iloc[:,2] #친구없어서\n",
    "no_p = data_f.iloc[:,3] #장소없어서\n",
    "no_w = data_f.iloc[:,4] #운동싫어해서\n",
    "\n",
    "plt.subplot(1,3,1)\n",
    "plt.title(f'{columns2[1]}')\n",
    "plt.pie(no_t,labels=labels,autopct='%.1f%%',explode=explode1)\n",
    "plt.subplot(1,3,2)\n",
    "plt.title(f'{columns2[2]}')\n",
    "plt.pie(no_f,labels=labels,autopct='%.1f%%',explode=explode1)\n",
    "plt.subplot(1,3,3)\n",
    "plt.title(f'{columns2[3]}')\n",
    "plt.pie(no_p, labels=labels,autopct='%.1f%%',explode=explode1)\n",
    "  \n",
    "\n",
    "plt.tight_layout()\n",
    "plt.show()"
   ]
  },
  {
   "cell_type": "code",
   "execution_count": 21,
   "metadata": {},
   "outputs": [
    {
     "data": {
      "text/html": [
       "<div>\n",
       "<style scoped>\n",
       "    .dataframe tbody tr th:only-of-type {\n",
       "        vertical-align: middle;\n",
       "    }\n",
       "\n",
       "    .dataframe tbody tr th {\n",
       "        vertical-align: top;\n",
       "    }\n",
       "\n",
       "    .dataframe thead th {\n",
       "        text-align: right;\n",
       "    }\n",
       "</style>\n",
       "<table border=\"1\" class=\"dataframe\">\n",
       "  <thead>\n",
       "    <tr style=\"text-align: right;\">\n",
       "      <th></th>\n",
       "      <th>기간</th>\n",
       "      <th>대분류</th>\n",
       "      <th>분류</th>\n",
       "      <th>운동을 할 충분한 시간이 없어서</th>\n",
       "      <th>함께 운동을 할 사람이 없어서</th>\n",
       "      <th>운동을 할 만한 장소가 없어서</th>\n",
       "      <th>운동을 싫어해서</th>\n",
       "      <th>기타</th>\n",
       "    </tr>\n",
       "  </thead>\n",
       "  <tbody>\n",
       "    <tr>\n",
       "      <th>9</th>\n",
       "      <td>2017</td>\n",
       "      <td>학력별</td>\n",
       "      <td>중졸 이하</td>\n",
       "      <td>26.1</td>\n",
       "      <td>13.7</td>\n",
       "      <td>6.6</td>\n",
       "      <td>46.2</td>\n",
       "      <td>7.4</td>\n",
       "    </tr>\n",
       "    <tr>\n",
       "      <th>10</th>\n",
       "      <td>2017</td>\n",
       "      <td>학력별</td>\n",
       "      <td>고졸 이하</td>\n",
       "      <td>46.3</td>\n",
       "      <td>8.5</td>\n",
       "      <td>6.9</td>\n",
       "      <td>36.5</td>\n",
       "      <td>1.7</td>\n",
       "    </tr>\n",
       "    <tr>\n",
       "      <th>11</th>\n",
       "      <td>2017</td>\n",
       "      <td>학력별</td>\n",
       "      <td>대졸 이하</td>\n",
       "      <td>57.4</td>\n",
       "      <td>6.6</td>\n",
       "      <td>4.9</td>\n",
       "      <td>30.7</td>\n",
       "      <td>0.4</td>\n",
       "    </tr>\n",
       "    <tr>\n",
       "      <th>12</th>\n",
       "      <td>2017</td>\n",
       "      <td>학력별</td>\n",
       "      <td>대학원 이상</td>\n",
       "      <td>65.3</td>\n",
       "      <td>3.8</td>\n",
       "      <td>0.6</td>\n",
       "      <td>29.6</td>\n",
       "      <td>0.6</td>\n",
       "    </tr>\n",
       "  </tbody>\n",
       "</table>\n",
       "</div>"
      ],
      "text/plain": [
       "      기간  대분류      분류  운동을 할 충분한 시간이 없어서 함께 운동을 할 사람이 없어서  운동을 할 만한 장소가 없어서  \\\n",
       "9   2017  학력별   중졸 이하               26.1             13.7               6.6   \n",
       "10  2017  학력별   고졸 이하               46.3              8.5               6.9   \n",
       "11  2017  학력별   대졸 이하               57.4              6.6               4.9   \n",
       "12  2017  학력별  대학원 이상               65.3              3.8               0.6   \n",
       "\n",
       "    운동을 싫어해서   기타  \n",
       "9       46.2  7.4  \n",
       "10      36.5  1.7  \n",
       "11      30.7  0.4  \n",
       "12      29.6  0.6  "
      ]
     },
     "execution_count": 21,
     "metadata": {},
     "output_type": "execute_result"
    }
   ],
   "source": [
    "df.iloc[9:13]"
   ]
  },
  {
   "cell_type": "code",
   "execution_count": 74,
   "metadata": {},
   "outputs": [
    {
     "data": {
      "text/plain": [
       "<Figure size 900x900 with 0 Axes>"
      ]
     },
     "execution_count": 74,
     "metadata": {},
     "output_type": "execute_result"
    },
    {
     "data": {
      "text/plain": [
       "<Axes: >"
      ]
     },
     "execution_count": 74,
     "metadata": {},
     "output_type": "execute_result"
    },
    {
     "data": {
      "text/plain": [
       "Text(0.5, 1.0, '운동을 할 충분한 시간이 없어서')"
      ]
     },
     "execution_count": 74,
     "metadata": {},
     "output_type": "execute_result"
    },
    {
     "data": {
      "text/plain": [
       "([<matplotlib.patches.Wedge at 0x19f1eae7490>,\n",
       "  <matplotlib.patches.Wedge at 0x19f1eb21bd0>,\n",
       "  <matplotlib.patches.Wedge at 0x19f1eb230d0>,\n",
       "  <matplotlib.patches.Wedge at 0x19f1eb22950>],\n",
       " [Text(1.022534190293648, 0.4569724605274521, '중졸 이하'),\n",
       "  Text(-0.0171322568665186, 1.1198689591977535, '고졸 이하'),\n",
       "  Text(-1.1126883409644217, -0.12776797674629917, '대졸 이하'),\n",
       "  Text(0.5558298571952027, -0.9723441622441926, '대학원 이상')],\n",
       " [Text(0.5660457124839836, 0.2529668977919824, '13.4%'),\n",
       "  Text(-0.009483927908251364, 0.6199274595558992, '23.7%'),\n",
       "  Text(-0.6159524744624477, -0.07072870141312988, '29.4%'),\n",
       "  Text(0.30769152809020145, -0.5382619469566066, '33.5%')])"
      ]
     },
     "execution_count": 74,
     "metadata": {},
     "output_type": "execute_result"
    },
    {
     "data": {
      "text/plain": [
       "<Axes: >"
      ]
     },
     "execution_count": 74,
     "metadata": {},
     "output_type": "execute_result"
    },
    {
     "data": {
      "text/plain": [
       "Text(0.5, 1.0, '운동을 싫어해서')"
      ]
     },
     "execution_count": 74,
     "metadata": {},
     "output_type": "execute_result"
    },
    {
     "data": {
      "text/plain": [
       "([<matplotlib.patches.Wedge at 0x19f1eb62fd0>,\n",
       "  <matplotlib.patches.Wedge at 0x19f1eb6e3d0>,\n",
       "  <matplotlib.patches.Wedge at 0x19f1eb6f990>,\n",
       "  <matplotlib.patches.Wedge at 0x19f1eb6f290>],\n",
       " [Text(0.5909570418793573, 0.9514041069141965, '중졸 이하'),\n",
       "  Text(-1.0666937431729766, 0.34141537498423175, '고졸 이하'),\n",
       "  Text(-0.4405111041118728, -1.0297329591472437, '대졸 이하'),\n",
       "  Text(0.8914189178879115, -0.6780651243291791, '대학원 이상')],\n",
       " [Text(0.3271369338975013, 0.5266701306132159, '32.3%'),\n",
       "  Text(-0.5904911792564692, 0.1889977968662711, '25.5%'),\n",
       "  Text(-0.24385436120478668, -0.5700307452422241, '21.5%'),\n",
       "  Text(0.4934640438308081, -0.37535747953936693, '20.7%')])"
      ]
     },
     "execution_count": 74,
     "metadata": {},
     "output_type": "execute_result"
    },
    {
     "data": {
      "image/png": "[encoded data removed]",
      "text/plain": [
       "<Figure size 900x900 with 2 Axes>"
      ]
     },
     "metadata": {},
     "output_type": "display_data"
    }
   ],
   "source": [
    "#데이터 프레임에서 원하는 부분의 데이터만 가지고오기\n",
    "edu = [df.iloc[i,2:-1] for i in range(9,13)]\n",
    "data_e = pd.concat(edu, axis=1).T.reset_index(drop=True)\n",
    "\n",
    "labels_e = list(data_e.iloc[:,0])\n",
    "columns_e= list(data_e.columns)\n",
    "columns_e = list([columns_e[1],columns_e[4]])\n",
    "\n",
    "plt.figure(figsize=(9,9))\n",
    "explode_e = [0.02]*4\n",
    "\n",
    "for i, columns_e in enumerate(columns_e, 1):\n",
    "  plt.subplot(1,2,i)\n",
    "  plt.title(columns_e)\n",
    "  plt.pie(data_e[columns_e], explode=explode_e, labels=labels_e,  autopct='%.1f%%' )\n",
    "\n",
    "plt.tight_layout()\n",
    "plt.show()\n",
    "\n",
    "\n"
   ]
  }
 ],
 "metadata": {
  "kernelspec": {
   "display_name": "base",
   "language": "python",
   "name": "python3"
  },
  "language_info": {
   "codemirror_mode": {
    "name": "ipython",
    "version": 3
   },
   "file_extension": ".py",
   "mimetype": "text/x-python",
   "name": "python",
   "nbconvert_exporter": "python",
   "pygments_lexer": "ipython3",
   "version": "3.11.5"
  }
 },
 "nbformat": 4,
 "nbformat_minor": 2
}
