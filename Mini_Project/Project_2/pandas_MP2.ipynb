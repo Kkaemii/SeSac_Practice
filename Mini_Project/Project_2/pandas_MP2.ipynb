{
 "cells": [
  {
   "cell_type": "code",
   "execution_count": 1,
   "metadata": {},
   "outputs": [],
   "source": [
    "import pandas as pd\n",
    "import numpy as np\n",
    "import matplotlib.pyplot as plt\n",
    "import matplotlib.font_manager as fm\n",
    "\n",
    "#주피터에서 실행결과 여러줄 보여주고싶을때\n",
    "from IPython.core.interactiveshell import InteractiveShell\n",
    "InteractiveShell.ast_node_interactivity = \"all\""
   ]
  },
  {
   "cell_type": "code",
   "execution_count": 2,
   "metadata": {},
   "outputs": [
    {
     "name": "stdout",
     "output_type": "stream",
     "text": [
      "['cmsy10', 'cmr10', 'DejaVu Sans', 'cmex10', 'STIXSizeThreeSym', 'DejaVu Sans Display', 'DejaVu Sans Mono', 'DejaVu Serif', 'STIXSizeThreeSym', 'STIXSizeTwoSym', 'STIXSizeTwoSym', 'DejaVu Sans', 'STIXSizeFourSym', 'cmtt10', 'STIXNonUnicode', 'DejaVu Sans Mono', 'cmmi10', 'STIXGeneral', 'DejaVu Serif', 'DejaVu Serif Display', 'DejaVu Sans', 'STIXSizeFourSym', 'STIXNonUnicode', 'STIXNonUnicode', 'cmss10', 'DejaVu Sans Mono', 'DejaVu Sans Mono', 'STIXSizeOneSym', 'DejaVu Serif', 'STIXGeneral', 'DejaVu Serif', 'DejaVu Sans', 'STIXSizeOneSym', 'STIXGeneral', 'STIXGeneral', 'STIXSizeFiveSym', 'cmb10', 'STIXNonUnicode', 'SimSun', 'Georgia', 'Harlow Solid Italic', 'Tw Cen MT Condensed', 'Candara', 'Tw Cen MT', 'Segoe UI', 'Bernard MT Condensed', 'MS Reference Sans Serif', 'Calisto MT', 'Arial', 'HCR Dotum Ext', 'Informal Roman', 'Palatino Linotype', 'Freestyle Script', 'Segoe Fluent Icons', 'Arial', 'Leelawadee UI', 'Book Antiqua', 'Arial', 'Material Design Icons', 'Californian FB', 'Georgia', 'Microsoft PhagsPa', 'Book Antiqua', 'Microsoft Uighur', 'Calisto MT', 'Goudy Old Style', 'HCR Dotum', 'Book Antiqua', 'Microsoft Uighur', 'Tempus Sans ITC', 'Gill Sans Ultra Bold', 'Calibri', 'Maiandra GD', 'Blackadder ITC', 'Vivaldi', 'Garamond', 'Wingdings', 'Lucida Sans', 'Lucida Console', 'Lucida Fax', 'Gulim', 'Lucida Sans Typewriter', 'Segoe UI', 'Microsoft YaHei', 'Eras Demi ITC', 'Wide Latin', 'Javanese Text', 'Segoe UI', 'Rockwell', 'Webdings', 'Century', 'Yu Gothic', 'Californian FB', 'HYPMokGak-Bold', 'Corbel', 'Rockwell', 'Palatino Linotype', 'Monotype Corsiva', 'Cambria', 'HCR Dotum', 'Bodoni MT', 'Candara', 'Constantia', 'Franklin Gothic Medium', 'MV Boli', 'HYGothic-Medium', 'Segoe UI', 'Gadugi', 'Calibri', 'Script MT Bold', 'Gill Sans MT', 'Segoe UI', 'Bodoni MT', 'Century Schoolbook', 'Bradley Hand ITC', 'Gill Sans MT Condensed', 'Nirmala UI', 'Bodoni MT', 'Malgun Gothic', 'Leelawadee UI', 'Candara', 'Cambria', 'Yu Gothic', 'Sans Serif Collection', 'Franklin Gothic Book', 'HYShortSamul-Medium', 'Segoe UI Emoji', 'Lucida Sans', 'MT Extra', 'Lucida Sans Typewriter', 'Colonna MT', 'SimSun-ExtB', 'Bodoni MT', 'Segoe MDL2 Assets', 'Agency FB', 'Gigi', 'Agency FB', 'Franklin Gothic Heavy', 'Tahoma', 'Corbel', 'Imprint MT Shadow', 'Segoe UI Variable', 'Onyx', 'Centaur', 'Footlight MT Light', 'Papyrus', 'Pyunji R', 'Bookman Old Style', 'Eras Bold ITC', 'Rockwell Condensed', 'Goudy Old Style', 'Calisto MT', 'Comic Sans MS', 'Times New Roman', 'Lucida Sans Typewriter', 'Nirmala UI', 'Parchment', 'Lucida Handwriting', 'Century Schoolbook', 'Material Design Icons 5.9.55', 'Courier New', 'Bodoni MT', 'Phosphor', 'Trebuchet MS', 'Harrington', 'Hancom Gothic', 'Old English Text MT', 'Niagara Solid', 'Haan Wing2', 'NewJumja', 'HYSinMyeongJo-Medium', 'Berlin Sans FB', 'OCR A Extended', 'HYMyeongJo-Extra', 'Segoe UI', 'Franklin Gothic Demi', 'Courier New', 'Cooper Black', 'Malgun Gothic', 'Microsoft YaHei', 'Mongolian Baiti', 'Arial', 'Bookman Old Style', 'Arial', 'MS Reference Specialty', 'Leelawadee', 'Gill Sans MT Ext Condensed Bold', 'Bauhaus 93', 'Tw Cen MT Condensed', 'Viner Hand ITC', 'Lucida Fax', 'Kunstler Script', 'Arial', 'HYGungSo-Bold', 'Consolas', 'Century Gothic', 'Cambria', 'Times New Roman', 'Brush Script MT', 'Arial Rounded MT Bold', 'Calisto MT', 'Segoe UI Symbol', 'Wingdings 3', 'Comic Sans MS', 'Perpetua', 'Microsoft JhengHei', 'Mistral', 'Lucida Bright', 'Segoe UI Historic', 'Palace Script MT', 'HyhwpEQ', 'Microsoft New Tai Lue', 'Chiller', 'HYGraphic-Medium', 'Californian FB', 'Niagara Engraved', 'Leelawadee UI', 'High Tower Text', 'Showcard Gothic', 'Engravers MT', 'remixicon', 'Magic R', 'Rockwell', 'Segoe UI', 'Leelawadee', 'Candara', 'Yet R', 'Verdana', 'New Gulim', 'Bell MT', 'Trebuchet MS', 'Bahnschrift', 'Lucida Calligraphy', 'elusiveicons', 'Sitka', 'Microsoft Himalaya', 'Garamond', 'Tw Cen MT', 'Edwardian Script ITC', 'Gill Sans MT', 'Haettenschweiler', 'Eras Medium ITC', 'Gill Sans Ultra Bold Condensed', 'Segoe UI', 'Segoe Script', 'Bodoni MT', 'Microsoft YaHei', 'Microsoft Yi Baiti', 'Broadway', 'Kristen ITC', 'Perpetua', 'HoloLens MDL2 Assets', 'Century Gothic', 'Sitka', 'Palatino Linotype', 'Symbol', 'Rage Italic', 'Malgun Gothic', 'Microsoft Tai Le', 'Algerian', 'Calibri', 'MoeumT R', 'Forte', 'Arial', 'Vladimir Script', 'HCR Batang ExtB', 'Ebrima', 'Corbel', 'Yu Gothic', 'Castellar', 'High Tower Text', 'Ami R', 'Bodoni MT', 'Baskerville Old Face', 'Tahoma', 'Arial', 'Rockwell Extra Bold', 'Constantia', 'Batang', 'SimSun-ExtG', 'Hancom Gothic', 'Tw Cen MT', 'Franklin Gothic Demi Cond', 'Trebuchet MS', 'Constantia', 'Franklin Gothic Heavy', 'Courier New', 'Verdana', 'Rockwell', 'Consolas', 'Lucida Fax', 'Lucida Bright', 'Elephant', 'Century Schoolbook', 'Font Awesome 5 Free Regular', 'Garamond', 'Eras Light ITC', 'Bodoni MT', 'Bodoni MT', 'Lucida Fax', 'Bodoni MT', 'Segoe Script', 'Trebuchet MS', 'Corbel', 'codicon', 'HCR Batang', 'Copperplate Gothic Light', 'Georgia', 'Poor Richard', 'FontAwesome', 'HYGothic-Extra', 'Myanmar Text', 'Snap ITC', 'HYPost-Light', 'Century Gothic', 'Perpetua Titling MT', 'Perpetua', 'Sylfaen', 'Rockwell Condensed', 'Franklin Gothic Medium', 'Calibri', 'Lucida Sans', 'Verdana', 'Corbel', 'Ravie', 'Constantia', 'MingLiU-ExtB', 'Comic Sans MS', 'Bookman Old Style', 'Bell MT', 'Corbel', 'Candara', 'Lucida Sans Unicode', 'Berlin Sans FB', 'Segoe UI', 'Bodoni MT', 'Lucida Sans Typewriter', 'HCR Batang', 'Microsoft Tai Le', 'Playbill', 'Lucida Bright', 'Comic Sans MS', 'Tw Cen MT', 'Font Awesome 5 Free Solid', 'Segoe Print', 'Times New Roman', 'Elephant', 'MS Gothic', 'Gill Sans MT', 'Britannic Bold', 'Jokerman', 'Gabriola', 'Copperplate Gothic Bold', 'Wingdings 2', 'Perpetua', 'Georgia', 'Franklin Gothic Medium Cond', 'HCR Batang ExtB', 'Segoe UI', 'MS Outlook', 'Felix Titling', 'HYHeadLine-Medium', 'French Script MT', 'Gadugi', 'Palatino Linotype', 'Yu Gothic', 'Bookshelf Symbol 7', 'Ebrima', 'Century Schoolbook', 'Modern No. 20', 'Magneto', 'Calibri', 'HancomEQN', 'Gill Sans MT', 'Cambria', 'Perpetua Titling MT', 'Goudy Old Style', 'Impact', 'Bookman Old Style', 'Curlz MT', 'Stencil', 'Segoe UI', 'Times New Roman', 'Myanmar Text', 'Franklin Gothic Book', 'Matura MT Script Capitals', 'Segoe UI', 'Lucida Sans', 'Font Awesome 5 Brands', 'Century Gothic', 'Headline R', 'Lucida Bright', 'Arial', 'Courier New', 'Microsoft JhengHei', 'Calibri', 'Consolas', 'Microsoft New Tai Lue', 'Juice ITC', 'Consolas', 'Microsoft PhagsPa', 'Gloucester MT Extra Condensed', 'Goudy Stout', 'Pristina', 'Berlin Sans FB Demi', 'HYPost-Medium', 'Franklin Gothic Demi', 'Bell MT', 'Verdana', 'Segoe Print', 'Tw Cen MT Condensed Extra Bold', 'Book Antiqua', 'Candara', 'Microsoft Sans Serif', 'Microsoft JhengHei', 'Ink Free', 'HCR Batang Ext', 'Nirmala UI'] \n",
      "\n"
     ]
    }
   ],
   "source": [
    "#폰트 확인인\n",
    "\n",
    "import matplotlib.font_manager as fm\n",
    "fontlist = fm.findSystemFonts(fontpaths=None, fontext='ttf')\n",
    "\n",
    "f = [f.name for f in fm.fontManager.ttflist]\n",
    "print(f'{f} \\n')\n",
    "\n",
    "# 한글 폰트 경로 설정 (예: 맑은 고딕)\n",
    "font_path = r'C:\\Windows\\Fonts\\malgun.ttf'  # Windows 기준\n",
    "font_prop = fm.FontProperties(fname=font_path)\n",
    "\n",
    "# 폰트 설정 적용\n",
    "plt.rcParams['font.family'] = font_prop.get_name()"
   ]
  },
  {
   "cell_type": "code",
   "execution_count": 3,
   "metadata": {},
   "outputs": [
    {
     "data": {
      "text/html": [
       "<div>\n",
       "<style scoped>\n",
       "    .dataframe tbody tr th:only-of-type {\n",
       "        vertical-align: middle;\n",
       "    }\n",
       "\n",
       "    .dataframe tbody tr th {\n",
       "        vertical-align: top;\n",
       "    }\n",
       "\n",
       "    .dataframe thead th {\n",
       "        text-align: right;\n",
       "    }\n",
       "</style>\n",
       "<table border=\"1\" class=\"dataframe\">\n",
       "  <thead>\n",
       "    <tr style=\"text-align: right;\">\n",
       "      <th></th>\n",
       "      <th>기간</th>\n",
       "      <th>자치구</th>\n",
       "      <th>세대</th>\n",
       "      <th>인구</th>\n",
       "      <th>인구.1</th>\n",
       "      <th>인구.2</th>\n",
       "      <th>인구.3</th>\n",
       "      <th>인구.4</th>\n",
       "      <th>인구.5</th>\n",
       "      <th>인구.6</th>\n",
       "      <th>인구.7</th>\n",
       "      <th>인구.8</th>\n",
       "      <th>세대당인구</th>\n",
       "      <th>65세이상고령자</th>\n",
       "    </tr>\n",
       "  </thead>\n",
       "  <tbody>\n",
       "    <tr>\n",
       "      <th>0</th>\n",
       "      <td>기간</td>\n",
       "      <td>자치구</td>\n",
       "      <td>세대</td>\n",
       "      <td>합계</td>\n",
       "      <td>합계</td>\n",
       "      <td>합계</td>\n",
       "      <td>한국인</td>\n",
       "      <td>한국인</td>\n",
       "      <td>한국인</td>\n",
       "      <td>등록외국인</td>\n",
       "      <td>등록외국인</td>\n",
       "      <td>등록외국인</td>\n",
       "      <td>세대당인구</td>\n",
       "      <td>65세이상고령자</td>\n",
       "    </tr>\n",
       "    <tr>\n",
       "      <th>1</th>\n",
       "      <td>기간</td>\n",
       "      <td>자치구</td>\n",
       "      <td>세대</td>\n",
       "      <td>계</td>\n",
       "      <td>남자</td>\n",
       "      <td>여자</td>\n",
       "      <td>계</td>\n",
       "      <td>남자</td>\n",
       "      <td>여자</td>\n",
       "      <td>계</td>\n",
       "      <td>남자</td>\n",
       "      <td>여자</td>\n",
       "      <td>세대당인구</td>\n",
       "      <td>65세이상고령자</td>\n",
       "    </tr>\n",
       "    <tr>\n",
       "      <th>2</th>\n",
       "      <td>2017.1/4</td>\n",
       "      <td>합계</td>\n",
       "      <td>4202888</td>\n",
       "      <td>10197604</td>\n",
       "      <td>5000005</td>\n",
       "      <td>5197599</td>\n",
       "      <td>9926968</td>\n",
       "      <td>4871560</td>\n",
       "      <td>5055408</td>\n",
       "      <td>270636</td>\n",
       "      <td>128445</td>\n",
       "      <td>142191</td>\n",
       "      <td>2.36</td>\n",
       "      <td>1321458</td>\n",
       "    </tr>\n",
       "    <tr>\n",
       "      <th>3</th>\n",
       "      <td>2017.1/4</td>\n",
       "      <td>종로구</td>\n",
       "      <td>72654</td>\n",
       "      <td>162820</td>\n",
       "      <td>79675</td>\n",
       "      <td>83145</td>\n",
       "      <td>153589</td>\n",
       "      <td>75611</td>\n",
       "      <td>77978</td>\n",
       "      <td>9231</td>\n",
       "      <td>4064</td>\n",
       "      <td>5167</td>\n",
       "      <td>2.11</td>\n",
       "      <td>25425</td>\n",
       "    </tr>\n",
       "    <tr>\n",
       "      <th>4</th>\n",
       "      <td>2017.1/4</td>\n",
       "      <td>중구</td>\n",
       "      <td>59481</td>\n",
       "      <td>133240</td>\n",
       "      <td>65790</td>\n",
       "      <td>67450</td>\n",
       "      <td>124312</td>\n",
       "      <td>61656</td>\n",
       "      <td>62656</td>\n",
       "      <td>8928</td>\n",
       "      <td>4134</td>\n",
       "      <td>4794</td>\n",
       "      <td>2.09</td>\n",
       "      <td>20764</td>\n",
       "    </tr>\n",
       "  </tbody>\n",
       "</table>\n",
       "</div>"
      ],
      "text/plain": [
       "         기간  자치구       세대        인구     인구.1     인구.2     인구.3     인구.4  \\\n",
       "0        기간  자치구       세대        합계       합계       합계      한국인      한국인   \n",
       "1        기간  자치구       세대         계       남자       여자        계       남자   \n",
       "2  2017.1/4   합계  4202888  10197604  5000005  5197599  9926968  4871560   \n",
       "3  2017.1/4  종로구    72654    162820    79675    83145   153589    75611   \n",
       "4  2017.1/4   중구    59481    133240    65790    67450   124312    61656   \n",
       "\n",
       "      인구.5    인구.6    인구.7    인구.8  세대당인구  65세이상고령자  \n",
       "0      한국인   등록외국인   등록외국인   등록외국인  세대당인구  65세이상고령자  \n",
       "1       여자       계      남자      여자  세대당인구  65세이상고령자  \n",
       "2  5055408  270636  128445  142191   2.36   1321458  \n",
       "3    77978    9231    4064    5167   2.11     25425  \n",
       "4    62656    8928    4134    4794   2.09     20764  "
      ]
     },
     "execution_count": 3,
     "metadata": {},
     "output_type": "execute_result"
    }
   ],
   "source": [
    "#서울시 인구 데이터 파일 로드\n",
    "s_people = pd.read_excel('./seoulPopulation.xlsx')\n",
    "s_people.head()"
   ]
  },
  {
   "cell_type": "code",
   "execution_count": 4,
   "metadata": {},
   "outputs": [
    {
     "data": {
      "text/html": [
       "<div>\n",
       "<style scoped>\n",
       "    .dataframe tbody tr th:only-of-type {\n",
       "        vertical-align: middle;\n",
       "    }\n",
       "\n",
       "    .dataframe tbody tr th {\n",
       "        vertical-align: top;\n",
       "    }\n",
       "\n",
       "    .dataframe thead th {\n",
       "        text-align: right;\n",
       "    }\n",
       "</style>\n",
       "<table border=\"1\" class=\"dataframe\">\n",
       "  <thead>\n",
       "    <tr style=\"text-align: right;\">\n",
       "      <th></th>\n",
       "      <th>기관명</th>\n",
       "      <th>소계</th>\n",
       "      <th>2013년도 이전</th>\n",
       "      <th>2014년</th>\n",
       "      <th>2015년</th>\n",
       "      <th>2016년</th>\n",
       "    </tr>\n",
       "  </thead>\n",
       "  <tbody>\n",
       "    <tr>\n",
       "      <th>0</th>\n",
       "      <td>강남구</td>\n",
       "      <td>2780</td>\n",
       "      <td>1292</td>\n",
       "      <td>430</td>\n",
       "      <td>584</td>\n",
       "      <td>932</td>\n",
       "    </tr>\n",
       "    <tr>\n",
       "      <th>1</th>\n",
       "      <td>강동구</td>\n",
       "      <td>773</td>\n",
       "      <td>379</td>\n",
       "      <td>99</td>\n",
       "      <td>155</td>\n",
       "      <td>377</td>\n",
       "    </tr>\n",
       "    <tr>\n",
       "      <th>2</th>\n",
       "      <td>강북구</td>\n",
       "      <td>748</td>\n",
       "      <td>369</td>\n",
       "      <td>120</td>\n",
       "      <td>138</td>\n",
       "      <td>204</td>\n",
       "    </tr>\n",
       "    <tr>\n",
       "      <th>3</th>\n",
       "      <td>강서구</td>\n",
       "      <td>884</td>\n",
       "      <td>388</td>\n",
       "      <td>258</td>\n",
       "      <td>184</td>\n",
       "      <td>81</td>\n",
       "    </tr>\n",
       "    <tr>\n",
       "      <th>4</th>\n",
       "      <td>관악구</td>\n",
       "      <td>1496</td>\n",
       "      <td>846</td>\n",
       "      <td>260</td>\n",
       "      <td>390</td>\n",
       "      <td>613</td>\n",
       "    </tr>\n",
       "    <tr>\n",
       "      <th>5</th>\n",
       "      <td>광진구</td>\n",
       "      <td>707</td>\n",
       "      <td>573</td>\n",
       "      <td>78</td>\n",
       "      <td>53</td>\n",
       "      <td>174</td>\n",
       "    </tr>\n",
       "    <tr>\n",
       "      <th>6</th>\n",
       "      <td>구로구</td>\n",
       "      <td>1561</td>\n",
       "      <td>1142</td>\n",
       "      <td>173</td>\n",
       "      <td>246</td>\n",
       "      <td>323</td>\n",
       "    </tr>\n",
       "    <tr>\n",
       "      <th>7</th>\n",
       "      <td>금천구</td>\n",
       "      <td>1015</td>\n",
       "      <td>674</td>\n",
       "      <td>51</td>\n",
       "      <td>269</td>\n",
       "      <td>354</td>\n",
       "    </tr>\n",
       "    <tr>\n",
       "      <th>8</th>\n",
       "      <td>노원구</td>\n",
       "      <td>1265</td>\n",
       "      <td>542</td>\n",
       "      <td>57</td>\n",
       "      <td>451</td>\n",
       "      <td>516</td>\n",
       "    </tr>\n",
       "    <tr>\n",
       "      <th>9</th>\n",
       "      <td>도봉구</td>\n",
       "      <td>485</td>\n",
       "      <td>238</td>\n",
       "      <td>159</td>\n",
       "      <td>42</td>\n",
       "      <td>386</td>\n",
       "    </tr>\n",
       "  </tbody>\n",
       "</table>\n",
       "</div>"
      ],
      "text/plain": [
       "   기관명    소계  2013년도 이전  2014년  2015년  2016년\n",
       "0  강남구  2780       1292    430    584    932\n",
       "1  강동구   773        379     99    155    377\n",
       "2  강북구   748        369    120    138    204\n",
       "3  강서구   884        388    258    184     81\n",
       "4  관악구  1496        846    260    390    613\n",
       "5  광진구   707        573     78     53    174\n",
       "6  구로구  1561       1142    173    246    323\n",
       "7  금천구  1015        674     51    269    354\n",
       "8  노원구  1265        542     57    451    516\n",
       "9  도봉구   485        238    159     42    386"
      ]
     },
     "execution_count": 4,
     "metadata": {},
     "output_type": "execute_result"
    }
   ],
   "source": [
    "#서울시 CCTV데이터 파일 로드\n",
    "s_cctv=pd.read_csv('./seoulCCTV.csv')\n",
    "s_cctv.head(10)\n"
   ]
  },
  {
   "cell_type": "code",
   "execution_count": 5,
   "metadata": {},
   "outputs": [
    {
     "data": {
      "text/plain": [
       "<Figure size 600x600 with 0 Axes>"
      ]
     },
     "execution_count": 5,
     "metadata": {},
     "output_type": "execute_result"
    },
    {
     "data": {
      "text/plain": [
       "<BarContainer object of 25 artists>"
      ]
     },
     "execution_count": 5,
     "metadata": {},
     "output_type": "execute_result"
    },
    {
     "data": {
      "text/plain": [
       "Text(0.5, 1.0, '구별 CCTV 현황')"
      ]
     },
     "execution_count": 5,
     "metadata": {},
     "output_type": "execute_result"
    },
    {
     "data": {
      "text/plain": [
       "Text(0.5, 0, 'CCTV 대수')"
      ]
     },
     "execution_count": 5,
     "metadata": {},
     "output_type": "execute_result"
    },
    {
     "data": {
      "text/plain": [
       "Text(0, 0.5, '구 이름')"
      ]
     },
     "execution_count": 5,
     "metadata": {},
     "output_type": "execute_result"
    },
    {
     "data": {
      "image/png": "[encoded data removed]",
      "text/plain": [
       "<Figure size 600x600 with 1 Axes>"
      ]
     },
     "metadata": {},
     "output_type": "display_data"
    }
   ],
   "source": [
    "gu_cctv = s_cctv.iloc[:, :2]\n",
    "\n",
    "# 데이터를 '소계' 기준으로 내림차순 정렬\n",
    "gu_cctv = gu_cctv.sort_values(by='소계')\n",
    "\n",
    "label = []\n",
    "values = []\n",
    "for i in range(len(gu_cctv.values)):\n",
    "  label.append(gu_cctv.values[i][0])\n",
    "  values.append(gu_cctv.values[i][1])\n",
    "\n",
    "plt.figure(figsize=(6,6))\n",
    "\n",
    "plt.barh(label,values)\n",
    "plt.title('구별 CCTV 현황')\n",
    "plt.xlabel('CCTV 대수')\n",
    "plt.ylabel('구 이름')\n",
    "plt.grid()\n",
    "plt.tight_layout()\n",
    "plt.savefig('./1번_지역구별 CCTV 현황')\n",
    "plt.show()\n"
   ]
  },
  {
   "cell_type": "code",
   "execution_count": 6,
   "metadata": {},
   "outputs": [
    {
     "data": {
      "text/html": [
       "<div>\n",
       "<style scoped>\n",
       "    .dataframe tbody tr th:only-of-type {\n",
       "        vertical-align: middle;\n",
       "    }\n",
       "\n",
       "    .dataframe tbody tr th {\n",
       "        vertical-align: top;\n",
       "    }\n",
       "\n",
       "    .dataframe thead th {\n",
       "        text-align: right;\n",
       "    }\n",
       "</style>\n",
       "<table border=\"1\" class=\"dataframe\">\n",
       "  <thead>\n",
       "    <tr style=\"text-align: right;\">\n",
       "      <th></th>\n",
       "      <th>기간</th>\n",
       "      <th>자치구</th>\n",
       "      <th>세대</th>\n",
       "      <th>인구</th>\n",
       "      <th>인구.1</th>\n",
       "      <th>인구.2</th>\n",
       "      <th>인구.3</th>\n",
       "      <th>인구.4</th>\n",
       "      <th>인구.5</th>\n",
       "      <th>인구.6</th>\n",
       "      <th>인구.7</th>\n",
       "      <th>인구.8</th>\n",
       "      <th>세대당인구</th>\n",
       "      <th>65세이상고령자</th>\n",
       "    </tr>\n",
       "  </thead>\n",
       "  <tbody>\n",
       "    <tr>\n",
       "      <th>0</th>\n",
       "      <td>기간</td>\n",
       "      <td>자치구</td>\n",
       "      <td>세대</td>\n",
       "      <td>합계</td>\n",
       "      <td>합계</td>\n",
       "      <td>합계</td>\n",
       "      <td>한국인</td>\n",
       "      <td>한국인</td>\n",
       "      <td>한국인</td>\n",
       "      <td>등록외국인</td>\n",
       "      <td>등록외국인</td>\n",
       "      <td>등록외국인</td>\n",
       "      <td>세대당인구</td>\n",
       "      <td>65세이상고령자</td>\n",
       "    </tr>\n",
       "    <tr>\n",
       "      <th>1</th>\n",
       "      <td>기간</td>\n",
       "      <td>자치구</td>\n",
       "      <td>세대</td>\n",
       "      <td>계</td>\n",
       "      <td>남자</td>\n",
       "      <td>여자</td>\n",
       "      <td>계</td>\n",
       "      <td>남자</td>\n",
       "      <td>여자</td>\n",
       "      <td>계</td>\n",
       "      <td>남자</td>\n",
       "      <td>여자</td>\n",
       "      <td>세대당인구</td>\n",
       "      <td>65세이상고령자</td>\n",
       "    </tr>\n",
       "    <tr>\n",
       "      <th>2</th>\n",
       "      <td>2017.1/4</td>\n",
       "      <td>합계</td>\n",
       "      <td>4202888</td>\n",
       "      <td>10197604</td>\n",
       "      <td>5000005</td>\n",
       "      <td>5197599</td>\n",
       "      <td>9926968</td>\n",
       "      <td>4871560</td>\n",
       "      <td>5055408</td>\n",
       "      <td>270636</td>\n",
       "      <td>128445</td>\n",
       "      <td>142191</td>\n",
       "      <td>2.36</td>\n",
       "      <td>1321458</td>\n",
       "    </tr>\n",
       "    <tr>\n",
       "      <th>3</th>\n",
       "      <td>2017.1/4</td>\n",
       "      <td>종로구</td>\n",
       "      <td>72654</td>\n",
       "      <td>162820</td>\n",
       "      <td>79675</td>\n",
       "      <td>83145</td>\n",
       "      <td>153589</td>\n",
       "      <td>75611</td>\n",
       "      <td>77978</td>\n",
       "      <td>9231</td>\n",
       "      <td>4064</td>\n",
       "      <td>5167</td>\n",
       "      <td>2.11</td>\n",
       "      <td>25425</td>\n",
       "    </tr>\n",
       "    <tr>\n",
       "      <th>4</th>\n",
       "      <td>2017.1/4</td>\n",
       "      <td>중구</td>\n",
       "      <td>59481</td>\n",
       "      <td>133240</td>\n",
       "      <td>65790</td>\n",
       "      <td>67450</td>\n",
       "      <td>124312</td>\n",
       "      <td>61656</td>\n",
       "      <td>62656</td>\n",
       "      <td>8928</td>\n",
       "      <td>4134</td>\n",
       "      <td>4794</td>\n",
       "      <td>2.09</td>\n",
       "      <td>20764</td>\n",
       "    </tr>\n",
       "  </tbody>\n",
       "</table>\n",
       "</div>"
      ],
      "text/plain": [
       "         기간  자치구       세대        인구     인구.1     인구.2     인구.3     인구.4  \\\n",
       "0        기간  자치구       세대        합계       합계       합계      한국인      한국인   \n",
       "1        기간  자치구       세대         계       남자       여자        계       남자   \n",
       "2  2017.1/4   합계  4202888  10197604  5000005  5197599  9926968  4871560   \n",
       "3  2017.1/4  종로구    72654    162820    79675    83145   153589    75611   \n",
       "4  2017.1/4   중구    59481    133240    65790    67450   124312    61656   \n",
       "\n",
       "      인구.5    인구.6    인구.7    인구.8  세대당인구  65세이상고령자  \n",
       "0      한국인   등록외국인   등록외국인   등록외국인  세대당인구  65세이상고령자  \n",
       "1       여자       계      남자      여자  세대당인구  65세이상고령자  \n",
       "2  5055408  270636  128445  142191   2.36   1321458  \n",
       "3    77978    9231    4064    5167   2.11     25425  \n",
       "4    62656    8928    4134    4794   2.09     20764  "
      ]
     },
     "execution_count": 6,
     "metadata": {},
     "output_type": "execute_result"
    },
    {
     "data": {
      "text/html": [
       "<div>\n",
       "<style scoped>\n",
       "    .dataframe tbody tr th:only-of-type {\n",
       "        vertical-align: middle;\n",
       "    }\n",
       "\n",
       "    .dataframe tbody tr th {\n",
       "        vertical-align: top;\n",
       "    }\n",
       "\n",
       "    .dataframe thead th {\n",
       "        text-align: right;\n",
       "    }\n",
       "</style>\n",
       "<table border=\"1\" class=\"dataframe\">\n",
       "  <thead>\n",
       "    <tr style=\"text-align: right;\">\n",
       "      <th></th>\n",
       "      <th>자치구</th>\n",
       "      <th>인구</th>\n",
       "    </tr>\n",
       "  </thead>\n",
       "  <tbody>\n",
       "    <tr>\n",
       "      <th>0</th>\n",
       "      <td>종로구</td>\n",
       "      <td>162820</td>\n",
       "    </tr>\n",
       "    <tr>\n",
       "      <th>1</th>\n",
       "      <td>중구</td>\n",
       "      <td>133240</td>\n",
       "    </tr>\n",
       "    <tr>\n",
       "      <th>2</th>\n",
       "      <td>용산구</td>\n",
       "      <td>244203</td>\n",
       "    </tr>\n",
       "    <tr>\n",
       "      <th>3</th>\n",
       "      <td>성동구</td>\n",
       "      <td>311244</td>\n",
       "    </tr>\n",
       "    <tr>\n",
       "      <th>4</th>\n",
       "      <td>광진구</td>\n",
       "      <td>372164</td>\n",
       "    </tr>\n",
       "    <tr>\n",
       "      <th>5</th>\n",
       "      <td>동대문구</td>\n",
       "      <td>369496</td>\n",
       "    </tr>\n",
       "    <tr>\n",
       "      <th>6</th>\n",
       "      <td>중랑구</td>\n",
       "      <td>414503</td>\n",
       "    </tr>\n",
       "    <tr>\n",
       "      <th>7</th>\n",
       "      <td>성북구</td>\n",
       "      <td>461260</td>\n",
       "    </tr>\n",
       "    <tr>\n",
       "      <th>8</th>\n",
       "      <td>강북구</td>\n",
       "      <td>330192</td>\n",
       "    </tr>\n",
       "    <tr>\n",
       "      <th>9</th>\n",
       "      <td>도봉구</td>\n",
       "      <td>348646</td>\n",
       "    </tr>\n",
       "    <tr>\n",
       "      <th>10</th>\n",
       "      <td>노원구</td>\n",
       "      <td>569384</td>\n",
       "    </tr>\n",
       "    <tr>\n",
       "      <th>11</th>\n",
       "      <td>은평구</td>\n",
       "      <td>494388</td>\n",
       "    </tr>\n",
       "    <tr>\n",
       "      <th>12</th>\n",
       "      <td>서대문구</td>\n",
       "      <td>327163</td>\n",
       "    </tr>\n",
       "    <tr>\n",
       "      <th>13</th>\n",
       "      <td>마포구</td>\n",
       "      <td>389649</td>\n",
       "    </tr>\n",
       "    <tr>\n",
       "      <th>14</th>\n",
       "      <td>양천구</td>\n",
       "      <td>479978</td>\n",
       "    </tr>\n",
       "    <tr>\n",
       "      <th>15</th>\n",
       "      <td>강서구</td>\n",
       "      <td>603772</td>\n",
       "    </tr>\n",
       "    <tr>\n",
       "      <th>16</th>\n",
       "      <td>구로구</td>\n",
       "      <td>447874</td>\n",
       "    </tr>\n",
       "    <tr>\n",
       "      <th>17</th>\n",
       "      <td>금천구</td>\n",
       "      <td>255082</td>\n",
       "    </tr>\n",
       "    <tr>\n",
       "      <th>18</th>\n",
       "      <td>영등포구</td>\n",
       "      <td>402985</td>\n",
       "    </tr>\n",
       "    <tr>\n",
       "      <th>19</th>\n",
       "      <td>동작구</td>\n",
       "      <td>412520</td>\n",
       "    </tr>\n",
       "    <tr>\n",
       "      <th>20</th>\n",
       "      <td>관악구</td>\n",
       "      <td>525515</td>\n",
       "    </tr>\n",
       "    <tr>\n",
       "      <th>21</th>\n",
       "      <td>서초구</td>\n",
       "      <td>450310</td>\n",
       "    </tr>\n",
       "    <tr>\n",
       "      <th>22</th>\n",
       "      <td>강남구</td>\n",
       "      <td>570500</td>\n",
       "    </tr>\n",
       "    <tr>\n",
       "      <th>23</th>\n",
       "      <td>송파구</td>\n",
       "      <td>667483</td>\n",
       "    </tr>\n",
       "    <tr>\n",
       "      <th>24</th>\n",
       "      <td>강동구</td>\n",
       "      <td>453233</td>\n",
       "    </tr>\n",
       "  </tbody>\n",
       "</table>\n",
       "</div>"
      ],
      "text/plain": [
       "     자치구      인구\n",
       "0    종로구  162820\n",
       "1     중구  133240\n",
       "2    용산구  244203\n",
       "3    성동구  311244\n",
       "4    광진구  372164\n",
       "5   동대문구  369496\n",
       "6    중랑구  414503\n",
       "7    성북구  461260\n",
       "8    강북구  330192\n",
       "9    도봉구  348646\n",
       "10   노원구  569384\n",
       "11   은평구  494388\n",
       "12  서대문구  327163\n",
       "13   마포구  389649\n",
       "14   양천구  479978\n",
       "15   강서구  603772\n",
       "16   구로구  447874\n",
       "17   금천구  255082\n",
       "18  영등포구  402985\n",
       "19   동작구  412520\n",
       "20   관악구  525515\n",
       "21   서초구  450310\n",
       "22   강남구  570500\n",
       "23   송파구  667483\n",
       "24   강동구  453233"
      ]
     },
     "execution_count": 6,
     "metadata": {},
     "output_type": "execute_result"
    },
    {
     "data": {
      "text/html": [
       "<div>\n",
       "<style scoped>\n",
       "    .dataframe tbody tr th:only-of-type {\n",
       "        vertical-align: middle;\n",
       "    }\n",
       "\n",
       "    .dataframe tbody tr th {\n",
       "        vertical-align: top;\n",
       "    }\n",
       "\n",
       "    .dataframe thead th {\n",
       "        text-align: right;\n",
       "    }\n",
       "</style>\n",
       "<table border=\"1\" class=\"dataframe\">\n",
       "  <thead>\n",
       "    <tr style=\"text-align: right;\">\n",
       "      <th></th>\n",
       "      <th>기관명</th>\n",
       "      <th>소계</th>\n",
       "      <th>자치구</th>\n",
       "      <th>인구</th>\n",
       "    </tr>\n",
       "  </thead>\n",
       "  <tbody>\n",
       "    <tr>\n",
       "      <th>0</th>\n",
       "      <td>도봉구</td>\n",
       "      <td>485</td>\n",
       "      <td>도봉구</td>\n",
       "      <td>348646</td>\n",
       "    </tr>\n",
       "    <tr>\n",
       "      <th>1</th>\n",
       "      <td>마포구</td>\n",
       "      <td>574</td>\n",
       "      <td>마포구</td>\n",
       "      <td>389649</td>\n",
       "    </tr>\n",
       "    <tr>\n",
       "      <th>2</th>\n",
       "      <td>송파구</td>\n",
       "      <td>618</td>\n",
       "      <td>송파구</td>\n",
       "      <td>667483</td>\n",
       "    </tr>\n",
       "    <tr>\n",
       "      <th>3</th>\n",
       "      <td>중랑구</td>\n",
       "      <td>660</td>\n",
       "      <td>중랑구</td>\n",
       "      <td>414503</td>\n",
       "    </tr>\n",
       "    <tr>\n",
       "      <th>4</th>\n",
       "      <td>중구</td>\n",
       "      <td>671</td>\n",
       "      <td>중구</td>\n",
       "      <td>133240</td>\n",
       "    </tr>\n",
       "    <tr>\n",
       "      <th>5</th>\n",
       "      <td>광진구</td>\n",
       "      <td>707</td>\n",
       "      <td>광진구</td>\n",
       "      <td>372164</td>\n",
       "    </tr>\n",
       "    <tr>\n",
       "      <th>6</th>\n",
       "      <td>강북구</td>\n",
       "      <td>748</td>\n",
       "      <td>강북구</td>\n",
       "      <td>330192</td>\n",
       "    </tr>\n",
       "    <tr>\n",
       "      <th>7</th>\n",
       "      <td>강동구</td>\n",
       "      <td>773</td>\n",
       "      <td>강동구</td>\n",
       "      <td>453233</td>\n",
       "    </tr>\n",
       "    <tr>\n",
       "      <th>8</th>\n",
       "      <td>강서구</td>\n",
       "      <td>884</td>\n",
       "      <td>강서구</td>\n",
       "      <td>603772</td>\n",
       "    </tr>\n",
       "    <tr>\n",
       "      <th>9</th>\n",
       "      <td>영등포구</td>\n",
       "      <td>904</td>\n",
       "      <td>영등포구</td>\n",
       "      <td>402985</td>\n",
       "    </tr>\n",
       "    <tr>\n",
       "      <th>10</th>\n",
       "      <td>서대문구</td>\n",
       "      <td>962</td>\n",
       "      <td>서대문구</td>\n",
       "      <td>327163</td>\n",
       "    </tr>\n",
       "    <tr>\n",
       "      <th>11</th>\n",
       "      <td>종로구</td>\n",
       "      <td>1002</td>\n",
       "      <td>종로구</td>\n",
       "      <td>162820</td>\n",
       "    </tr>\n",
       "    <tr>\n",
       "      <th>12</th>\n",
       "      <td>금천구</td>\n",
       "      <td>1015</td>\n",
       "      <td>금천구</td>\n",
       "      <td>255082</td>\n",
       "    </tr>\n",
       "    <tr>\n",
       "      <th>13</th>\n",
       "      <td>성동구</td>\n",
       "      <td>1062</td>\n",
       "      <td>성동구</td>\n",
       "      <td>311244</td>\n",
       "    </tr>\n",
       "    <tr>\n",
       "      <th>14</th>\n",
       "      <td>동작구</td>\n",
       "      <td>1091</td>\n",
       "      <td>동작구</td>\n",
       "      <td>412520</td>\n",
       "    </tr>\n",
       "    <tr>\n",
       "      <th>15</th>\n",
       "      <td>노원구</td>\n",
       "      <td>1265</td>\n",
       "      <td>노원구</td>\n",
       "      <td>569384</td>\n",
       "    </tr>\n",
       "    <tr>\n",
       "      <th>16</th>\n",
       "      <td>동대문구</td>\n",
       "      <td>1294</td>\n",
       "      <td>동대문구</td>\n",
       "      <td>369496</td>\n",
       "    </tr>\n",
       "    <tr>\n",
       "      <th>17</th>\n",
       "      <td>성북구</td>\n",
       "      <td>1464</td>\n",
       "      <td>성북구</td>\n",
       "      <td>461260</td>\n",
       "    </tr>\n",
       "    <tr>\n",
       "      <th>18</th>\n",
       "      <td>관악구</td>\n",
       "      <td>1496</td>\n",
       "      <td>관악구</td>\n",
       "      <td>525515</td>\n",
       "    </tr>\n",
       "    <tr>\n",
       "      <th>19</th>\n",
       "      <td>구로구</td>\n",
       "      <td>1561</td>\n",
       "      <td>구로구</td>\n",
       "      <td>447874</td>\n",
       "    </tr>\n",
       "    <tr>\n",
       "      <th>20</th>\n",
       "      <td>용산구</td>\n",
       "      <td>1624</td>\n",
       "      <td>용산구</td>\n",
       "      <td>244203</td>\n",
       "    </tr>\n",
       "    <tr>\n",
       "      <th>21</th>\n",
       "      <td>은평구</td>\n",
       "      <td>1873</td>\n",
       "      <td>은평구</td>\n",
       "      <td>494388</td>\n",
       "    </tr>\n",
       "    <tr>\n",
       "      <th>22</th>\n",
       "      <td>서초구</td>\n",
       "      <td>1930</td>\n",
       "      <td>서초구</td>\n",
       "      <td>450310</td>\n",
       "    </tr>\n",
       "    <tr>\n",
       "      <th>23</th>\n",
       "      <td>양천구</td>\n",
       "      <td>2034</td>\n",
       "      <td>양천구</td>\n",
       "      <td>479978</td>\n",
       "    </tr>\n",
       "    <tr>\n",
       "      <th>24</th>\n",
       "      <td>강남구</td>\n",
       "      <td>2780</td>\n",
       "      <td>강남구</td>\n",
       "      <td>570500</td>\n",
       "    </tr>\n",
       "  </tbody>\n",
       "</table>\n",
       "</div>"
      ],
      "text/plain": [
       "     기관명    소계   자치구      인구\n",
       "0    도봉구   485   도봉구  348646\n",
       "1    마포구   574   마포구  389649\n",
       "2    송파구   618   송파구  667483\n",
       "3    중랑구   660   중랑구  414503\n",
       "4     중구   671    중구  133240\n",
       "5    광진구   707   광진구  372164\n",
       "6    강북구   748   강북구  330192\n",
       "7    강동구   773   강동구  453233\n",
       "8    강서구   884   강서구  603772\n",
       "9   영등포구   904  영등포구  402985\n",
       "10  서대문구   962  서대문구  327163\n",
       "11   종로구  1002   종로구  162820\n",
       "12   금천구  1015   금천구  255082\n",
       "13   성동구  1062   성동구  311244\n",
       "14   동작구  1091   동작구  412520\n",
       "15   노원구  1265   노원구  569384\n",
       "16  동대문구  1294  동대문구  369496\n",
       "17   성북구  1464   성북구  461260\n",
       "18   관악구  1496   관악구  525515\n",
       "19   구로구  1561   구로구  447874\n",
       "20   용산구  1624   용산구  244203\n",
       "21   은평구  1873   은평구  494388\n",
       "22   서초구  1930   서초구  450310\n",
       "23   양천구  2034   양천구  479978\n",
       "24   강남구  2780   강남구  570500"
      ]
     },
     "execution_count": 6,
     "metadata": {},
     "output_type": "execute_result"
    }
   ],
   "source": [
    "#인구수 대비 CCTV설치 대수\n",
    "\n",
    "s_people.head()\n",
    "\n",
    "\n",
    "s_people_p = s_people.iloc[3:,[1,3]].reset_index(drop=True)\n",
    "s_people_p\n",
    "merged_data=gu_cctv.merge(s_people_p, left_on='기관명', right_on='자치구')\n",
    "merged_data"
   ]
  },
  {
   "cell_type": "code",
   "execution_count": 192,
   "metadata": {},
   "outputs": [
    {
     "data": {
      "text/html": [
       "<div>\n",
       "<style scoped>\n",
       "    .dataframe tbody tr th:only-of-type {\n",
       "        vertical-align: middle;\n",
       "    }\n",
       "\n",
       "    .dataframe tbody tr th {\n",
       "        vertical-align: top;\n",
       "    }\n",
       "\n",
       "    .dataframe thead th {\n",
       "        text-align: right;\n",
       "    }\n",
       "</style>\n",
       "<table border=\"1\" class=\"dataframe\">\n",
       "  <thead>\n",
       "    <tr style=\"text-align: right;\">\n",
       "      <th></th>\n",
       "      <th>기관명</th>\n",
       "      <th>소계</th>\n",
       "      <th>자치구</th>\n",
       "      <th>인구</th>\n",
       "      <th>인구대비CCTV비율</th>\n",
       "    </tr>\n",
       "  </thead>\n",
       "  <tbody>\n",
       "    <tr>\n",
       "      <th>2</th>\n",
       "      <td>송파구</td>\n",
       "      <td>618</td>\n",
       "      <td>송파구</td>\n",
       "      <td>667483</td>\n",
       "      <td>0.092587</td>\n",
       "    </tr>\n",
       "    <tr>\n",
       "      <th>0</th>\n",
       "      <td>도봉구</td>\n",
       "      <td>485</td>\n",
       "      <td>도봉구</td>\n",
       "      <td>348646</td>\n",
       "      <td>0.13911</td>\n",
       "    </tr>\n",
       "    <tr>\n",
       "      <th>8</th>\n",
       "      <td>강서구</td>\n",
       "      <td>884</td>\n",
       "      <td>강서구</td>\n",
       "      <td>603772</td>\n",
       "      <td>0.146413</td>\n",
       "    </tr>\n",
       "    <tr>\n",
       "      <th>1</th>\n",
       "      <td>마포구</td>\n",
       "      <td>574</td>\n",
       "      <td>마포구</td>\n",
       "      <td>389649</td>\n",
       "      <td>0.147312</td>\n",
       "    </tr>\n",
       "    <tr>\n",
       "      <th>3</th>\n",
       "      <td>중랑구</td>\n",
       "      <td>660</td>\n",
       "      <td>중랑구</td>\n",
       "      <td>414503</td>\n",
       "      <td>0.159227</td>\n",
       "    </tr>\n",
       "    <tr>\n",
       "      <th>7</th>\n",
       "      <td>강동구</td>\n",
       "      <td>773</td>\n",
       "      <td>강동구</td>\n",
       "      <td>453233</td>\n",
       "      <td>0.170552</td>\n",
       "    </tr>\n",
       "    <tr>\n",
       "      <th>5</th>\n",
       "      <td>광진구</td>\n",
       "      <td>707</td>\n",
       "      <td>광진구</td>\n",
       "      <td>372164</td>\n",
       "      <td>0.18997</td>\n",
       "    </tr>\n",
       "    <tr>\n",
       "      <th>15</th>\n",
       "      <td>노원구</td>\n",
       "      <td>1265</td>\n",
       "      <td>노원구</td>\n",
       "      <td>569384</td>\n",
       "      <td>0.22217</td>\n",
       "    </tr>\n",
       "    <tr>\n",
       "      <th>9</th>\n",
       "      <td>영등포구</td>\n",
       "      <td>904</td>\n",
       "      <td>영등포구</td>\n",
       "      <td>402985</td>\n",
       "      <td>0.224326</td>\n",
       "    </tr>\n",
       "    <tr>\n",
       "      <th>6</th>\n",
       "      <td>강북구</td>\n",
       "      <td>748</td>\n",
       "      <td>강북구</td>\n",
       "      <td>330192</td>\n",
       "      <td>0.226535</td>\n",
       "    </tr>\n",
       "    <tr>\n",
       "      <th>14</th>\n",
       "      <td>동작구</td>\n",
       "      <td>1091</td>\n",
       "      <td>동작구</td>\n",
       "      <td>412520</td>\n",
       "      <td>0.264472</td>\n",
       "    </tr>\n",
       "    <tr>\n",
       "      <th>18</th>\n",
       "      <td>관악구</td>\n",
       "      <td>1496</td>\n",
       "      <td>관악구</td>\n",
       "      <td>525515</td>\n",
       "      <td>0.284673</td>\n",
       "    </tr>\n",
       "    <tr>\n",
       "      <th>10</th>\n",
       "      <td>서대문구</td>\n",
       "      <td>962</td>\n",
       "      <td>서대문구</td>\n",
       "      <td>327163</td>\n",
       "      <td>0.294043</td>\n",
       "    </tr>\n",
       "    <tr>\n",
       "      <th>17</th>\n",
       "      <td>성북구</td>\n",
       "      <td>1464</td>\n",
       "      <td>성북구</td>\n",
       "      <td>461260</td>\n",
       "      <td>0.317391</td>\n",
       "    </tr>\n",
       "    <tr>\n",
       "      <th>13</th>\n",
       "      <td>성동구</td>\n",
       "      <td>1062</td>\n",
       "      <td>성동구</td>\n",
       "      <td>311244</td>\n",
       "      <td>0.341211</td>\n",
       "    </tr>\n",
       "    <tr>\n",
       "      <th>19</th>\n",
       "      <td>구로구</td>\n",
       "      <td>1561</td>\n",
       "      <td>구로구</td>\n",
       "      <td>447874</td>\n",
       "      <td>0.348536</td>\n",
       "    </tr>\n",
       "    <tr>\n",
       "      <th>16</th>\n",
       "      <td>동대문구</td>\n",
       "      <td>1294</td>\n",
       "      <td>동대문구</td>\n",
       "      <td>369496</td>\n",
       "      <td>0.350207</td>\n",
       "    </tr>\n",
       "    <tr>\n",
       "      <th>21</th>\n",
       "      <td>은평구</td>\n",
       "      <td>1873</td>\n",
       "      <td>은평구</td>\n",
       "      <td>494388</td>\n",
       "      <td>0.378852</td>\n",
       "    </tr>\n",
       "    <tr>\n",
       "      <th>12</th>\n",
       "      <td>금천구</td>\n",
       "      <td>1015</td>\n",
       "      <td>금천구</td>\n",
       "      <td>255082</td>\n",
       "      <td>0.397911</td>\n",
       "    </tr>\n",
       "    <tr>\n",
       "      <th>23</th>\n",
       "      <td>양천구</td>\n",
       "      <td>2034</td>\n",
       "      <td>양천구</td>\n",
       "      <td>479978</td>\n",
       "      <td>0.423769</td>\n",
       "    </tr>\n",
       "    <tr>\n",
       "      <th>22</th>\n",
       "      <td>서초구</td>\n",
       "      <td>1930</td>\n",
       "      <td>서초구</td>\n",
       "      <td>450310</td>\n",
       "      <td>0.428594</td>\n",
       "    </tr>\n",
       "    <tr>\n",
       "      <th>24</th>\n",
       "      <td>강남구</td>\n",
       "      <td>2780</td>\n",
       "      <td>강남구</td>\n",
       "      <td>570500</td>\n",
       "      <td>0.487292</td>\n",
       "    </tr>\n",
       "    <tr>\n",
       "      <th>4</th>\n",
       "      <td>중구</td>\n",
       "      <td>671</td>\n",
       "      <td>중구</td>\n",
       "      <td>133240</td>\n",
       "      <td>0.503603</td>\n",
       "    </tr>\n",
       "    <tr>\n",
       "      <th>11</th>\n",
       "      <td>종로구</td>\n",
       "      <td>1002</td>\n",
       "      <td>종로구</td>\n",
       "      <td>162820</td>\n",
       "      <td>0.615404</td>\n",
       "    </tr>\n",
       "    <tr>\n",
       "      <th>20</th>\n",
       "      <td>용산구</td>\n",
       "      <td>1624</td>\n",
       "      <td>용산구</td>\n",
       "      <td>244203</td>\n",
       "      <td>0.66502</td>\n",
       "    </tr>\n",
       "  </tbody>\n",
       "</table>\n",
       "</div>"
      ],
      "text/plain": [
       "     기관명    소계   자치구      인구 인구대비CCTV비율\n",
       "2    송파구   618   송파구  667483   0.092587\n",
       "0    도봉구   485   도봉구  348646    0.13911\n",
       "8    강서구   884   강서구  603772   0.146413\n",
       "1    마포구   574   마포구  389649   0.147312\n",
       "3    중랑구   660   중랑구  414503   0.159227\n",
       "7    강동구   773   강동구  453233   0.170552\n",
       "5    광진구   707   광진구  372164    0.18997\n",
       "15   노원구  1265   노원구  569384    0.22217\n",
       "9   영등포구   904  영등포구  402985   0.224326\n",
       "6    강북구   748   강북구  330192   0.226535\n",
       "14   동작구  1091   동작구  412520   0.264472\n",
       "18   관악구  1496   관악구  525515   0.284673\n",
       "10  서대문구   962  서대문구  327163   0.294043\n",
       "17   성북구  1464   성북구  461260   0.317391\n",
       "13   성동구  1062   성동구  311244   0.341211\n",
       "19   구로구  1561   구로구  447874   0.348536\n",
       "16  동대문구  1294  동대문구  369496   0.350207\n",
       "21   은평구  1873   은평구  494388   0.378852\n",
       "12   금천구  1015   금천구  255082   0.397911\n",
       "23   양천구  2034   양천구  479978   0.423769\n",
       "22   서초구  1930   서초구  450310   0.428594\n",
       "24   강남구  2780   강남구  570500   0.487292\n",
       "4     중구   671    중구  133240   0.503603\n",
       "11   종로구  1002   종로구  162820   0.615404\n",
       "20   용산구  1624   용산구  244203    0.66502"
      ]
     },
     "execution_count": 192,
     "metadata": {},
     "output_type": "execute_result"
    }
   ],
   "source": [
    "merged_data=gu_cctv.merge(s_people_p, left_on='기관명', right_on='자치구')\n",
    "prep_data = merged_data.iloc[:,1] / merged_data.iloc[:,3]*100\n",
    "merged_data.insert(4,'인구대비CCTV비율',prep_data)\n",
    "merged_data=merged_data.sort_values(by='인구대비CCTV비율')\n",
    "merged_data"
   ]
  },
  {
   "cell_type": "code",
   "execution_count": 8,
   "metadata": {},
   "outputs": [
    {
     "data": {
      "text/plain": [
       "<Figure size 600x600 with 0 Axes>"
      ]
     },
     "execution_count": 8,
     "metadata": {},
     "output_type": "execute_result"
    },
    {
     "data": {
      "text/plain": [
       "<BarContainer object of 25 artists>"
      ]
     },
     "execution_count": 8,
     "metadata": {},
     "output_type": "execute_result"
    },
    {
     "data": {
      "text/plain": [
       "Text(0.5, 1.0, '구별 인구대비 CCTV설치 비율')"
      ]
     },
     "execution_count": 8,
     "metadata": {},
     "output_type": "execute_result"
    },
    {
     "data": {
      "text/plain": [
       "Text(0.5, 0, '비율')"
      ]
     },
     "execution_count": 8,
     "metadata": {},
     "output_type": "execute_result"
    },
    {
     "data": {
      "text/plain": [
       "Text(0, 0.5, '구 이름')"
      ]
     },
     "execution_count": 8,
     "metadata": {},
     "output_type": "execute_result"
    },
    {
     "data": {
      "image/png": "[encoded data removed]",
      "text/plain": [
       "<Figure size 600x600 with 1 Axes>"
      ]
     },
     "metadata": {},
     "output_type": "display_data"
    }
   ],
   "source": [
    "c_label = merged_data['기관명'].tolist()\n",
    "result = merged_data['인구대비CCTV비율'].tolist()\n",
    "\n",
    "plt.figure(figsize=(6,6))\n",
    "plt.barh(c_label, result)\n",
    "plt.title('구별 인구대비 CCTV설치 비율')\n",
    "plt.xlabel('비율')\n",
    "plt.ylabel('구 이름')\n",
    "plt.grid()\n",
    "plt.tight_layout()\n",
    "plt.savefig('./2번_지역구별 인구대비 CCTV설치 비율')\n",
    "plt.show()"
   ]
  },
  {
   "cell_type": "code",
   "execution_count": 77,
   "metadata": {},
   "outputs": [],
   "source": [
    "merged_data = merged_data.sort_values(by='기관명')"
   ]
  },
  {
   "cell_type": "code",
   "execution_count": 78,
   "metadata": {},
   "outputs": [
    {
     "data": {
      "text/plain": [
       "<Figure size 700x600 with 0 Axes>"
      ]
     },
     "execution_count": 78,
     "metadata": {},
     "output_type": "execute_result"
    },
    {
     "data": {
      "text/plain": [
       "[<matplotlib.lines.Line2D at 0x1c8b2d692e0>]"
      ]
     },
     "execution_count": 78,
     "metadata": {},
     "output_type": "execute_result"
    },
    {
     "data": {
      "text/plain": [
       "Text(0.5, 1.0, '인구 별 CCTV 분포')"
      ]
     },
     "execution_count": 78,
     "metadata": {},
     "output_type": "execute_result"
    },
    {
     "data": {
      "text/plain": [
       "Text(0.5, 0, '인구 수')"
      ]
     },
     "execution_count": 78,
     "metadata": {},
     "output_type": "execute_result"
    },
    {
     "data": {
      "text/plain": [
       "Text(0, 0.5, 'CCTV 수')"
      ]
     },
     "execution_count": 78,
     "metadata": {},
     "output_type": "execute_result"
    },
    {
     "data": {
      "text/plain": [
       "<matplotlib.collections.PathCollection at 0x1c8b2d69970>"
      ]
     },
     "execution_count": 78,
     "metadata": {},
     "output_type": "execute_result"
    },
    {
     "data": {
      "text/plain": [
       "(66620.0, 734231.3)"
      ]
     },
     "execution_count": 78,
     "metadata": {},
     "output_type": "execute_result"
    },
    {
     "data": {
      "image/png": "[encoded data removed]",
      "text/plain": [
       "<Figure size 700x600 with 1 Axes>"
      ]
     },
     "metadata": {},
     "output_type": "display_data"
    }
   ],
   "source": [
    "merged_data = merged_data.sort_values(by='기관명')\n",
    "\n",
    "d_label = merged_data['소계'].tolist()\n",
    "d_row = merged_data['인구'].tolist()\n",
    "\n",
    "#그래프에 최소 최댓값 설정을 위해 형 변환\n",
    "# d_value = [int(v) for v in d_row]\n",
    "\n",
    "#회귀선\n",
    "#기울기, y절편 = np.polyfit(데이터x, 데이터y, 1(차원=직선))\n",
    "x,y = np.polyfit(d_row,d_label,1) #기울기x, y절편\n",
    "\n",
    "#회귀선을 그릴때 x축의 최대,최소만 알고있어도 그릴수 있음\n",
    "#최대,최소값으로 두 점 생성\n",
    "x_reg = np.array([100000, 700000])\n",
    "\n",
    "#회귀선 y값 계산 => 기울기*x값 + y절편\n",
    "y_reg = x*x_reg+y\n",
    "\n",
    "\n",
    "plt.figure(figsize=(7,6))\n",
    "plt.plot(x_reg,y_reg, '--' ,color = 'green' )\n",
    "plt.title('인구 별 CCTV 분포')\n",
    "plt.xlabel('인구 수')\n",
    "plt.ylabel('CCTV 수')\n",
    "plt.scatter(d_row,d_label)\n",
    "plt.grid()\n",
    "plt.xlim(min(d_row)*0.5, max(d_row)*1.1)\n",
    "\n",
    "plt.tight_layout()\n",
    "plt.savefig('./3번_인구별 CCTV 분포와 회귀선')\n",
    "plt.show()"
   ]
  },
  {
   "cell_type": "code",
   "execution_count": 107,
   "metadata": {},
   "outputs": [],
   "source": [
    "merged_data = merged_data.sort_values(by='기관명')\n",
    "\n",
    "d_label = merged_data['소계'].tolist()\n",
    "d_row = merged_data['인구'].tolist()\n",
    "\n",
    "#회귀선\n",
    "#기울기, y절편 = np.polyfit(데이터x, 데이터y, 1(차원=직선))\n",
    "x,y = np.polyfit(d_row,d_label,1) #기울기x, y절편\n",
    "\n",
    "#회귀선을 그릴때 x축의 최대,최소만 알고있어도 그릴수 있음\n",
    "#최대,최소값으로 두 점 생성\n",
    "x_reg = np.array([100000, 700000])\n",
    "#회귀선 y값 계산 => 기울기*x값 + y절편\n",
    "y_reg = x*x_reg+y"
   ]
  },
  {
   "cell_type": "code",
   "execution_count": 106,
   "metadata": {},
   "outputs": [
    {
     "data": {
      "text/plain": [
       "<Figure size 900x500 with 0 Axes>"
      ]
     },
     "execution_count": 106,
     "metadata": {},
     "output_type": "execute_result"
    },
    {
     "data": {
      "text/plain": [
       "[<matplotlib.lines.Line2D at 0x1c8b764a600>]"
      ]
     },
     "execution_count": 106,
     "metadata": {},
     "output_type": "execute_result"
    },
    {
     "data": {
      "text/plain": [
       "Text(0.5, 1.0, '인구 별 CCTV 분포')"
      ]
     },
     "execution_count": 106,
     "metadata": {},
     "output_type": "execute_result"
    },
    {
     "data": {
      "text/plain": [
       "Text(0.5, 0, '인구 수')"
      ]
     },
     "execution_count": 106,
     "metadata": {},
     "output_type": "execute_result"
    },
    {
     "data": {
      "text/plain": [
       "Text(0, 0.5, 'CCTV 수')"
      ]
     },
     "execution_count": 106,
     "metadata": {},
     "output_type": "execute_result"
    },
    {
     "data": {
      "text/plain": [
       "<matplotlib.colorbar.Colorbar at 0x1c8b2cf1100>"
      ]
     },
     "execution_count": 106,
     "metadata": {},
     "output_type": "execute_result"
    },
    {
     "data": {
      "text/plain": [
       "(66620.0, 734231.3)"
      ]
     },
     "execution_count": 106,
     "metadata": {},
     "output_type": "execute_result"
    },
    {
     "data": {
      "text/plain": [
       "Text(4, -4, '강남구')"
      ]
     },
     "execution_count": 106,
     "metadata": {},
     "output_type": "execute_result"
    },
    {
     "data": {
      "text/plain": [
       "Text(4, -4, '강동구')"
      ]
     },
     "execution_count": 106,
     "metadata": {},
     "output_type": "execute_result"
    },
    {
     "data": {
      "text/plain": [
       "Text(4, -4, '강북구')"
      ]
     },
     "execution_count": 106,
     "metadata": {},
     "output_type": "execute_result"
    },
    {
     "data": {
      "text/plain": [
       "Text(4, -4, '강서구')"
      ]
     },
     "execution_count": 106,
     "metadata": {},
     "output_type": "execute_result"
    },
    {
     "data": {
      "text/plain": [
       "Text(4, -4, '관악구')"
      ]
     },
     "execution_count": 106,
     "metadata": {},
     "output_type": "execute_result"
    },
    {
     "data": {
      "text/plain": [
       "Text(4, -4, '광진구')"
      ]
     },
     "execution_count": 106,
     "metadata": {},
     "output_type": "execute_result"
    },
    {
     "data": {
      "text/plain": [
       "Text(4, -4, '구로구')"
      ]
     },
     "execution_count": 106,
     "metadata": {},
     "output_type": "execute_result"
    },
    {
     "data": {
      "text/plain": [
       "Text(4, -4, '금천구')"
      ]
     },
     "execution_count": 106,
     "metadata": {},
     "output_type": "execute_result"
    },
    {
     "data": {
      "text/plain": [
       "Text(4, -4, '노원구')"
      ]
     },
     "execution_count": 106,
     "metadata": {},
     "output_type": "execute_result"
    },
    {
     "data": {
      "text/plain": [
       "Text(4, -4, '도봉구')"
      ]
     },
     "execution_count": 106,
     "metadata": {},
     "output_type": "execute_result"
    },
    {
     "data": {
      "text/plain": [
       "Text(4, -4, '동대문구')"
      ]
     },
     "execution_count": 106,
     "metadata": {},
     "output_type": "execute_result"
    },
    {
     "data": {
      "text/plain": [
       "Text(4, -4, '동작구')"
      ]
     },
     "execution_count": 106,
     "metadata": {},
     "output_type": "execute_result"
    },
    {
     "data": {
      "text/plain": [
       "Text(4, -4, '마포구')"
      ]
     },
     "execution_count": 106,
     "metadata": {},
     "output_type": "execute_result"
    },
    {
     "data": {
      "text/plain": [
       "Text(4, -4, '서대문구')"
      ]
     },
     "execution_count": 106,
     "metadata": {},
     "output_type": "execute_result"
    },
    {
     "data": {
      "text/plain": [
       "Text(4, -4, '서초구')"
      ]
     },
     "execution_count": 106,
     "metadata": {},
     "output_type": "execute_result"
    },
    {
     "data": {
      "text/plain": [
       "Text(4, -4, '성동구')"
      ]
     },
     "execution_count": 106,
     "metadata": {},
     "output_type": "execute_result"
    },
    {
     "data": {
      "text/plain": [
       "Text(4, -4, '성북구')"
      ]
     },
     "execution_count": 106,
     "metadata": {},
     "output_type": "execute_result"
    },
    {
     "data": {
      "text/plain": [
       "Text(4, -4, '송파구')"
      ]
     },
     "execution_count": 106,
     "metadata": {},
     "output_type": "execute_result"
    },
    {
     "data": {
      "text/plain": [
       "Text(4, -4, '양천구')"
      ]
     },
     "execution_count": 106,
     "metadata": {},
     "output_type": "execute_result"
    },
    {
     "data": {
      "text/plain": [
       "Text(4, -4, '영등포구')"
      ]
     },
     "execution_count": 106,
     "metadata": {},
     "output_type": "execute_result"
    },
    {
     "data": {
      "text/plain": [
       "Text(4, -4, '용산구')"
      ]
     },
     "execution_count": 106,
     "metadata": {},
     "output_type": "execute_result"
    },
    {
     "data": {
      "text/plain": [
       "Text(4, -4, '은평구')"
      ]
     },
     "execution_count": 106,
     "metadata": {},
     "output_type": "execute_result"
    },
    {
     "data": {
      "text/plain": [
       "Text(4, -4, '종로구')"
      ]
     },
     "execution_count": 106,
     "metadata": {},
     "output_type": "execute_result"
    },
    {
     "data": {
      "text/plain": [
       "Text(4, -4, '중구')"
      ]
     },
     "execution_count": 106,
     "metadata": {},
     "output_type": "execute_result"
    },
    {
     "data": {
      "text/plain": [
       "Text(4, -4, '중랑구')"
      ]
     },
     "execution_count": 106,
     "metadata": {},
     "output_type": "execute_result"
    },
    {
     "data": {
      "image/png": "[encoded data removed]",
      "text/plain": [
       "<Figure size 900x500 with 2 Axes>"
      ]
     },
     "metadata": {},
     "output_type": "display_data"
    }
   ],
   "source": [
    "#각 자치구별 회귀선과의 거리\n",
    "col_bar=[]\n",
    "for i in range(len(merged_data)):\n",
    "  temp = abs(d_label[i]-(y+x*d_row[i]))\n",
    "  col_bar.append(int(temp))\n",
    "\n",
    "\n",
    "plt.figure(figsize=(9,5))\n",
    "plt.plot(x_reg, y_reg , '--', color = 'green' )\n",
    "plt.title('인구 별 CCTV 분포')\n",
    "plt.xlabel('인구 수')\n",
    "plt.ylabel('CCTV 수')\n",
    "\n",
    "\n",
    "scatter = plt.scatter(d_row,d_label, c=col_bar)\n",
    "plt.colorbar(scatter)\n",
    "plt.grid()\n",
    "plt.xlim(min(d_row)*0.5, max(d_row)*1.1)\n",
    "\n",
    "\n",
    "for i, gu_name in enumerate(merged_data['기관명']):  # 구 이름으로 라벨링\n",
    "    plt.annotate(gu_name, (d_row[i], d_label[i]), \n",
    "                xytext=(4, -4),textcoords='offset points')\n",
    "\n",
    "\n",
    "plt.tight_layout()\n",
    "plt.show()"
   ]
  },
  {
   "cell_type": "code",
   "execution_count": 203,
   "metadata": {},
   "outputs": [
    {
     "data": {
      "text/plain": [
       "<Figure size 900x500 with 0 Axes>"
      ]
     },
     "execution_count": 203,
     "metadata": {},
     "output_type": "execute_result"
    },
    {
     "data": {
      "text/plain": [
       "[<matplotlib.lines.Line2D at 0x1c8b899f110>]"
      ]
     },
     "execution_count": 203,
     "metadata": {},
     "output_type": "execute_result"
    },
    {
     "data": {
      "text/plain": [
       "Text(0.5, 1.0, '인구 별 CCTV 분포')"
      ]
     },
     "execution_count": 203,
     "metadata": {},
     "output_type": "execute_result"
    },
    {
     "data": {
      "text/plain": [
       "Text(0.5, 0, '인구 수')"
      ]
     },
     "execution_count": 203,
     "metadata": {},
     "output_type": "execute_result"
    },
    {
     "data": {
      "text/plain": [
       "Text(0, 0.5, 'CCTV 수')"
      ]
     },
     "execution_count": 203,
     "metadata": {},
     "output_type": "execute_result"
    },
    {
     "data": {
      "text/plain": [
       "<matplotlib.colorbar.Colorbar at 0x1c8b934f590>"
      ]
     },
     "execution_count": 203,
     "metadata": {},
     "output_type": "execute_result"
    },
    {
     "data": {
      "text/plain": [
       "(66620.0, 734231.3)"
      ]
     },
     "execution_count": 203,
     "metadata": {},
     "output_type": "execute_result"
    },
    {
     "data": {
      "text/plain": [
       "Text(4, -4, '강남구')"
      ]
     },
     "execution_count": 203,
     "metadata": {},
     "output_type": "execute_result"
    },
    {
     "data": {
      "text/plain": [
       "Text(4, -4, '송파구')"
      ]
     },
     "execution_count": 203,
     "metadata": {},
     "output_type": "execute_result"
    },
    {
     "data": {
      "text/plain": [
       "Text(4, -4, '양천구')"
      ]
     },
     "execution_count": 203,
     "metadata": {},
     "output_type": "execute_result"
    },
    {
     "data": {
      "text/plain": [
       "Text(4, -4, '서초구')"
      ]
     },
     "execution_count": 203,
     "metadata": {},
     "output_type": "execute_result"
    },
    {
     "data": {
      "text/plain": [
       "Text(4, -4, '용산구')"
      ]
     },
     "execution_count": 203,
     "metadata": {},
     "output_type": "execute_result"
    },
    {
     "data": {
      "text/plain": [
       "Text(4, -4, '도봉구')"
      ]
     },
     "execution_count": 203,
     "metadata": {},
     "output_type": "execute_result"
    },
    {
     "data": {
      "text/plain": [
       "Text(4, -4, '마포구')"
      ]
     },
     "execution_count": 203,
     "metadata": {},
     "output_type": "execute_result"
    },
    {
     "data": {
      "text/plain": [
       "Text(4, -4, '은평구')"
      ]
     },
     "execution_count": 203,
     "metadata": {},
     "output_type": "execute_result"
    },
    {
     "data": {
      "text/plain": [
       "Text(4, -4, '강서구')"
      ]
     },
     "execution_count": 203,
     "metadata": {},
     "output_type": "execute_result"
    },
    {
     "data": {
      "text/plain": [
       "Text(4, -4, '중랑구')"
      ]
     },
     "execution_count": 203,
     "metadata": {},
     "output_type": "execute_result"
    },
    {
     "data": {
      "image/png": "[encoded data removed]",
      "text/plain": [
       "<Figure size 900x500 with 2 Axes>"
      ]
     },
     "metadata": {},
     "output_type": "display_data"
    }
   ],
   "source": [
    "merged_data['컬러바']=col_bar\n",
    "merged_data = merged_data.sort_values(by='컬러바', ascending=False).reset_index(drop=True)\n",
    "\n",
    "d_label = merged_data['소계'].tolist()\n",
    "d_row = merged_data['인구'].tolist()\n",
    "\n",
    "#회귀선\n",
    "#기울기, y절편 = np.polyfit(데이터x, 데이터y, 1(차원=직선))\n",
    "x,y = np.polyfit(d_row,d_label,1) #기울기x, y절편\n",
    "\n",
    "#회귀선을 그리기위한 x,y값 도출\n",
    "#회귀선을 그릴때 x축의 최대,최소만 알고있어도 그릴수 있음\n",
    "#최대,최소값으로 두 점 생성\n",
    "x_reg = np.array([100000, 700000])\n",
    "#회귀선 y값 계산 => 기울기*x값 + y절편\n",
    "y_reg = x*x_reg+y\n",
    "\n",
    "\n",
    "\n",
    "#각 자치구별 회귀선과의 거리\n",
    "col_bar=[]\n",
    "for i in range(len(merged_data)):\n",
    "  temp = abs(d_label[i]-(y+x*d_row[i]))\n",
    "  col_bar.append(int(temp))\n",
    "\n",
    "plt.figure(figsize=(9,5))\n",
    "plt.plot(x_reg, y_reg , '--', color = 'green' )\n",
    "plt.title('인구 별 CCTV 분포')\n",
    "plt.xlabel('인구 수')\n",
    "plt.ylabel('CCTV 수')\n",
    "\n",
    "\n",
    "scatter = plt.scatter(d_row,d_label, c=col_bar)\n",
    "plt.colorbar(scatter)\n",
    "plt.grid()\n",
    "plt.xlim(min(d_row)*0.5, max(d_row)*1.1)\n",
    "\n",
    "#회귀선과의 거리 먼 상위 10개 항목 출력\n",
    "for i in range(10):\n",
    "    plt.annotate(merged_data['기관명'][i], (d_row[i], d_label[i]), \n",
    "                xytext=(4, -4),textcoords='offset points')\n",
    "\n",
    "plt.tight_layout()\n",
    "plt.savefig('./4번_회귀선과 거리 먼 상위10개 지역구 출력')\n",
    "plt.show()"
   ]
  }
 ],
 "metadata": {
  "kernelspec": {
   "display_name": "seSac_env",
   "language": "python",
   "name": "python3"
  },
  "language_info": {
   "codemirror_mode": {
    "name": "ipython",
    "version": 3
   },
   "file_extension": ".py",
   "mimetype": "text/x-python",
   "name": "python",
   "nbconvert_exporter": "python",
   "pygments_lexer": "ipython3",
   "version": "3.12.8"
  }
 },
 "nbformat": 4,
 "nbformat_minor": 2
}
