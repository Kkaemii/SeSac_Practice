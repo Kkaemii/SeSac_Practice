{
 "cells": [
  {
   "cell_type": "code",
   "execution_count": 33,
   "metadata": {},
   "outputs": [
    {
     "name": "stdout",
     "output_type": "stream",
     "text": [
      "\n"
     ]
    }
   ],
   "source": [
    "import requests\n",
    "\n",
    "header = {'User-Agent': 'Mozilla/5.0 (Windows NT 6.3; Trident/7.0; rv:11.0) like Gecko'}\n",
    "url = 'http://openapi.seoul.go.kr:8088/'\n",
    "params = {\n",
    "  'KEY' : '7a556e797368686833386252756b6b',\n",
    "  'TYPE' : 'json',\n",
    "  'SERVICE' : 'tbLnOpendataRtmsV/1/5',\n",
    "  'START_INDEX': '1',\n",
    "\t'END_INDEX': '1',\n",
    "  'RCPT_YR': '2020'\n",
    "}\n",
    "\n",
    "results = []\n",
    "\n",
    "res = requests.get(url, params=params, headers=header)\n",
    "\n",
    "print(res.text)\n"
   ]
  },
  {
   "cell_type": "code",
   "execution_count": null,
   "metadata": {},
   "outputs": [
    {
     "ename": "TypeError",
     "evalue": "string indices must be integers, not 'str'",
     "output_type": "error",
     "traceback": [
      "\u001b[1;31m---------------------------------------------------------------------------\u001b[0m",
      "\u001b[1;31mTypeError\u001b[0m                                 Traceback (most recent call last)",
      "Cell \u001b[1;32mIn[38], line 16\u001b[0m\n\u001b[0;32m     13\u001b[0m res \u001b[38;5;241m=\u001b[39m requests\u001b[38;5;241m.\u001b[39mget(url, params\u001b[38;5;241m=\u001b[39mparams, headers\u001b[38;5;241m=\u001b[39mheader)\n\u001b[0;32m     15\u001b[0m \u001b[38;5;66;03m# 응답 내용 확인하기\u001b[39;00m\n\u001b[1;32m---> 16\u001b[0m \u001b[38;5;28mprint\u001b[39m(res\u001b[38;5;241m.\u001b[39mtext[\u001b[38;5;124m'\u001b[39m\u001b[38;5;124mlist_total_count\u001b[39m\u001b[38;5;124m'\u001b[39m])  \u001b[38;5;66;03m# 텍스트로 보기\u001b[39;00m\n\u001b[0;32m     17\u001b[0m \u001b[38;5;66;03m# 또는\u001b[39;00m\n\u001b[0;32m     18\u001b[0m \u001b[38;5;28mprint\u001b[39m(res\u001b[38;5;241m.\u001b[39mjson())\n",
      "\u001b[1;31mTypeError\u001b[0m: string indices must be integers, not 'str'"
     ]
    }
   ],
   "source": [
    "import requests\n",
    "\n",
    "url = 'http://openapi.seoul.go.kr:8088/'\n",
    "params = {\n",
    "\t'KEY' : '7a556e797368686833386252756b6b',\n",
    "\t'TYPE': 'json',\n",
    "\t'SERVICE': 'tbLnOpendataRtmsV',\n",
    "\t'START_INDEX': 1,\n",
    "\t'END_INDEX': 5\n",
    "}\n",
    "header = {'User-Agent': 'Mozilla/5.0 (Windows NT 6.3; Trident/7.0; rv:11.0) like Gecko'}\n",
    "\n",
    "res = requests.get(url, params=params, headers=header)\n",
    "\n",
    "if response.text:  # 응답 내용이 있는지 확인\n",
    "    try:\n",
    "        data = response.json()\n",
    "    except:\n",
    "        print(\"JSON 파싱 오류\")\n",
    "\n",
    "\n",
    "\n",
    "\n",
    "# 응답 내용 확인하기\n",
    "print(res.text)  # 텍스트로 보기\n",
    "# 또는\n",
    "print(res.json())  # JSON 형태로 파싱해서 보기\n"
   ]
  }
 ],
 "metadata": {
  "kernelspec": {
   "display_name": "sklearn_env",
   "language": "python",
   "name": "python3"
  },
  "language_info": {
   "codemirror_mode": {
    "name": "ipython",
    "version": 3
   },
   "file_extension": ".py",
   "mimetype": "text/x-python",
   "name": "python",
   "nbconvert_exporter": "python",
   "pygments_lexer": "ipython3",
   "version": "3.13.2"
  }
 },
 "nbformat": 4,
 "nbformat_minor": 2
}
