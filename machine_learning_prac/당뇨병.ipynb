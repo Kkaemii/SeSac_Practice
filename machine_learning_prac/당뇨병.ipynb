{
 "cells": [
  {
   "cell_type": "code",
   "execution_count": 1,
   "metadata": {},
   "outputs": [
    {
     "data": {
      "application/vnd.microsoft.datawrangler.viewer.v0+json": {
       "columns": [
        {
         "name": "index",
         "rawType": "int64",
         "type": "integer"
        },
        {
         "name": "Pregnancies",
         "rawType": "int64",
         "type": "integer"
        },
        {
         "name": "Glucose",
         "rawType": "int64",
         "type": "integer"
        },
        {
         "name": "BloodPressure",
         "rawType": "int64",
         "type": "integer"
        },
        {
         "name": "SkinThickness",
         "rawType": "int64",
         "type": "integer"
        },
        {
         "name": "Insulin",
         "rawType": "int64",
         "type": "integer"
        },
        {
         "name": "BMI",
         "rawType": "float64",
         "type": "float"
        },
        {
         "name": "DiabetesPedigreeFunction",
         "rawType": "float64",
         "type": "float"
        },
        {
         "name": "Age",
         "rawType": "int64",
         "type": "integer"
        },
        {
         "name": "Outcome",
         "rawType": "int64",
         "type": "integer"
        }
       ],
       "conversionMethod": "pd.DataFrame",
       "ref": "903d8d27-117b-418b-8b97-b53debe72483",
       "rows": [
        [
         "0",
         "6",
         "148",
         "72",
         "35",
         "0",
         "33.6",
         "0.627",
         "50",
         "1"
        ],
        [
         "1",
         "1",
         "85",
         "66",
         "29",
         "0",
         "26.6",
         "0.351",
         "31",
         "0"
        ],
        [
         "2",
         "8",
         "183",
         "64",
         "0",
         "0",
         "23.3",
         "0.672",
         "32",
         "1"
        ],
        [
         "3",
         "1",
         "89",
         "66",
         "23",
         "94",
         "28.1",
         "0.167",
         "21",
         "0"
        ],
        [
         "4",
         "0",
         "137",
         "40",
         "35",
         "168",
         "43.1",
         "2.288",
         "33",
         "1"
        ],
        [
         "5",
         "5",
         "116",
         "74",
         "0",
         "0",
         "25.6",
         "0.201",
         "30",
         "0"
        ],
        [
         "6",
         "3",
         "78",
         "50",
         "32",
         "88",
         "31.0",
         "0.248",
         "26",
         "1"
        ],
        [
         "7",
         "10",
         "115",
         "0",
         "0",
         "0",
         "35.3",
         "0.134",
         "29",
         "0"
        ],
        [
         "8",
         "2",
         "197",
         "70",
         "45",
         "543",
         "30.5",
         "0.158",
         "53",
         "1"
        ],
        [
         "9",
         "8",
         "125",
         "96",
         "0",
         "0",
         "0.0",
         "0.232",
         "54",
         "1"
        ],
        [
         "10",
         "4",
         "110",
         "92",
         "0",
         "0",
         "37.6",
         "0.191",
         "30",
         "0"
        ],
        [
         "11",
         "10",
         "168",
         "74",
         "0",
         "0",
         "38.0",
         "0.537",
         "34",
         "1"
        ],
        [
         "12",
         "10",
         "139",
         "80",
         "0",
         "0",
         "27.1",
         "1.441",
         "57",
         "0"
        ],
        [
         "13",
         "1",
         "189",
         "60",
         "23",
         "846",
         "30.1",
         "0.398",
         "59",
         "1"
        ],
        [
         "14",
         "5",
         "166",
         "72",
         "19",
         "175",
         "25.8",
         "0.587",
         "51",
         "1"
        ],
        [
         "15",
         "7",
         "100",
         "0",
         "0",
         "0",
         "30.0",
         "0.484",
         "32",
         "1"
        ],
        [
         "16",
         "0",
         "118",
         "84",
         "47",
         "230",
         "45.8",
         "0.551",
         "31",
         "1"
        ],
        [
         "17",
         "7",
         "107",
         "74",
         "0",
         "0",
         "29.6",
         "0.254",
         "31",
         "1"
        ],
        [
         "18",
         "1",
         "103",
         "30",
         "38",
         "83",
         "43.3",
         "0.183",
         "33",
         "0"
        ],
        [
         "19",
         "1",
         "115",
         "70",
         "30",
         "96",
         "34.6",
         "0.529",
         "32",
         "1"
        ],
        [
         "20",
         "3",
         "126",
         "88",
         "41",
         "235",
         "39.3",
         "0.704",
         "27",
         "0"
        ],
        [
         "21",
         "8",
         "99",
         "84",
         "0",
         "0",
         "35.4",
         "0.388",
         "50",
         "0"
        ],
        [
         "22",
         "7",
         "196",
         "90",
         "0",
         "0",
         "39.8",
         "0.451",
         "41",
         "1"
        ],
        [
         "23",
         "9",
         "119",
         "80",
         "35",
         "0",
         "29.0",
         "0.263",
         "29",
         "1"
        ],
        [
         "24",
         "11",
         "143",
         "94",
         "33",
         "146",
         "36.6",
         "0.254",
         "51",
         "1"
        ],
        [
         "25",
         "10",
         "125",
         "70",
         "26",
         "115",
         "31.1",
         "0.205",
         "41",
         "1"
        ],
        [
         "26",
         "7",
         "147",
         "76",
         "0",
         "0",
         "39.4",
         "0.257",
         "43",
         "1"
        ],
        [
         "27",
         "1",
         "97",
         "66",
         "15",
         "140",
         "23.2",
         "0.487",
         "22",
         "0"
        ],
        [
         "28",
         "13",
         "145",
         "82",
         "19",
         "110",
         "22.2",
         "0.245",
         "57",
         "0"
        ],
        [
         "29",
         "5",
         "117",
         "92",
         "0",
         "0",
         "34.1",
         "0.337",
         "38",
         "0"
        ],
        [
         "30",
         "5",
         "109",
         "75",
         "26",
         "0",
         "36.0",
         "0.546",
         "60",
         "0"
        ],
        [
         "31",
         "3",
         "158",
         "76",
         "36",
         "245",
         "31.6",
         "0.851",
         "28",
         "1"
        ],
        [
         "32",
         "3",
         "88",
         "58",
         "11",
         "54",
         "24.8",
         "0.267",
         "22",
         "0"
        ],
        [
         "33",
         "6",
         "92",
         "92",
         "0",
         "0",
         "19.9",
         "0.188",
         "28",
         "0"
        ],
        [
         "34",
         "10",
         "122",
         "78",
         "31",
         "0",
         "27.6",
         "0.512",
         "45",
         "0"
        ],
        [
         "35",
         "4",
         "103",
         "60",
         "33",
         "192",
         "24.0",
         "0.966",
         "33",
         "0"
        ],
        [
         "36",
         "11",
         "138",
         "76",
         "0",
         "0",
         "33.2",
         "0.42",
         "35",
         "0"
        ],
        [
         "37",
         "9",
         "102",
         "76",
         "37",
         "0",
         "32.9",
         "0.665",
         "46",
         "1"
        ],
        [
         "38",
         "2",
         "90",
         "68",
         "42",
         "0",
         "38.2",
         "0.503",
         "27",
         "1"
        ],
        [
         "39",
         "4",
         "111",
         "72",
         "47",
         "207",
         "37.1",
         "1.39",
         "56",
         "1"
        ],
        [
         "40",
         "3",
         "180",
         "64",
         "25",
         "70",
         "34.0",
         "0.271",
         "26",
         "0"
        ],
        [
         "41",
         "7",
         "133",
         "84",
         "0",
         "0",
         "40.2",
         "0.696",
         "37",
         "0"
        ],
        [
         "42",
         "7",
         "106",
         "92",
         "18",
         "0",
         "22.7",
         "0.235",
         "48",
         "0"
        ],
        [
         "43",
         "9",
         "171",
         "110",
         "24",
         "240",
         "45.4",
         "0.721",
         "54",
         "1"
        ],
        [
         "44",
         "7",
         "159",
         "64",
         "0",
         "0",
         "27.4",
         "0.294",
         "40",
         "0"
        ],
        [
         "45",
         "0",
         "180",
         "66",
         "39",
         "0",
         "42.0",
         "1.893",
         "25",
         "1"
        ],
        [
         "46",
         "1",
         "146",
         "56",
         "0",
         "0",
         "29.7",
         "0.564",
         "29",
         "0"
        ],
        [
         "47",
         "2",
         "71",
         "70",
         "27",
         "0",
         "28.0",
         "0.586",
         "22",
         "0"
        ],
        [
         "48",
         "7",
         "103",
         "66",
         "32",
         "0",
         "39.1",
         "0.344",
         "31",
         "1"
        ],
        [
         "49",
         "7",
         "105",
         "0",
         "0",
         "0",
         "0.0",
         "0.305",
         "24",
         "0"
        ]
       ],
       "shape": {
        "columns": 9,
        "rows": 768
       }
      },
      "text/html": [
       "<div>\n",
       "<style scoped>\n",
       "    .dataframe tbody tr th:only-of-type {\n",
       "        vertical-align: middle;\n",
       "    }\n",
       "\n",
       "    .dataframe tbody tr th {\n",
       "        vertical-align: top;\n",
       "    }\n",
       "\n",
       "    .dataframe thead th {\n",
       "        text-align: right;\n",
       "    }\n",
       "</style>\n",
       "<table border=\"1\" class=\"dataframe\">\n",
       "  <thead>\n",
       "    <tr style=\"text-align: right;\">\n",
       "      <th></th>\n",
       "      <th>Pregnancies</th>\n",
       "      <th>Glucose</th>\n",
       "      <th>BloodPressure</th>\n",
       "      <th>SkinThickness</th>\n",
       "      <th>Insulin</th>\n",
       "      <th>BMI</th>\n",
       "      <th>DiabetesPedigreeFunction</th>\n",
       "      <th>Age</th>\n",
       "      <th>Outcome</th>\n",
       "    </tr>\n",
       "  </thead>\n",
       "  <tbody>\n",
       "    <tr>\n",
       "      <th>0</th>\n",
       "      <td>6</td>\n",
       "      <td>148</td>\n",
       "      <td>72</td>\n",
       "      <td>35</td>\n",
       "      <td>0</td>\n",
       "      <td>33.6</td>\n",
       "      <td>0.627</td>\n",
       "      <td>50</td>\n",
       "      <td>1</td>\n",
       "    </tr>\n",
       "    <tr>\n",
       "      <th>1</th>\n",
       "      <td>1</td>\n",
       "      <td>85</td>\n",
       "      <td>66</td>\n",
       "      <td>29</td>\n",
       "      <td>0</td>\n",
       "      <td>26.6</td>\n",
       "      <td>0.351</td>\n",
       "      <td>31</td>\n",
       "      <td>0</td>\n",
       "    </tr>\n",
       "    <tr>\n",
       "      <th>2</th>\n",
       "      <td>8</td>\n",
       "      <td>183</td>\n",
       "      <td>64</td>\n",
       "      <td>0</td>\n",
       "      <td>0</td>\n",
       "      <td>23.3</td>\n",
       "      <td>0.672</td>\n",
       "      <td>32</td>\n",
       "      <td>1</td>\n",
       "    </tr>\n",
       "    <tr>\n",
       "      <th>3</th>\n",
       "      <td>1</td>\n",
       "      <td>89</td>\n",
       "      <td>66</td>\n",
       "      <td>23</td>\n",
       "      <td>94</td>\n",
       "      <td>28.1</td>\n",
       "      <td>0.167</td>\n",
       "      <td>21</td>\n",
       "      <td>0</td>\n",
       "    </tr>\n",
       "    <tr>\n",
       "      <th>4</th>\n",
       "      <td>0</td>\n",
       "      <td>137</td>\n",
       "      <td>40</td>\n",
       "      <td>35</td>\n",
       "      <td>168</td>\n",
       "      <td>43.1</td>\n",
       "      <td>2.288</td>\n",
       "      <td>33</td>\n",
       "      <td>1</td>\n",
       "    </tr>\n",
       "    <tr>\n",
       "      <th>...</th>\n",
       "      <td>...</td>\n",
       "      <td>...</td>\n",
       "      <td>...</td>\n",
       "      <td>...</td>\n",
       "      <td>...</td>\n",
       "      <td>...</td>\n",
       "      <td>...</td>\n",
       "      <td>...</td>\n",
       "      <td>...</td>\n",
       "    </tr>\n",
       "    <tr>\n",
       "      <th>763</th>\n",
       "      <td>10</td>\n",
       "      <td>101</td>\n",
       "      <td>76</td>\n",
       "      <td>48</td>\n",
       "      <td>180</td>\n",
       "      <td>32.9</td>\n",
       "      <td>0.171</td>\n",
       "      <td>63</td>\n",
       "      <td>0</td>\n",
       "    </tr>\n",
       "    <tr>\n",
       "      <th>764</th>\n",
       "      <td>2</td>\n",
       "      <td>122</td>\n",
       "      <td>70</td>\n",
       "      <td>27</td>\n",
       "      <td>0</td>\n",
       "      <td>36.8</td>\n",
       "      <td>0.340</td>\n",
       "      <td>27</td>\n",
       "      <td>0</td>\n",
       "    </tr>\n",
       "    <tr>\n",
       "      <th>765</th>\n",
       "      <td>5</td>\n",
       "      <td>121</td>\n",
       "      <td>72</td>\n",
       "      <td>23</td>\n",
       "      <td>112</td>\n",
       "      <td>26.2</td>\n",
       "      <td>0.245</td>\n",
       "      <td>30</td>\n",
       "      <td>0</td>\n",
       "    </tr>\n",
       "    <tr>\n",
       "      <th>766</th>\n",
       "      <td>1</td>\n",
       "      <td>126</td>\n",
       "      <td>60</td>\n",
       "      <td>0</td>\n",
       "      <td>0</td>\n",
       "      <td>30.1</td>\n",
       "      <td>0.349</td>\n",
       "      <td>47</td>\n",
       "      <td>1</td>\n",
       "    </tr>\n",
       "    <tr>\n",
       "      <th>767</th>\n",
       "      <td>1</td>\n",
       "      <td>93</td>\n",
       "      <td>70</td>\n",
       "      <td>31</td>\n",
       "      <td>0</td>\n",
       "      <td>30.4</td>\n",
       "      <td>0.315</td>\n",
       "      <td>23</td>\n",
       "      <td>0</td>\n",
       "    </tr>\n",
       "  </tbody>\n",
       "</table>\n",
       "<p>768 rows × 9 columns</p>\n",
       "</div>"
      ],
      "text/plain": [
       "     Pregnancies  Glucose  BloodPressure  SkinThickness  Insulin   BMI  \\\n",
       "0              6      148             72             35        0  33.6   \n",
       "1              1       85             66             29        0  26.6   \n",
       "2              8      183             64              0        0  23.3   \n",
       "3              1       89             66             23       94  28.1   \n",
       "4              0      137             40             35      168  43.1   \n",
       "..           ...      ...            ...            ...      ...   ...   \n",
       "763           10      101             76             48      180  32.9   \n",
       "764            2      122             70             27        0  36.8   \n",
       "765            5      121             72             23      112  26.2   \n",
       "766            1      126             60              0        0  30.1   \n",
       "767            1       93             70             31        0  30.4   \n",
       "\n",
       "     DiabetesPedigreeFunction  Age  Outcome  \n",
       "0                       0.627   50        1  \n",
       "1                       0.351   31        0  \n",
       "2                       0.672   32        1  \n",
       "3                       0.167   21        0  \n",
       "4                       2.288   33        1  \n",
       "..                        ...  ...      ...  \n",
       "763                     0.171   63        0  \n",
       "764                     0.340   27        0  \n",
       "765                     0.245   30        0  \n",
       "766                     0.349   47        1  \n",
       "767                     0.315   23        0  \n",
       "\n",
       "[768 rows x 9 columns]"
      ]
     },
     "execution_count": 1,
     "metadata": {},
     "output_type": "execute_result"
    }
   ],
   "source": [
    "import pandas as pd\n",
    "\n",
    "df = pd.read_csv('./data_set/diabetes.csv', encoding='utf-8-sig')\n",
    "df"
   ]
  },
  {
   "cell_type": "code",
   "execution_count": 2,
   "metadata": {},
   "outputs": [
    {
     "name": "stdout",
     "output_type": "stream",
     "text": [
      "<class 'pandas.core.frame.DataFrame'>\n",
      "RangeIndex: 768 entries, 0 to 767\n",
      "Data columns (total 9 columns):\n",
      " #   Column                    Non-Null Count  Dtype  \n",
      "---  ------                    --------------  -----  \n",
      " 0   Pregnancies               768 non-null    int64  \n",
      " 1   Glucose                   768 non-null    int64  \n",
      " 2   BloodPressure             768 non-null    int64  \n",
      " 3   SkinThickness             768 non-null    int64  \n",
      " 4   Insulin                   768 non-null    int64  \n",
      " 5   BMI                       768 non-null    float64\n",
      " 6   DiabetesPedigreeFunction  768 non-null    float64\n",
      " 7   Age                       768 non-null    int64  \n",
      " 8   Outcome                   768 non-null    int64  \n",
      "dtypes: float64(2), int64(7)\n",
      "memory usage: 54.1 KB\n"
     ]
    }
   ],
   "source": [
    "df.info()"
   ]
  },
  {
   "cell_type": "code",
   "execution_count": 47,
   "metadata": {},
   "outputs": [],
   "source": [
    "from sklearn.model_selection import train_test_split\n",
    "from sklearn.preprocessing import StandardScaler\n",
    "from sklearn.linear_model import LogisticRegression\n",
    "from sklearn.metrics import accuracy_score, precision_recall_curve, roc_curve, f1_score, confusion_matrix\n",
    "from sklearn.metrics import precision_score, recall_score, roc_auc_score\n",
    "import matplotlib.pyplot as plt\n",
    "import pandas as pd\n",
    "import numpy as np"
   ]
  },
  {
   "cell_type": "code",
   "execution_count": 31,
   "metadata": {},
   "outputs": [],
   "source": [
    "def get_clf_eval(y_test, pred=None, pred_proba=None):\n",
    "  confusion = confusion_matrix(y_test, pred)\n",
    "  accuracy = accuracy_score(y_test, pred)\n",
    "  precision = precision_score(y_test, pred)\n",
    "  recall = recall_score(y_test,pred)\n",
    "  f1 = f1_score(y_test, pred)\n",
    "  \n",
    "\t#ROC-AUC 추가\n",
    "  roc_auc = roc_auc_score(y_test, pred_proba)\n",
    "  print('오차행렬')\n",
    "  print(confusion)\n",
    "  \n",
    "  #ROC-AUC print\n",
    "  print(f'정확도 : {accuracy:.4f} || 정밀도 : {precision:.4f} || 재현율 : {recall:.4f} || F1점수 : {f1:.4f} || AUC : {roc_auc:.4f}')\n"
   ]
  },
  {
   "cell_type": "code",
   "execution_count": 52,
   "metadata": {},
   "outputs": [],
   "source": [
    "def precision_recall_curve_plot(y_test=None, pred_proba_c1=None):\n",
    "  precisions, recalls, thresholds = precision_recall_curve(y_test, pred_proba_c1)\n",
    "  \n",
    "\t#X축을 threshold값으로, Y축은 정밀도, 재현율 값으로 각각 Plot수행, 정밀도는 점섬으로 표시\n",
    "  plt.figure(figsize=(8,6))\n",
    "  threshold_boundary = thresholds.shape[0]\n",
    "  plt.plot(thresholds, precisions[0:threshold_boundary], linestyle ='--', label='precision')\n",
    "  plt.plot(thresholds, recalls[0:threshold_boundary], label = 'recall')\n",
    "  \n",
    "\t#threshold값 X축의 Scale을 0.1단위로 변경\n",
    "  start, end = plt.xlim()\n",
    "  plt.xticks(np.round(np.arange(start, end, 0.1), 2))\n",
    "  \n",
    "\t#x축, y축 label과 legend, grid 설정\n",
    "  plt.xlabel('Threshild value')\n",
    "  plt.ylabel('Precision and Recall value')\n",
    "  plt.legend()\n",
    "  plt.grid()\n",
    "  plt.show()\n"
   ]
  },
  {
   "cell_type": "code",
   "execution_count": 88,
   "metadata": {},
   "outputs": [
    {
     "name": "stdout",
     "output_type": "stream",
     "text": [
      "오차행렬\n",
      "[[88 12]\n",
      " [21 33]]\n",
      "정확도 : 0.7857 || 정밀도 : 0.7333 || 재현율 : 0.6111 || F1점수 : 0.6667 || AUC : 0.8465\n"
     ]
    },
    {
     "name": "stderr",
     "output_type": "stream",
     "text": [
      "c:\\ProgramData\\anaconda3\\envs\\conda_env\\lib\\site-packages\\sklearn\\linear_model\\_logistic.py:458: ConvergenceWarning: lbfgs failed to converge (status=1):\n",
      "STOP: TOTAL NO. of ITERATIONS REACHED LIMIT.\n",
      "\n",
      "Increase the number of iterations (max_iter) or scale the data as shown in:\n",
      "    https://scikit-learn.org/stable/modules/preprocessing.html\n",
      "Please also refer to the documentation for alternative solver options:\n",
      "    https://scikit-learn.org/stable/modules/linear_model.html#logistic-regression\n",
      "  n_iter_i = _check_optimize_result(\n"
     ]
    }
   ],
   "source": [
    "X = df.iloc[:,:-1] #제일 마지막 열 빼고 다 선택\n",
    "y = df.iloc[:,-1] # 제일 마지막 열만 선택\n",
    "\n",
    "X_train, X_test, y_train, y_test  = train_test_split(X, y, test_size=0.2, random_state=7, stratify=y )\n",
    "#stratify 데이터 세트 불할시 현재 y값이 구성된 비율 그대로를 유지\n",
    "#데이터의 불균형이 생기지 않도록\n",
    "\n",
    "#로지스틱 회귀로 학습,예측 및 평가 수행\n",
    "lr_clf = LogisticRegression()\n",
    "lr_clf.fit(X_train, y_train)\n",
    "pred = lr_clf.predict(X_test)\n",
    "#predict_proba => 클래스별 확률을 배열로 반환\n",
    "#-1의 의미는 모등 행의 마지막열의 결과만 가지고 와라, 결론적으로는 클래스1의 결과값만 반환해라\n",
    "pred_proba = lr_clf.predict_proba(X_test)[:,-1]\n",
    "\n",
    "get_clf_eval(y_test, pred, pred_proba)\n"
   ]
  },
  {
   "cell_type": "code",
   "execution_count": 89,
   "metadata": {},
   "outputs": [
    {
     "data": {
      "image/png": "[encoded data removed]",
      "text/plain": [
       "<Figure size 800x600 with 1 Axes>"
      ]
     },
     "metadata": {},
     "output_type": "display_data"
    }
   ],
   "source": [
    "pred_proba_c1 = lr_clf.predict_proba(X_test)[:,-1]\n",
    "precision_recall_curve_plot(y_test, pred_proba_c1)"
   ]
  },
  {
   "cell_type": "code",
   "execution_count": 90,
   "metadata": {},
   "outputs": [
    {
     "data": {
      "application/vnd.microsoft.datawrangler.viewer.v0+json": {
       "columns": [
        {
         "name": "index",
         "rawType": "object",
         "type": "string"
        },
        {
         "name": "Pregnancies",
         "rawType": "float64",
         "type": "float"
        },
        {
         "name": "Glucose",
         "rawType": "float64",
         "type": "float"
        },
        {
         "name": "BloodPressure",
         "rawType": "float64",
         "type": "float"
        },
        {
         "name": "SkinThickness",
         "rawType": "float64",
         "type": "float"
        },
        {
         "name": "Insulin",
         "rawType": "float64",
         "type": "float"
        },
        {
         "name": "BMI",
         "rawType": "float64",
         "type": "float"
        },
        {
         "name": "DiabetesPedigreeFunction",
         "rawType": "float64",
         "type": "float"
        },
        {
         "name": "Age",
         "rawType": "float64",
         "type": "float"
        },
        {
         "name": "Outcome",
         "rawType": "float64",
         "type": "float"
        }
       ],
       "conversionMethod": "pd.DataFrame",
       "ref": "5ac36d23-fbb2-4a3c-bcc9-a52aa1a85f89",
       "rows": [
        [
         "count",
         "768.0",
         "768.0",
         "768.0",
         "768.0",
         "768.0",
         "768.0",
         "768.0",
         "768.0",
         "768.0"
        ],
        [
         "mean",
         "3.8450520833333335",
         "120.89453125",
         "69.10546875",
         "20.536458333333332",
         "79.79947916666667",
         "31.992578124999998",
         "0.47187630208333325",
         "33.240885416666664",
         "0.3489583333333333"
        ],
        [
         "std",
         "3.3695780626988623",
         "31.97261819513622",
         "19.355807170644777",
         "15.952217567727677",
         "115.24400235133837",
         "7.8841603203754405",
         "0.33132859501277484",
         "11.76023154067868",
         "0.4769513772427971"
        ],
        [
         "min",
         "0.0",
         "0.0",
         "0.0",
         "0.0",
         "0.0",
         "0.0",
         "0.078",
         "21.0",
         "0.0"
        ],
        [
         "25%",
         "1.0",
         "99.0",
         "62.0",
         "0.0",
         "0.0",
         "27.3",
         "0.24375",
         "24.0",
         "0.0"
        ],
        [
         "50%",
         "3.0",
         "117.0",
         "72.0",
         "23.0",
         "30.5",
         "32.0",
         "0.3725",
         "29.0",
         "0.0"
        ],
        [
         "75%",
         "6.0",
         "140.25",
         "80.0",
         "32.0",
         "127.25",
         "36.6",
         "0.62625",
         "41.0",
         "1.0"
        ],
        [
         "max",
         "17.0",
         "199.0",
         "122.0",
         "99.0",
         "846.0",
         "67.1",
         "2.42",
         "81.0",
         "1.0"
        ]
       ],
       "shape": {
        "columns": 9,
        "rows": 8
       }
      },
      "text/html": [
       "<div>\n",
       "<style scoped>\n",
       "    .dataframe tbody tr th:only-of-type {\n",
       "        vertical-align: middle;\n",
       "    }\n",
       "\n",
       "    .dataframe tbody tr th {\n",
       "        vertical-align: top;\n",
       "    }\n",
       "\n",
       "    .dataframe thead th {\n",
       "        text-align: right;\n",
       "    }\n",
       "</style>\n",
       "<table border=\"1\" class=\"dataframe\">\n",
       "  <thead>\n",
       "    <tr style=\"text-align: right;\">\n",
       "      <th></th>\n",
       "      <th>Pregnancies</th>\n",
       "      <th>Glucose</th>\n",
       "      <th>BloodPressure</th>\n",
       "      <th>SkinThickness</th>\n",
       "      <th>Insulin</th>\n",
       "      <th>BMI</th>\n",
       "      <th>DiabetesPedigreeFunction</th>\n",
       "      <th>Age</th>\n",
       "      <th>Outcome</th>\n",
       "    </tr>\n",
       "  </thead>\n",
       "  <tbody>\n",
       "    <tr>\n",
       "      <th>count</th>\n",
       "      <td>768.000000</td>\n",
       "      <td>768.000000</td>\n",
       "      <td>768.000000</td>\n",
       "      <td>768.000000</td>\n",
       "      <td>768.000000</td>\n",
       "      <td>768.000000</td>\n",
       "      <td>768.000000</td>\n",
       "      <td>768.000000</td>\n",
       "      <td>768.000000</td>\n",
       "    </tr>\n",
       "    <tr>\n",
       "      <th>mean</th>\n",
       "      <td>3.845052</td>\n",
       "      <td>120.894531</td>\n",
       "      <td>69.105469</td>\n",
       "      <td>20.536458</td>\n",
       "      <td>79.799479</td>\n",
       "      <td>31.992578</td>\n",
       "      <td>0.471876</td>\n",
       "      <td>33.240885</td>\n",
       "      <td>0.348958</td>\n",
       "    </tr>\n",
       "    <tr>\n",
       "      <th>std</th>\n",
       "      <td>3.369578</td>\n",
       "      <td>31.972618</td>\n",
       "      <td>19.355807</td>\n",
       "      <td>15.952218</td>\n",
       "      <td>115.244002</td>\n",
       "      <td>7.884160</td>\n",
       "      <td>0.331329</td>\n",
       "      <td>11.760232</td>\n",
       "      <td>0.476951</td>\n",
       "    </tr>\n",
       "    <tr>\n",
       "      <th>min</th>\n",
       "      <td>0.000000</td>\n",
       "      <td>0.000000</td>\n",
       "      <td>0.000000</td>\n",
       "      <td>0.000000</td>\n",
       "      <td>0.000000</td>\n",
       "      <td>0.000000</td>\n",
       "      <td>0.078000</td>\n",
       "      <td>21.000000</td>\n",
       "      <td>0.000000</td>\n",
       "    </tr>\n",
       "    <tr>\n",
       "      <th>25%</th>\n",
       "      <td>1.000000</td>\n",
       "      <td>99.000000</td>\n",
       "      <td>62.000000</td>\n",
       "      <td>0.000000</td>\n",
       "      <td>0.000000</td>\n",
       "      <td>27.300000</td>\n",
       "      <td>0.243750</td>\n",
       "      <td>24.000000</td>\n",
       "      <td>0.000000</td>\n",
       "    </tr>\n",
       "    <tr>\n",
       "      <th>50%</th>\n",
       "      <td>3.000000</td>\n",
       "      <td>117.000000</td>\n",
       "      <td>72.000000</td>\n",
       "      <td>23.000000</td>\n",
       "      <td>30.500000</td>\n",
       "      <td>32.000000</td>\n",
       "      <td>0.372500</td>\n",
       "      <td>29.000000</td>\n",
       "      <td>0.000000</td>\n",
       "    </tr>\n",
       "    <tr>\n",
       "      <th>75%</th>\n",
       "      <td>6.000000</td>\n",
       "      <td>140.250000</td>\n",
       "      <td>80.000000</td>\n",
       "      <td>32.000000</td>\n",
       "      <td>127.250000</td>\n",
       "      <td>36.600000</td>\n",
       "      <td>0.626250</td>\n",
       "      <td>41.000000</td>\n",
       "      <td>1.000000</td>\n",
       "    </tr>\n",
       "    <tr>\n",
       "      <th>max</th>\n",
       "      <td>17.000000</td>\n",
       "      <td>199.000000</td>\n",
       "      <td>122.000000</td>\n",
       "      <td>99.000000</td>\n",
       "      <td>846.000000</td>\n",
       "      <td>67.100000</td>\n",
       "      <td>2.420000</td>\n",
       "      <td>81.000000</td>\n",
       "      <td>1.000000</td>\n",
       "    </tr>\n",
       "  </tbody>\n",
       "</table>\n",
       "</div>"
      ],
      "text/plain": [
       "       Pregnancies     Glucose  BloodPressure  SkinThickness     Insulin  \\\n",
       "count   768.000000  768.000000     768.000000     768.000000  768.000000   \n",
       "mean      3.845052  120.894531      69.105469      20.536458   79.799479   \n",
       "std       3.369578   31.972618      19.355807      15.952218  115.244002   \n",
       "min       0.000000    0.000000       0.000000       0.000000    0.000000   \n",
       "25%       1.000000   99.000000      62.000000       0.000000    0.000000   \n",
       "50%       3.000000  117.000000      72.000000      23.000000   30.500000   \n",
       "75%       6.000000  140.250000      80.000000      32.000000  127.250000   \n",
       "max      17.000000  199.000000     122.000000      99.000000  846.000000   \n",
       "\n",
       "              BMI  DiabetesPedigreeFunction         Age     Outcome  \n",
       "count  768.000000                768.000000  768.000000  768.000000  \n",
       "mean    31.992578                  0.471876   33.240885    0.348958  \n",
       "std      7.884160                  0.331329   11.760232    0.476951  \n",
       "min      0.000000                  0.078000   21.000000    0.000000  \n",
       "25%     27.300000                  0.243750   24.000000    0.000000  \n",
       "50%     32.000000                  0.372500   29.000000    0.000000  \n",
       "75%     36.600000                  0.626250   41.000000    1.000000  \n",
       "max     67.100000                  2.420000   81.000000    1.000000  "
      ]
     },
     "execution_count": 90,
     "metadata": {},
     "output_type": "execute_result"
    }
   ],
   "source": [
    "df.describe()"
   ]
  },
  {
   "cell_type": "code",
   "execution_count": 93,
   "metadata": {},
   "outputs": [
    {
     "data": {
      "text/plain": [
       "(array([  5.,   0.,   4.,  32., 156., 211., 163.,  95.,  56.,  46.]),\n",
       " array([  0. ,  19.9,  39.8,  59.7,  79.6,  99.5, 119.4, 139.3, 159.2,\n",
       "        179.1, 199. ]),\n",
       " <BarContainer object of 10 artists>)"
      ]
     },
     "execution_count": 93,
     "metadata": {},
     "output_type": "execute_result"
    }
   ],
   "source": [
    "plt.hist(df['Glucose'], bins=10)"
   ]
  },
  {
   "cell_type": "code",
   "execution_count": 94,
   "metadata": {},
   "outputs": [
    {
     "name": "stdout",
     "output_type": "stream",
     "text": [
      "Glucose 건수는 5, 퍼센트는 0.6510416666666667\n",
      "BloodPressure 건수는 35, 퍼센트는 4.557291666666666\n",
      "SkinThickness 건수는 227, 퍼센트는 29.557291666666668\n",
      "Insulin 건수는 374, 퍼센트는 48.69791666666667\n",
      "BMI 건수는 11, 퍼센트는 1.4322916666666665\n"
     ]
    }
   ],
   "source": [
    "#피처 리스트\n",
    "zero_features = ['Glucose', 'BloodPressure', 'SkinThickness','Insulin', 'BMI' ]\n",
    "\n",
    "#전체 데이터 건수\n",
    "total_count = df['Glucose'].count()\n",
    "\n",
    "#피처별로 반복하면서 값이 0인 데이터 추출하고 퍼센트 계산\n",
    "for feature in zero_features:\n",
    "  zero_count = df[df[feature] == 0][feature].count()\n",
    "  print(f'{feature} 건수는 {zero_count}, 퍼센트는 {(zero_count/total_count)*100}')"
   ]
  },
  {
   "cell_type": "code",
   "execution_count": 95,
   "metadata": {},
   "outputs": [],
   "source": [
    "#zero_feature리스트 내부에 저장된 개별 피처들에 대해서 0값을 평균값으로 대체\n",
    "\n",
    "df[zero_features] = df[zero_features].replace(0, df[zero_features].mean())"
   ]
  },
  {
   "cell_type": "code",
   "execution_count": 106,
   "metadata": {},
   "outputs": [
    {
     "name": "stdout",
     "output_type": "stream",
     "text": [
      "오차행렬\n",
      "[[90 10]\n",
      " [21 33]]\n",
      "정확도 : 0.7987 || 정밀도 : 0.7674 || 재현율 : 0.6111 || F1점수 : 0.6804 || AUC : 0.8433\n"
     ]
    }
   ],
   "source": [
    "X = df.iloc[:, :-1] #제일 마지막 열 빼고 다 선택\n",
    "y = df.iloc[:, -1] # 제일 마지막 열만 선택\n",
    "\n",
    "#StandardScaler 클래스를 이용해 피처 데이터 세트에 일괄적으로 스케일링 적용\n",
    "scaler = StandardScaler()\n",
    "X_scaled = scaler.fit_transform(X)\n",
    "\n",
    "X_train, X_test, y_train, y_test  = train_test_split(X_scaled, y, test_size=0.2, random_state=156, stratify=y )\n",
    "#stratify 데이터 세트 불할시 현재 y값이 구성된 비율 그대로를 유지\n",
    "#데이터의 불균형이 생기지 않도록\n",
    "\n",
    "#로지스틱 회귀로 학습,예측 및 평가 수행\n",
    "lr_clf = LogisticRegression()\n",
    "lr_clf.fit(X_train, y_train)\n",
    "pred = lr_clf.predict(X_test)\n",
    "#predict_proba => 클래스별 확률을 배열로 반환\n",
    "#-1의 의미는 모등 행의 마지막열의 결과만 가지고 와라, 결론적으로는 클래스1의 결과값만 반환해라\n",
    "pred_proba = lr_clf.predict_proba(X_test)[:, 1]\n",
    "\n",
    "get_clf_eval(y_test, pred, pred_proba)"
   ]
  },
  {
   "cell_type": "code",
   "execution_count": 109,
   "metadata": {},
   "outputs": [],
   "source": [
    "from sklearn.preprocessing import Binarizer\n",
    "\n",
    "def get_eval_by_threshold(y_test, pred_proba_c1, thresholds):\n",
    "  #thresholds 리스트 객체내의 값을 차례로 iteration하면서 Evaluation수행\n",
    "  for custom_threshold in thresholds:\n",
    "    binarizer = Binarizer(threshold=custom_threshold).fit(pred_proba_c1)\n",
    "    custom_predict = binarizer.transform(pred_proba_c1)\n",
    "    print('임계값 : ', custom_threshold)\n",
    "    get_clf_eval(y_test, custom_predict, pred_proba_c1)"
   ]
  },
  {
   "cell_type": "code",
   "execution_count": 110,
   "metadata": {},
   "outputs": [
    {
     "name": "stdout",
     "output_type": "stream",
     "text": [
      "임계값 :  0.3\n",
      "오차행렬\n",
      "[[67 33]\n",
      " [11 43]]\n",
      "정확도 : 0.7143 || 정밀도 : 0.5658 || 재현율 : 0.7963 || F1점수 : 0.6615 || AUC : 0.8433\n",
      "임계값 :  0.33\n",
      "오차행렬\n",
      "[[72 28]\n",
      " [12 42]]\n",
      "정확도 : 0.7403 || 정밀도 : 0.6000 || 재현율 : 0.7778 || F1점수 : 0.6774 || AUC : 0.8433\n",
      "임계값 :  0.36\n",
      "오차행렬\n",
      "[[76 24]\n",
      " [15 39]]\n",
      "정확도 : 0.7468 || 정밀도 : 0.6190 || 재현율 : 0.7222 || F1점수 : 0.6667 || AUC : 0.8433\n",
      "임계값 :  0.39\n",
      "오차행렬\n",
      "[[78 22]\n",
      " [16 38]]\n",
      "정확도 : 0.7532 || 정밀도 : 0.6333 || 재현율 : 0.7037 || F1점수 : 0.6667 || AUC : 0.8433\n",
      "임계값 :  0.42\n",
      "오차행렬\n",
      "[[84 16]\n",
      " [18 36]]\n",
      "정확도 : 0.7792 || 정밀도 : 0.6923 || 재현율 : 0.6667 || F1점수 : 0.6792 || AUC : 0.8433\n",
      "임계값 :  0.45\n",
      "오차행렬\n",
      "[[85 15]\n",
      " [18 36]]\n",
      "정확도 : 0.7857 || 정밀도 : 0.7059 || 재현율 : 0.6667 || F1점수 : 0.6857 || AUC : 0.8433\n",
      "임계값 :  0.48\n",
      "오차행렬\n",
      "[[88 12]\n",
      " [19 35]]\n",
      "정확도 : 0.7987 || 정밀도 : 0.7447 || 재현율 : 0.6481 || F1점수 : 0.6931 || AUC : 0.8433\n",
      "임계값 :  0.5\n",
      "오차행렬\n",
      "[[90 10]\n",
      " [21 33]]\n",
      "정확도 : 0.7987 || 정밀도 : 0.7674 || 재현율 : 0.6111 || F1점수 : 0.6804 || AUC : 0.8433\n"
     ]
    }
   ],
   "source": [
    "thresholds = [0.3, 0.33, 0.36, 0.39, 0.42, 0.45, 0.48, 0.50]\n",
    "pred_proba = lr_clf.predict_proba(X_test)\n",
    "get_eval_by_threshold(y_test, pred_proba[:,1].reshape(-1,1), thresholds)"
   ]
  },
  {
   "cell_type": "code",
   "execution_count": 111,
   "metadata": {},
   "outputs": [
    {
     "name": "stdout",
     "output_type": "stream",
     "text": [
      "오차행렬\n",
      "[[88 12]\n",
      " [19 35]]\n",
      "정확도 : 0.7987 || 정밀도 : 0.7447 || 재현율 : 0.6481 || F1점수 : 0.6931 || AUC : 0.8433\n"
     ]
    }
   ],
   "source": [
    "#임계값을 0.48fh tjfwjdgks Binarizer 생성\n",
    "binarizer = Binarizer(threshold=0.48)\n",
    "\n",
    "#위에서 구한 lr_clf의 predict_proba() 예측확률 array에서 1에 해당하는 컬럼값을 Binarizer변환.\n",
    "pred_th_48 = binarizer.fit_transform(pred_proba[:, 1].reshape(-1,1))\n",
    "\n",
    "get_clf_eval(y_test, pred_th_48, pred_proba[:, 1])"
   ]
  }
 ],
 "metadata": {
  "kernelspec": {
   "display_name": "conda_env",
   "language": "python",
   "name": "python3"
  },
  "language_info": {
   "codemirror_mode": {
    "name": "ipython",
    "version": 3
   },
   "file_extension": ".py",
   "mimetype": "text/x-python",
   "name": "python",
   "nbconvert_exporter": "python",
   "pygments_lexer": "ipython3",
   "version": "3.10.16"
  }
 },
 "nbformat": 4,
 "nbformat_minor": 2
}
