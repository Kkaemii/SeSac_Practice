{
 "cells": [
  {
   "cell_type": "code",
   "execution_count": 13,
   "metadata": {},
   "outputs": [
    {
     "name": "stdout",
     "output_type": "stream",
     "text": [
      "1.2.0\n"
     ]
    }
   ],
   "source": [
    "import sklearn\n",
    "print(sklearn.__version__)"
   ]
  },
  {
   "cell_type": "code",
   "execution_count": 1,
   "metadata": {},
   "outputs": [],
   "source": [
    "import numpy as np\n",
    "from sklearn.base import BaseEstimator\n",
    "\n",
    "class MyDummyClassifier(BaseEstimator):\n",
    "  #fit( ) 메소드는 아무것도 학습하지 않음\n",
    "  def fit(self, X, y=None):\n",
    "    pass\n",
    "\n",
    "#predict 함수는 Sex피처가 1이면 0 그렇지 않으면 1로 예측함.\n",
    "  def predict (self, X):\n",
    "    pred = np.zeros((X.shape[0],1))\n",
    "    for i in range(X.shape[0]):\n",
    "      if X['Sex'].iloc[i]== 1:\n",
    "        pred[i] = 0\n",
    "      else:\n",
    "        pred[i] = 1\n",
    "    return pred"
   ]
  },
  {
   "cell_type": "code",
   "execution_count": 2,
   "metadata": {},
   "outputs": [],
   "source": [
    "import pandas as pd\n",
    "from sklearn.preprocessing import LabelEncoder\n",
    "\n",
    "#null 처리 함수\n",
    "def fillna(df):\n",
    "  df['Age'].fillna(df['Age'].mean(), inplace=True)\n",
    "  df['Cabin'].fillna('N', inplace=True)\n",
    "  df['Embarked'].fillna('N',inplace=True)\n",
    "  df['Fare'].fillna(0, inplace=True)\n",
    "  return df\n",
    "  \n",
    "#머신러닝 알고리즘에 불필요한 속성 제거\n",
    "def drop_features(df):\n",
    "  df.drop(['PassengerId', 'Name', 'Ticket'], axis=1, inplace=True)\n",
    "  return df\n",
    "\n",
    "#레이블 인코딩 수행\n",
    "def format_features(df):\n",
    "  df['Cabin'] = df['Cabin'].str[:1]\n",
    "  features = ['Cabin', 'Sex', 'Embarked']\n",
    "  for feature in features:\n",
    "    le = LabelEncoder()\n",
    "    le = le.fit(df[feature])\n",
    "    df[feature] = le.transform(df[feature])\n",
    "  return df\n",
    "\n",
    "#Data Preprocessing 호출\n",
    "def transform_feature(df):\n",
    "  df = fillna(df)\n",
    "  df = drop_features(df)\n",
    "  df = format_features(df)\n",
    "  return df"
   ]
  },
  {
   "cell_type": "code",
   "execution_count": 3,
   "metadata": {},
   "outputs": [
    {
     "name": "stdout",
     "output_type": "stream",
     "text": [
      "Dummy Classification의 정확도는 0.7263\n"
     ]
    }
   ],
   "source": [
    "import pandas as pd\n",
    "from sklearn.model_selection import train_test_split\n",
    "from sklearn.metrics import accuracy_score\n",
    "\n",
    "#원본 데이터 재 로딩, 데이터 가공, 학습데이터/테스트데이터 분할\n",
    "titanic_df = pd.read_csv('./data_set/titanic_train.csv')\n",
    "y_df = titanic_df['Survived']\n",
    "x_df = titanic_df.drop('Survived', axis=1)\n",
    "x_df = transform_feature(x_df)\n",
    "\n",
    "X_train,X_test, y_train, y_test = train_test_split(x_df,y_df, test_size=0.2, random_state=44)\n",
    "\n",
    "#더미 분류기를 이용하여 학습/예측/평가 수행\n",
    "myclf = MyDummyClassifier()\n",
    "myclf.fit(X_train, y_train)\n",
    "\n",
    "mypredictions = myclf.predict(X_test)\n",
    "print(f'Dummy Classification의 정확도는 {accuracy_score(y_test, mypredictions):.4f}')"
   ]
  },
  {
   "cell_type": "code",
   "execution_count": 4,
   "metadata": {},
   "outputs": [],
   "source": [
    "from sklearn.datasets import load_digits\n",
    "from sklearn.model_selection import train_test_split\n",
    "from sklearn.base import BaseEstimator\n",
    "from sklearn.metrics import accuracy_score\n",
    "import numpy as np\n",
    "import pandas as pd"
   ]
  },
  {
   "cell_type": "code",
   "execution_count": 5,
   "metadata": {},
   "outputs": [
    {
     "name": "stdout",
     "output_type": "stream",
     "text": [
      "[[ 0.  0.  5. ...  0.  0.  0.]\n",
      " [ 0.  0.  0. ... 10.  0.  0.]\n",
      " [ 0.  0.  0. ... 16.  9.  0.]\n",
      " ...\n",
      " [ 0.  0.  1. ...  6.  0.  0.]\n",
      " [ 0.  0.  2. ... 12.  0.  0.]\n",
      " [ 0.  0. 10. ... 12.  1.  0.]]\n",
      "### digits data shape (1797, 64)\n",
      "[0 1 2 ... 8 9 8]\n",
      "### digits target shape (1797,)\n"
     ]
    }
   ],
   "source": [
    "class MyFakeClassifier (BaseEstimator):\n",
    "  def fit(self, X, y):\n",
    "    pass\n",
    "  \n",
    "  #입력값으로 들어오는 X데이터셋의 크기만큼 모두 0값으로 만들어서 반환\n",
    "  def predict (self, X):\n",
    "    return np.zeros((len(X), 1), dtype=bool)\n",
    "  \n",
    "\n",
    "digits = load_digits()\n",
    "\n",
    "print(digits.data)\n",
    "print('### digits data shape', digits.data.shape)\n",
    "print(digits.target)\n",
    "print('### digits target shape', digits.target.shape)"
   ]
  },
  {
   "cell_type": "code",
   "execution_count": 6,
   "metadata": {},
   "outputs": [
    {
     "data": {
      "text/plain": [
       "array([False, False,  True, ..., False, False, False])"
      ]
     },
     "execution_count": 6,
     "metadata": {},
     "output_type": "execute_result"
    }
   ],
   "source": [
    "digits.target ==2"
   ]
  },
  {
   "cell_type": "code",
   "execution_count": 7,
   "metadata": {},
   "outputs": [],
   "source": [
    "#digit의 번호가 7이면 True이고 이를 1로 변환, 아니면 0\n",
    "y=(digits.target==7).astype(int)\n",
    "\n",
    "X_train, X_test, y_train, y_test = train_test_split(digits.data, y, random_state=44)"
   ]
  },
  {
   "cell_type": "code",
   "execution_count": 8,
   "metadata": {},
   "outputs": [
    {
     "name": "stdout",
     "output_type": "stream",
     "text": [
      "레이블 테스트 크기: (450,)\n",
      "테스트 세트 레이블 0과 1의 분포도\n",
      "0    411\n",
      "1     39\n",
      "dtype: int64\n",
      "모든 예측을 0으로 해도 정확도는 0.9133\n"
     ]
    }
   ],
   "source": [
    "#불균형한 레이블 데이터 분포도 확인\n",
    "print('레이블 테스트 크기:', y_test.shape)\n",
    "print('테스트 세트 레이블 0과 1의 분포도')\n",
    "print(pd.Series(y_test).value_counts())\n",
    "\n",
    "#더미 분류기로 평가\n",
    "fakeclf = MyFakeClassifier()\n",
    "fakeclf.fit(X_train, y_train)\n",
    "fakepred = fakeclf.predict(X_test)\n",
    "\n",
    "print(f'모든 예측을 0으로 해도 정확도는 {accuracy_score(y_test, fakepred):.4f}')"
   ]
  },
  {
   "cell_type": "markdown",
   "metadata": {},
   "source": [
    "### 오차행렬 (Confusion Matrix)"
   ]
  },
  {
   "cell_type": "code",
   "execution_count": 9,
   "metadata": {},
   "outputs": [
    {
     "data": {
      "text/plain": [
       "array([[411,   0],\n",
       "       [ 39,   0]], dtype=int64)"
      ]
     },
     "execution_count": 9,
     "metadata": {},
     "output_type": "execute_result"
    }
   ],
   "source": [
    "from sklearn.metrics import confusion_matrix \n",
    "\n",
    "#실제와 가짜 예측결과의 confusion 매트릭스 출력\n",
    "confusion_matrix(y_test, fakepred)"
   ]
  },
  {
   "cell_type": "markdown",
   "metadata": {},
   "source": [
    "### 정밀도와 재현율"
   ]
  },
  {
   "cell_type": "code",
   "execution_count": 10,
   "metadata": {},
   "outputs": [
    {
     "name": "stdout",
     "output_type": "stream",
     "text": [
      "정밀도 : 0.0\n",
      "재현율 : 0.0\n"
     ]
    },
    {
     "name": "stderr",
     "output_type": "stream",
     "text": [
      "c:\\ProgramData\\anaconda3\\envs\\conda_env\\lib\\site-packages\\sklearn\\metrics\\_classification.py:1344: UndefinedMetricWarning: Precision is ill-defined and being set to 0.0 due to no predicted samples. Use `zero_division` parameter to control this behavior.\n",
      "  _warn_prf(average, modifier, msg_start, len(result))\n"
     ]
    }
   ],
   "source": [
    "from sklearn.metrics import accuracy_score, precision_score, recall_score\n",
    "\n",
    "print(f'정밀도 : {precision_score(y_test, fakepred)}')\n",
    "print(f'재현율 : {recall_score(y_test, fakepred)}')"
   ]
  },
  {
   "cell_type": "code",
   "execution_count": 11,
   "metadata": {},
   "outputs": [],
   "source": [
    "from sklearn.metrics import accuracy_score, precision_score, recall_score\n",
    "\n",
    "def get_clf_eval(y_test, pred):\n",
    "  confusion = confusion_matrix(y_test, pred)\n",
    "  accuracy = accuracy_score(y_test, pred)\n",
    "  precision = precision_score(y_test, pred)\n",
    "  recall = recall_score(y_test, pred)\n",
    "\n",
    "  print('오차행렬')\n",
    "  print(confusion)\n",
    "  print(f'정확도 : {accuracy:.4f}, 정밀도 : {precision:.4f}, 재현율 : {recall:.4f}')"
   ]
  },
  {
   "cell_type": "code",
   "execution_count": 12,
   "metadata": {},
   "outputs": [
    {
     "name": "stdout",
     "output_type": "stream",
     "text": [
      "오차행렬\n",
      "[[81 25]\n",
      " [22 51]]\n",
      "정확도 : 0.7374, 정밀도 : 0.6711, 재현율 : 0.6986\n"
     ]
    },
    {
     "name": "stderr",
     "output_type": "stream",
     "text": [
      "c:\\ProgramData\\anaconda3\\envs\\conda_env\\lib\\site-packages\\sklearn\\linear_model\\_logistic.py:458: ConvergenceWarning: lbfgs failed to converge (status=1):\n",
      "STOP: TOTAL NO. of ITERATIONS REACHED LIMIT.\n",
      "\n",
      "Increase the number of iterations (max_iter) or scale the data as shown in:\n",
      "    https://scikit-learn.org/stable/modules/preprocessing.html\n",
      "Please also refer to the documentation for alternative solver options:\n",
      "    https://scikit-learn.org/stable/modules/linear_model.html#logistic-regression\n",
      "  n_iter_i = _check_optimize_result(\n"
     ]
    }
   ],
   "source": [
    "import numpy as np\n",
    "import pandas as pd\n",
    "\n",
    "from sklearn.model_selection import train_test_split\n",
    "from sklearn.linear_model import LogisticRegression\n",
    "\n",
    "#원본데이터 로딩, 데이터 분할\n",
    "titanic_df = pd.read_csv('./data_set/titanic_train.csv')\n",
    "y_df = titanic_df['Survived']\n",
    "x_df = titanic_df.drop('Survived', axis=1)\n",
    "x_df = transform_feature(x_df)\n",
    "\n",
    "\n",
    "X_train, X_test, y_train, y_test = train_test_split(x_df, y_df, test_size=0.2, random_state=44)\n",
    "\n",
    "lr_clf = LogisticRegression()\n",
    "\n",
    "lr_clf.fit(X_train, y_train)\n",
    "pred = lr_clf.predict(X_test)\n",
    "\n",
    "get_clf_eval(y_test, pred)"
   ]
  },
  {
   "cell_type": "markdown",
   "metadata": {},
   "source": [
    "### Precision / Recall Trade-Off"
   ]
  },
  {
   "cell_type": "code",
   "execution_count": 22,
   "metadata": {},
   "outputs": [
    {
     "name": "stdout",
     "output_type": "stream",
     "text": [
      "pred_proba() 결과 shape : (179, 2)\n",
      "pred_proba 배열에서 앞 3개만 추출 \n",
      " [[0.86288137 0.13711863]\n",
      " [0.85831172 0.14168828]\n",
      " [0.46340686 0.53659314]]\n",
      "두개의 class중에서 더 큰 확률을 클래스 값으로 예측 \n",
      " [[0.86288137 0.13711863 0.        ]\n",
      " [0.85831172 0.14168828 0.        ]\n",
      " [0.46340686 0.53659314 1.        ]]\n"
     ]
    }
   ],
   "source": [
    "pred_proba = lr_clf.predict_proba(X_test)\n",
    "pred = lr_clf.predict(X_test)\n",
    "print(f'pred_proba() 결과 shape : {pred_proba.shape}')\n",
    "print(f'pred_proba 배열에서 앞 3개만 추출 \\n {pred_proba[:3]}')\n",
    "\n",
    "#예측확율 array와 예측 결과값 array를 concat하여 한번에 확인\n",
    "pred_proba_result = np.concatenate([pred_proba, pred.reshape(-1,1)],axis=1)\n",
    "print(f'두개의 class중에서 더 큰 확률을 클래스 값으로 예측 \\n {pred_proba_result[:3]}' )\n"
   ]
  },
  {
   "cell_type": "markdown",
   "metadata": {},
   "source": [
    "#### Binarizer 활용"
   ]
  },
  {
   "cell_type": "code",
   "execution_count": 23,
   "metadata": {},
   "outputs": [
    {
     "name": "stdout",
     "output_type": "stream",
     "text": [
      "[[0. 0. 1.]\n",
      " [1. 0. 0.]\n",
      " [0. 0. 1.]]\n"
     ]
    }
   ],
   "source": [
    "from sklearn.preprocessing import Binarizer\n",
    "X = [[1, -1, 2],\n",
    "    [2, 0 , 0 ],\n",
    "    [0, 1.1, 1.2]]\n",
    "\n",
    "#threshild 기준값 보다 같거나 작으면 0을 크면 1을 반환\n",
    "binarizer = Binarizer(threshold=1.1)\n",
    "print(binarizer.fit_transform(X))"
   ]
  },
  {
   "cell_type": "markdown",
   "metadata": {},
   "source": [
    "#### 분류 결정 임계값 0.5기반에서 Binarizer를 이용하여 예측값 변화"
   ]
  },
  {
   "cell_type": "code",
   "execution_count": 24,
   "metadata": {},
   "outputs": [
    {
     "name": "stdout",
     "output_type": "stream",
     "text": [
      "오차행렬\n",
      "[[81 25]\n",
      " [22 51]]\n",
      "정확도 : 0.7374, 정밀도 : 0.6711, 재현율 : 0.6986\n"
     ]
    }
   ],
   "source": [
    "from sklearn.preprocessing import Binarizer\n",
    "\n",
    "#Binarizer의 threshold임계값 설정\n",
    "custom_threshold=0.5\n",
    "\n",
    "#predict_proba() 반환값의 두번째 컬럼, 즉 Positive클래스 컬럼만 추출하여 binarizer를 적용\n",
    "pred_proba_1 = pred_proba[:,1].reshape(-1,1)\n",
    "binarizer = Binarizer(threshold=custom_threshold).fit(pred_proba_1)\n",
    "custom_predict = binarizer.transform(pred_proba_1)\n",
    "\n",
    "get_clf_eval(y_test, custom_predict)"
   ]
  },
  {
   "cell_type": "markdown",
   "metadata": {},
   "source": [
    "#### 분류 결정 임계값 0.4기반에서 Binarizer를 이용하여 예측값 변화"
   ]
  },
  {
   "cell_type": "code",
   "execution_count": 25,
   "metadata": {},
   "outputs": [
    {
     "name": "stdout",
     "output_type": "stream",
     "text": [
      "오차행렬\n",
      "[[76 30]\n",
      " [20 53]]\n",
      "정확도 : 0.7207, 정밀도 : 0.6386, 재현율 : 0.7260\n"
     ]
    }
   ],
   "source": [
    "from sklearn.preprocessing import Binarizer\n",
    "\n",
    "#Binarizer의 threshold임계값 설정\n",
    "custom_threshold=0.4\n",
    "\n",
    "#predict_proba() 반환값의 두번째 컬럼, 즉 Positive클래스 컬럼만 추출하여 binarizer를 적용\n",
    "pred_proba_1 = pred_proba[:,1].reshape(-1,1)\n",
    "binarizer = Binarizer(threshold=custom_threshold).fit(pred_proba_1)\n",
    "custom_predict = binarizer.transform(pred_proba_1)\n",
    "\n",
    "get_clf_eval(y_test, custom_predict)"
   ]
  },
  {
   "cell_type": "markdown",
   "metadata": {},
   "source": [
    "### 여러개의 분류 결정 임계값을 적용하여 예측값 변화 확인"
   ]
  },
  {
   "cell_type": "code",
   "execution_count": 26,
   "metadata": {},
   "outputs": [
    {
     "name": "stdout",
     "output_type": "stream",
     "text": [
      "임계값 :  0.4\n",
      "오차행렬\n",
      "[[76 30]\n",
      " [20 53]]\n",
      "정확도 : 0.7207, 정밀도 : 0.6386, 재현율 : 0.7260\n",
      "임계값 :  0.45\n",
      "오차행렬\n",
      "[[80 26]\n",
      " [21 52]]\n",
      "정확도 : 0.7374, 정밀도 : 0.6667, 재현율 : 0.7123\n",
      "임계값 :  0.5\n",
      "오차행렬\n",
      "[[81 25]\n",
      " [22 51]]\n",
      "정확도 : 0.7374, 정밀도 : 0.6711, 재현율 : 0.6986\n",
      "임계값 :  0.55\n",
      "오차행렬\n",
      "[[85 21]\n",
      " [24 49]]\n",
      "정확도 : 0.7486, 정밀도 : 0.7000, 재현율 : 0.6712\n",
      "임계값 :  0.6\n",
      "오차행렬\n",
      "[[89 17]\n",
      " [26 47]]\n",
      "정확도 : 0.7598, 정밀도 : 0.7344, 재현율 : 0.6438\n"
     ]
    }
   ],
   "source": [
    "#임계값을 리스트 객체\n",
    "thresholds=[0.4, 0.45, 0.5, 0.55, 0.6]\n",
    "\n",
    "def get_eval_by_threshold(y_test, pred_proba_c1, thresholds):\n",
    "  for custom_threshold in thresholds:\n",
    "    binarizer = Binarizer(threshold=custom_threshold).fit(pred_proba_c1)\n",
    "    custom_predict = binarizer.transform(pred_proba_c1)\n",
    "    print('임계값 : ', custom_threshold)\n",
    "\n",
    "    get_clf_eval(y_test, custom_predict)\n",
    "\n",
    "\n",
    "get_eval_by_threshold(y_test, pred_proba[:, 1].reshape(-1,1), thresholds)"
   ]
  },
  {
   "cell_type": "markdown",
   "metadata": {},
   "source": [
    "### Precision_recall_curve를 이용하여 임계값에 다른 정밀도-재현율 값 추출"
   ]
  },
  {
   "cell_type": "code",
   "execution_count": 27,
   "metadata": {},
   "outputs": [
    {
     "name": "stdout",
     "output_type": "stream",
     "text": [
      "반환된 분류 결정 임계값 배열의 Shape (173,)\n",
      "반환된 precisions 임계값 배열의 Shape (174,)\n",
      "반환된 recalls 임계값 배열의 Shape (174,)\n",
      "threshold 5 sample :  [0.02368489 0.03134684 0.04356736 0.04404525 0.04647915]\n",
      "precisions 5 sample :  [0.40782123 0.41011236 0.41242938 0.41477273 0.41714286]\n",
      "recalls 5 sample :  [1. 1. 1. 1. 1.]\n",
      "샘플 추출을 위한 임계값 배열의 인덱스 10개 :  [  0  15  30  45  60  75  90 105 120 135 150 165]\n",
      "샘플용 10개의 임계값 :  [0.02 0.07 0.09 0.11 0.15 0.21 0.38 0.56 0.66 0.73 0.88 0.95]\n",
      "샘플 임계값 별 정밀도 :  [0.408 0.433 0.446 0.477 0.522 0.58  0.631 0.71  0.811 0.895 0.957 0.875]\n",
      "샘플 임계값 별 재현율 :  [1.    0.973 0.904 0.863 0.822 0.795 0.726 0.671 0.589 0.466 0.301 0.096]\n"
     ]
    }
   ],
   "source": [
    "from sklearn.metrics import precision_recall_curve\n",
    "\n",
    "#레이블 값이 1일때 예측 확률 추측\n",
    "pred_proba_class_1 = lr_clf.predict_proba(X_test)[:,1]\n",
    "\n",
    "#실제값 데이터 셋과 레이블 값이 1일 때의 예측확률을 precision_recall_curve의 인자로 활용\n",
    "precisions, recalls, thresholds = precision_recall_curve(y_test, pred_proba_class_1)\n",
    "print('반환된 분류 결정 임계값 배열의 Shape', thresholds.shape)\n",
    "print('반환된 precisions 임계값 배열의 Shape', precisions.shape)\n",
    "print('반환된 recalls 임계값 배열의 Shape', recalls.shape)\n",
    "\n",
    "print('threshold 5 sample : ', thresholds[:5])\n",
    "print('precisions 5 sample : ', precisions[:5])\n",
    "print('recalls 5 sample : ', recalls[:5])\n",
    "\n",
    "\n",
    "thr_index = np.arange(0, thresholds.shape[0], 15)\n",
    "print('샘플 추출을 위한 임계값 배열의 인덱스 10개 : ', thr_index)\n",
    "print('샘플용 10개의 임계값 : ', np.round(thresholds[thr_index], 2))\n",
    "\n",
    "#15스텝 단위로 추출된 임계값에 따른 정밀도와 재현율 값\n",
    "print('샘플 임계값 별 정밀도 : ', np.round(precisions[thr_index], 3))\n",
    "print('샘플 임계값 별 재현율 : ', np.round(recalls[thr_index], 3))"
   ]
  },
  {
   "cell_type": "markdown",
   "metadata": {},
   "source": [
    "### 임계값의 변경에 따른 정밀도 - 재현율 변화 곡선"
   ]
  },
  {
   "cell_type": "code",
   "execution_count": 29,
   "metadata": {},
   "outputs": [
    {
     "data": {
      "image/png": "[encoded data removed]",
      "text/plain": [
       "<Figure size 800x600 with 1 Axes>"
      ]
     },
     "metadata": {},
     "output_type": "display_data"
    }
   ],
   "source": [
    "import matplotlib.pyplot as plt\n",
    "import matplotlib.ticker as ticker\n",
    "\n",
    "def precision_recall_curve_plot(y_test, pred_proba_c1):\n",
    "  #threshold ndarray와 threshold에 따른 정밀도, 재현율 ndarray 추출\n",
    "  precisions, recalls, thresholds = precision_recall_curve(y_test, pred_proba_c1)\n",
    "  \n",
    "  plt.figure(figsize=(8,6))\n",
    "  threshold_boundray = thresholds.shape[0]\n",
    "  plt.plot(thresholds, precisions[0:threshold_boundray], linestyle='--', label='precision')\n",
    "  plt.plot(thresholds, recalls[0:threshold_boundray], label='recall')\n",
    "\n",
    "  #threshold 값 X축의 Scale을 0.1 단위로 변경\n",
    "  start, end = plt.xlim()\n",
    "  plt.xticks(np.round(np.arange(start, end, 0.1),2))\n",
    "\n",
    "  # x축, y축 label과 legend, 그리고 gird설정\n",
    "  plt.xlabel('Threshold value')\n",
    "  plt.ylabel('Precision and Recall value')\n",
    "  plt.legend()\n",
    "  plt.grid()\n",
    "  plt.show()\n",
    "\n",
    "precision_recall_curve_plot(y_test, lr_clf.predict_proba(X_test)[:, 1])"
   ]
  },
  {
   "cell_type": "markdown",
   "metadata": {},
   "source": [
    "### F1 socre"
   ]
  },
  {
   "cell_type": "code",
   "execution_count": 32,
   "metadata": {},
   "outputs": [
    {
     "name": "stdout",
     "output_type": "stream",
     "text": [
      "F1 스코어 : 0.6846\n"
     ]
    }
   ],
   "source": [
    "from sklearn.metrics import f1_score\n",
    "f1 = f1_score(y_test, pred)\n",
    "print(f'F1 스코어 : {f1 :.4f}')"
   ]
  },
  {
   "cell_type": "code",
   "execution_count": 47,
   "metadata": {},
   "outputs": [
    {
     "name": "stdout",
     "output_type": "stream",
     "text": [
      "오차행렬\n",
      "[[81 25]\n",
      " [22 51]]\n",
      "정확도 : 0.7374, 정밀도 : 0.6711, 재현율 : 0.6986, f1스코어 0.6846\n"
     ]
    }
   ],
   "source": [
    "def get_clf_eval(y_test, pred):\n",
    "  confusion = confusion_matrix(y_test, pred)\n",
    "  accuracy = accuracy_score(y_test, pred)\n",
    "  precision = precision_score(y_test, pred)\n",
    "  recall = recall_score(y_test, pred)\n",
    "\n",
    "  #f1스코어 추가\n",
    "  f1 = f1_score(y_test, pred)\n",
    "  print('오차행렬')\n",
    "  print(confusion)\n",
    "  print(f'정확도 : {accuracy:.4f}, 정밀도 : {precision:.4f}, 재현율 : {recall:.4f}, f1스코어 {f1:.4f}')\n",
    "  \n",
    "\n",
    "thresholds = [0.4, 0.45, 0.5, 0.55, 0.6]\n",
    "pred_proba = lr_clf.predict_proba(X_test)\n",
    "get_clf_eval(y_test, pred)"
   ]
  },
  {
   "cell_type": "markdown",
   "metadata": {},
   "source": [
    "### ROC CURVE와 AUC"
   ]
  },
  {
   "cell_type": "code",
   "execution_count": 34,
   "metadata": {},
   "outputs": [
    {
     "name": "stdout",
     "output_type": "stream",
     "text": [
      "샘플 추출을 위한 임계값 배열의 index [ 1  6 11 16 21 26 31 36 41 46 51 56 61 66]\n",
      "샘플 index로 추출한 임계값 :  [0.98 0.77 0.7  0.66 0.64 0.53 0.4  0.31 0.21 0.13 0.1  0.09 0.08 0.05]\n",
      "샘플 입계값 별 FPR :  [0.    0.019 0.057 0.075 0.132 0.226 0.274 0.321 0.396 0.585 0.726 0.783\n",
      " 0.83  0.934]\n",
      "샘플 입계값 별 TPR :  [0.014 0.425 0.493 0.589 0.644 0.685 0.726 0.767 0.795 0.849 0.877 0.904\n",
      " 0.959 1.   ]\n"
     ]
    }
   ],
   "source": [
    "from sklearn.metrics import roc_curve\n",
    "\n",
    "#roc_curve는 FPR (거짓,참 비율), TPR(참,참 비율)을 반환\n",
    "\n",
    "\n",
    "\n",
    "#레이블 값이 1일때 예측 확률 추측\n",
    "pred_proba_class_1 = lr_clf.predict_proba(X_test)[:,1]\n",
    "\n",
    "fprs, tprs, thresholds = roc_curve(y_test, pred_proba_class_1)\n",
    "\n",
    "#반환된 입계값 배형에서 샘플로 데이터를 추출, 임계값 스텝을 5로 설정\n",
    "#threshold[0]은 max(예측확률)+1로 임의 설정됨. 이를 위해서 np.arange는 1부터 시작\n",
    "\n",
    "thr_index = np.arange(1, thresholds.shape[0], 5)\n",
    "print('샘플 추출을 위한 임계값 배열의 index', thr_index)\n",
    "print('샘플 index로 추출한 임계값 : ', np.round(thresholds[thr_index],2))\n",
    "\n",
    "#5 step 단위로 추출된 임계값에 따른 ftp, tpr값\n",
    "print('샘플 입계값 별 FPR : ', np.round(fprs[thr_index],3))\n",
    "print('샘플 입계값 별 TPR : ', np.round(tprs[thr_index],3))\n",
    "\n"
   ]
  },
  {
   "cell_type": "code",
   "execution_count": 35,
   "metadata": {},
   "outputs": [
    {
     "data": {
      "image/png": "[encoded data removed]",
      "text/plain": [
       "<Figure size 640x480 with 1 Axes>"
      ]
     },
     "metadata": {},
     "output_type": "display_data"
    }
   ],
   "source": [
    "def roc_curve_plot(y_test, pred_proba_c1):\n",
    "  #임계값에 따른 FPR, TPR값을 반환받음.\n",
    "  fprs, tprs, thresholds = roc_curve(y_test, pred_proba_c1)\n",
    "\n",
    "  #ROC Curve를 plot곡선으로 그림\n",
    "  plt.plot(fprs, tprs, label='ROC')\n",
    "  #가운데 대각선 직선을 그림.\n",
    "  plt.plot([0,1], [0,1], 'k--', label='Random')\n",
    "\n",
    "  #FPR X축의 스케일을 0.1단위로 변경, X,Y축 명 설정등\n",
    "  start, end = plt.xlim()\n",
    "  plt.xticks(np.round(np.arange(start, end, 0.1),2))\n",
    "  plt.xlim(0,1)\n",
    "  plt.xlabel('FPR( 1 - Sensitivity)')\n",
    "  plt.ylabel('TPR(Recall)')\n",
    "  plt.legend()\n",
    "  plt.show()\n",
    "\n",
    "roc_curve_plot(y_test, lr_clf.predict_proba(X_test)[:,1])"
   ]
  },
  {
   "cell_type": "code",
   "execution_count": 36,
   "metadata": {},
   "outputs": [
    {
     "name": "stdout",
     "output_type": "stream",
     "text": [
      "ROC AUC값 : 0.7932\n"
     ]
    }
   ],
   "source": [
    "from sklearn.metrics import roc_auc_score\n",
    "\n",
    "pred_proba = lr_clf.predict_proba(X_test)[:, 1]\n",
    "roc_score = roc_auc_score(y_test, pred_proba)\n",
    "print(f'ROC AUC값 : {roc_score:.4f}')"
   ]
  },
  {
   "cell_type": "code",
   "execution_count": 51,
   "metadata": {},
   "outputs": [
    {
     "name": "stdout",
     "output_type": "stream",
     "text": [
      "오차행렬\n",
      "[[81 25]\n",
      " [22 51]]\n",
      "정확도 : 0.7374, 정밀도 : 0.6711, 재현율 : 0.6986, f1스코어 :0.6846, AUC : 0.7932\n"
     ]
    }
   ],
   "source": [
    "def get_clf_eval(y_test, pred=None, pred_proba=None):\n",
    "  confusion = confusion_matrix(y_test, pred)\n",
    "  accuracy = accuracy_score(y_test, pred)\n",
    "  precision = precision_score(y_test, pred)\n",
    "  recall = recall_score(y_test, pred)\n",
    "  f1 = f1_score(y_test, pred)\n",
    "\n",
    "  #ROC_AUC 추가\n",
    "  roc_auc = roc_auc_score(y_test, pred_proba)\n",
    "\n",
    "  print('오차행렬')\n",
    "  print(confusion)\n",
    "  print(f'정확도 : {accuracy:.4f}, 정밀도 : {precision:.4f}, 재현율 : {recall:.4f}, f1스코어 :{f1:.4f}, AUC : {roc_auc:.4f}')\n",
    "\n",
    "\n",
    "get_clf_eval(y_test, pred, pred_proba[:, 1].reshape(-1, 1))"
   ]
  },
  {
   "cell_type": "code",
   "execution_count": null,
   "metadata": {},
   "outputs": [],
   "source": []
  }
 ],
 "metadata": {
  "kernelspec": {
   "display_name": "conda_env",
   "language": "python",
   "name": "python3"
  },
  "language_info": {
   "codemirror_mode": {
    "name": "ipython",
    "version": 3
   },
   "file_extension": ".py",
   "mimetype": "text/x-python",
   "name": "python",
   "nbconvert_exporter": "python",
   "pygments_lexer": "ipython3",
   "version": "3.10.13"
  }
 },
 "nbformat": 4,
 "nbformat_minor": 2
}
