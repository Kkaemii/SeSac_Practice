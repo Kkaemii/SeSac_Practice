{
 "cells": [
  {
   "cell_type": "code",
   "execution_count": null,
   "metadata": {},
   "outputs": [
    {
     "data": {
      "text/plain": [
       "True"
      ]
     },
     "execution_count": 7,
     "metadata": {},
     "output_type": "execute_result"
    }
   ],
   "source": [
    "import streamlit as st\n",
    "from dotenv import load_dotenv\n",
    "import os\n",
    "\n",
    "# 랭체인 모듈 임포트\n",
    "from langchain import hub\n",
    "from langchain.agents import AgentExecutor, create_openai_tools_agent, load_tools\n",
    "from langchain.memory import ConversationBufferMemory\n",
    "from langchain_community.callbacks import StreamlitCallbackHandler\n",
    "from langchain_community.chat_message_histories import StreamlitChatMessageHistory\n",
    "from langchain_openai import ChatOpenAI\n",
    "\n",
    "load_dotenv(override=True)"
   ]
  },
  {
   "cell_type": "code",
   "execution_count": null,
   "metadata": {},
   "outputs": [
    {
     "name": "stderr",
     "output_type": "stream",
     "text": [
      "2025-03-26 11:57:09.631 Thread 'MainThread': missing ScriptRunContext! This warning can be ignored when running in bare mode.\n",
      "2025-03-26 11:57:09.631 Thread 'MainThread': missing ScriptRunContext! This warning can be ignored when running in bare mode.\n",
      "2025-03-26 11:57:09.633 Thread 'MainThread': missing ScriptRunContext! This warning can be ignored when running in bare mode.\n",
      "2025-03-26 11:57:09.633 Thread 'MainThread': missing ScriptRunContext! This warning can be ignored when running in bare mode.\n",
      "2025-03-26 11:57:09.633 Thread 'MainThread': missing ScriptRunContext! This warning can be ignored when running in bare mode.\n",
      "2025-03-26 11:57:09.633 Thread 'MainThread': missing ScriptRunContext! This warning can be ignored when running in bare mode.\n",
      "2025-03-26 11:57:09.634 Thread 'MainThread': missing ScriptRunContext! This warning can be ignored when running in bare mode.\n",
      "2025-03-26 11:57:09.634 Thread 'MainThread': missing ScriptRunContext! This warning can be ignored when running in bare mode.\n",
      "2025-03-26 11:57:09.634 Thread 'MainThread': missing ScriptRunContext! This warning can be ignored when running in bare mode.\n"
     ]
    }
   ],
   "source": [
    "def create_agent_chain(history):\n",
    "    \"\"\"\n",
    "    LangChain 에이전트(Agent)를 생성하는 함수\n",
    "    - OpenAI 기반 챗 모델 사용\n",
    "    - 도구(duckduckgo 검색, 위키피디아 검색) 로드\n",
    "    - 메모리(대화 기록 저장) 활용\n",
    "    \"\"\"\n",
    "\n",
    "    chat = ChatOpenAI(\n",
    "        model_name=os.environ[\"OPEN_API_MODEL\"],\n",
    "        temperature=os.environ[\"OPEN_API_TEMPERATURE\"],\n",
    "    )\n",
    "\n",
    "    # 사용할 도구 (duckduckgo, 및 wikipedia)\n",
    "    tools = [\"ddg-search\", \"wikipedia\"]\n",
    "\n",
    "    # 프롬프트 템플릿 가져오기\n",
    "    prompt = hub.pull(\"hwchase17/openai-tool-agent\")\n",
    "\n",
    "    # 대화 기록 저장하는 메모리 설정\n",
    "    memory = ConversationBufferMemory(\n",
    "        chat_memory=history, memory_key=\"chat_history\", return_message=True\n",
    "    )\n",
    "\n",
    "    # OpenAI챗 모델과 도구, 프롬프트를 이용해 에이전트 생성\n",
    "    agent = create_openai_tools_agent(chat, tools, prompt)\n",
    "\n",
    "    # 에이전트를 실행하는 객체 생성 (대화 기록 포함)\n",
    "    return AgentExecutor(agent=agent, tools=tools, memory=memory)\n",
    "\n",
    "\n",
    "# Streamlit 애플리케이션 제목 설정\n",
    "st.title(\"langchain-streamlit-app\")\n",
    "\n",
    "# 대화 기록 저장 객체 생성\n",
    "history = StreamlitChatMessageHistory()\n",
    "\n",
    "# 이전 대화 내용을 화면에 표시\n",
    "for message in history.messages:\n",
    "    st.chat_message(message.type).write(message.content)\n",
    "\n",
    "# 사용자 입력을 받을 입력창 생성\n",
    "prompt = st.chat_input(\"What's up?\")\n",
    "\n",
    "if prompt:\n",
    "    # 사용자 입력을 화면에 표시\n",
    "    with st.chat_message(\"user\"):\n",
    "        st.markdown(prompt)\n",
    "\n",
    "    # AI응답 처리\n",
    "    with st.chat_message(\"assistant\"):\n",
    "        callback = StreamlitCallbackHandler(st.container())\n",
    "        agent_chain = create_agent_chain(history)\n",
    "        response = agent_chain.invoke({\"input\": prompt}, {\"callbacks\": [callback]})\n",
    "\n",
    "        st.markdown(response[\"output\"])"
   ]
  },
  {
   "cell_type": "code",
   "execution_count": null,
   "metadata": {},
   "outputs": [],
   "source": []
  }
 ],
 "metadata": {
  "kernelspec": {
   "display_name": "seSac_env",
   "language": "python",
   "name": "python3"
  },
  "language_info": {
   "codemirror_mode": {
    "name": "ipython",
    "version": 3
   },
   "file_extension": ".py",
   "mimetype": "text/x-python",
   "name": "python",
   "nbconvert_exporter": "python",
   "pygments_lexer": "ipython3",
   "version": "3.10.16"
  }
 },
 "nbformat": 4,
 "nbformat_minor": 2
}
