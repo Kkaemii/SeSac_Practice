{
 "cells": [
  {
   "cell_type": "code",
   "execution_count": 17,
   "metadata": {},
   "outputs": [],
   "source": [
    "from selenium import webdriver\n",
    "from selenium.webdriver.chrome.service import Service as ChromeService\n",
    "from webdriver_manager.chrome import ChromeDriverManager\n",
    "from selenium.webdriver.common.by import By\n",
    "import time"
   ]
  },
  {
   "cell_type": "code",
   "execution_count": 18,
   "metadata": {},
   "outputs": [
    {
     "name": "stdout",
     "output_type": "stream",
     "text": [
      "selenium test\n"
     ]
    }
   ],
   "source": [
    "driver = webdriver.Chrome(service=ChromeService(ChromeDriverManager().install()))\n",
    "driver.get('https://www.naver.com/')\n",
    "# (가로, 세로) - 1024 * 768 픽셀의 사이즈로 윈도우 브라우져를 열어줍니다.\n",
    "driver.set_window_size(1024, 768)\n",
    "driver.execute_script(\"window.scrollTo(200, 300);\")\n",
    "\n",
    "driver.execute_script(\"alert('selenium test');\")\n",
    "\n",
    "# alert 체크\n",
    "try:\n",
    "\talert = driver.switch_to.alert\n",
    "\tprint(alert.text)\n",
    "except:\n",
    "\tprint('alert 없음')\n",
    "\n",
    "#alert 확인 버튼 누르기\n",
    "alert.accept()\n",
    "\n",
    "driver.find_element(By.CSS_SELECTOR,\".MyView-module__link_login___HpHMW\").click()\n",
    "\n",
    "# 브라우져 닫기\n",
    "time.sleep(10)\n",
    "driver.quit()"
   ]
  },
  {
   "cell_type": "code",
   "execution_count": 30,
   "metadata": {},
   "outputs": [
    {
     "name": "stdout",
     "output_type": "stream",
     "text": [
      "CPU times: total: 0 ns\n",
      "Wall time: 0 ns\n",
      "end : 0\n"
     ]
    },
    {
     "data": {
      "text/plain": [
       "(4, ['해당 정보 없음', '해당 정보 없음', '해당 정보 없음', '해당 정보 없음'])"
      ]
     },
     "execution_count": 30,
     "metadata": {},
     "output_type": "execute_result"
    }
   ],
   "source": [
    "article_list=[]\n",
    "\n",
    "def get_article(page):\n",
    "\tdriver = webdriver.Chrome(service=ChromeService(ChromeDriverManager().install()))\n",
    "\tdriver.get(\"https://news.naver.com/section/10\" + str(page))\n",
    "\tarticles = driver.find_elements(By.CSS_SELECTOR,'#newsct li')\n",
    "\n",
    "\tfor article in articles:\n",
    "\t\ttry:\n",
    "\t\t\ttmp_elements = article.find_elements(By.CSS_SELECTOR, '.sa_text_strong')\n",
    "\t\t\tif tmp_elements:\n",
    "\t\t\t\ttitle = tmp_elements[0].text\n",
    "\t\t\telse:\n",
    "\t\t\t\ttmp_elements2 = article.find_elements(By.CSS_SELECTOR, '.sa_text_lede')\n",
    "\t\t\t\tif tmp_elements2:\n",
    "\t\t\t\t\ttitle = tmp_elements2[0].text\n",
    "\t\t\t\telse:\n",
    "\t\t\t\t\ttitle = \"해당 정보 없음\"\n",
    "\t\t\t\t\tarticle_list.append(title)\n",
    "\t\texcept:\n",
    "\t\t\tprint(\"에러 발생!\")\n",
    "\t\t\t\n",
    "\tprint(\"end :\", page)\n",
    "\tdriver.quit()\n",
    "\n",
    "%time\n",
    "for page in range(1):\n",
    "\tget_article(page)\n",
    "len(article_list), article_list[:30]"
   ]
  },
  {
   "cell_type": "code",
   "execution_count": null,
   "metadata": {},
   "outputs": [],
   "source": []
  }
 ],
 "metadata": {
  "kernelspec": {
   "display_name": "seSac_env",
   "language": "python",
   "name": "python3"
  },
  "language_info": {
   "codemirror_mode": {
    "name": "ipython",
    "version": 3
   },
   "file_extension": ".py",
   "mimetype": "text/x-python",
   "name": "python",
   "nbconvert_exporter": "python",
   "pygments_lexer": "ipython3",
   "version": "3.12.8"
  }
 },
 "nbformat": 4,
 "nbformat_minor": 2
}
