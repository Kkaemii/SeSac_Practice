{
 "cells": [
  {
   "cell_type": "code",
   "execution_count": null,
   "metadata": {},
   "outputs": [],
   "source": []
  },
  {
   "cell_type": "code",
   "execution_count": 93,
   "metadata": {},
   "outputs": [
    {
     "name": "stdout",
     "output_type": "stream",
     "text": [
      "자전거 : 시속 30킬로미터로 전진\n",
      "자전거 : 좌 회전\n",
      "자전거(26,black): 정지\n"
     ]
    }
   ],
   "source": [
    "class Bicycle(): #초기화 없이 클래스 만들기\n",
    "  \n",
    "\tdef move(self, speed):\n",
    "\t\tprint(f\"자전거 : 시속 {speed}킬로미터로 전진\")\n",
    "\t\n",
    "\tdef turn (self, direction):\n",
    "\t\tprint(f'자전거 : {direction} 회전')\n",
    "\t\n",
    "\tdef stop(self):\n",
    "\t\tprint(f'자전거({self.wheel_size},{self.color}): 정지')\n",
    "\n",
    "\n",
    "my_bicycle = Bicycle()          #객체에 클래스를 할당\n",
    "my_bicycle.wheel_size = 26      #클래스에 속성값을 전달\n",
    "my_bicycle.color = 'black'      #클래스에 속성값을 전달\n",
    "\n",
    "my_bicycle.move(30)             #move메소드에 필요한 인자 전달\n",
    "my_bicycle.turn('좌')\n",
    "my_bicycle.stop()"
   ]
  },
  {
   "cell_type": "code",
   "execution_count": 34,
   "metadata": {},
   "outputs": [
    {
     "name": "stdout",
     "output_type": "stream",
     "text": [
      "비행기의 색깔은 black, 비행기의 고도는 1500m 입니다.\n"
     ]
    }
   ],
   "source": [
    "class Plane():\n",
    "\tpass\n",
    "\n",
    "\tdef hi(self):\n",
    "\t\tprint(f'비행기의 색깔은 {self.color}, 비행기의 고도는 {self.hight}m 입니다.')\n",
    "\n",
    "\n",
    "plane1 = Plane()\n",
    "plane1.color = 'black'\n",
    "plane1.hight = 1500\n",
    "\n",
    "plane1.hi()\n",
    "\n"
   ]
  },
  {
   "cell_type": "code",
   "execution_count": 17,
   "metadata": {},
   "outputs": [
    {
     "name": "stdout",
     "output_type": "stream",
     "text": [
      "30인치 바퀴를 가진 Green자전거가 바로 나의 자전거!!!\n",
      "김텀블러가 인사합니다.\n",
      "유턴 후 좌회전으로 움직입니다.\n"
     ]
    }
   ],
   "source": [
    "class Bicycle():\n",
    "\tdef __init__(self, wheel_size, color):\n",
    "\t\tself.wheel_size = wheel_size\n",
    "\t\tself.color = color\n",
    "\t\n",
    "\tdef move(self, position):\n",
    "\t\tprint(f'{position}으로 움직입니다.')\n",
    "\t\n",
    "\tdef say_hi(self, name):\n",
    "\t\tprint(f'{name}가 인사합니다.')\n",
    "\t\n",
    "\tdef bike(self):\n",
    "\t\tprint(f'{self.wheel_size}인치 바퀴를 가진 {self.color}자전거가 바로 나의 자전거!!!')\n",
    "\n",
    "\n",
    "my_bike = Bicycle(30, 'Green')\n",
    "my_bike.bike()\n",
    "my_bike.say_hi('김텀블러')\n",
    "my_bike.move('유턴 후 좌회전')\n",
    "\n"
   ]
  },
  {
   "cell_type": "code",
   "execution_count": 107,
   "metadata": {},
   "outputs": [
    {
     "name": "stdout",
     "output_type": "stream",
     "text": [
      "자전거 : 시속 30킬로미터로 전진\n",
      "자전거 : 좌 회전\n",
      "자전거(26,black): 정지\n",
      "\n",
      "자전거 : 시속 80킬로미터로 전진\n",
      "자전거 : 유턴 회전\n",
      "자전거(30,Red): 정지\n",
      "=================================\n",
      "['__class__', '__delattr__', '__dict__', '__dir__', '__doc__', '__eq__', '__format__', '__ge__', '__getattribute__', '__getstate__', '__gt__', '__hash__', '__init__', '__init_subclass__', '__le__', '__lt__', '__module__', '__ne__', '__new__', '__reduce__', '__reduce_ex__', '__repr__', '__setattr__', '__sizeof__', '__str__', '__subclasshook__', '__weakref__', 'color', 'move', 'stop', 'turn', 'wheel_size']\n"
     ]
    }
   ],
   "source": [
    "class Bicycle():\n",
    "  \n",
    "\tdef move(self, speed):\n",
    "\t\tprint(f\"자전거 : 시속 {speed}킬로미터로 전진\")\n",
    "\t\n",
    "\tdef turn (self, direction):\n",
    "\t\tprint(f'자전거 : {direction} 회전')\n",
    "\t\n",
    "\tdef stop(self):\n",
    "\t\tprint(f'자전거({self.wheel_size},{self.color}): 정지')\n",
    "\n",
    "\n",
    "my_bicycle = Bicycle()\n",
    "my_bicycle.wheel_size = 26\n",
    "my_bicycle.color = 'black'\n",
    "\n",
    "my_bicycle.move(30)\n",
    "my_bicycle.turn('좌')\n",
    "my_bicycle.stop()\n",
    "\n",
    "print()\n",
    "\n",
    "my_bicycle2 = Bicycle()\n",
    "my_bicycle2.wheel_size = 30\n",
    "my_bicycle2.color = 'Red'\n",
    "\n",
    "my_bicycle2.move(80)\n",
    "my_bicycle2.turn('유턴')\n",
    "my_bicycle2.stop()\n",
    "\n",
    "print('=================================')\n",
    "print(dir(my_bicycle2))"
   ]
  },
  {
   "cell_type": "code",
   "execution_count": 98,
   "metadata": {},
   "outputs": [
    {
     "name": "stdout",
     "output_type": "stream",
     "text": [
      "자동차1의 객체의 수 1\n",
      "자동차1의 객체의 수 2\n",
      "자동차1의 객체의 수 3\n",
      "Car1 클래스의 총 인스턴스 개수:3\n"
     ]
    }
   ],
   "source": [
    "#클래스 변수 > 클래스명.변수명 으로 접근\n",
    "#인스턴스 변수 > 클래스 객체. 변수명 으로 접근근\n",
    "\n",
    "\n",
    "class Car():\n",
    "\tinstance_count = 0\n",
    "\tdef __init__(self, size, color) :\n",
    "\t\tself.size = size\n",
    "\t\tself.color = color\n",
    "\t\tCar.instance_count = Car.instance_count +1\n",
    "\t\tprint(f'자동차1의 객체의 수 {Car.instance_count}')\n",
    "\n",
    "\tdef move(self):\n",
    "\t\tprint(f'자동차 {self.size} & {self.color}가 움직입니다.')\n",
    "\n",
    "\n",
    "class Car2():\n",
    "\tcount = 0\n",
    "\tdef __init__(self, size, num) :\n",
    "\t\tself.size = size\n",
    "\t\tself.count = num\n",
    "\t\tCar2.count = Car2.count +1\n",
    "\t\tprint(f'자동차2의의 객체의 수 : {Car2.count}')\n",
    "\t\tprint(f'인스턴스 변수 초기화 : self.count = {self.count}')\n",
    "\n",
    "\tdef move(self):\n",
    "\t\tprint(f'자동차 2 {self.size} & {self.color}가 움직입니다.')\n",
    "\n",
    "car1 = Car('small', 'White')\n",
    "car1 = Car('big', 'black')\n",
    "car1 = Car('big', 'black')\n",
    "\n",
    "print(\"Car1 클래스의 총 인스턴스 개수:{}\".format(car1.instance_count))\n",
    "\n",
    "\n",
    "#객체 >> 변수를 만들어서 클래스를 할당한 것\n"
   ]
  },
  {
   "cell_type": "code",
   "execution_count": 109,
   "metadata": {},
   "outputs": [
    {
     "name": "stdout",
     "output_type": "stream",
     "text": [
      "Car 클래스의 객체 수 = 3\n",
      "Car1 객체의 번호 [인스턴스 개수] = 1\n",
      "Car2 객체의 번호 [인스턴스 개수]  = 2\n",
      "Car3 객체의 번호 [인스턴스 개수]  = 3\n"
     ]
    }
   ],
   "source": [
    "class Car():\n",
    "\tinstance_count = 0\n",
    "\tdef __init__(self, size, color) :\n",
    "\t\tself.size = size\n",
    "\t\tself.color = color\n",
    "\t\tself.instance_count = Car.instance_count +1\n",
    "\t\tCar.instance_count =Car.instance_count +1\n",
    "\t\t\n",
    "\t# def move(self):\n",
    "\t# \tprint(f'자동차 {self.size} & {self.color}가 움직입니다.')\n",
    "\t\n",
    "\t# def add (self):\n",
    "\t# \tCar.instance_count = Car.instance_count +1\n",
    "\t# \t# print(f'자동차1의 객체의 수 {Car.instance_count}')\n",
    "\n",
    "car1 = Car('small', 'White')\n",
    "car2 = Car('small', 'White')\n",
    "car3 = Car('small', 'White')\n",
    "\n",
    "print(f'Car 클래스의 객체 수 = {Car.instance_count}')\n",
    "print(f\"Car1 객체의 번호 [인스턴스 개수] = {car1.instance_count}\")\n",
    "print(f\"Car2 객체의 번호 [인스턴스 개수]  = {car2.instance_count}\")\n",
    "print(f\"Car3 객체의 번호 [인스턴스 개수]  = {car3.instance_count}\")\n"
   ]
  },
  {
   "cell_type": "code",
   "execution_count": 57,
   "metadata": {},
   "outputs": [
    {
     "name": "stdout",
     "output_type": "stream",
     "text": [
      "자동차2의 객체의 수 : 1\n",
      "자동차2의 객체의 수 : 2\n"
     ]
    }
   ],
   "source": [
    "class Car2():\n",
    "\tcount = 0\n",
    "\tdef __init__(self, size, num) :\n",
    "\t\tself.size = size\n",
    "\t\tself.count = num\n",
    "\t\tCar2.count = Car2.count +1\n",
    "\t\tprint(f'자동차2의 객체의 수 : {Car2.count}')\n",
    "\n",
    "car1 = Car2('big', 20)\n",
    "car2 = Car2('small', 30)"
   ]
  },
  {
   "cell_type": "code",
   "execution_count": 115,
   "metadata": {},
   "outputs": [
    {
     "name": "stdout",
     "output_type": "stream",
     "text": [
      "Tesla is now going 40 km/h\n",
      "Autopilot\n"
     ]
    }
   ],
   "source": [
    "#인스턴스 메서드 이해하기\n",
    "class Car:\n",
    "    def __init__(self, model):\n",
    "        self.model = model\n",
    "        self.speed = 0\n",
    "\t\t#인스턴스 메서드\n",
    "    def accelerate(self, increment):\n",
    "        self.speed += increment  # 속성 수정\n",
    "        print(f\"{self.model} is now going {self.speed} km/h\")  # 속성 읽기\n",
    "\t\t#인스턴스 메서드\n",
    "    def add_feature(self, feature):\n",
    "        self.feature = feature  # 새 속성 추가\n",
    "\n",
    "my_car = Car(\"Tesla\")\n",
    "my_car.accelerate(40)\n",
    "my_car.add_feature(\"Autopilot\")\n",
    "print(my_car.feature)  # 새로 추가된 속성 접근\n"
   ]
  },
  {
   "cell_type": "code",
   "execution_count": 75,
   "metadata": {},
   "outputs": [
    {
     "name": "stdout",
     "output_type": "stream",
     "text": [
      "Car.total_cars: 2\n",
      "car1.total_cars: 1\n",
      "car2.total_cars: 2\n",
      "수정 후 Car.total_cars: 10\n",
      "수정 후 car1.total_cars: 1\n",
      "수정 후 car2.total_cars: 2\n"
     ]
    }
   ],
   "source": [
    "class Car:\n",
    "    total_cars = 0\n",
    "\n",
    "    def __init__(self):\n",
    "        Car.total_cars += 1\n",
    "        self.total_cars = Car.total_cars\n",
    "\n",
    "# 객체 생성\n",
    "car1 = Car()\n",
    "car2 = Car()\n",
    "\n",
    "print(f\"Car.total_cars: {Car.total_cars}\")  # 출력: 2\n",
    "print(f\"car1.total_cars: {car1.total_cars}\")  # 출력: 1\n",
    "print(f\"car2.total_cars: {car2.total_cars}\")  # 출력: 2\n",
    "\n",
    "# 클래스 변수 수정\n",
    "Car.total_cars = 10\n",
    "\n",
    "print(f\"수정 후 Car.total_cars: {Car.total_cars}\")  # 출력: 10\n",
    "print(f\"수정 후 car1.total_cars: {car1.total_cars}\")  # 출력: 1 (변경되지 않음)\n",
    "print(f\"수정 후 car2.total_cars: {car2.total_cars}\")  # 출력: 2 (변경되지 않음)\n"
   ]
  },
  {
   "cell_type": "code",
   "execution_count": 80,
   "metadata": {},
   "outputs": [
    {
     "name": "stdout",
     "output_type": "stream",
     "text": [
      "비행기 객체 개수2\n",
      "수정 후 비행기 객체 개수10\n",
      "p1객체의 개수1\n"
     ]
    }
   ],
   "source": [
    "class Plane():\n",
    "  count = 0\n",
    "\n",
    "  def __init__(self):\n",
    "    Plane.count += 1\n",
    "    self.count = Plane.count\n",
    "    \n",
    "\n",
    "p1= Plane()\n",
    "p2= Plane()\n",
    "\n",
    "print(f'비행기 객체 개수{Plane.count}')\n",
    "\n",
    "Plane.count = 10\n",
    "print(f'수정 후 비행기 객체 개수{Plane.count}')\n",
    "\n",
    "print(f'p1객체의 개수{p1.count}')"
   ]
  },
  {
   "cell_type": "code",
   "execution_count": 84,
   "metadata": {},
   "outputs": [
    {
     "name": "stdout",
     "output_type": "stream",
     "text": [
      "자동차 클래스의 객체 수 = 4\n",
      "자동차 객체의 개수 4\n"
     ]
    }
   ],
   "source": [
    "class Car():\n",
    "\tinstance_count = 0\n",
    "\t\n",
    "\tdef __init__(self, size, color):\n",
    "\t\tself.size = size\n",
    "\t\tself.color = color\n",
    "\t\tCar.instance_count +=1\n",
    "\n",
    "\t@classmethod\n",
    "\tdef count_instance(cls):\n",
    "\t\tprint(f'자동차 객체의 개수 {cls.instance_count}')\n",
    "\n",
    "\n",
    "ca1 = Car('big','pink')\n",
    "ca2 = Car('middium','green')\n",
    "ca3 = Car('small','yellow')\n",
    "ca4 = Car('xsmaill','black')\n",
    "\n",
    "print(f'자동차 클래스의 객체 수 = {Car.instance_count}')\n",
    "Car.count_instance()"
   ]
  },
  {
   "cell_type": "code",
   "execution_count": 83,
   "metadata": {},
   "outputs": [
    {
     "name": "stdout",
     "output_type": "stream",
     "text": [
      "자동차 클래스의 객체 수 = 4\n",
      "자동차 객체의 개수 4\n"
     ]
    }
   ],
   "source": []
  },
  {
   "cell_type": "code",
   "execution_count": 90,
   "metadata": {},
   "outputs": [
    {
     "name": "stdout",
     "output_type": "stream",
     "text": [
      "i am the new one\n",
      "i am the new one\n",
      "i am the new one\n"
     ]
    }
   ],
   "source": [
    "class Myclass():\n",
    "  pass\n",
    "\n",
    "\n",
    "Myclass.new_att = 'i am the new one'\n",
    "\n",
    "obj1 = Myclass()\n",
    "obj2 = Myclass()\n",
    "obj3 = Myclass()\n",
    "\n",
    "print(obj1.new_att)\n",
    "print(obj2.new_att)\n",
    "print(obj3.new_att)"
   ]
  },
  {
   "cell_type": "code",
   "execution_count": 92,
   "metadata": {},
   "outputs": [
    {
     "name": "stdout",
     "output_type": "stream",
     "text": [
      "자전거 : 시속 50킬로미터로 전진\n",
      "자전거 : 접기 folding\n",
      "자전거 : 펴기 unfolding\n"
     ]
    }
   ],
   "source": [
    "#부모 클래스 상속 예시\n",
    "\n",
    "#부모클래스 선언\n",
    "class Bicycle():\n",
    "\tdef __init__(self,wheel_size, color ):\n",
    "\t\tself.wheel_size = wheel_size\n",
    "\t\tself.color = color\n",
    "  \n",
    "\tdef move(self, speed):\n",
    "\t\tprint(f\"자전거 : 시속 {speed}킬로미터로 전진\")\n",
    "\t\n",
    "\tdef turn (self, direction):\n",
    "\t\tprint(f'자전거 : {direction} 회전')\n",
    "\t\n",
    "\tdef stop(self):\n",
    "\t\tprint(f'자전거({self.wheel_size},{self.color}): 정지')\n",
    "\n",
    "\n",
    "\n",
    "#자식클래스 선언 및 부모 클래스 상속\n",
    "class FoldingBicyle(Bicycle):\n",
    "\tdef __init__(self, wheel_size, color, state):\n",
    "\t\tsuper().__init__(wheel_size, color)\n",
    "\t\tself.state = state #자식클래스에서 새로 추가한 변수\n",
    "\n",
    "\tdef fold(self):\n",
    "\t\tself.state= 'folding'\n",
    "\t\tprint(f'자전거 : 접기 {self.state}')\n",
    "\t\n",
    "\tdef unfold(self):\n",
    "\t\tself.state= 'unfolding'\n",
    "\t\tprint(f'자전거 : 펴기 {self.state}')\n",
    "\n",
    "\n",
    "folding_bike = FoldingBicyle(30, 'white', 'folding')\n",
    "\n",
    "folding_bike.move(50)\n",
    "folding_bike.fold()\n",
    "folding_bike.unfold()"
   ]
  },
  {
   "cell_type": "code",
   "execution_count": 97,
   "metadata": {},
   "outputs": [
    {
     "name": "stdout",
     "output_type": "stream",
     "text": [
      "1번 자전거가 20의 속도로 전진합니다.\n",
      "---------------------------\n",
      "2번 자전거가 40의 속도로 전진합니다.\n",
      "Black 컬러의 2번 자전거가 40의 속도로 우회전합니다.\n",
      "---------------------------\n",
      "3번 자전거가 80의 속도로 전진합니다.\n"
     ]
    }
   ],
   "source": [
    "class Bicycle():\n",
    "    def __init__(self, number):\n",
    "        self.number = number\n",
    "    def move(self, speed):\n",
    "        self.speed = speed\n",
    "        print(f\"{self.number}번 자전거가 {self.speed}의 속도로 전진합니다.\")\n",
    "bike_1 = Bicycle(1)\n",
    "bike_1.move(20)\n",
    "print(\"---------------------------\")\n",
    "class AdvancedBicycle(Bicycle):\n",
    "    def __init__(self, number, color):\n",
    "        super().__init__(number) #부모 클래스의 초기화(번호) 재사용\n",
    "        self.color = color #자식 클래스에 추가된 인자 (컬러)에 대한 초기화\n",
    "    def move(self, speed, direction):\n",
    "        super().move(speed) #self.speed = speed 코드의 재사용? 부모 클래스의 move 메서드 호출? -> 부모 클래스의 메서드 호출\n",
    "        self.direction = direction\n",
    "        print(f\"{self.color} 컬러의 {self.number}번 자전거가 {self.speed}의 속도로 {self.direction}합니다.\")\n",
    "bike_2 = AdvancedBicycle(2, 'Black')\n",
    "bike_2.move(40, '우회전')\n",
    "print(\"---------------------------\")\n",
    "\n",
    "class ReAdvancedBicycle(AdvancedBicycle):\n",
    "\tdef __init__(self, number, color):\n",
    "\t\tsuper().__init__(number, color) #부모 클래스의 초기화(번호) 재사용\n",
    "\n",
    "\t# def orgin_move(self, speed):\n",
    "\t# \tBicycle.move(self,speed)\n",
    "\t\t\n",
    "\tdef grand_move(self,speed):\n",
    "\t\tsuper(AdvancedBicycle,self).move(speed)\n",
    "          \n",
    "bike_3 = ReAdvancedBicycle(3, \"White\")\n",
    "\n",
    "\n",
    "bike_3.grand_move(80)"
   ]
  },
  {
   "cell_type": "code",
   "execution_count": null,
   "metadata": {},
   "outputs": [],
   "source": []
  }
 ],
 "metadata": {
  "kernelspec": {
   "display_name": "base",
   "language": "python",
   "name": "python3"
  },
  "language_info": {
   "codemirror_mode": {
    "name": "ipython",
    "version": 3
   },
   "file_extension": ".py",
   "mimetype": "text/x-python",
   "name": "python",
   "nbconvert_exporter": "python",
   "pygments_lexer": "ipython3",
   "version": "3.12.7"
  }
 },
 "nbformat": 4,
 "nbformat_minor": 2
}
