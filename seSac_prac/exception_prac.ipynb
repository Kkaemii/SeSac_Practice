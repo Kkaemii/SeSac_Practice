{
 "cells": [
  {
   "cell_type": "code",
   "execution_count": 1,
   "metadata": {},
   "outputs": [],
   "source": [
    "def ten_div(x):\n",
    "  return 10/x"
   ]
  },
  {
   "cell_type": "code",
   "execution_count": 2,
   "metadata": {},
   "outputs": [
    {
     "data": {
      "text/plain": [
       "5.0"
      ]
     },
     "execution_count": 2,
     "metadata": {},
     "output_type": "execute_result"
    }
   ],
   "source": [
    "ten_div(2)"
   ]
  },
  {
   "cell_type": "code",
   "execution_count": 3,
   "metadata": {},
   "outputs": [
    {
     "ename": "ZeroDivisionError",
     "evalue": "division by zero",
     "output_type": "error",
     "traceback": [
      "\u001b[1;31m---------------------------------------------------------------------------\u001b[0m",
      "\u001b[1;31mZeroDivisionError\u001b[0m                         Traceback (most recent call last)",
      "Cell \u001b[1;32mIn[3], line 1\u001b[0m\n\u001b[1;32m----> 1\u001b[0m ten_div(\u001b[38;5;241m0\u001b[39m)\n",
      "Cell \u001b[1;32mIn[1], line 2\u001b[0m, in \u001b[0;36mten_div\u001b[1;34m(x)\u001b[0m\n\u001b[0;32m      1\u001b[0m \u001b[38;5;28;01mdef\u001b[39;00m \u001b[38;5;21mten_div\u001b[39m(x):\n\u001b[1;32m----> 2\u001b[0m   \u001b[38;5;28;01mreturn\u001b[39;00m \u001b[38;5;241m10\u001b[39m\u001b[38;5;241m/\u001b[39mx\n",
      "\u001b[1;31mZeroDivisionError\u001b[0m: division by zero"
     ]
    }
   ],
   "source": [
    "ten_div(0)"
   ]
  },
  {
   "cell_type": "code",
   "execution_count": 9,
   "metadata": {},
   "outputs": [
    {
     "name": "stdout",
     "output_type": "stream",
     "text": [
      "에러발생 = division by zero\n"
     ]
    }
   ],
   "source": [
    "try:\n",
    "  ten_div(0)\n",
    "except Exception as e :\n",
    "  error_m = str(e)\n",
    "  print(f'에러발생 = {e}')"
   ]
  },
  {
   "cell_type": "code",
   "execution_count": 15,
   "metadata": {},
   "outputs": [
    {
     "name": "stdout",
     "output_type": "stream",
     "text": [
      "숫자를 0 으로 나눌 수 없습니다. division by zero\n"
     ]
    }
   ],
   "source": [
    "y = [10.20,30]\n",
    "\n",
    "try : \n",
    "  index,x = map(int,input('인덱스와 나눌 숫자를 입력하세요').split())\n",
    "  print(y[index]/x)\n",
    "except ZeroDivisionError as e:\n",
    "  print(f'숫자를 0 으로 나눌 수 없습니다. {e}')\n",
    "except IndexError as id:\n",
    "  print(f'잘못된 인덱스 입니다. {id}')"
   ]
  },
  {
   "cell_type": "code",
   "execution_count": 18,
   "metadata": {},
   "outputs": [
    {
     "name": "stdout",
     "output_type": "stream",
     "text": [
      "wrong division\n"
     ]
    }
   ],
   "source": [
    "x = [10,20]\n",
    "\n",
    "try:\n",
    "\tprint(5/x[4])\n",
    "except :\n",
    "\tprint('wrong division')"
   ]
  },
  {
   "cell_type": "code",
   "execution_count": 23,
   "metadata": {},
   "outputs": [
    {
     "name": "stdout",
     "output_type": "stream",
     "text": [
      "error:  division by zero\n",
      "Traceback :  Traceback (most recent call last):\n",
      "  File \"C:\\Users\\user\\AppData\\Local\\Temp\\ipykernel_17504\\3534020676.py\", line 4, in <module>\n",
      "    print(5/0)\n",
      "          ~^~\n",
      "ZeroDivisionError: division by zero\n",
      "\n"
     ]
    }
   ],
   "source": [
    "import traceback\n",
    "\n",
    "try:\n",
    "\tprint(5/0)\n",
    "\tprint(ex)\n",
    "except Exception as e:\n",
    "\tprint(\"error: \",e)\n",
    "\tprint(\"Traceback : \", traceback.format_exc())"
   ]
  },
  {
   "cell_type": "code",
   "execution_count": 24,
   "metadata": {},
   "outputs": [
    {
     "name": "stderr",
     "output_type": "stream",
     "text": [
      "ERROR:root:예외발생\n",
      "Traceback (most recent call last):\n",
      "  File \"C:\\Users\\user\\AppData\\Local\\Temp\\ipykernel_17504\\2953298503.py\", line 4, in <module>\n",
      "    print(5/0)\n",
      "          ~^~\n",
      "ZeroDivisionError: division by zero\n"
     ]
    },
    {
     "name": "stdout",
     "output_type": "stream",
     "text": [
      "error:  division by zero\n",
      "None\n"
     ]
    }
   ],
   "source": [
    "import logging\n",
    "\n",
    "try:\n",
    "\tprint(5/0)\n",
    "\tprint(ex)\n",
    "except Exception as e:\n",
    "\tprint(\"error: \",e)\n",
    "\tprint(logging.exception(\"예외발생\"))\n"
   ]
  },
  {
   "cell_type": "code",
   "execution_count": 26,
   "metadata": {},
   "outputs": [
    {
     "name": "stdout",
     "output_type": "stream",
     "text": [
      "예외 발생: <lambda> - division by zero\n",
      "예외 발생: <lambda> - list index out of range\n"
     ]
    }
   ],
   "source": [
    "def safe_execute(func):\n",
    "    try:\n",
    "        func()\n",
    "    except Exception as e:\n",
    "        print(f\"예외 발생: {func.__name__} - {e}\")\n",
    "\n",
    "safe_execute(lambda: print(5/0))\n",
    "safe_execute(lambda: print(x[4]))\n"
   ]
  },
  {
   "cell_type": "code",
   "execution_count": 38,
   "metadata": {},
   "outputs": [
    {
     "name": "stderr",
     "output_type": "stream",
     "text": [
      "ERROR:root:예외 발생\n",
      "Traceback (most recent call last):\n",
      "  File \"C:\\Users\\user\\AppData\\Local\\Temp\\ipykernel_17504\\2176138460.py\", line 5, in <module>\n",
      "    print(x[4])\n",
      "          ~^^^\n",
      "IndexError: list index out of range\n"
     ]
    }
   ],
   "source": [
    "import logging\n",
    "\n",
    "try:\n",
    "    #print(5/0)\n",
    "    print(x[4])\n",
    "except Exception as e:\n",
    "    logging.exception(\"예외 발생\")"
   ]
  },
  {
   "cell_type": "code",
   "execution_count": 34,
   "metadata": {},
   "outputs": [
    {
     "name": "stdout",
     "output_type": "stream",
     "text": [
      "NotlmplementedError\n"
     ]
    }
   ],
   "source": [
    "try:\n",
    "\tage=int(input())\n",
    "\tif age < 0:\n",
    "\t\traise NotImplementedError\n",
    "\tprint(age)\n",
    "except NotImplementedError:\n",
    "\tprint('NotlmplementedError')"
   ]
  },
  {
   "cell_type": "code",
   "execution_count": 35,
   "metadata": {},
   "outputs": [
    {
     "name": "stdout",
     "output_type": "stream",
     "text": [
      "5.0\n",
      "no error\n"
     ]
    }
   ],
   "source": [
    "try:\n",
    "\tprint(5/1)\n",
    "except:\n",
    "\tprint('error')\n",
    "else:\n",
    "\tprint('no error')"
   ]
  },
  {
   "cell_type": "code",
   "execution_count": 36,
   "metadata": {},
   "outputs": [
    {
     "name": "stdout",
     "output_type": "stream",
     "text": [
      "error\n",
      "end\n"
     ]
    }
   ],
   "source": [
    "try:\n",
    "\tprint(5/0)\n",
    "except:\n",
    "\tprint('error')\n",
    "finally:\n",
    "\tprint('end')"
   ]
  },
  {
   "cell_type": "code",
   "execution_count": null,
   "metadata": {},
   "outputs": [],
   "source": []
  }
 ],
 "metadata": {
  "kernelspec": {
   "display_name": "base",
   "language": "python",
   "name": "python3"
  },
  "language_info": {
   "codemirror_mode": {
    "name": "ipython",
    "version": 3
   },
   "file_extension": ".py",
   "mimetype": "text/x-python",
   "name": "python",
   "nbconvert_exporter": "python",
   "pygments_lexer": "ipython3",
   "version": "3.12.7"
  }
 },
 "nbformat": 4,
 "nbformat_minor": 2
}
