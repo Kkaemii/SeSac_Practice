{
 "cells": [
  {
   "cell_type": "code",
   "execution_count": 9,
   "metadata": {},
   "outputs": [
    {
     "name": "stdout",
     "output_type": "stream",
     "text": [
      "Overwriting my_first_module.py\n"
     ]
    }
   ],
   "source": [
    "\n",
    "%%writefile my_first_module.py\n",
    "#filename이 my_first_module인 파이썬 파일 만들기\n",
    "#line magic command를 사용할때는 주석이 앞에오지않게 해야한다. 안그러면 오류남\n",
    "#UsageError: Line magic function `%%writefile` not found.\n",
    "\n",
    "def my_func():\n",
    "\tprint('This is my first module')\n"
   ]
  },
  {
   "cell_type": "code",
   "execution_count": 29,
   "metadata": {},
   "outputs": [
    {
     "name": "stdout",
     "output_type": "stream",
     "text": [
      "This is my first module\n"
     ]
    }
   ],
   "source": [
    "import my_first_module as mf\n",
    "\n",
    "mf.my_func()"
   ]
  },
  {
   "cell_type": "code",
   "execution_count": 30,
   "metadata": {},
   "outputs": [
    {
     "name": "stdout",
     "output_type": "stream",
     "text": [
      "#filename이 my_first_module인 파이썬 파일 만들기\n",
      "#line magic command를 사용할때는 주석이 앞에오지않게 해야한다. 안그러면 오류남남\n",
      "#UsageError: Line magic function `%%writefile` not found.\n",
      "\n",
      "def my_func():\n",
      "\tprint('This is my first module')\n"
     ]
    }
   ],
   "source": [
    "!type my_first_module.py"
   ]
  },
  {
   "cell_type": "code",
   "execution_count": 31,
   "metadata": {},
   "outputs": [
    {
     "name": "stdout",
     "output_type": "stream",
     "text": [
      "Writing my_area.py\n"
     ]
    }
   ],
   "source": [
    "%%writefile my_area.py\n",
    "\n",
    "PI = 3.14\n",
    "\n",
    "def square_area(a):\n",
    "\treturn a **2\n",
    "\n",
    "def circle_area(r):\n",
    "\treturn PI * (r **2)"
   ]
  },
  {
   "cell_type": "code",
   "execution_count": 40,
   "metadata": {},
   "outputs": [
    {
     "name": "stdout",
     "output_type": "stream",
     "text": [
      "pi = 3.14\n",
      "길이가 4인 사각형의 면적 = 16\n",
      "반지름이 4인 원의 면적 =  50.24\n"
     ]
    },
    {
     "data": {
      "text/plain": [
       "['PI',\n",
       " '__builtins__',\n",
       " '__cached__',\n",
       " '__doc__',\n",
       " '__file__',\n",
       " '__loader__',\n",
       " '__name__',\n",
       " '__package__',\n",
       " '__spec__',\n",
       " 'circle_area',\n",
       " 'square_area']"
      ]
     },
     "execution_count": 40,
     "metadata": {},
     "output_type": "execute_result"
    }
   ],
   "source": [
    "import my_area as ma\n",
    "\n",
    "print(f'pi = {ma.PI}')\n",
    "print(f'길이가 4인 사각형의 면적 = {ma.square_area(4)}')\n",
    "print(f'반지름이 4인 원의 면적 =  {ma.circle_area(4)}')\n",
    "\n",
    "dir(ma)\n"
   ]
  },
  {
   "cell_type": "code",
   "execution_count": 42,
   "metadata": {},
   "outputs": [
    {
     "name": "stdout",
     "output_type": "stream",
     "text": [
      "pi = 3.14\n",
      "square area = 25\n",
      "circle area = 12.56\n"
     ]
    }
   ],
   "source": [
    "from my_area import PI\n",
    "from my_area import square_area\n",
    "from my_area import circle_area\n",
    "\n",
    "\n",
    "print(f'pi = {PI}')\n",
    "print(f'square area = {square_area(5)}')\n",
    "print(f'circle area = {circle_area(2)}')"
   ]
  },
  {
   "cell_type": "code",
   "execution_count": 43,
   "metadata": {},
   "outputs": [
    {
     "name": "stdout",
     "output_type": "stream",
     "text": [
      "pi = 3.14\n",
      "square area = 25\n",
      "circle area = 12.56\n"
     ]
    }
   ],
   "source": [
    "from my_area import PI, square_area, circle_area\n",
    "\n",
    "\n",
    "print(f'pi = {PI}')\n",
    "print(f'square area = {square_area(5)}')\n",
    "print(f'circle area = {circle_area(2)}')"
   ]
  },
  {
   "cell_type": "code",
   "execution_count": 45,
   "metadata": {},
   "outputs": [
    {
     "name": "stdout",
     "output_type": "stream",
     "text": [
      "pi = 3.14\n",
      "square area = 25\n",
      "circle area = 12.56\n"
     ]
    }
   ],
   "source": [
    "from my_area import *\n",
    "\n",
    "print(f'pi = {PI}')\n",
    "print(f'square area = {square_area(5)}')\n",
    "print(f'circle area = {circle_area(2)}')"
   ]
  },
  {
   "cell_type": "code",
   "execution_count": 46,
   "metadata": {},
   "outputs": [
    {
     "name": "stdout",
     "output_type": "stream",
     "text": [
      "Writing module_test1.py\n"
     ]
    }
   ],
   "source": [
    "%%writefile module_test1.py\n",
    "\n",
    "def func(a):\n",
    "\tprint('입력된 숫자 = ',a)\n",
    "\n",
    "func(3)"
   ]
  },
  {
   "cell_type": "code",
   "execution_count": 47,
   "metadata": {},
   "outputs": [
    {
     "name": "stdout",
     "output_type": "stream",
     "text": [
      "입력된 숫자 =  3\n"
     ]
    }
   ],
   "source": [
    "%run module_test1.py"
   ]
  },
  {
   "cell_type": "code",
   "execution_count": 48,
   "metadata": {},
   "outputs": [
    {
     "name": "stdout",
     "output_type": "stream",
     "text": [
      "입력된 숫자 =  3\n"
     ]
    }
   ],
   "source": [
    "import module_test1"
   ]
  },
  {
   "cell_type": "code",
   "execution_count": 9,
   "metadata": {},
   "outputs": [
    {
     "name": "stdout",
     "output_type": "stream",
     "text": [
      "Overwriting module_test2.py\n"
     ]
    }
   ],
   "source": [
    "%%writefile module_test2.py\n",
    "\n",
    "\n",
    "def func(a):\n",
    "\tprint('입력된 숫자 = ',a)\n",
    "\n",
    "if __name__ == \"__main__\":\n",
    "\tprint('모듈을 직접 실행')\n",
    "\tfunc(3)\n",
    "\tfunc(10)\n",
    "\tfunc(56)\n",
    "else:\n",
    "\tprint('모듈을 임포트해서 실행')"
   ]
  },
  {
   "cell_type": "code",
   "execution_count": 10,
   "metadata": {},
   "outputs": [
    {
     "name": "stdout",
     "output_type": "stream",
     "text": [
      "모듈을 직접 실행\n",
      "입력된 숫자 =  3\n",
      "입력된 숫자 =  10\n",
      "입력된 숫자 =  56\n"
     ]
    }
   ],
   "source": [
    "%run module_test2"
   ]
  },
  {
   "cell_type": "code",
   "execution_count": 11,
   "metadata": {},
   "outputs": [
    {
     "name": "stdout",
     "output_type": "stream",
     "text": [
      "모듈을 임포트해서 실행\n"
     ]
    }
   ],
   "source": [
    "import module_test2"
   ]
  },
  {
   "cell_type": "code",
   "execution_count": 3,
   "metadata": {},
   "outputs": [
    {
     "name": "stdout",
     "output_type": "stream",
     "text": [
      "Overwriting my_module1.py\n"
     ]
    }
   ],
   "source": [
    "%%writefile my_module1.py\n",
    "\n",
    "def func1():\n",
    "\tprint('func1 in my module1')\n",
    "\n",
    "def func2():\n",
    "\tprint('func2 in my module1')"
   ]
  },
  {
   "cell_type": "code",
   "execution_count": 4,
   "metadata": {},
   "outputs": [
    {
     "name": "stdout",
     "output_type": "stream",
     "text": [
      "Overwriting my_module2.py\n"
     ]
    }
   ],
   "source": [
    "%%writefile my_module2.py\n",
    "\n",
    "def func2():\n",
    "\tprint('func2 in my module2')\n",
    "\n",
    "def func3():\n",
    "\tprint('func3 in my module2')"
   ]
  },
  {
   "cell_type": "code",
   "execution_count": 7,
   "metadata": {},
   "outputs": [
    {
     "ename": "NameError",
     "evalue": "name 'my_module1' is not defined",
     "output_type": "error",
     "traceback": [
      "\u001b[1;31m---------------------------------------------------------------------------\u001b[0m",
      "\u001b[1;31mNameError\u001b[0m                                 Traceback (most recent call last)",
      "Cell \u001b[1;32mIn[7], line 4\u001b[0m\n\u001b[0;32m      1\u001b[0m \u001b[38;5;28;01mfrom\u001b[39;00m \u001b[38;5;21;01mmy_module1\u001b[39;00m \u001b[38;5;28;01mimport\u001b[39;00m \u001b[38;5;241m*\u001b[39m\n\u001b[0;32m      2\u001b[0m \u001b[38;5;28;01mfrom\u001b[39;00m \u001b[38;5;21;01mmy_module2\u001b[39;00m \u001b[38;5;28;01mimport\u001b[39;00m \u001b[38;5;241m*\u001b[39m\n\u001b[1;32m----> 4\u001b[0m my_module1\u001b[38;5;241m.\u001b[39mfunc1()\n\u001b[0;32m      5\u001b[0m my_module1\u001b[38;5;241m.\u001b[39mfunc2()\n\u001b[0;32m      6\u001b[0m my_module2\u001b[38;5;241m.\u001b[39mfunc2()\n",
      "\u001b[1;31mNameError\u001b[0m: name 'my_module1' is not defined"
     ]
    }
   ],
   "source": [
    "from my_module1 import *\n",
    "from my_module2 import *\n",
    "\n",
    "\n",
    "my_module1.func1()\n",
    "my_module1.func2()\n",
    "my_module2.func2()\n",
    "my_module2.func3()\n",
    "\n"
   ]
  },
  {
   "cell_type": "code",
   "execution_count": null,
   "metadata": {},
   "outputs": [],
   "source": [
    "%%writefile my_module1.py\n",
    "\n",
    "def func1():\n",
    "\tprint('func1 in my module1')\n",
    "\n",
    "def func2():\n",
    "\tprint('func2 in my module1')"
   ]
  },
  {
   "cell_type": "code",
   "execution_count": 8,
   "metadata": {},
   "outputs": [
    {
     "name": "stdout",
     "output_type": "stream",
     "text": [
      "func1 in my module1\n",
      "func2 in my module1\n"
     ]
    }
   ],
   "source": [
    "from my_module1 import *\n",
    "\n",
    "func1()\n",
    "func2()"
   ]
  },
  {
   "cell_type": "code",
   "execution_count": 52,
   "metadata": {},
   "outputs": [
    {
     "name": "stdout",
     "output_type": "stream",
     "text": [
      "주사위 두개 숫자 주사위  3, 1\n"
     ]
    }
   ],
   "source": [
    "import random\n",
    "\n",
    "dice1 = random.randint(1,6)\n",
    "dice2 = random.randint(1,6)\n",
    "\n",
    "print(f'주사위 두개 숫자 주사위  {dice1}, {dice2}')"
   ]
  },
  {
   "cell_type": "code",
   "execution_count": null,
   "metadata": {},
   "outputs": [],
   "source": []
  },
  {
   "cell_type": "code",
   "execution_count": null,
   "metadata": {},
   "outputs": [],
   "source": []
  }
 ],
 "metadata": {
  "kernelspec": {
   "display_name": "base",
   "language": "python",
   "name": "python3"
  },
  "language_info": {
   "codemirror_mode": {
    "name": "ipython",
    "version": 3
   },
   "file_extension": ".py",
   "mimetype": "text/x-python",
   "name": "python",
   "nbconvert_exporter": "python",
   "pygments_lexer": "ipython3",
   "version": "3.12.7"
  }
 },
 "nbformat": 4,
 "nbformat_minor": 2
}
